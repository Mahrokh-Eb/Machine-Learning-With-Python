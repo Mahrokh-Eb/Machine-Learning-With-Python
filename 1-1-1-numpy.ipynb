{
 "cells": [
  {
   "cell_type": "markdown",
   "id": "wrong-source",
   "metadata": {},
   "source": [
    "# numpy:"
   ]
  },
  {
   "cell_type": "code",
   "execution_count": 1,
   "id": "medium-incentive",
   "metadata": {},
   "outputs": [],
   "source": [
    "import numpy as np"
   ]
  },
  {
   "cell_type": "code",
   "execution_count": 2,
   "id": "informal-lunch",
   "metadata": {},
   "outputs": [
    {
     "name": "stdout",
     "output_type": "stream",
     "text": [
      "Python 2.7.16\r\n"
     ]
    }
   ],
   "source": [
    "!python --version"
   ]
  },
  {
   "cell_type": "code",
   "execution_count": 3,
   "id": "korean-sigma",
   "metadata": {},
   "outputs": [
    {
     "name": "stdout",
     "output_type": "stream",
     "text": [
      "1.20.2\n"
     ]
    }
   ],
   "source": [
    "print(np.__version__)"
   ]
  },
  {
   "cell_type": "code",
   "execution_count": 4,
   "id": "everyday-frame",
   "metadata": {},
   "outputs": [],
   "source": [
    "#pip install numpy --upgrade"
   ]
  },
  {
   "cell_type": "markdown",
   "id": "liable-amplifier",
   "metadata": {},
   "source": [
    "#### trick2:  shift + TAB"
   ]
  },
  {
   "cell_type": "code",
   "execution_count": 5,
   "id": "imposed-aluminum",
   "metadata": {},
   "outputs": [],
   "source": [
    "# dir(np)"
   ]
  },
  {
   "cell_type": "code",
   "execution_count": 6,
   "id": "extra-battlefield",
   "metadata": {},
   "outputs": [],
   "source": [
    "# help(np.where)"
   ]
  },
  {
   "cell_type": "code",
   "execution_count": 7,
   "id": "valuable-accountability",
   "metadata": {},
   "outputs": [],
   "source": [
    "#np.where?"
   ]
  },
  {
   "cell_type": "markdown",
   "id": "quick-occasions",
   "metadata": {},
   "source": [
    "## creating arrays in numpy"
   ]
  },
  {
   "cell_type": "code",
   "execution_count": 8,
   "id": "latin-webmaster",
   "metadata": {},
   "outputs": [
    {
     "name": "stdout",
     "output_type": "stream",
     "text": [
      "[1 2 3]\n"
     ]
    }
   ],
   "source": [
    "x = np.array([1, 2, 3])\n",
    "print(x)"
   ]
  },
  {
   "cell_type": "code",
   "execution_count": 9,
   "id": "hungry-providence",
   "metadata": {},
   "outputs": [
    {
     "name": "stdout",
     "output_type": "stream",
     "text": [
      "<class 'numpy.ndarray'>\n"
     ]
    }
   ],
   "source": [
    "print(type(x))"
   ]
  },
  {
   "cell_type": "code",
   "execution_count": 10,
   "id": "beautiful-representative",
   "metadata": {},
   "outputs": [
    {
     "name": "stdout",
     "output_type": "stream",
     "text": [
      "[8 7 1 9 6 5 0 2 3 4]\n"
     ]
    }
   ],
   "source": [
    "print(np.random.permutation(10))"
   ]
  },
  {
   "cell_type": "markdown",
   "id": "raising-model",
   "metadata": {},
   "source": [
    "### 2D array"
   ]
  },
  {
   "cell_type": "code",
   "execution_count": 11,
   "id": "desperate-recommendation",
   "metadata": {},
   "outputs": [
    {
     "name": "stdout",
     "output_type": "stream",
     "text": [
      "[[1 2 3]\n",
      " [4 5 6]]\n"
     ]
    }
   ],
   "source": [
    "A = np.array([[1, 2, 3], [4, 5, 6]])\n",
    "print(A)"
   ]
  },
  {
   "cell_type": "code",
   "execution_count": 12,
   "id": "unique-persian",
   "metadata": {},
   "outputs": [
    {
     "name": "stdout",
     "output_type": "stream",
     "text": [
      "<class 'numpy.ndarray'>\n"
     ]
    }
   ],
   "source": [
    "print(type(A))"
   ]
  },
  {
   "cell_type": "code",
   "execution_count": 13,
   "id": "religious-crack",
   "metadata": {},
   "outputs": [
    {
     "name": "stdout",
     "output_type": "stream",
     "text": [
      "(3,)\n"
     ]
    }
   ],
   "source": [
    "print(x.shape)"
   ]
  },
  {
   "cell_type": "code",
   "execution_count": 14,
   "id": "pleasant-livestock",
   "metadata": {},
   "outputs": [
    {
     "name": "stdout",
     "output_type": "stream",
     "text": [
      "(2, 3)\n"
     ]
    }
   ],
   "source": [
    "print(A.shape)"
   ]
  },
  {
   "cell_type": "code",
   "execution_count": 15,
   "id": "waiting-navigation",
   "metadata": {},
   "outputs": [
    {
     "name": "stdout",
     "output_type": "stream",
     "text": [
      "2\n"
     ]
    }
   ],
   "source": [
    "print(A.shape[0]) # number of rows"
   ]
  },
  {
   "cell_type": "code",
   "execution_count": 16,
   "id": "romance-corrections",
   "metadata": {},
   "outputs": [
    {
     "name": "stdout",
     "output_type": "stream",
     "text": [
      "3\n"
     ]
    }
   ],
   "source": [
    "print(A.shape[1]) # number of columns "
   ]
  },
  {
   "cell_type": "markdown",
   "id": "signal-leeds",
   "metadata": {},
   "source": [
    "### Reshaping an array"
   ]
  },
  {
   "cell_type": "code",
   "execution_count": 17,
   "id": "warming-danish",
   "metadata": {},
   "outputs": [
    {
     "name": "stdout",
     "output_type": "stream",
     "text": [
      "[[1 2 3]\n",
      " [4 5 6]]\n"
     ]
    }
   ],
   "source": [
    "print(A)"
   ]
  },
  {
   "cell_type": "code",
   "execution_count": 18,
   "id": "rising-sound",
   "metadata": {},
   "outputs": [
    {
     "name": "stdout",
     "output_type": "stream",
     "text": [
      "[[1 2]\n",
      " [3 4]\n",
      " [5 6]]\n"
     ]
    }
   ],
   "source": [
    "print(np.reshape(A, (3,-1))) # -1 mishe har chan ta Column mishe"
   ]
  },
  {
   "cell_type": "code",
   "execution_count": 19,
   "id": "contemporary-grocery",
   "metadata": {},
   "outputs": [
    {
     "name": "stdout",
     "output_type": "stream",
     "text": [
      "[[1]\n",
      " [2]\n",
      " [3]\n",
      " [4]\n",
      " [5]\n",
      " [6]]\n"
     ]
    }
   ],
   "source": [
    "print(np.reshape(A, (-1, 1))) # -1 mishe har chan ta row mishe"
   ]
  },
  {
   "cell_type": "markdown",
   "id": "unexpected-cisco",
   "metadata": {},
   "source": [
    "#### convert 1D to 2D array"
   ]
  },
  {
   "cell_type": "code",
   "execution_count": 20,
   "id": "abroad-custody",
   "metadata": {},
   "outputs": [
    {
     "name": "stdout",
     "output_type": "stream",
     "text": [
      "[1 2 3]\n"
     ]
    }
   ],
   "source": [
    "print(x)"
   ]
  },
  {
   "cell_type": "code",
   "execution_count": 21,
   "id": "collected-triangle",
   "metadata": {},
   "outputs": [
    {
     "name": "stdout",
     "output_type": "stream",
     "text": [
      "[[1]\n",
      " [2]\n",
      " [3]]\n"
     ]
    }
   ],
   "source": [
    "print(x[:, None])"
   ]
  },
  {
   "cell_type": "code",
   "execution_count": 22,
   "id": "measured-drill",
   "metadata": {},
   "outputs": [
    {
     "name": "stdout",
     "output_type": "stream",
     "text": [
      "[[1]\n",
      " [2]\n",
      " [3]]\n"
     ]
    }
   ],
   "source": [
    "print(x[:, np.newaxis])"
   ]
  },
  {
   "cell_type": "markdown",
   "id": "desirable-monaco",
   "metadata": {},
   "source": [
    "### Array dimension "
   ]
  },
  {
   "cell_type": "code",
   "execution_count": 23,
   "id": "partial-campus",
   "metadata": {},
   "outputs": [
    {
     "name": "stdout",
     "output_type": "stream",
     "text": [
      "1\n"
     ]
    }
   ],
   "source": [
    "print(x.ndim)"
   ]
  },
  {
   "cell_type": "code",
   "execution_count": 24,
   "id": "liberal-ballot",
   "metadata": {},
   "outputs": [
    {
     "name": "stdout",
     "output_type": "stream",
     "text": [
      "2\n"
     ]
    }
   ],
   "source": [
    "print(A.ndim)"
   ]
  },
  {
   "cell_type": "markdown",
   "id": "central-token",
   "metadata": {},
   "source": [
    "### Datatype"
   ]
  },
  {
   "cell_type": "code",
   "execution_count": 25,
   "id": "directed-fetish",
   "metadata": {},
   "outputs": [
    {
     "name": "stdout",
     "output_type": "stream",
     "text": [
      "int64\n"
     ]
    }
   ],
   "source": [
    "print(A.dtype)"
   ]
  },
  {
   "cell_type": "code",
   "execution_count": 26,
   "id": "attempted-printing",
   "metadata": {},
   "outputs": [],
   "source": [
    "A = np.array([[1,2,3], [4,5,6]], dtype= np.float16)"
   ]
  },
  {
   "cell_type": "code",
   "execution_count": 27,
   "id": "ecological-warning",
   "metadata": {},
   "outputs": [
    {
     "name": "stdout",
     "output_type": "stream",
     "text": [
      "float16\n"
     ]
    }
   ],
   "source": [
    "print(A.dtype)"
   ]
  },
  {
   "cell_type": "code",
   "execution_count": 28,
   "id": "possible-freight",
   "metadata": {},
   "outputs": [],
   "source": [
    "A = np.array([[1,2,3], [4,5,6]]).astype(np.float32)"
   ]
  },
  {
   "cell_type": "code",
   "execution_count": 29,
   "id": "accomplished-basement",
   "metadata": {},
   "outputs": [
    {
     "name": "stdout",
     "output_type": "stream",
     "text": [
      "float32\n"
     ]
    }
   ],
   "source": [
    "print(A.dtype)"
   ]
  },
  {
   "cell_type": "code",
   "execution_count": 30,
   "id": "familiar-adolescent",
   "metadata": {},
   "outputs": [
    {
     "name": "stdout",
     "output_type": "stream",
     "text": [
      "6\n"
     ]
    }
   ],
   "source": [
    "print(A.size)"
   ]
  },
  {
   "cell_type": "code",
   "execution_count": 31,
   "id": "joined-consent",
   "metadata": {},
   "outputs": [
    {
     "name": "stdout",
     "output_type": "stream",
     "text": [
      "4\n"
     ]
    }
   ],
   "source": [
    "print(A.itemsize)"
   ]
  },
  {
   "cell_type": "markdown",
   "id": "studied-straight",
   "metadata": {},
   "source": [
    "### np.arange( )"
   ]
  },
  {
   "cell_type": "code",
   "execution_count": 32,
   "id": "purple-passion",
   "metadata": {},
   "outputs": [
    {
     "name": "stdout",
     "output_type": "stream",
     "text": [
      "[[ 1  2  3  4  5  6]\n",
      " [ 7  8  9 10 11 12]\n",
      " [13 14 15 16 17 18]]\n"
     ]
    }
   ],
   "source": [
    "x = np.arange(1, 19, 1).reshape(3,6)\n",
    "print(x)"
   ]
  },
  {
   "cell_type": "markdown",
   "id": "separated-halifax",
   "metadata": {},
   "source": [
    "### np.linspace( )"
   ]
  },
  {
   "cell_type": "code",
   "execution_count": 33,
   "id": "fantastic-stress",
   "metadata": {},
   "outputs": [
    {
     "name": "stdout",
     "output_type": "stream",
     "text": [
      "[[1.         1.11111111 1.22222222 1.33333333 1.44444444]\n",
      " [1.55555556 1.66666667 1.77777778 1.88888889 2.        ]]\n"
     ]
    }
   ],
   "source": [
    "x = np.linspace(1, 2, 10).reshape(2,5)\n",
    "print(x)"
   ]
  },
  {
   "cell_type": "markdown",
   "id": "military-cookbook",
   "metadata": {},
   "source": [
    "### np.logpace( )"
   ]
  },
  {
   "cell_type": "code",
   "execution_count": 34,
   "id": "outside-planner",
   "metadata": {},
   "outputs": [],
   "source": [
    "np.set_printoptions(precision=2)"
   ]
  },
  {
   "cell_type": "code",
   "execution_count": 35,
   "id": "closing-watts",
   "metadata": {
    "scrolled": true
   },
   "outputs": [
    {
     "name": "stdout",
     "output_type": "stream",
     "text": [
      "[[1.00e+01 1.62e+01]\n",
      " [2.64e+01 4.28e+01]\n",
      " [6.95e+01 1.13e+02]\n",
      " [1.83e+02 2.98e+02]\n",
      " [4.83e+02 7.85e+02]\n",
      " [1.27e+03 2.07e+03]\n",
      " [3.36e+03 5.46e+03]\n",
      " [8.86e+03 1.44e+04]\n",
      " [2.34e+04 3.79e+04]\n",
      " [6.16e+04 1.00e+05]]\n"
     ]
    }
   ],
   "source": [
    "x = np.logspace(1, 5, num= 20).reshape(10, 2)\n",
    "print(x)"
   ]
  },
  {
   "cell_type": "markdown",
   "id": "representative-negative",
   "metadata": {},
   "source": [
    "### Creating specific arrays:\n",
    "- np.zeros\n",
    "- np.ones\n",
    "- np.fulls\n",
    "- np.eyes"
   ]
  },
  {
   "cell_type": "code",
   "execution_count": 36,
   "id": "entertaining-democracy",
   "metadata": {},
   "outputs": [
    {
     "name": "stdout",
     "output_type": "stream",
     "text": [
      "[[0. 0. 0. 0. 0.]\n",
      " [0. 0. 0. 0. 0.]]\n"
     ]
    }
   ],
   "source": [
    "print(np.zeros(shape = (2,5)))"
   ]
  },
  {
   "cell_type": "code",
   "execution_count": 37,
   "id": "acute-drilling",
   "metadata": {},
   "outputs": [
    {
     "name": "stdout",
     "output_type": "stream",
     "text": [
      "[[1 1 1]\n",
      " [1 1 1]]\n"
     ]
    }
   ],
   "source": [
    "print(np.ones(shape= (2,3), dtype= np.int16))"
   ]
  },
  {
   "cell_type": "code",
   "execution_count": 38,
   "id": "rolled-pocket",
   "metadata": {},
   "outputs": [
    {
     "name": "stdout",
     "output_type": "stream",
     "text": [
      "[[5 5 5]\n",
      " [5 5 5]]\n"
     ]
    }
   ],
   "source": [
    "print(5* np.ones(shape= (2, 3), dtype= np.int16))"
   ]
  },
  {
   "cell_type": "code",
   "execution_count": 39,
   "id": "modern-lying",
   "metadata": {},
   "outputs": [
    {
     "name": "stdout",
     "output_type": "stream",
     "text": [
      "[[1 0 0]\n",
      " [0 1 0]\n",
      " [0 0 1]]\n"
     ]
    }
   ],
   "source": [
    "print(np.eye(3, dtype= np.int64))"
   ]
  },
  {
   "cell_type": "code",
   "execution_count": 40,
   "id": "accredited-sierra",
   "metadata": {},
   "outputs": [
    {
     "name": "stdout",
     "output_type": "stream",
     "text": [
      "[[1 2 3]\n",
      " [4 5 6]\n",
      " [7 8 9]]\n"
     ]
    }
   ],
   "source": [
    "print(np.reshape(np.arange(1, 10), (3,3)))"
   ]
  },
  {
   "cell_type": "code",
   "execution_count": 41,
   "id": "matched-police",
   "metadata": {},
   "outputs": [
    {
     "name": "stdout",
     "output_type": "stream",
     "text": [
      "[[1 2 3]\n",
      " [4 5 6]\n",
      " [7 8 9]]\n"
     ]
    }
   ],
   "source": [
    "h = np.arange(1,10).reshape(3,3)\n",
    "print(h)"
   ]
  },
  {
   "cell_type": "code",
   "execution_count": 42,
   "id": "central-dubai",
   "metadata": {},
   "outputs": [
    {
     "name": "stdout",
     "output_type": "stream",
     "text": [
      "[[0. 0. 1.]\n",
      " [0. 1. 0.]\n",
      " [1. 0. 0.]]\n"
     ]
    }
   ],
   "source": [
    "fl = np.fliplr(np.eye(3))\n",
    "print(fl)"
   ]
  },
  {
   "cell_type": "code",
   "execution_count": 43,
   "id": "manufactured-noise",
   "metadata": {},
   "outputs": [
    {
     "name": "stdout",
     "output_type": "stream",
     "text": [
      "[[ 1.58 -0.54  1.63]\n",
      " [ 0.86  0.46  2.02]]\n"
     ]
    }
   ],
   "source": [
    "print(np.random.randn(2,3))"
   ]
  },
  {
   "cell_type": "markdown",
   "id": "expressed-coating",
   "metadata": {},
   "source": [
    "## matplotlib:"
   ]
  },
  {
   "cell_type": "code",
   "execution_count": 44,
   "id": "natural-litigation",
   "metadata": {},
   "outputs": [],
   "source": [
    "import matplotlib.pyplot as plt\n",
    "%matplotlib inline\n",
    "#plt.figure(figsize=(12,3))"
   ]
  },
  {
   "cell_type": "code",
   "execution_count": 45,
   "id": "pretty-confidentiality",
   "metadata": {},
   "outputs": [
    {
     "data": {
      "image/png": "[encoded data removed]",
      "text/plain": [
       "<Figure size 432x288 with 1 Axes>"
      ]
     },
     "metadata": {
      "needs_background": "light"
     },
     "output_type": "display_data"
    }
   ],
   "source": [
    "x = np.random.randn(10000)\n",
    "plt.hist(x, bins=40, color= 'yellow')\n",
    "plt.title(\"$ N(\\mu=0, \\sigma^2=1)$\");"
   ]
  },
  {
   "cell_type": "code",
   "execution_count": 46,
   "id": "quiet-organ",
   "metadata": {},
   "outputs": [
    {
     "data": {
      "image/png": "[encoded data removed]",
      "text/plain": [
       "<Figure size 432x288 with 1 Axes>"
      ]
     },
     "metadata": {
      "needs_background": "light"
     },
     "output_type": "display_data"
    }
   ],
   "source": [
    "x = np.random.randn(10000)\n",
    "plt.hist(x, bins=40, color= 'green')\n",
    "plt.title(\"$ N(\\mu=0, \\sigma^2=1)$\");"
   ]
  },
  {
   "cell_type": "code",
   "execution_count": 47,
   "id": "eastern-mayor",
   "metadata": {},
   "outputs": [
    {
     "data": {
      "image/png": "[encoded data removed]",
      "text/plain": [
       "<Figure size 432x288 with 3 Axes>"
      ]
     },
     "metadata": {
      "needs_background": "light"
     },
     "output_type": "display_data"
    }
   ],
   "source": [
    "plt.subplot(1,3,1)\n",
    "x = np.random.randn(10000)\n",
    "plt.hist(x, bins=50)\n",
    "plt.xlim(-10, 10)\n",
    "\n",
    "plt.subplot(1,3,2)\n",
    "x =np.sqrt(0.5)* np.random.randn(10000)\n",
    "plt.hist(x, bins=50)\n",
    "plt.xlim(-10, 10)\n",
    "\n",
    "plt.subplot(1,3,3)\n",
    "x = np.sqrt(0.5)*np.random.randn(10000)+2\n",
    "plt.hist(x, bins=50)\n",
    "plt.xlim(-10, 10);"
   ]
  },
  {
   "cell_type": "code",
   "execution_count": 48,
   "id": "unnecessary-scale",
   "metadata": {},
   "outputs": [
    {
     "name": "stdout",
     "output_type": "stream",
     "text": [
      "[[0 1 2 0 1 2]\n",
      " [2 1 0 3 2 3]]\n"
     ]
    }
   ],
   "source": [
    "print(np.random.randint(5, size= (2, 6)))"
   ]
  },
  {
   "cell_type": "code",
   "execution_count": 49,
   "id": "chemical-reviewer",
   "metadata": {},
   "outputs": [
    {
     "name": "stdout",
     "output_type": "stream",
     "text": [
      "[[0 0 1 0 1 0 1 1 1 1 1 1 1 0 1 0 0 1 1 0]]\n"
     ]
    }
   ],
   "source": [
    "b = np.random.randint(2, size= (1, 20))\n",
    "print(b)"
   ]
  },
  {
   "cell_type": "code",
   "execution_count": 50,
   "id": "possible-church",
   "metadata": {
    "scrolled": true
   },
   "outputs": [
    {
     "name": "stdout",
     "output_type": "stream",
     "text": [
      "12\n"
     ]
    }
   ],
   "source": [
    "print(np.count_nonzero(b))"
   ]
  },
  {
   "cell_type": "markdown",
   "id": "duplicate-browser",
   "metadata": {},
   "source": [
    "## np.random"
   ]
  },
  {
   "cell_type": "code",
   "execution_count": 51,
   "id": "marked-plain",
   "metadata": {},
   "outputs": [
    {
     "data": {
      "text/plain": [
       "<function RandomState.seed>"
      ]
     },
     "execution_count": 51,
     "metadata": {},
     "output_type": "execute_result"
    }
   ],
   "source": [
    "np.random.seed"
   ]
  },
  {
   "cell_type": "code",
   "execution_count": 52,
   "id": "extreme-journal",
   "metadata": {},
   "outputs": [
    {
     "name": "stdout",
     "output_type": "stream",
     "text": [
      "[2 1 1]\n"
     ]
    }
   ],
   "source": [
    "print(np.random.choice(5, 3, p=[0.1, 0.6, 0.3, 0, 0]))"
   ]
  },
  {
   "cell_type": "code",
   "execution_count": 55,
   "id": "configured-river",
   "metadata": {},
   "outputs": [
    {
     "name": "stdout",
     "output_type": "stream",
     "text": [
      "[3 5 7 4 1 9 0 2 8 6]\n"
     ]
    }
   ],
   "source": [
    "print(np.random.permutation(10))"
   ]
  },
  {
   "cell_type": "code",
   "execution_count": 59,
   "id": "twelve-impression",
   "metadata": {},
   "outputs": [
    {
     "name": "stdout",
     "output_type": "stream",
     "text": [
      "[0 1 2 3 4 5 6 7 8 9]\n"
     ]
    }
   ],
   "source": [
    "u = np.arange(10)\n",
    "print(u)"
   ]
  },
  {
   "cell_type": "code",
   "execution_count": 61,
   "id": "internal-bumper",
   "metadata": {},
   "outputs": [
    {
     "name": "stdout",
     "output_type": "stream",
     "text": [
      "[3 1 5 2 0 8 6 9 4 7]\n"
     ]
    }
   ],
   "source": [
    "np.random.shuffle(u)\n",
    "print(u)"
   ]
  },
  {
   "cell_type": "code",
   "execution_count": 63,
   "id": "worthy-lawyer",
   "metadata": {},
   "outputs": [
    {
     "name": "stdout",
     "output_type": "stream",
     "text": [
      "[[1 2 3]\n",
      " [4 5 6]\n",
      " [7 8 9]]\n"
     ]
    }
   ],
   "source": [
    "R = np.array([[1,2,3], [4,5,6], [7,8,9]])\n",
    "print(R)"
   ]
  },
  {
   "cell_type": "code",
   "execution_count": 64,
   "id": "herbal-flesh",
   "metadata": {},
   "outputs": [
    {
     "name": "stdout",
     "output_type": "stream",
     "text": [
      "6\n"
     ]
    }
   ],
   "source": [
    "print(R[1,2])"
   ]
  },
  {
   "cell_type": "code",
   "execution_count": 67,
   "id": "amino-berlin",
   "metadata": {},
   "outputs": [
    {
     "name": "stdout",
     "output_type": "stream",
     "text": [
      "[2 5 8]\n"
     ]
    }
   ],
   "source": [
    "print(R[:,1])"
   ]
  },
  {
   "cell_type": "code",
   "execution_count": 69,
   "id": "powered-boards",
   "metadata": {},
   "outputs": [
    {
     "name": "stdout",
     "output_type": "stream",
     "text": [
      "[4 5 6]\n"
     ]
    }
   ],
   "source": [
    "print(R[1,:])"
   ]
  },
  {
   "cell_type": "markdown",
   "id": "overall-paste",
   "metadata": {},
   "source": [
    "### slicing"
   ]
  },
  {
   "cell_type": "code",
   "execution_count": 72,
   "id": "abstract-likelihood",
   "metadata": {},
   "outputs": [
    {
     "name": "stdout",
     "output_type": "stream",
     "text": [
      "[[1 2]\n",
      " [4 5]]\n"
     ]
    }
   ],
   "source": [
    "print(R[:2,:2])"
   ]
  },
  {
   "cell_type": "markdown",
   "id": "stretch-hospital",
   "metadata": {},
   "source": [
    "## Operations on numpy arrays"
   ]
  },
  {
   "cell_type": "code",
   "execution_count": 76,
   "id": "fantastic-prisoner",
   "metadata": {},
   "outputs": [
    {
     "name": "stdout",
     "output_type": "stream",
     "text": [
      "[[1. 2.]\n",
      " [3. 4.]]\n",
      "\n",
      "[[5. 6.]\n",
      " [7. 8.]]\n"
     ]
    }
   ],
   "source": [
    "x = np.array([[1,2], [3,4]], dtype = np.float64)\n",
    "y = np.array([[5,6], [7,8]], dtype = np.float64)\n",
    "\n",
    "print(x)\n",
    "print()\n",
    "print(y)"
   ]
  },
  {
   "cell_type": "code",
   "execution_count": 78,
   "id": "light-rolling",
   "metadata": {},
   "outputs": [
    {
     "name": "stdout",
     "output_type": "stream",
     "text": [
      "[[ 6.  8.]\n",
      " [10. 12.]]\n",
      "\n",
      "[[ 6.  8.]\n",
      " [10. 12.]]\n"
     ]
    }
   ],
   "source": [
    "print(x+y)\n",
    "print()\n",
    "print(np.add(x, y))"
   ]
  },
  {
   "cell_type": "code",
   "execution_count": 79,
   "id": "corresponding-chile",
   "metadata": {},
   "outputs": [
    {
     "name": "stdout",
     "output_type": "stream",
     "text": [
      "[[-4. -4.]\n",
      " [-4. -4.]]\n",
      "\n",
      "[[-4. -4.]\n",
      " [-4. -4.]]\n"
     ]
    }
   ],
   "source": [
    "print(x-y)\n",
    "print()\n",
    "print(np.subtract(x,y))"
   ]
  },
  {
   "cell_type": "code",
   "execution_count": 80,
   "id": "saved-yacht",
   "metadata": {},
   "outputs": [
    {
     "name": "stdout",
     "output_type": "stream",
     "text": [
      "[[ 5. 12.]\n",
      " [21. 32.]]\n",
      "\n",
      "[[ 5. 12.]\n",
      " [21. 32.]]\n"
     ]
    }
   ],
   "source": [
    "print(x*y)\n",
    "print()\n",
    "print(np.multiply(x,y))"
   ]
  },
  {
   "cell_type": "code",
   "execution_count": 82,
   "id": "covered-white",
   "metadata": {},
   "outputs": [
    {
     "name": "stdout",
     "output_type": "stream",
     "text": [
      "[[0.2  0.33]\n",
      " [0.43 0.5 ]]\n",
      "\n",
      "[[0.2  0.33]\n",
      " [0.43 0.5 ]]\n"
     ]
    }
   ],
   "source": [
    "print(x/y)\n",
    "print()\n",
    "print(np.divide(x,y))"
   ]
  },
  {
   "cell_type": "code",
   "execution_count": 83,
   "id": "impressive-culture",
   "metadata": {},
   "outputs": [
    {
     "name": "stdout",
     "output_type": "stream",
     "text": [
      "[[1.   1.41]\n",
      " [1.73 2.  ]]\n"
     ]
    }
   ],
   "source": [
    "print(np.sqrt(x,y))"
   ]
  },
  {
   "cell_type": "code",
   "execution_count": 87,
   "id": "precise-cartoon",
   "metadata": {},
   "outputs": [
    {
     "name": "stdout",
     "output_type": "stream",
     "text": [
      "[[1. 2.]\n",
      " [3. 4.]]\n",
      "\n",
      "[[1. 3.]\n",
      " [2. 4.]]\n"
     ]
    }
   ],
   "source": [
    "print(x)\n",
    "print()\n",
    "print(x.T)"
   ]
  },
  {
   "cell_type": "code",
   "execution_count": 88,
   "id": "martial-yesterday",
   "metadata": {},
   "outputs": [
    {
     "name": "stdout",
     "output_type": "stream",
     "text": [
      "[[1. 2.]\n",
      " [3. 4.]]\n"
     ]
    }
   ],
   "source": [
    "print(x)"
   ]
  },
  {
   "cell_type": "code",
   "execution_count": 92,
   "id": "august-calgary",
   "metadata": {},
   "outputs": [
    {
     "name": "stdout",
     "output_type": "stream",
     "text": [
      "10.0\n",
      "[4. 6.]\n",
      "[3. 7.]\n"
     ]
    }
   ],
   "source": [
    "print(np.sum(x))\n",
    "print(np.sum(x, axis=0))\n",
    "print(np.sum(x, axis=1))"
   ]
  },
  {
   "cell_type": "code",
   "execution_count": 93,
   "id": "false-search",
   "metadata": {},
   "outputs": [
    {
     "name": "stdout",
     "output_type": "stream",
     "text": [
      "10.0\n"
     ]
    }
   ],
   "source": [
    "print(np.sum(x, axis=(0,1)))"
   ]
  },
  {
   "cell_type": "code",
   "execution_count": 97,
   "id": "sensitive-wesley",
   "metadata": {},
   "outputs": [
    {
     "name": "stdout",
     "output_type": "stream",
     "text": [
      "2.5\n",
      "[2. 3.]\n",
      "[1.5 3.5]\n"
     ]
    }
   ],
   "source": [
    "print(np.mean(x))\n",
    "print(np.mean(x, axis=0))\n",
    "print(np.mean(x, axis=1))"
   ]
  },
  {
   "cell_type": "markdown",
   "id": "integral-footage",
   "metadata": {},
   "source": [
    "## Broadcasting\n",
    "#### first rule (Dimensions)"
   ]
  },
  {
   "cell_type": "code",
   "execution_count": 107,
   "id": "entertaining-conspiracy",
   "metadata": {},
   "outputs": [
    {
     "name": "stdout",
     "output_type": "stream",
     "text": [
      "[[[0 1 2 3 4]]]\n"
     ]
    }
   ],
   "source": [
    "x = np.arange(5).reshape(1,1,5)\n",
    "print(x)"
   ]
  },
  {
   "cell_type": "code",
   "execution_count": 106,
   "id": "stable-washington",
   "metadata": {},
   "outputs": [
    {
     "name": "stdout",
     "output_type": "stream",
     "text": [
      "[10 20 30 40 50]\n"
     ]
    }
   ],
   "source": [
    "y = np.array([10,20,30,40,50])\n",
    "print(y)"
   ]
  },
  {
   "cell_type": "code",
   "execution_count": 108,
   "id": "trying-warner",
   "metadata": {},
   "outputs": [
    {
     "name": "stdout",
     "output_type": "stream",
     "text": [
      "[[[10 21 32 43 54]]]\n"
     ]
    }
   ],
   "source": [
    "print(x+y)"
   ]
  },
  {
   "cell_type": "markdown",
   "id": "talented-absolute",
   "metadata": {},
   "source": [
    "#### second rule"
   ]
  },
  {
   "cell_type": "code",
   "execution_count": 114,
   "id": "provincial-variable",
   "metadata": {},
   "outputs": [
    {
     "name": "stdout",
     "output_type": "stream",
     "text": [
      "[[10 11 12]\n",
      " [23 24 25]]\n"
     ]
    }
   ],
   "source": [
    "x = np.arange(6).reshape(2,3)\n",
    "y = np.array([[10],[20]])\n",
    "print(x+y)"
   ]
  },
  {
   "cell_type": "markdown",
   "id": "medical-serum",
   "metadata": {},
   "source": [
    "#### third rule (combination)"
   ]
  },
  {
   "cell_type": "code",
   "execution_count": 117,
   "id": "intermediate-productivity",
   "metadata": {},
   "outputs": [
    {
     "name": "stdout",
     "output_type": "stream",
     "text": [
      "[[100 201 302]\n",
      " [103 204 305]]\n"
     ]
    }
   ],
   "source": [
    "x = np.arange(6).reshape(2,3)\n",
    "y = np.array([[100,200,300]])\n",
    "print(x+y)"
   ]
  },
  {
   "cell_type": "code",
   "execution_count": 124,
   "id": "unexpected-evidence",
   "metadata": {},
   "outputs": [
    {
     "name": "stdout",
     "output_type": "stream",
     "text": [
      "[[0 1 2]\n",
      " [3 4 5]]\n",
      "\n",
      "[[-8070450532247928832  3458773283506926558                    3]\n",
      " [                   0                    0      844424930131968]]\n",
      "\n",
      "[[0 0 0]\n",
      " [0 0 0]]\n"
     ]
    }
   ],
   "source": [
    "n = np.arange(6).reshape(2,3)\n",
    "print(n)\n",
    "print()\n",
    "like = np.empty_like(n)\n",
    "print(like)\n",
    "print()\n",
    "ze = np.zeros_like(n)\n",
    "print(ze)"
   ]
  },
  {
   "cell_type": "markdown",
   "id": "alleged-spell",
   "metadata": {},
   "source": [
    "## Conditional Operators"
   ]
  },
  {
   "cell_type": "code",
   "execution_count": 125,
   "id": "greatest-immunology",
   "metadata": {},
   "outputs": [
    {
     "name": "stdout",
     "output_type": "stream",
     "text": [
      "[False  True False False]\n"
     ]
    }
   ],
   "source": [
    "x = np.array([20, -5, 78, 40])\n",
    "print(x<[16, 16, 34, 10])"
   ]
  },
  {
   "cell_type": "code",
   "execution_count": 127,
   "id": "continued-burning",
   "metadata": {},
   "outputs": [
    {
     "name": "stdout",
     "output_type": "stream",
     "text": [
      "[20 -5]\n"
     ]
    }
   ],
   "source": [
    "print(x[x<23])"
   ]
  },
  {
   "cell_type": "markdown",
   "id": "ideal-battery",
   "metadata": {},
   "source": [
    "## Stacking arrays"
   ]
  },
  {
   "cell_type": "code",
   "execution_count": 128,
   "id": "included-logan",
   "metadata": {},
   "outputs": [
    {
     "name": "stdout",
     "output_type": "stream",
     "text": [
      "[[8 8 8 8]\n",
      " [8 8 8 8]\n",
      " [8 8 8 8]]\n"
     ]
    }
   ],
   "source": [
    "A = np.full((3,4), 8)\n",
    "print(A)"
   ]
  },
  {
   "cell_type": "code",
   "execution_count": 130,
   "id": "advance-nowhere",
   "metadata": {},
   "outputs": [
    {
     "name": "stdout",
     "output_type": "stream",
     "text": [
      "[[4 4 4 4]\n",
      " [4 4 4 4]\n",
      " [4 4 4 4]\n",
      " [4 4 4 4]]\n"
     ]
    }
   ],
   "source": [
    "B = np.full((4,4), 4)\n",
    "print(B)"
   ]
  },
  {
   "cell_type": "code",
   "execution_count": 134,
   "id": "continuous-sixth",
   "metadata": {},
   "outputs": [
    {
     "name": "stdout",
     "output_type": "stream",
     "text": [
      "[[2 2 2 2]\n",
      " [2 2 2 2]\n",
      " [2 2 2 2]]\n"
     ]
    }
   ],
   "source": [
    "C = np.full((3,4), 2)\n",
    "print(C)"
   ]
  },
  {
   "cell_type": "markdown",
   "id": "toxic-branch",
   "metadata": {},
   "source": [
    "### np.vstack"
   ]
  },
  {
   "cell_type": "code",
   "execution_count": 136,
   "id": "intended-elimination",
   "metadata": {},
   "outputs": [
    {
     "name": "stdout",
     "output_type": "stream",
     "text": [
      "[[8 8 8 8]\n",
      " [8 8 8 8]\n",
      " [8 8 8 8]\n",
      " [4 4 4 4]\n",
      " [4 4 4 4]\n",
      " [4 4 4 4]\n",
      " [4 4 4 4]\n",
      " [2 2 2 2]\n",
      " [2 2 2 2]\n",
      " [2 2 2 2]]\n"
     ]
    }
   ],
   "source": [
    "print(np.vstack((A, B, C)))"
   ]
  },
  {
   "cell_type": "code",
   "execution_count": 138,
   "id": "alleged-sword",
   "metadata": {},
   "outputs": [
    {
     "name": "stdout",
     "output_type": "stream",
     "text": [
      "[[8 8 8 8 2 2 2 2]\n",
      " [8 8 8 8 2 2 2 2]\n",
      " [8 8 8 8 2 2 2 2]]\n"
     ]
    }
   ],
   "source": [
    "print(np.hstack((A, C)))"
   ]
  },
  {
   "cell_type": "markdown",
   "id": "thick-relaxation",
   "metadata": {},
   "source": [
    "### concatenate"
   ]
  },
  {
   "cell_type": "code",
   "execution_count": 140,
   "id": "later-board",
   "metadata": {},
   "outputs": [
    {
     "name": "stdout",
     "output_type": "stream",
     "text": [
      "[[8 8 8 8]\n",
      " [8 8 8 8]\n",
      " [8 8 8 8]\n",
      " [4 4 4 4]\n",
      " [4 4 4 4]\n",
      " [4 4 4 4]\n",
      " [4 4 4 4]\n",
      " [2 2 2 2]\n",
      " [2 2 2 2]\n",
      " [2 2 2 2]]\n"
     ]
    }
   ],
   "source": [
    "D = np.concatenate((A, B, C))\n",
    "print(D)"
   ]
  },
  {
   "cell_type": "markdown",
   "id": "eastern-hampton",
   "metadata": {},
   "source": [
    "### Transposing arrays"
   ]
  },
  {
   "cell_type": "code",
   "execution_count": 142,
   "id": "objective-publicity",
   "metadata": {},
   "outputs": [
    {
     "name": "stdout",
     "output_type": "stream",
     "text": [
      "[[[ 0  1  2]\n",
      "  [ 3  4  5]]\n",
      "\n",
      " [[ 6  7  8]\n",
      "  [ 9 10 11]]\n",
      "\n",
      " [[12 13 14]\n",
      "  [15 16 17]]\n",
      "\n",
      " [[18 19 20]\n",
      "  [21 22 23]]]\n"
     ]
    }
   ],
   "source": [
    "A = np.arange(24).reshape(4, 2, 3) #0,1,2\n",
    "print(A)"
   ]
  },
  {
   "cell_type": "code",
   "execution_count": 145,
   "id": "fallen-sapphire",
   "metadata": {},
   "outputs": [
    {
     "name": "stdout",
     "output_type": "stream",
     "text": [
      "[[[ 0  6 12 18]\n",
      "  [ 3  9 15 21]]\n",
      "\n",
      " [[ 1  7 13 19]\n",
      "  [ 4 10 16 22]]\n",
      "\n",
      " [[ 2  8 14 20]\n",
      "  [ 5 11 17 23]]]\n"
     ]
    }
   ],
   "source": [
    "b = A.transpose()\n",
    "print(b)"
   ]
  },
  {
   "cell_type": "code",
   "execution_count": 146,
   "id": "handmade-conversion",
   "metadata": {},
   "outputs": [
    {
     "name": "stdout",
     "output_type": "stream",
     "text": [
      "[[[ 0  6 12 18]\n",
      "  [ 1  7 13 19]\n",
      "  [ 2  8 14 20]]\n",
      "\n",
      " [[ 3  9 15 21]\n",
      "  [ 4 10 16 22]\n",
      "  [ 5 11 17 23]]]\n"
     ]
    }
   ],
   "source": [
    "print(A.transpose(1, 2, 0)) #Changing to 1,2,0"
   ]
  },
  {
   "cell_type": "markdown",
   "id": "applicable-drove",
   "metadata": {},
   "source": [
    "## Saving and Loading"
   ]
  },
  {
   "cell_type": "markdown",
   "id": "collective-strengthening",
   "metadata": {},
   "source": [
    "#### Binary format"
   ]
  },
  {
   "cell_type": "code",
   "execution_count": 149,
   "id": "republican-electron",
   "metadata": {},
   "outputs": [
    {
     "name": "stdout",
     "output_type": "stream",
     "text": [
      "[[0.86 0.86 0.95]\n",
      " [0.29 0.62 0.76]]\n"
     ]
    }
   ],
   "source": [
    "A = np.random.rand(2,3)\n",
    "print(A)\n",
    "\n",
    "# save in binary fomat (.npy)\n",
    "#np.save('my_array', A)"
   ]
  },
  {
   "cell_type": "code",
   "execution_count": 150,
   "id": "wrapped-judgment",
   "metadata": {},
   "outputs": [],
   "source": [
    "#B = np.load('my_array')"
   ]
  },
  {
   "cell_type": "markdown",
   "id": "agreed-delaware",
   "metadata": {},
   "source": [
    "#### Text format"
   ]
  },
  {
   "cell_type": "code",
   "execution_count": 151,
   "id": "apparent-window",
   "metadata": {},
   "outputs": [],
   "source": [
    "# save in binary fomat (.npy)\n",
    "#np.savetxt('my_array.csv', A)"
   ]
  },
  {
   "cell_type": "code",
   "execution_count": 152,
   "id": "amino-assessment",
   "metadata": {},
   "outputs": [],
   "source": [
    "#B = np.loadtxt('my_array.csv')"
   ]
  },
  {
   "cell_type": "markdown",
   "id": "compatible-michigan",
   "metadata": {},
   "source": [
    "## Matplotlib"
   ]
  },
  {
   "cell_type": "code",
   "execution_count": 154,
   "id": "plain-dependence",
   "metadata": {},
   "outputs": [],
   "source": [
    "import matplotlib.pyplot as plt\n",
    "%matplotlib inline"
   ]
  },
  {
   "cell_type": "markdown",
   "id": "casual-huntington",
   "metadata": {},
   "source": [
    "### Plotting"
   ]
  },
  {
   "cell_type": "code",
   "execution_count": 162,
   "id": "frank-mystery",
   "metadata": {},
   "outputs": [
    {
     "data": {
      "image/png": "[encoded data removed]",
      "text/plain": [
       "<Figure size 432x288 with 1 Axes>"
      ]
     },
     "metadata": {
      "needs_background": "light"
     },
     "output_type": "display_data"
    }
   ],
   "source": [
    "x = np.arange(0, 3*np.pi, 0.1)\n",
    "y1 = np.sin(x)\n",
    "y2 = np.cos(x)\n",
    "plt.plot(x, y1)\n",
    "plt.plot(x, y2)\n",
    "plt.title('sin & cosin')\n",
    "plt.legend(['sin', 'cos']);"
   ]
  },
  {
   "cell_type": "code",
   "execution_count": null,
   "id": "following-crowd",
   "metadata": {},
   "outputs": [],
   "source": []
  }
 ],
 "metadata": {
  "kernelspec": {
   "display_name": "Python 3",
   "language": "python",
   "name": "python3"
  },
  "language_info": {
   "codemirror_mode": {
    "name": "ipython",
    "version": 3
   },
   "file_extension": ".py",
   "mimetype": "text/x-python",
   "name": "python",
   "nbconvert_exporter": "python",
   "pygments_lexer": "ipython3",
   "version": "3.7.10"
  }
 },
 "nbformat": 4,
 "nbformat_minor": 5
}
