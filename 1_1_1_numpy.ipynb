{
  "nbformat": 4,
  "nbformat_minor": 0,
  "metadata": {
    "colab": {
      "name": "1-1-1-numpy.ipynb",
      "provenance": [],
      "authorship_tag": "ABX9TyOl20IaC9jBXSQUtiEQ3egX",
      "include_colab_link": true
    },
    "kernelspec": {
      "name": "python3",
      "display_name": "Python 3"
    },
    "language_info": {
      "name": "python"
    }
  },
  "cells": [
    {
      "cell_type": "markdown",
      "metadata": {
        "id": "view-in-github",
        "colab_type": "text"
      },
      "source": [
        "<a href=\"https://colab.research.google.com/github/Mahrokh-Eb/Machine-Learning-With-Python/blob/master/1_1_1_numpy.ipynb\" target=\"_parent\"><img src=\"https://colab.research.google.com/assets/colab-badge.svg\" alt=\"Open In Colab\"/></a>"
      ]
    },
    {
      "cell_type": "code",
      "source": [
        "#!pip3 install bcolz "
      ],
      "metadata": {
        "colab": {
          "base_uri": "https://localhost:8080/"
        },
        "id": "AUZT5UBqZpE-",
        "outputId": "4145deab-5f41-4e63-dc47-7a6d7a22d7a1"
      },
      "execution_count": 64,
      "outputs": [
        {
          "output_type": "stream",
          "name": "stdout",
          "text": [
            "Collecting bcolz\n",
            "  Downloading bcolz-1.2.1.tar.gz (1.5 MB)\n",
            "\u001b[?25l\r\u001b[K     |▎                               | 10 kB 27.8 MB/s eta 0:00:01\r\u001b[K     |▌                               | 20 kB 11.3 MB/s eta 0:00:01\r\u001b[K     |▊                               | 30 kB 10.0 MB/s eta 0:00:01\r\u001b[K     |█                               | 40 kB 8.7 MB/s eta 0:00:01\r\u001b[K     |█▏                              | 51 kB 5.1 MB/s eta 0:00:01\r\u001b[K     |█▍                              | 61 kB 5.6 MB/s eta 0:00:01\r\u001b[K     |█▋                              | 71 kB 5.4 MB/s eta 0:00:01\r\u001b[K     |█▉                              | 81 kB 6.0 MB/s eta 0:00:01\r\u001b[K     |██                              | 92 kB 4.8 MB/s eta 0:00:01\r\u001b[K     |██▎                             | 102 kB 5.2 MB/s eta 0:00:01\r\u001b[K     |██▌                             | 112 kB 5.2 MB/s eta 0:00:01\r\u001b[K     |██▊                             | 122 kB 5.2 MB/s eta 0:00:01\r\u001b[K     |███                             | 133 kB 5.2 MB/s eta 0:00:01\r\u001b[K     |███▏                            | 143 kB 5.2 MB/s eta 0:00:01\r\u001b[K     |███▍                            | 153 kB 5.2 MB/s eta 0:00:01\r\u001b[K     |███▋                            | 163 kB 5.2 MB/s eta 0:00:01\r\u001b[K     |███▉                            | 174 kB 5.2 MB/s eta 0:00:01\r\u001b[K     |████                            | 184 kB 5.2 MB/s eta 0:00:01\r\u001b[K     |████▎                           | 194 kB 5.2 MB/s eta 0:00:01\r\u001b[K     |████▌                           | 204 kB 5.2 MB/s eta 0:00:01\r\u001b[K     |████▊                           | 215 kB 5.2 MB/s eta 0:00:01\r\u001b[K     |█████                           | 225 kB 5.2 MB/s eta 0:00:01\r\u001b[K     |█████▏                          | 235 kB 5.2 MB/s eta 0:00:01\r\u001b[K     |█████▍                          | 245 kB 5.2 MB/s eta 0:00:01\r\u001b[K     |█████▋                          | 256 kB 5.2 MB/s eta 0:00:01\r\u001b[K     |█████▉                          | 266 kB 5.2 MB/s eta 0:00:01\r\u001b[K     |██████                          | 276 kB 5.2 MB/s eta 0:00:01\r\u001b[K     |██████▎                         | 286 kB 5.2 MB/s eta 0:00:01\r\u001b[K     |██████▌                         | 296 kB 5.2 MB/s eta 0:00:01\r\u001b[K     |██████▊                         | 307 kB 5.2 MB/s eta 0:00:01\r\u001b[K     |███████                         | 317 kB 5.2 MB/s eta 0:00:01\r\u001b[K     |███████▏                        | 327 kB 5.2 MB/s eta 0:00:01\r\u001b[K     |███████▍                        | 337 kB 5.2 MB/s eta 0:00:01\r\u001b[K     |███████▋                        | 348 kB 5.2 MB/s eta 0:00:01\r\u001b[K     |███████▉                        | 358 kB 5.2 MB/s eta 0:00:01\r\u001b[K     |████████                        | 368 kB 5.2 MB/s eta 0:00:01\r\u001b[K     |████████▎                       | 378 kB 5.2 MB/s eta 0:00:01\r\u001b[K     |████████▌                       | 389 kB 5.2 MB/s eta 0:00:01\r\u001b[K     |████████▊                       | 399 kB 5.2 MB/s eta 0:00:01\r\u001b[K     |█████████                       | 409 kB 5.2 MB/s eta 0:00:01\r\u001b[K     |█████████▏                      | 419 kB 5.2 MB/s eta 0:00:01\r\u001b[K     |█████████▍                      | 430 kB 5.2 MB/s eta 0:00:01\r\u001b[K     |█████████▋                      | 440 kB 5.2 MB/s eta 0:00:01\r\u001b[K     |█████████▉                      | 450 kB 5.2 MB/s eta 0:00:01\r\u001b[K     |██████████                      | 460 kB 5.2 MB/s eta 0:00:01\r\u001b[K     |██████████▎                     | 471 kB 5.2 MB/s eta 0:00:01\r\u001b[K     |██████████▋                     | 481 kB 5.2 MB/s eta 0:00:01\r\u001b[K     |██████████▉                     | 491 kB 5.2 MB/s eta 0:00:01\r\u001b[K     |███████████                     | 501 kB 5.2 MB/s eta 0:00:01\r\u001b[K     |███████████▎                    | 512 kB 5.2 MB/s eta 0:00:01\r\u001b[K     |███████████▌                    | 522 kB 5.2 MB/s eta 0:00:01\r\u001b[K     |███████████▊                    | 532 kB 5.2 MB/s eta 0:00:01\r\u001b[K     |████████████                    | 542 kB 5.2 MB/s eta 0:00:01\r\u001b[K     |████████████▏                   | 552 kB 5.2 MB/s eta 0:00:01\r\u001b[K     |████████████▍                   | 563 kB 5.2 MB/s eta 0:00:01\r\u001b[K     |████████████▋                   | 573 kB 5.2 MB/s eta 0:00:01\r\u001b[K     |████████████▉                   | 583 kB 5.2 MB/s eta 0:00:01\r\u001b[K     |█████████████                   | 593 kB 5.2 MB/s eta 0:00:01\r\u001b[K     |█████████████▎                  | 604 kB 5.2 MB/s eta 0:00:01\r\u001b[K     |█████████████▌                  | 614 kB 5.2 MB/s eta 0:00:01\r\u001b[K     |█████████████▊                  | 624 kB 5.2 MB/s eta 0:00:01\r\u001b[K     |██████████████                  | 634 kB 5.2 MB/s eta 0:00:01\r\u001b[K     |██████████████▏                 | 645 kB 5.2 MB/s eta 0:00:01\r\u001b[K     |██████████████▍                 | 655 kB 5.2 MB/s eta 0:00:01\r\u001b[K     |██████████████▋                 | 665 kB 5.2 MB/s eta 0:00:01\r\u001b[K     |██████████████▉                 | 675 kB 5.2 MB/s eta 0:00:01\r\u001b[K     |███████████████                 | 686 kB 5.2 MB/s eta 0:00:01\r\u001b[K     |███████████████▎                | 696 kB 5.2 MB/s eta 0:00:01\r\u001b[K     |███████████████▌                | 706 kB 5.2 MB/s eta 0:00:01\r\u001b[K     |███████████████▊                | 716 kB 5.2 MB/s eta 0:00:01\r\u001b[K     |████████████████                | 727 kB 5.2 MB/s eta 0:00:01\r\u001b[K     |████████████████▏               | 737 kB 5.2 MB/s eta 0:00:01\r\u001b[K     |████████████████▍               | 747 kB 5.2 MB/s eta 0:00:01\r\u001b[K     |████████████████▋               | 757 kB 5.2 MB/s eta 0:00:01\r\u001b[K     |████████████████▉               | 768 kB 5.2 MB/s eta 0:00:01\r\u001b[K     |█████████████████               | 778 kB 5.2 MB/s eta 0:00:01\r\u001b[K     |█████████████████▎              | 788 kB 5.2 MB/s eta 0:00:01\r\u001b[K     |█████████████████▌              | 798 kB 5.2 MB/s eta 0:00:01\r\u001b[K     |█████████████████▊              | 808 kB 5.2 MB/s eta 0:00:01\r\u001b[K     |██████████████████              | 819 kB 5.2 MB/s eta 0:00:01\r\u001b[K     |██████████████████▏             | 829 kB 5.2 MB/s eta 0:00:01\r\u001b[K     |██████████████████▍             | 839 kB 5.2 MB/s eta 0:00:01\r\u001b[K     |██████████████████▋             | 849 kB 5.2 MB/s eta 0:00:01\r\u001b[K     |██████████████████▉             | 860 kB 5.2 MB/s eta 0:00:01\r\u001b[K     |███████████████████             | 870 kB 5.2 MB/s eta 0:00:01\r\u001b[K     |███████████████████▎            | 880 kB 5.2 MB/s eta 0:00:01\r\u001b[K     |███████████████████▌            | 890 kB 5.2 MB/s eta 0:00:01\r\u001b[K     |███████████████████▊            | 901 kB 5.2 MB/s eta 0:00:01\r\u001b[K     |████████████████████            | 911 kB 5.2 MB/s eta 0:00:01\r\u001b[K     |████████████████████▏           | 921 kB 5.2 MB/s eta 0:00:01\r\u001b[K     |████████████████████▍           | 931 kB 5.2 MB/s eta 0:00:01\r\u001b[K     |████████████████████▋           | 942 kB 5.2 MB/s eta 0:00:01\r\u001b[K     |████████████████████▉           | 952 kB 5.2 MB/s eta 0:00:01\r\u001b[K     |█████████████████████▏          | 962 kB 5.2 MB/s eta 0:00:01\r\u001b[K     |█████████████████████▍          | 972 kB 5.2 MB/s eta 0:00:01\r\u001b[K     |█████████████████████▋          | 983 kB 5.2 MB/s eta 0:00:01\r\u001b[K     |█████████████████████▉          | 993 kB 5.2 MB/s eta 0:00:01\r\u001b[K     |██████████████████████          | 1.0 MB 5.2 MB/s eta 0:00:01\r\u001b[K     |██████████████████████▎         | 1.0 MB 5.2 MB/s eta 0:00:01\r\u001b[K     |██████████████████████▌         | 1.0 MB 5.2 MB/s eta 0:00:01\r\u001b[K     |██████████████████████▊         | 1.0 MB 5.2 MB/s eta 0:00:01\r\u001b[K     |███████████████████████         | 1.0 MB 5.2 MB/s eta 0:00:01\r\u001b[K     |███████████████████████▏        | 1.1 MB 5.2 MB/s eta 0:00:01\r\u001b[K     |███████████████████████▍        | 1.1 MB 5.2 MB/s eta 0:00:01\r\u001b[K     |███████████████████████▋        | 1.1 MB 5.2 MB/s eta 0:00:01\r\u001b[K     |███████████████████████▉        | 1.1 MB 5.2 MB/s eta 0:00:01\r\u001b[K     |████████████████████████        | 1.1 MB 5.2 MB/s eta 0:00:01\r\u001b[K     |████████████████████████▎       | 1.1 MB 5.2 MB/s eta 0:00:01\r\u001b[K     |████████████████████████▌       | 1.1 MB 5.2 MB/s eta 0:00:01\r\u001b[K     |████████████████████████▊       | 1.1 MB 5.2 MB/s eta 0:00:01\r\u001b[K     |█████████████████████████       | 1.1 MB 5.2 MB/s eta 0:00:01\r\u001b[K     |█████████████████████████▏      | 1.1 MB 5.2 MB/s eta 0:00:01\r\u001b[K     |█████████████████████████▍      | 1.2 MB 5.2 MB/s eta 0:00:01\r\u001b[K     |█████████████████████████▋      | 1.2 MB 5.2 MB/s eta 0:00:01\r\u001b[K     |█████████████████████████▉      | 1.2 MB 5.2 MB/s eta 0:00:01\r\u001b[K     |██████████████████████████      | 1.2 MB 5.2 MB/s eta 0:00:01\r\u001b[K     |██████████████████████████▎     | 1.2 MB 5.2 MB/s eta 0:00:01\r\u001b[K     |██████████████████████████▌     | 1.2 MB 5.2 MB/s eta 0:00:01\r\u001b[K     |██████████████████████████▊     | 1.2 MB 5.2 MB/s eta 0:00:01\r\u001b[K     |███████████████████████████     | 1.2 MB 5.2 MB/s eta 0:00:01\r\u001b[K     |███████████████████████████▏    | 1.2 MB 5.2 MB/s eta 0:00:01\r\u001b[K     |███████████████████████████▍    | 1.2 MB 5.2 MB/s eta 0:00:01\r\u001b[K     |███████████████████████████▋    | 1.3 MB 5.2 MB/s eta 0:00:01\r\u001b[K     |███████████████████████████▉    | 1.3 MB 5.2 MB/s eta 0:00:01\r\u001b[K     |████████████████████████████    | 1.3 MB 5.2 MB/s eta 0:00:01\r\u001b[K     |████████████████████████████▎   | 1.3 MB 5.2 MB/s eta 0:00:01\r\u001b[K     |████████████████████████████▌   | 1.3 MB 5.2 MB/s eta 0:00:01\r\u001b[K     |████████████████████████████▊   | 1.3 MB 5.2 MB/s eta 0:00:01\r\u001b[K     |█████████████████████████████   | 1.3 MB 5.2 MB/s eta 0:00:01\r\u001b[K     |█████████████████████████████▏  | 1.3 MB 5.2 MB/s eta 0:00:01\r\u001b[K     |█████████████████████████████▍  | 1.3 MB 5.2 MB/s eta 0:00:01\r\u001b[K     |█████████████████████████████▋  | 1.4 MB 5.2 MB/s eta 0:00:01\r\u001b[K     |█████████████████████████████▉  | 1.4 MB 5.2 MB/s eta 0:00:01\r\u001b[K     |██████████████████████████████  | 1.4 MB 5.2 MB/s eta 0:00:01\r\u001b[K     |██████████████████████████████▎ | 1.4 MB 5.2 MB/s eta 0:00:01\r\u001b[K     |██████████████████████████████▌ | 1.4 MB 5.2 MB/s eta 0:00:01\r\u001b[K     |██████████████████████████████▊ | 1.4 MB 5.2 MB/s eta 0:00:01\r\u001b[K     |███████████████████████████████ | 1.4 MB 5.2 MB/s eta 0:00:01\r\u001b[K     |███████████████████████████████▏| 1.4 MB 5.2 MB/s eta 0:00:01\r\u001b[K     |███████████████████████████████▍| 1.4 MB 5.2 MB/s eta 0:00:01\r\u001b[K     |███████████████████████████████▊| 1.4 MB 5.2 MB/s eta 0:00:01\r\u001b[K     |████████████████████████████████| 1.5 MB 5.2 MB/s eta 0:00:01\r\u001b[K     |████████████████████████████████| 1.5 MB 5.2 MB/s \n",
            "\u001b[?25hRequirement already satisfied: numpy>=1.7 in /usr/local/lib/python3.7/dist-packages (from bcolz) (1.19.5)\n",
            "Building wheels for collected packages: bcolz\n",
            "  Building wheel for bcolz (setup.py) ... \u001b[?25l\u001b[?25hdone\n",
            "  Created wheel for bcolz: filename=bcolz-1.2.1-cp37-cp37m-linux_x86_64.whl size=2648827 sha256=9d13b0a4c0808d29431fe17b7dcbf7dc30ce09f7ded4d2952ec7a9e649c77156\n",
            "  Stored in directory: /root/.cache/pip/wheels/2c/35/ca/9d914de345914e2446ea285170329f771b8abba2a00f7650bd\n",
            "Successfully built bcolz\n",
            "Installing collected packages: bcolz\n",
            "Successfully installed bcolz-1.2.1\n"
          ]
        }
      ]
    },
    {
      "cell_type": "code",
      "source": [
        "from google.colab import drive\n",
        "drive.mount('/content/drive')"
      ],
      "metadata": {
        "colab": {
          "base_uri": "https://localhost:8080/"
        },
        "id": "1taSNtSQZ700",
        "outputId": "7de39122-0489-428c-8927-3e4c54a70489"
      },
      "execution_count": 65,
      "outputs": [
        {
          "output_type": "stream",
          "name": "stdout",
          "text": [
            "Mounted at /content/drive\n"
          ]
        }
      ]
    },
    {
      "cell_type": "code",
      "source": [
        "%cd /content/drive/MyDrive/numpy/cifar-10-batches-py"
      ],
      "metadata": {
        "colab": {
          "base_uri": "https://localhost:8080/"
        },
        "id": "D2Y1vKEoZ8HP",
        "outputId": "5188a0ef-51b4-493a-e294-ffc7570ef48a"
      },
      "execution_count": 121,
      "outputs": [
        {
          "output_type": "stream",
          "name": "stdout",
          "text": [
            "/content/drive/MyDrive/numpy/cifar-10-batches-py\n"
          ]
        }
      ]
    },
    {
      "cell_type": "code",
      "execution_count": 122,
      "metadata": {
        "id": "QDkJKVEqDMKv"
      },
      "outputs": [],
      "source": [
        "import numpy as np"
      ]
    },
    {
      "cell_type": "code",
      "source": [
        "!python --version"
      ],
      "metadata": {
        "colab": {
          "base_uri": "https://localhost:8080/"
        },
        "id": "94YZ6UBKDUfH",
        "outputId": "0f1380dc-52c9-4770-c147-428675479df1"
      },
      "execution_count": 123,
      "outputs": [
        {
          "output_type": "stream",
          "name": "stdout",
          "text": [
            "Python 3.7.12\n"
          ]
        }
      ]
    },
    {
      "cell_type": "code",
      "source": [
        "print(np.__version__)"
      ],
      "metadata": {
        "colab": {
          "base_uri": "https://localhost:8080/"
        },
        "id": "uwOslV5AEF64",
        "outputId": "9d0c0f9f-64b1-446c-bb11-180af4298989"
      },
      "execution_count": 124,
      "outputs": [
        {
          "output_type": "stream",
          "name": "stdout",
          "text": [
            "1.19.5\n"
          ]
        }
      ]
    },
    {
      "cell_type": "code",
      "source": [
        "#dir(np)"
      ],
      "metadata": {
        "id": "0l0F2tBbEVtS"
      },
      "execution_count": 125,
      "outputs": []
    },
    {
      "cell_type": "code",
      "source": [
        "#help(np.where)"
      ],
      "metadata": {
        "id": "SsIM_iu0FxhU"
      },
      "execution_count": 126,
      "outputs": []
    },
    {
      "cell_type": "code",
      "source": [
        "#np.where?"
      ],
      "metadata": {
        "id": "YzYap0JGGBgI"
      },
      "execution_count": 127,
      "outputs": []
    },
    {
      "cell_type": "code",
      "source": [
        "x = np.array([[1,2,3], [4,5,6], [7,8,9]])"
      ],
      "metadata": {
        "id": "gj2yf4hFGsSq"
      },
      "execution_count": 128,
      "outputs": []
    },
    {
      "cell_type": "code",
      "source": [
        "print(x)"
      ],
      "metadata": {
        "colab": {
          "base_uri": "https://localhost:8080/"
        },
        "id": "Vuhb0DHaHRkp",
        "outputId": "fed1e005-f36c-40a5-d7c9-4217eb2de94c"
      },
      "execution_count": 129,
      "outputs": [
        {
          "output_type": "stream",
          "name": "stdout",
          "text": [
            "[[1 2 3]\n",
            " [4 5 6]\n",
            " [7 8 9]]\n"
          ]
        }
      ]
    },
    {
      "cell_type": "code",
      "source": [
        "print(np.where(x>5, x, 0))"
      ],
      "metadata": {
        "colab": {
          "base_uri": "https://localhost:8080/"
        },
        "id": "FXNyLi_fHeah",
        "outputId": "948f5479-8114-478f-e69f-339b2b272ab3"
      },
      "execution_count": 130,
      "outputs": [
        {
          "output_type": "stream",
          "name": "stdout",
          "text": [
            "[[0 0 0]\n",
            " [0 0 6]\n",
            " [7 8 9]]\n"
          ]
        }
      ]
    },
    {
      "cell_type": "code",
      "source": [
        "print(np.array([1,2,3]))"
      ],
      "metadata": {
        "colab": {
          "base_uri": "https://localhost:8080/"
        },
        "id": "HlZc1uCbJIVY",
        "outputId": "b4cbf563-b27e-45d1-aeff-ccb3e2e2e239"
      },
      "execution_count": 131,
      "outputs": [
        {
          "output_type": "stream",
          "name": "stdout",
          "text": [
            "[1 2 3]\n"
          ]
        }
      ]
    },
    {
      "cell_type": "code",
      "source": [
        "print(type)"
      ],
      "metadata": {
        "colab": {
          "base_uri": "https://localhost:8080/"
        },
        "id": "VWPQGnpfJQXT",
        "outputId": "098cd13e-3d1c-4942-9b94-e28d229d0269"
      },
      "execution_count": 132,
      "outputs": [
        {
          "output_type": "stream",
          "name": "stdout",
          "text": [
            "<class 'type'>\n"
          ]
        }
      ]
    },
    {
      "cell_type": "code",
      "source": [
        "print(type(x))"
      ],
      "metadata": {
        "colab": {
          "base_uri": "https://localhost:8080/"
        },
        "id": "LrgyS5xyJmKJ",
        "outputId": "007d23b4-23d7-4291-9032-ee6d17ea7019"
      },
      "execution_count": 133,
      "outputs": [
        {
          "output_type": "stream",
          "name": "stdout",
          "text": [
            "<class 'numpy.ndarray'>\n"
          ]
        }
      ]
    },
    {
      "cell_type": "code",
      "source": [
        "A = np.array([[1,2,3], [4,5,6]])"
      ],
      "metadata": {
        "id": "wi_f_Z2lJqPg"
      },
      "execution_count": 134,
      "outputs": []
    },
    {
      "cell_type": "code",
      "source": [
        "print(A)"
      ],
      "metadata": {
        "colab": {
          "base_uri": "https://localhost:8080/"
        },
        "id": "Dv3jI8tuJ4GV",
        "outputId": "486ed480-7e27-4dfe-d78e-ed4056c48b53"
      },
      "execution_count": 135,
      "outputs": [
        {
          "output_type": "stream",
          "name": "stdout",
          "text": [
            "[[1 2 3]\n",
            " [4 5 6]]\n"
          ]
        }
      ]
    },
    {
      "cell_type": "code",
      "source": [
        "print(type(A))"
      ],
      "metadata": {
        "colab": {
          "base_uri": "https://localhost:8080/"
        },
        "id": "tqTzDSY9J88c",
        "outputId": "8e31de84-dbf9-4984-a65c-35f04aebf9af"
      },
      "execution_count": 136,
      "outputs": [
        {
          "output_type": "stream",
          "name": "stdout",
          "text": [
            "<class 'numpy.ndarray'>\n"
          ]
        }
      ]
    },
    {
      "cell_type": "code",
      "source": [
        "print(A.shape)"
      ],
      "metadata": {
        "colab": {
          "base_uri": "https://localhost:8080/"
        },
        "id": "59nbp4_pKBW5",
        "outputId": "cf15f674-8c8b-4e19-a3cd-31d36e859ac9"
      },
      "execution_count": 137,
      "outputs": [
        {
          "output_type": "stream",
          "name": "stdout",
          "text": [
            "(2, 3)\n"
          ]
        }
      ]
    },
    {
      "cell_type": "code",
      "source": [
        "print(x.shape)"
      ],
      "metadata": {
        "colab": {
          "base_uri": "https://localhost:8080/"
        },
        "id": "wWgqe71TrukP",
        "outputId": "8cf96544-aa71-43a2-e987-44a5d3e1bc66"
      },
      "execution_count": 138,
      "outputs": [
        {
          "output_type": "stream",
          "name": "stdout",
          "text": [
            "(3, 3)\n"
          ]
        }
      ]
    },
    {
      "cell_type": "code",
      "source": [
        "print(x.shape[0])"
      ],
      "metadata": {
        "colab": {
          "base_uri": "https://localhost:8080/"
        },
        "id": "i2Uf5SdU2jJU",
        "outputId": "bce58d58-89c8-4f52-b13b-9e89c21c63eb"
      },
      "execution_count": 139,
      "outputs": [
        {
          "output_type": "stream",
          "name": "stdout",
          "text": [
            "3\n"
          ]
        }
      ]
    },
    {
      "cell_type": "code",
      "source": [
        " print(np.reshape(A, (3,2)))"
      ],
      "metadata": {
        "colab": {
          "base_uri": "https://localhost:8080/"
        },
        "id": "7YjLTxel3Gca",
        "outputId": "4f6c1ef5-09d6-4b48-ecbe-6a6b8b64ad40"
      },
      "execution_count": 140,
      "outputs": [
        {
          "output_type": "stream",
          "name": "stdout",
          "text": [
            "[[1 2]\n",
            " [3 4]\n",
            " [5 6]]\n"
          ]
        }
      ]
    },
    {
      "cell_type": "markdown",
      "source": [
        "## **Reshape a matrix from column to row vector**"
      ],
      "metadata": {
        "id": "yOo5igK_5OHz"
      }
    },
    {
      "cell_type": "code",
      "source": [
        "print(np.reshape(A,(1, -1)))"
      ],
      "metadata": {
        "colab": {
          "base_uri": "https://localhost:8080/"
        },
        "id": "oLH_6uU25WLo",
        "outputId": "44828907-ccba-4632-d867-8a1761c71e20"
      },
      "execution_count": 141,
      "outputs": [
        {
          "output_type": "stream",
          "name": "stdout",
          "text": [
            "[[1 2 3 4 5 6]]\n"
          ]
        }
      ]
    },
    {
      "cell_type": "code",
      "source": [
        "print(np.reshape(A, (-1, 1)))"
      ],
      "metadata": {
        "colab": {
          "base_uri": "https://localhost:8080/"
        },
        "id": "GZZkLB-q5uDP",
        "outputId": "97c45b15-79ab-41c4-c9eb-5187988bbc98"
      },
      "execution_count": 142,
      "outputs": [
        {
          "output_type": "stream",
          "name": "stdout",
          "text": [
            "[[1]\n",
            " [2]\n",
            " [3]\n",
            " [4]\n",
            " [5]\n",
            " [6]]\n"
          ]
        }
      ]
    },
    {
      "cell_type": "code",
      "source": [
        " print(x)"
      ],
      "metadata": {
        "colab": {
          "base_uri": "https://localhost:8080/"
        },
        "id": "ZKgHvqMB53GO",
        "outputId": "4e14d989-2e18-4fed-cf2e-2559c7ee9f9b"
      },
      "execution_count": 143,
      "outputs": [
        {
          "output_type": "stream",
          "name": "stdout",
          "text": [
            "[[1 2 3]\n",
            " [4 5 6]\n",
            " [7 8 9]]\n"
          ]
        }
      ]
    },
    {
      "cell_type": "markdown",
      "source": [
        "# Reshape to two-dimenssion"
      ],
      "metadata": {
        "id": "vRup4RBAi4em"
      }
    },
    {
      "cell_type": "code",
      "source": [
        "y = np.array([1,2,3])"
      ],
      "metadata": {
        "id": "-HppUEZRisxN"
      },
      "execution_count": 144,
      "outputs": []
    },
    {
      "cell_type": "code",
      "source": [
        "print(y[ None, :])"
      ],
      "metadata": {
        "colab": {
          "base_uri": "https://localhost:8080/"
        },
        "id": "8tD6nK-SjIj3",
        "outputId": "e8879b7e-0167-44f4-9127-4c41ff7e75fc"
      },
      "execution_count": 145,
      "outputs": [
        {
          "output_type": "stream",
          "name": "stdout",
          "text": [
            "[[1 2 3]]\n"
          ]
        }
      ]
    },
    {
      "cell_type": "code",
      "source": [
        "print(y[:, None])"
      ],
      "metadata": {
        "colab": {
          "base_uri": "https://localhost:8080/"
        },
        "id": "vf5cw91GjQ2t",
        "outputId": "58839aec-abd8-4924-a91c-769d2e43abe1"
      },
      "execution_count": 146,
      "outputs": [
        {
          "output_type": "stream",
          "name": "stdout",
          "text": [
            "[[1]\n",
            " [2]\n",
            " [3]]\n"
          ]
        }
      ]
    },
    {
      "cell_type": "code",
      "source": [
        "print(y[:, np.newaxis])"
      ],
      "metadata": {
        "colab": {
          "base_uri": "https://localhost:8080/"
        },
        "id": "7cq-vnyOjsq-",
        "outputId": "1f8445c9-0d4c-44b9-af5e-862650d370ed"
      },
      "execution_count": 147,
      "outputs": [
        {
          "output_type": "stream",
          "name": "stdout",
          "text": [
            "[[1]\n",
            " [2]\n",
            " [3]]\n"
          ]
        }
      ]
    },
    {
      "cell_type": "markdown",
      "source": [
        "# Array dimenssion"
      ],
      "metadata": {
        "id": "K07fxIhqkcSA"
      }
    },
    {
      "cell_type": "code",
      "source": [
        "print(x.ndim)"
      ],
      "metadata": {
        "colab": {
          "base_uri": "https://localhost:8080/"
        },
        "id": "Glr80SJLkfk5",
        "outputId": "3ebc410c-eb43-4c09-c60e-d5b608c5cb17"
      },
      "execution_count": 148,
      "outputs": [
        {
          "output_type": "stream",
          "name": "stdout",
          "text": [
            "2\n"
          ]
        }
      ]
    },
    {
      "cell_type": "code",
      "source": [
        "print(y.ndim)"
      ],
      "metadata": {
        "colab": {
          "base_uri": "https://localhost:8080/"
        },
        "id": "WSneNIg9ki_A",
        "outputId": "f299597d-8b1c-46c9-f75a-6caa69abe682"
      },
      "execution_count": 149,
      "outputs": [
        {
          "output_type": "stream",
          "name": "stdout",
          "text": [
            "1\n"
          ]
        }
      ]
    },
    {
      "cell_type": "markdown",
      "source": [
        "# Data type"
      ],
      "metadata": {
        "id": "atlyWGRuk3kQ"
      }
    },
    {
      "cell_type": "code",
      "source": [
        "print(x.dtype)"
      ],
      "metadata": {
        "colab": {
          "base_uri": "https://localhost:8080/"
        },
        "id": "kXKF7jKJlAW-",
        "outputId": "3cdf253d-39d8-4806-a8dd-7b4a47934051"
      },
      "execution_count": 150,
      "outputs": [
        {
          "output_type": "stream",
          "name": "stdout",
          "text": [
            "int64\n"
          ]
        }
      ]
    },
    {
      "cell_type": "code",
      "source": [
        "c= np.array([1,2,3], dtype=np.float32)"
      ],
      "metadata": {
        "id": "2206-0lulZp7"
      },
      "execution_count": 151,
      "outputs": []
    },
    {
      "cell_type": "code",
      "source": [
        "print(c)"
      ],
      "metadata": {
        "colab": {
          "base_uri": "https://localhost:8080/"
        },
        "id": "97UiRVWSmlCM",
        "outputId": "19dca6d1-efc3-40c2-8c0b-e5288aa69052"
      },
      "execution_count": 152,
      "outputs": [
        {
          "output_type": "stream",
          "name": "stdout",
          "text": [
            "[1 2 3]\n"
          ]
        }
      ]
    },
    {
      "cell_type": "code",
      "source": [
        "print(np.arange(1, 20, step=2))"
      ],
      "metadata": {
        "colab": {
          "base_uri": "https://localhost:8080/"
        },
        "id": "XPmmpbp6mnTV",
        "outputId": "95b4ae24-2cfa-40fd-a1bf-84b2ced00132"
      },
      "execution_count": 153,
      "outputs": [
        {
          "output_type": "stream",
          "name": "stdout",
          "text": [
            "[1 3 5 7 9 11 13 15 17 19]\n"
          ]
        }
      ]
    },
    {
      "cell_type": "code",
      "source": [
        "#np.arange?"
      ],
      "metadata": {
        "id": "GzBJ2Xx0d7aV"
      },
      "execution_count": 154,
      "outputs": []
    },
    {
      "cell_type": "code",
      "source": [
        "print(np.linspace(1,2, num=5))"
      ],
      "metadata": {
        "colab": {
          "base_uri": "https://localhost:8080/"
        },
        "id": "cvDzrEqMfDVq",
        "outputId": "c547c399-e6e3-472a-aa73-335471156ad4"
      },
      "execution_count": 155,
      "outputs": [
        {
          "output_type": "stream",
          "name": "stdout",
          "text": [
            "[1 1 1 1 2]\n"
          ]
        }
      ]
    },
    {
      "cell_type": "code",
      "source": [
        "print(np.logspace(2, 5, 10, base=2))"
      ],
      "metadata": {
        "colab": {
          "base_uri": "https://localhost:8080/"
        },
        "id": "HS1bmu76fd5Q",
        "outputId": "55d1aaa0-5e67-49ea-cb39-1e5273f63a69"
      },
      "execution_count": 156,
      "outputs": [
        {
          "output_type": "stream",
          "name": "stdout",
          "text": [
            "[4 5 6 8 10 12 16 20 25 32]\n"
          ]
        }
      ]
    },
    {
      "cell_type": "code",
      "source": [
        "np.set_printoptions(formatter={'all':lambda x: '%d' %x})"
      ],
      "metadata": {
        "id": "yoNK59tOfsqr"
      },
      "execution_count": 157,
      "outputs": []
    },
    {
      "cell_type": "code",
      "source": [
        "print(np.logspace(2, 5, 10, base=2))"
      ],
      "metadata": {
        "colab": {
          "base_uri": "https://localhost:8080/"
        },
        "id": "mhENiX6tg26Z",
        "outputId": "5bb77d32-2ae2-4622-cb3a-0ba8a0c44b81"
      },
      "execution_count": 158,
      "outputs": [
        {
          "output_type": "stream",
          "name": "stdout",
          "text": [
            "[4 5 6 8 10 12 16 20 25 32]\n"
          ]
        }
      ]
    },
    {
      "cell_type": "markdown",
      "source": [
        "# Creating specific arrays"
      ],
      "metadata": {
        "id": "l2ILAlzZimKI"
      }
    },
    {
      "cell_type": "code",
      "source": [
        "print(np.zeros(shape=(2,3), dtype=np.int32))"
      ],
      "metadata": {
        "colab": {
          "base_uri": "https://localhost:8080/"
        },
        "id": "HDRWf0bdirws",
        "outputId": "02befe6d-a420-4816-9900-9a27bd66fa26"
      },
      "execution_count": 159,
      "outputs": [
        {
          "output_type": "stream",
          "name": "stdout",
          "text": [
            "[[0 0 0]\n",
            " [0 0 0]]\n"
          ]
        }
      ]
    },
    {
      "cell_type": "code",
      "source": [
        "print(5 * np.ones(shape=(2,3)))"
      ],
      "metadata": {
        "colab": {
          "base_uri": "https://localhost:8080/"
        },
        "id": "udcs_8tgi6RL",
        "outputId": "cc90cdc8-7ba6-4271-8a6c-0859540d4dbc"
      },
      "execution_count": 160,
      "outputs": [
        {
          "output_type": "stream",
          "name": "stdout",
          "text": [
            "[[5 5 5]\n",
            " [5 5 5]]\n"
          ]
        }
      ]
    },
    {
      "cell_type": "code",
      "source": [
        "print(np.reshape(np.arange(1, 10), (3,3)))"
      ],
      "metadata": {
        "colab": {
          "base_uri": "https://localhost:8080/"
        },
        "id": "b2MxQU3nko14",
        "outputId": "d094dcc6-8de5-4a56-c854-1e3a484b1291"
      },
      "execution_count": 161,
      "outputs": [
        {
          "output_type": "stream",
          "name": "stdout",
          "text": [
            "[[1 2 3]\n",
            " [4 5 6]\n",
            " [7 8 9]]\n"
          ]
        }
      ]
    },
    {
      "cell_type": "code",
      "source": [
        "print(np.fliplr(np.eye(4,4)))"
      ],
      "metadata": {
        "colab": {
          "base_uri": "https://localhost:8080/"
        },
        "id": "kxUVL0WXmK9A",
        "outputId": "d9de1b9a-8c0b-4756-f7c8-2b63b29b89c4"
      },
      "execution_count": 162,
      "outputs": [
        {
          "output_type": "stream",
          "name": "stdout",
          "text": [
            "[[0 0 0 1]\n",
            " [0 0 1 0]\n",
            " [0 1 0 0]\n",
            " [1 0 0 0]]\n"
          ]
        }
      ]
    },
    {
      "cell_type": "markdown",
      "source": [
        "# Create random arrays"
      ],
      "metadata": {
        "id": "pgC-QYzinWAn"
      }
    },
    {
      "cell_type": "code",
      "source": [
        "print(np.random.randn(3,3))"
      ],
      "metadata": {
        "colab": {
          "base_uri": "https://localhost:8080/"
        },
        "id": "d9fmaVDnnbbh",
        "outputId": "2496b59a-166b-4b68-be6a-96fdf45330f7"
      },
      "execution_count": 163,
      "outputs": [
        {
          "output_type": "stream",
          "name": "stdout",
          "text": [
            "[[0 0 0]\n",
            " [0 -1 0]\n",
            " [0 1 2]]\n"
          ]
        }
      ]
    },
    {
      "cell_type": "code",
      "source": [
        "%matplotlib inline\n",
        "import matplotlib.pyplot as plt"
      ],
      "metadata": {
        "id": "2vxJGQtiRUwf"
      },
      "execution_count": 164,
      "outputs": []
    },
    {
      "cell_type": "code",
      "source": [
        " x = np.random.randn(1000000)\n",
        " plt.hist(x, bins=50);"
      ],
      "metadata": {
        "colab": {
          "base_uri": "https://localhost:8080/",
          "height": 265
        },
        "id": "UxOFUvYeRgL7",
        "outputId": "72a089b7-4108-4340-8d67-c02cb219f655"
      },
      "execution_count": 165,
      "outputs": [
        {
          "output_type": "display_data",
          "data": {
            "image/png": "[encoded data removed]",
            "text/plain": [
              "<Figure size 432x288 with 1 Axes>"
            ]
          },
          "metadata": {
            "needs_background": "light"
          }
        }
      ]
    },
    {
      "cell_type": "code",
      "source": [
        "print(np.count_nonzero(np.random.randint(6, size=(2, 4))))"
      ],
      "metadata": {
        "colab": {
          "base_uri": "https://localhost:8080/"
        },
        "id": "dW6AvfymRuiP",
        "outputId": "d43f4368-3142-45f7-d4d5-af1a7ba94040"
      },
      "execution_count": 166,
      "outputs": [
        {
          "output_type": "stream",
          "name": "stdout",
          "text": [
            "7\n"
          ]
        }
      ]
    },
    {
      "cell_type": "code",
      "source": [
        "#help(np.abs)"
      ],
      "metadata": {
        "id": "ecWwDNIBSuiz"
      },
      "execution_count": 167,
      "outputs": []
    },
    {
      "cell_type": "code",
      "source": [
        "x = np.array([1,2,3])\n",
        "print(x)"
      ],
      "metadata": {
        "colab": {
          "base_uri": "https://localhost:8080/"
        },
        "id": "PfNv6PN3wT_n",
        "outputId": "dbc8ad4e-47d6-43e4-d80d-cf8846e6ac0b"
      },
      "execution_count": 168,
      "outputs": [
        {
          "output_type": "stream",
          "name": "stdout",
          "text": [
            "[1 2 3]\n"
          ]
        }
      ]
    },
    {
      "cell_type": "code",
      "source": [
        "print(x.shape)"
      ],
      "metadata": {
        "colab": {
          "base_uri": "https://localhost:8080/"
        },
        "id": "uxDRGknJtt8P",
        "outputId": "7583d2df-97f2-41db-dc0c-f780e99bc70c"
      },
      "execution_count": 169,
      "outputs": [
        {
          "output_type": "stream",
          "name": "stdout",
          "text": [
            "(3,)\n"
          ]
        }
      ]
    },
    {
      "cell_type": "code",
      "source": [
        "y = np.array([[1,2,3], [4,5,6]])\n",
        "print(y)"
      ],
      "metadata": {
        "colab": {
          "base_uri": "https://localhost:8080/"
        },
        "id": "ku5xqpxCuBLL",
        "outputId": "8f784f3f-5213-4753-8a66-2bd5a83e5919"
      },
      "execution_count": 170,
      "outputs": [
        {
          "output_type": "stream",
          "name": "stdout",
          "text": [
            "[[1 2 3]\n",
            " [4 5 6]]\n"
          ]
        }
      ]
    },
    {
      "cell_type": "code",
      "source": [
        "print(np.reshape(y, (1, -1)))"
      ],
      "metadata": {
        "colab": {
          "base_uri": "https://localhost:8080/"
        },
        "id": "kIxa0NnX8ag3",
        "outputId": "cd70ab2b-2de6-42f3-bebb-084ac89d742f"
      },
      "execution_count": 171,
      "outputs": [
        {
          "output_type": "stream",
          "name": "stdout",
          "text": [
            "[[1 2 3 4 5 6]]\n"
          ]
        }
      ]
    },
    {
      "cell_type": "code",
      "source": [
        "print(x.size)"
      ],
      "metadata": {
        "colab": {
          "base_uri": "https://localhost:8080/"
        },
        "id": "6lh4iZ4u4XBc",
        "outputId": "27cc724d-e68a-4f11-856e-399362b07b09"
      },
      "execution_count": 172,
      "outputs": [
        {
          "output_type": "stream",
          "name": "stdout",
          "text": [
            "3\n"
          ]
        }
      ]
    },
    {
      "cell_type": "code",
      "source": [
        "import keras\n",
        "import os"
      ],
      "metadata": {
        "id": "gCBXriZm8iAI"
      },
      "execution_count": 173,
      "outputs": []
    },
    {
      "cell_type": "code",
      "source": [
        "import os\n",
        "import pickle\n",
        "\n",
        "def load_cifar10_batch(filename):\n",
        "    \"\"\" Load a single batch from CIFAR10 \"\"\"\n",
        "    with open(filename, 'rb') as f:\n",
        "        datadict = pickle.load(f, encoding='bytes')\n",
        "        X = datadict[b'data']\n",
        "        Y = datadict[b'labels']\n",
        "        X = X.reshape(10000, 3, 32, 32).transpose(0, 2, 3, 1).astype('float')\n",
        "        Y = np.array(Y)\n",
        "        return X, Y\n",
        "    \n",
        "def load_cifar10(dir):\n",
        "    \"\"\" Load all batches of CIFAR10 \"\"\"\n",
        "    # load train batch file\n",
        "    xs = []\n",
        "    ys = []\n",
        "    \n",
        "    for i in range(1, 6):\n",
        "        filename = os.path.join(dir, 'data_batch_%d' % i)\n",
        "        X, Y = load_cifar10_batch(filename)\n",
        "        xs.append(X)\n",
        "        ys.append(Y)\n",
        "        \n",
        "    Xtr = np.concatenate(xs)\n",
        "    Ytr = np.concatenate(ys)\n",
        "    del X, Y\n",
        "    \n",
        "    # load test batch\n",
        "    Xte, Yte = load_cifar10_batch(os.path.join(dir, 'test_batch'))\n",
        "    return Xtr, Ytr, Xte, Yte"
      ],
      "metadata": {
        "id": "jYzRJtXGMOiY"
      },
      "execution_count": 174,
      "outputs": []
    },
    {
      "cell_type": "code",
      "source": [
        "X_train, y_train, X_test, y_test = load_cifar10('/content/drive/MyDrive/numpy/cifar-10-batches-py')"
      ],
      "metadata": {
        "id": "UXAXweatJzBc"
      },
      "execution_count": 176,
      "outputs": []
    },
    {
      "cell_type": "code",
      "source": [
        "print(X_train.shape)\n",
        "print(y_train.shape)"
      ],
      "metadata": {
        "colab": {
          "base_uri": "https://localhost:8080/"
        },
        "id": "QHV2u8ItLKf1",
        "outputId": "476a56db-8d0a-4eef-8274-2f250ee79b5d"
      },
      "execution_count": 177,
      "outputs": [
        {
          "output_type": "stream",
          "name": "stdout",
          "text": [
            "(50000, 32, 32, 3)\n",
            "(50000,)\n"
          ]
        }
      ]
    },
    {
      "cell_type": "code",
      "source": [
        "print(y_train[:10])"
      ],
      "metadata": {
        "colab": {
          "base_uri": "https://localhost:8080/"
        },
        "id": "5e1fdDz_bm3V",
        "outputId": "bf8c5c11-8576-4ef5-8a58-5268153f578a"
      },
      "execution_count": 180,
      "outputs": [
        {
          "output_type": "stream",
          "name": "stdout",
          "text": [
            "[6 9 9 4 1 1 2 7 8 3]\n"
          ]
        }
      ]
    },
    {
      "cell_type": "code",
      "source": [
        "plt.figure(figsize=(12, 2))\n",
        "\n",
        "for i in range(10):\n",
        "    plt.subplot(1, 10, i + 1)\n",
        "    plt.imshow(X_train[i].astype('uint8'), interpolation='spline16')\n",
        "    plt.title('%d' % y_train[i])\n",
        "    plt.axis('off')"
      ],
      "metadata": {
        "colab": {
          "base_uri": "https://localhost:8080/",
          "height": 104
        },
        "id": "fGbfEiD2bgzW",
        "outputId": "f133be50-528c-46eb-9c6c-88b55b545d16"
      },
      "execution_count": 178,
      "outputs": [
        {
          "output_type": "display_data",
          "data": {
            "image/png": "[encoded data removed]",
            "text/plain": [
              "<Figure size 864x144 with 10 Axes>"
            ]
          },
          "metadata": {
            "needs_background": "light"
          }
        }
      ]
    },
    {
      "cell_type": "code",
      "source": [
        "print(X_test.shape)\n",
        "print(y_test.shape)"
      ],
      "metadata": {
        "colab": {
          "base_uri": "https://localhost:8080/"
        },
        "id": "v2Mu4JJTc0gG",
        "outputId": "3479d83a-b672-4ffc-8735-6c32b1ffbb63"
      },
      "execution_count": 181,
      "outputs": [
        {
          "output_type": "stream",
          "name": "stdout",
          "text": [
            "(10000, 32, 32, 3)\n",
            "(10000,)\n"
          ]
        }
      ]
    },
    {
      "cell_type": "markdown",
      "source": [
        "# Visualize data"
      ],
      "metadata": {
        "id": "qh4Jwak1drQK"
      }
    },
    {
      "cell_type": "code",
      "source": [
        " class_names = ['airplane', 'automobile', 'bird', 'cat', 'deer', 'dog', 'frog', 'horse', 'ship', 'track'] "
      ],
      "metadata": {
        "id": "yhOTrpPOddLA"
      },
      "execution_count": 182,
      "outputs": []
    },
    {
      "cell_type": "code",
      "source": [
        ""
      ],
      "metadata": {
        "id": "jUlREjOPeAuQ"
      },
      "execution_count": null,
      "outputs": []
    }
  ]
}