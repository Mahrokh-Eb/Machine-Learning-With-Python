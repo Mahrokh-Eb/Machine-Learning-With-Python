{
 "cells": [
  {
   "cell_type": "markdown",
   "metadata": {},
   "source": [
    "# Objectives"
   ]
  },
  {
   "cell_type": "markdown",
   "metadata": {},
   "source": [
    "- A quick review of machine learning.\n",
    "- Introducing scikit learn package.\n",
    "- Representing and visualizing data in scikit learn.\n",
    "- Working with different datasets such as Iris, Digits, Faces datasets.\n",
    "- A Preview on machine learning using scikit learn."
   ]
  },
  {
   "cell_type": "markdown",
   "metadata": {},
   "source": [
    "## Supervised Learning: \n",
    "\n",
    "##### Classification and Regression  \n",
    "\n",
    "- **In classification, the label is discrete**, such as \"spam\" or \"no spam\". \n",
    "- **In regression, the label is continuous**, that is a float output. "
   ]
  },
  {
   "cell_type": "markdown",
   "metadata": {},
   "source": [
    "## Unsupervised Learning: \n",
    "\n",
    "##### Clustering, Dimensionality Reduction and Density Estimation"
   ]
  },
  {
   "cell_type": "markdown",
   "metadata": {},
   "source": [
    "# Data in scikit-learn\n",
    "\n",
    "- **n_samples:**   The number of samples: each sample is an item to process (e.g. classify).\n",
    " whatever you can describe with a fixed set of quantitative traits.\n",
    " \n",
    "- **n_features:**  The number of features or distinct traits that can be used to describe each\n",
    "  item in a quantitative manner.  Features are generally real-valued, but may be Boolean or\n",
    "  discrete-valued in some cases."
   ]
  },
  {
   "cell_type": "markdown",
   "metadata": {},
   "source": [
    "### A Simple Example: the Iris Dataset\n",
    "\n",
    "#### Loading the Iris Data with Scikit-learn\n",
    "\n",
    "- **Features** in the Iris dataset:\n",
    "\n",
    "  1. sepal length in cm\n",
    "  2. sepal width in cm\n",
    "  3. petal length in cm\n",
    "  4. petal width in cm\n",
    "\n",
    "\n",
    "- **Target classes** to predict:\n",
    "\n",
    "  1. Iris Setosa\n",
    "  2. Iris Versicolour\n",
    "  3. Iris Virginica"
   ]
  },
  {
   "cell_type": "code",
   "execution_count": 1,
   "metadata": {},
   "outputs": [],
   "source": [
    "import numpy as np"
   ]
  },
  {
   "cell_type": "code",
   "execution_count": 2,
   "metadata": {},
   "outputs": [],
   "source": [
    "from sklearn.datasets import load_iris\n",
    "iris = load_iris()"
   ]
  },
  {
   "cell_type": "code",
   "execution_count": 3,
   "metadata": {},
   "outputs": [
    {
     "name": "stdout",
     "output_type": "stream",
     "text": [
      "dict_keys(['data', 'target', 'target_names', 'DESCR', 'feature_names', 'filename'])\n"
     ]
    }
   ],
   "source": [
    "print(iris.keys())"
   ]
  },
  {
   "cell_type": "code",
   "execution_count": 4,
   "metadata": {},
   "outputs": [
    {
     "name": "stdout",
     "output_type": "stream",
     "text": [
      "[5.1 3.5 1.4 0.2]\n"
     ]
    }
   ],
   "source": [
    "print(iris.data[0])"
   ]
  },
  {
   "cell_type": "code",
   "execution_count": 5,
   "metadata": {},
   "outputs": [
    {
     "name": "stdout",
     "output_type": "stream",
     "text": [
      "[0 0 0 0 0 0 0 0 0 0 0 0 0 0 0 0 0 0 0 0 0 0 0 0 0 0 0 0 0 0 0 0 0 0 0 0 0\n",
      " 0 0 0 0 0 0 0 0 0 0 0 0 0 1 1 1 1 1 1 1 1 1 1 1 1 1 1 1 1 1 1 1 1 1 1 1 1\n",
      " 1 1 1 1 1 1 1 1 1 1 1 1 1 1 1 1 1 1 1 1 1 1 1 1 1 1 2 2 2 2 2 2 2 2 2 2 2\n",
      " 2 2 2 2 2 2 2 2 2 2 2 2 2 2 2 2 2 2 2 2 2 2 2 2 2 2 2 2 2 2 2 2 2 2 2 2 2\n",
      " 2 2]\n"
     ]
    }
   ],
   "source": [
    "print(iris.target)"
   ]
  },
  {
   "cell_type": "code",
   "execution_count": 6,
   "metadata": {},
   "outputs": [
    {
     "name": "stdout",
     "output_type": "stream",
     "text": [
      "['setosa' 'versicolor' 'virginica']\n"
     ]
    }
   ],
   "source": [
    "print(iris.target_names)"
   ]
  },
  {
   "cell_type": "code",
   "execution_count": 7,
   "metadata": {},
   "outputs": [
    {
     "name": "stdout",
     "output_type": "stream",
     "text": [
      "(150, 4)\n",
      "(150,)\n"
     ]
    }
   ],
   "source": [
    "print(iris.data.shape)\n",
    "print(iris.target.shape)"
   ]
  },
  {
   "cell_type": "code",
   "execution_count": 8,
   "metadata": {},
   "outputs": [
    {
     "name": "stdout",
     "output_type": "stream",
     "text": [
      "samles= 150\n",
      "features= 4\n"
     ]
    }
   ],
   "source": [
    "n_samples, n_features = iris.data.shape\n",
    "print('samles= %d' %n_samples)\n",
    "print('features= %d' %n_features)"
   ]
  },
  {
   "cell_type": "code",
   "execution_count": 9,
   "metadata": {},
   "outputs": [],
   "source": [
    "%matplotlib inline\n",
    "import matplotlib.pyplot as plt"
   ]
  },
  {
   "cell_type": "code",
   "execution_count": 10,
   "metadata": {},
   "outputs": [
    {
     "data": {
      "image/png": "[encoded data removed]",
      "text/plain": [
       "<Figure size 432x288 with 1 Axes>"
      ]
     },
     "metadata": {
      "needs_background": "light"
     },
     "output_type": "display_data"
    }
   ],
   "source": [
    "x_index = 3\n",
    "color = ['blue', 'red', 'green']\n",
    "for label, color in zip(range(len(iris.target_names)), color):\n",
    "        plt.hist(iris.data[iris.target==label, x_index], \n",
    "             label=iris.target_names[label],\n",
    "             color=color)\n",
    "plt.xlabel(iris.feature_names[x_index])\n",
    "plt.legend(loc='upper right');"
   ]
  },
  {
   "cell_type": "markdown",
   "metadata": {},
   "source": [
    "## Other Available Data"
   ]
  },
  {
   "cell_type": "markdown",
   "metadata": {},
   "source": [
    "    datasets.load_<TAB>\n",
    "\n",
    "or\n",
    "\n",
    "    datasets.fetch_<TAB>\n",
    "\n",
    "or\n",
    "\n",
    "    datasets.make_<TAB>"
   ]
  },
  {
   "cell_type": "code",
   "execution_count": 11,
   "metadata": {},
   "outputs": [],
   "source": [
    "from sklearn.datasets import load_digits\n",
    "digits = load_digits()"
   ]
  },
  {
   "cell_type": "code",
   "execution_count": 12,
   "metadata": {},
   "outputs": [
    {
     "name": "stdout",
     "output_type": "stream",
     "text": [
      "dict_keys(['data', 'target', 'target_names', 'images', 'DESCR'])\n"
     ]
    }
   ],
   "source": [
    "print(digits.keys())"
   ]
  },
  {
   "cell_type": "code",
   "execution_count": 13,
   "metadata": {},
   "outputs": [
    {
     "name": "stdout",
     "output_type": "stream",
     "text": [
      "(1797, 64)\n",
      "(1797,)\n"
     ]
    }
   ],
   "source": [
    "print(digits.data.shape)\n",
    "print(digits.target.shape)"
   ]
  },
  {
   "cell_type": "code",
   "execution_count": 14,
   "metadata": {},
   "outputs": [
    {
     "name": "stdout",
     "output_type": "stream",
     "text": [
      "n_samples= 1797\n",
      "n_features= 64\n"
     ]
    }
   ],
   "source": [
    "n_samples, n_features = digits.data.shape\n",
    "print('n_samples= %d' %n_samples)\n",
    "print('n_features= %d' %n_features)"
   ]
  },
  {
   "cell_type": "code",
   "execution_count": 15,
   "metadata": {},
   "outputs": [
    {
     "name": "stdout",
     "output_type": "stream",
     "text": [
      "image(shape)=  (1797, 8, 8)\n",
      "data(shape)=  (1797, 64)\n"
     ]
    }
   ],
   "source": [
    "print('image(shape)= ',digits.images.shape)\n",
    "print('data(shape)= ',digits.data.shape)"
   ]
  },
  {
   "cell_type": "code",
   "execution_count": 16,
   "metadata": {},
   "outputs": [
    {
     "name": "stdout",
     "output_type": "stream",
     "text": [
      "(1797, 64)\n"
     ]
    }
   ],
   "source": [
    "x = digits.images.reshape((1797, 64))\n",
    "print(x.shape)"
   ]
  },
  {
   "cell_type": "markdown",
   "metadata": {},
   "source": [
    "## Olivetti faces dataset"
   ]
  },
  {
   "cell_type": "code",
   "execution_count": 17,
   "metadata": {},
   "outputs": [],
   "source": [
    "from sklearn.datasets import fetch_olivetti_faces\n",
    "faces = fetch_olivetti_faces()"
   ]
  },
  {
   "cell_type": "code",
   "execution_count": 18,
   "metadata": {},
   "outputs": [
    {
     "name": "stdout",
     "output_type": "stream",
     "text": [
      "dict_keys(['data', 'images', 'target', 'DESCR'])\n"
     ]
    }
   ],
   "source": [
    "print(faces.keys())"
   ]
  },
  {
   "cell_type": "code",
   "execution_count": 19,
   "metadata": {},
   "outputs": [
    {
     "name": "stdout",
     "output_type": "stream",
     "text": [
      "(400, 4096)\n"
     ]
    }
   ],
   "source": [
    "print(faces.data.shape)"
   ]
  },
  {
   "cell_type": "code",
   "execution_count": 20,
   "metadata": {},
   "outputs": [
    {
     "name": "stdout",
     "output_type": "stream",
     "text": [
      "(400,)\n"
     ]
    }
   ],
   "source": [
    "print(faces.target.shape)"
   ]
  },
  {
   "cell_type": "code",
   "execution_count": 21,
   "metadata": {},
   "outputs": [
    {
     "name": "stdout",
     "output_type": "stream",
     "text": [
      "n_samples= 400\n",
      "n_features= 4096\n"
     ]
    }
   ],
   "source": [
    "n_samples, n_features = faces.data.shape\n",
    "print('n_samples= %d' %n_samples)\n",
    "print('n_features= %d' %n_features)"
   ]
  },
  {
   "cell_type": "markdown",
   "metadata": {},
   "source": [
    "## Classifying faces"
   ]
  },
  {
   "cell_type": "code",
   "execution_count": 22,
   "metadata": {},
   "outputs": [],
   "source": [
    "x, y = faces.data, faces.target"
   ]
  },
  {
   "cell_type": "markdown",
   "metadata": {},
   "source": [
    "### STEP 1: Import and create the estimator\n"
   ]
  },
  {
   "cell_type": "code",
   "execution_count": 23,
   "metadata": {},
   "outputs": [],
   "source": [
    "from sklearn.neural_network import MLPClassifier\n",
    "clf = MLPClassifier()"
   ]
  },
  {
   "cell_type": "markdown",
   "metadata": {},
   "source": [
    "### STEP 2: Train on the dataset (`fit`)"
   ]
  },
  {
   "cell_type": "code",
   "execution_count": 24,
   "metadata": {},
   "outputs": [
    {
     "name": "stderr",
     "output_type": "stream",
     "text": [
      "/Users/mahrokh/opt/anaconda3/lib/python3.7/site-packages/sklearn/neural_network/multilayer_perceptron.py:566: ConvergenceWarning: Stochastic Optimizer: Maximum iterations (200) reached and the optimization hasn't converged yet.\n",
      "  % self.max_iter, ConvergenceWarning)\n"
     ]
    },
    {
     "data": {
      "text/plain": [
       "MLPClassifier(activation='relu', alpha=0.0001, batch_size='auto', beta_1=0.9,\n",
       "              beta_2=0.999, early_stopping=False, epsilon=1e-08,\n",
       "              hidden_layer_sizes=(100,), learning_rate='constant',\n",
       "              learning_rate_init=0.001, max_iter=200, momentum=0.9,\n",
       "              n_iter_no_change=10, nesterovs_momentum=True, power_t=0.5,\n",
       "              random_state=None, shuffle=True, solver='adam', tol=0.0001,\n",
       "              validation_fraction=0.1, verbose=False, warm_start=False)"
      ]
     },
     "execution_count": 24,
     "metadata": {},
     "output_type": "execute_result"
    }
   ],
   "source": [
    "clf.fit(x, y)"
   ]
  },
  {
   "cell_type": "markdown",
   "metadata": {},
   "source": [
    "### STEP 3: Predict for new data"
   ]
  },
  {
   "cell_type": "code",
   "execution_count": 25,
   "metadata": {},
   "outputs": [],
   "source": [
    "y_pred = clf.predict(x)"
   ]
  },
  {
   "cell_type": "markdown",
   "metadata": {},
   "source": [
    "### STEP 4: Evaluate (here, the accuracy)"
   ]
  },
  {
   "cell_type": "code",
   "execution_count": 26,
   "metadata": {},
   "outputs": [
    {
     "name": "stdout",
     "output_type": "stream",
     "text": [
      "accuracy=  0.895\n"
     ]
    }
   ],
   "source": [
    "accuracy = np.mean(y_pred==y)\n",
    "print('accuracy= ', accuracy)"
   ]
  },
  {
   "cell_type": "markdown",
   "metadata": {},
   "source": [
    "### Split to Train and Test Data\n",
    "j4-start (razavi)"
   ]
  },
  {
   "cell_type": "code",
   "execution_count": 27,
   "metadata": {},
   "outputs": [],
   "source": [
    "from sklearn.model_selection import train_test_split"
   ]
  },
  {
   "cell_type": "code",
   "execution_count": 28,
   "metadata": {},
   "outputs": [],
   "source": [
    "X_train, X_test, y_train, y_test = train_test_split(x, y, test_size= .5, random_state= 123)"
   ]
  },
  {
   "cell_type": "code",
   "execution_count": 29,
   "metadata": {},
   "outputs": [
    {
     "name": "stdout",
     "output_type": "stream",
     "text": [
      "200\n",
      "200\n",
      "(200, 4096)\n",
      "(200, 4096)\n"
     ]
    }
   ],
   "source": [
    "print(X_train.shape[0])\n",
    "print(X_test.shape[0])\n",
    "\n",
    "print(X_train.shape) #200 radif dade dare ke har dade, 4096 ta features (Column) dare.\n",
    "print(X_test.shape)\n"
   ]
  },
  {
   "cell_type": "code",
   "execution_count": 30,
   "metadata": {},
   "outputs": [
    {
     "name": "stdout",
     "output_type": "stream",
     "text": [
      " X_train= (200, 4096) \n",
      " X_test= (200, 4096) \n",
      " y_train= (200,) \n",
      " y_test= (200,)\n"
     ]
    }
   ],
   "source": [
    "print(' X_train=',X_train.shape,'\\n','X_test=',X_test.shape,'\\n','y_train=',y_train.shape,'\\n','y_test=',y_test.shape)"
   ]
  },
  {
   "cell_type": "markdown",
   "metadata": {},
   "source": []
  },
  {
   "cell_type": "code",
   "execution_count": 31,
   "metadata": {},
   "outputs": [
    {
     "name": "stdout",
     "output_type": "stream",
     "text": [
      "Iteration 1, loss = 3.79335948\n",
      "Iteration 2, loss = 3.83995036\n",
      "Iteration 3, loss = 3.80019492\n",
      "Iteration 4, loss = 3.70007298\n",
      "Iteration 5, loss = 3.64134861\n",
      "Iteration 6, loss = 3.56055521\n",
      "Iteration 7, loss = 3.53780469\n",
      "Iteration 8, loss = 3.50329632\n",
      "Iteration 9, loss = 3.47000065\n",
      "Iteration 10, loss = 3.43087122\n",
      "Iteration 11, loss = 3.39989477\n",
      "Iteration 12, loss = 3.35534241\n",
      "Iteration 13, loss = 3.31398652\n",
      "Iteration 14, loss = 3.26954923\n",
      "Iteration 15, loss = 3.23010196\n",
      "Iteration 16, loss = 3.18200120\n",
      "Iteration 17, loss = 3.13931728\n",
      "Iteration 18, loss = 3.09092894\n",
      "Iteration 19, loss = 3.04145962\n",
      "Iteration 20, loss = 2.99437226\n",
      "Iteration 21, loss = 2.93992162\n",
      "Iteration 22, loss = 2.88705059\n",
      "Iteration 23, loss = 2.83541161\n",
      "Iteration 24, loss = 2.77869875\n",
      "Iteration 25, loss = 2.72039099\n",
      "Iteration 26, loss = 2.66108825\n",
      "Iteration 27, loss = 2.60055212\n",
      "Iteration 28, loss = 2.54087766\n",
      "Iteration 29, loss = 2.47719634\n",
      "Iteration 30, loss = 2.41576782\n",
      "Iteration 31, loss = 2.35336687\n",
      "Iteration 32, loss = 2.28655531\n",
      "Iteration 33, loss = 2.22192117\n",
      "Iteration 34, loss = 2.15599899\n",
      "Iteration 35, loss = 2.08881471\n",
      "Iteration 36, loss = 2.02237059\n",
      "Iteration 37, loss = 1.95457607\n",
      "Iteration 38, loss = 1.88654821\n",
      "Iteration 39, loss = 1.82140587\n",
      "Iteration 40, loss = 1.75577985\n",
      "Iteration 41, loss = 1.68943378\n",
      "Iteration 42, loss = 1.62692339\n",
      "Iteration 43, loss = 1.56491630\n",
      "Iteration 44, loss = 1.50306619\n",
      "Iteration 45, loss = 1.44326026\n",
      "Iteration 46, loss = 1.38432491\n",
      "Iteration 47, loss = 1.32754018\n",
      "Iteration 48, loss = 1.27135278\n",
      "Iteration 49, loss = 1.21746767\n",
      "Iteration 50, loss = 1.16499557\n",
      "Iteration 51, loss = 1.11348980\n",
      "Iteration 52, loss = 1.06356150\n",
      "Iteration 53, loss = 1.01373340\n",
      "Iteration 54, loss = 0.96603913\n",
      "Iteration 55, loss = 0.91985151\n",
      "Iteration 56, loss = 0.87553914\n",
      "Iteration 57, loss = 0.83350792\n",
      "Iteration 58, loss = 0.79340045\n",
      "Iteration 59, loss = 0.75499751\n",
      "Iteration 60, loss = 0.71841204\n",
      "Iteration 61, loss = 0.68275036\n",
      "Iteration 62, loss = 0.64867740\n",
      "Iteration 63, loss = 0.61605387\n",
      "Iteration 64, loss = 0.58448423\n",
      "Iteration 65, loss = 0.55482138\n",
      "Iteration 66, loss = 0.52594054\n",
      "Iteration 67, loss = 0.49880397\n",
      "Iteration 68, loss = 0.47291554\n",
      "Iteration 69, loss = 0.44813628\n",
      "Iteration 70, loss = 0.42493704\n",
      "Iteration 71, loss = 0.40217190\n",
      "Iteration 72, loss = 0.38125841\n",
      "Iteration 73, loss = 0.36106516\n",
      "Iteration 74, loss = 0.34207490\n",
      "Iteration 75, loss = 0.32644751\n",
      "Iteration 76, loss = 0.31066643\n",
      "Iteration 77, loss = 0.29145711\n",
      "Iteration 78, loss = 0.27785445\n",
      "Iteration 79, loss = 0.26285204\n",
      "Iteration 80, loss = 0.24921808\n",
      "Iteration 81, loss = 0.23680470\n",
      "Iteration 82, loss = 0.22456279\n",
      "Iteration 83, loss = 0.21335151\n",
      "Iteration 84, loss = 0.20277378\n",
      "Iteration 85, loss = 0.19285805\n",
      "Iteration 86, loss = 0.18348740\n",
      "Iteration 87, loss = 0.17452259\n",
      "Iteration 88, loss = 0.16651539\n",
      "Iteration 89, loss = 0.15834522\n",
      "Iteration 90, loss = 0.15133735\n",
      "Iteration 91, loss = 0.14425742\n",
      "Iteration 92, loss = 0.13779028\n",
      "Iteration 93, loss = 0.13182110\n",
      "Iteration 94, loss = 0.12593471\n",
      "Iteration 95, loss = 0.12063359\n",
      "Iteration 96, loss = 0.11554481\n",
      "Iteration 97, loss = 0.11072290\n",
      "Iteration 98, loss = 0.10629033\n",
      "Iteration 99, loss = 0.10203278\n",
      "Iteration 100, loss = 0.09801058\n",
      "Iteration 101, loss = 0.09428354\n",
      "Iteration 102, loss = 0.09070992\n",
      "Iteration 103, loss = 0.08732381\n",
      "Iteration 104, loss = 0.08416040\n",
      "Iteration 105, loss = 0.08114760\n",
      "Iteration 106, loss = 0.07831131\n",
      "Iteration 107, loss = 0.07559762\n",
      "Iteration 108, loss = 0.07305479\n",
      "Iteration 109, loss = 0.07064984\n",
      "Iteration 110, loss = 0.06832692\n",
      "Iteration 111, loss = 0.06614714\n",
      "Iteration 112, loss = 0.06409656\n",
      "Iteration 113, loss = 0.06211170\n",
      "Iteration 114, loss = 0.06022879\n",
      "Iteration 115, loss = 0.05846243\n",
      "Iteration 116, loss = 0.05675290\n",
      "Iteration 117, loss = 0.05512623\n",
      "Iteration 118, loss = 0.05359326\n",
      "Iteration 119, loss = 0.05210530\n",
      "Iteration 120, loss = 0.05068753\n",
      "Iteration 121, loss = 0.04934786\n",
      "Iteration 122, loss = 0.04805021\n",
      "Iteration 123, loss = 0.04681035\n",
      "Iteration 124, loss = 0.04563172\n",
      "Iteration 125, loss = 0.04449448\n",
      "Iteration 126, loss = 0.04340058\n",
      "Iteration 127, loss = 0.04236108\n",
      "Iteration 128, loss = 0.04136282\n",
      "Iteration 129, loss = 0.04039889\n",
      "Iteration 130, loss = 0.03947257\n",
      "Iteration 131, loss = 0.03858544\n",
      "Iteration 132, loss = 0.03772791\n",
      "Iteration 133, loss = 0.03690134\n",
      "Iteration 134, loss = 0.03610808\n",
      "Iteration 135, loss = 0.03534372\n",
      "Iteration 136, loss = 0.03460318\n",
      "Iteration 137, loss = 0.03388926\n",
      "Iteration 138, loss = 0.03320139\n",
      "Iteration 139, loss = 0.03253603\n",
      "Iteration 140, loss = 0.03189308\n",
      "Iteration 141, loss = 0.03127186\n",
      "Iteration 142, loss = 0.03066919\n",
      "Iteration 143, loss = 0.03008766\n",
      "Iteration 144, loss = 0.02952359\n",
      "Iteration 145, loss = 0.02897687\n",
      "Iteration 146, loss = 0.02844789\n",
      "Iteration 147, loss = 0.02793431\n",
      "Iteration 148, loss = 0.02743605\n",
      "Iteration 149, loss = 0.02695435\n",
      "Iteration 150, loss = 0.02648462\n",
      "Iteration 151, loss = 0.02602956\n",
      "Iteration 152, loss = 0.02558683\n",
      "Iteration 153, loss = 0.02515768\n",
      "Iteration 154, loss = 0.02473925\n",
      "Iteration 155, loss = 0.02433341\n",
      "Iteration 156, loss = 0.02393838\n",
      "Iteration 157, loss = 0.02355364\n",
      "Iteration 158, loss = 0.02317899\n",
      "Iteration 159, loss = 0.02281387\n",
      "Iteration 160, loss = 0.02245709\n",
      "Iteration 161, loss = 0.02210976\n",
      "Iteration 162, loss = 0.02177263\n",
      "Iteration 163, loss = 0.02144390\n",
      "Iteration 164, loss = 0.02112271\n",
      "Iteration 165, loss = 0.02080831\n",
      "Iteration 166, loss = 0.02066349\n",
      "Iteration 167, loss = 0.02023067\n",
      "Iteration 168, loss = 0.01995846\n",
      "Iteration 169, loss = 0.01965847\n",
      "Iteration 170, loss = 0.01936115\n",
      "Iteration 171, loss = 0.01909363\n",
      "Iteration 172, loss = 0.01883647\n",
      "Iteration 173, loss = 0.01856970\n",
      "Iteration 174, loss = 0.01830665\n",
      "Iteration 175, loss = 0.01806349\n",
      "Iteration 176, loss = 0.01782413\n",
      "Iteration 177, loss = 0.01757990\n",
      "Iteration 178, loss = 0.01734084\n",
      "Iteration 179, loss = 0.01711639\n",
      "Iteration 180, loss = 0.01689716\n",
      "Iteration 181, loss = 0.01667643\n",
      "Iteration 182, loss = 0.01645921\n",
      "Iteration 183, loss = 0.01625026\n",
      "Iteration 184, loss = 0.01604673\n",
      "Iteration 185, loss = 0.01584556\n",
      "Iteration 186, loss = 0.01564757\n",
      "Iteration 187, loss = 0.01545551\n",
      "Iteration 188, loss = 0.01526664\n",
      "Iteration 189, loss = 0.01508063\n",
      "Iteration 190, loss = 0.01489841\n",
      "Iteration 191, loss = 0.01472113\n",
      "Iteration 192, loss = 0.01454697\n",
      "Iteration 193, loss = 0.01437584\n",
      "Iteration 194, loss = 0.01420775\n",
      "Iteration 195, loss = 0.01404202\n",
      "Iteration 196, loss = 0.01388060\n",
      "Iteration 197, loss = 0.01381471\n",
      "Iteration 198, loss = 0.01357562\n",
      "Iteration 199, loss = 0.01342806\n",
      "Iteration 200, loss = 0.01327322\n",
      "Iteration 201, loss = 0.01312236\n",
      "Iteration 202, loss = 0.01298017\n",
      "Iteration 203, loss = 0.01283930\n",
      "Iteration 204, loss = 0.01269618\n",
      "Iteration 205, loss = 0.01255668\n",
      "Iteration 206, loss = 0.01242412\n",
      "Iteration 207, loss = 0.01229190\n",
      "Iteration 208, loss = 0.01215955\n",
      "Iteration 209, loss = 0.01203072\n",
      "Iteration 210, loss = 0.01190529\n",
      "Iteration 211, loss = 0.01178175\n",
      "Iteration 212, loss = 0.01165927\n",
      "Iteration 213, loss = 0.01153905\n",
      "Iteration 214, loss = 0.01142122\n",
      "Iteration 215, loss = 0.01130602\n",
      "Iteration 216, loss = 0.01119160\n",
      "Iteration 217, loss = 0.01107882\n",
      "Iteration 218, loss = 0.01096871\n",
      "Iteration 219, loss = 0.01086082\n",
      "Iteration 220, loss = 0.01075377\n",
      "Iteration 221, loss = 0.01064844\n",
      "Iteration 222, loss = 0.01054533\n",
      "Iteration 223, loss = 0.01044346\n",
      "Iteration 224, loss = 0.01034279\n",
      "Iteration 225, loss = 0.01024453\n",
      "Iteration 226, loss = 0.01014775\n",
      "Iteration 227, loss = 0.01005194\n",
      "Iteration 228, loss = 0.00995687\n",
      "Iteration 229, loss = 0.00986425\n",
      "Iteration 230, loss = 0.00977325\n",
      "Iteration 231, loss = 0.00968288\n",
      "Iteration 232, loss = 0.00959371\n",
      "Iteration 233, loss = 0.00950642\n",
      "Iteration 234, loss = 0.00942017\n",
      "Iteration 235, loss = 0.00933488\n",
      "Training loss did not improve more than tol=0.000100 for 10 consecutive epochs. Stopping.\n"
     ]
    }
   ],
   "source": [
    "from sklearn.neural_network import MLPClassifier\n",
    "clf = MLPClassifier(hidden_layer_sizes=(100,100), verbose= True, max_iter= 300)\n",
    "clf.fit(X_train, y_train)\n",
    "y_pred = clf.predict(X_test)"
   ]
  },
  {
   "cell_type": "code",
   "execution_count": 32,
   "metadata": {},
   "outputs": [
    {
     "name": "stdout",
     "output_type": "stream",
     "text": [
      "accuracy= 0.87\n"
     ]
    }
   ],
   "source": [
    "accuracy = np.mean(y_pred==y_test)\n",
    "print('accuracy= %.2f'%accuracy)"
   ]
  },
  {
   "cell_type": "markdown",
   "metadata": {},
   "source": [
    "### Using `metrics` module in `sklearn`"
   ]
  },
  {
   "cell_type": "code",
   "execution_count": 33,
   "metadata": {},
   "outputs": [
    {
     "name": "stdout",
     "output_type": "stream",
     "text": [
      "accuracy = 0.87\n"
     ]
    }
   ],
   "source": [
    "# another way for checking the accuracy\n",
    "from sklearn.metrics import accuracy_score\n",
    "acc = accuracy_score(y_pred, y_test)\n",
    "print('accuracy = %.2f' %acc)"
   ]
  },
  {
   "cell_type": "markdown",
   "metadata": {},
   "source": [
    "## Classifying Digits"
   ]
  },
  {
   "cell_type": "code",
   "execution_count": 34,
   "metadata": {},
   "outputs": [
    {
     "name": "stdout",
     "output_type": "stream",
     "text": [
      "dict_keys(['data', 'target', 'target_names', 'images', 'DESCR'])\n",
      "(1797, 64)\n",
      "(1797,)\n"
     ]
    }
   ],
   "source": [
    "from sklearn.datasets import load_digits\n",
    "digits = load_digits()\n",
    "print(digits.keys())\n",
    "print(digits.data.shape)\n",
    "print(digits.target.shape)"
   ]
  },
  {
   "cell_type": "code",
   "execution_count": 35,
   "metadata": {},
   "outputs": [],
   "source": [
    "x, y = digits.data, digits.target"
   ]
  },
  {
   "cell_type": "code",
   "execution_count": 36,
   "metadata": {},
   "outputs": [
    {
     "name": "stdout",
     "output_type": "stream",
     "text": [
      "Iteration 1, loss = 5.74310252\n",
      "Iteration 2, loss = 3.12017421\n",
      "Iteration 3, loss = 2.11710226\n",
      "Iteration 4, loss = 1.26033582\n",
      "Iteration 5, loss = 0.73459661\n",
      "Iteration 6, loss = 0.54665772\n",
      "Iteration 7, loss = 0.41889898\n",
      "Iteration 8, loss = 0.32200707\n",
      "Iteration 9, loss = 0.27404205\n",
      "Iteration 10, loss = 0.22951112\n",
      "accuracy= 0.90\n"
     ]
    },
    {
     "name": "stderr",
     "output_type": "stream",
     "text": [
      "/Users/mahrokh/opt/anaconda3/lib/python3.7/site-packages/sklearn/neural_network/multilayer_perceptron.py:566: ConvergenceWarning: Stochastic Optimizer: Maximum iterations (10) reached and the optimization hasn't converged yet.\n",
      "  % self.max_iter, ConvergenceWarning)\n"
     ]
    }
   ],
   "source": [
    "from sklearn.model_selection import train_test_split\n",
    "x_train,x_test, y_train, y_test = train_test_split(x, y, test_size=.5, random_state=123)\n",
    "from sklearn.neural_network import MLPClassifier\n",
    "clf = MLPClassifier(hidden_layer_sizes=(100, 100),max_iter= 10, verbose= True)\n",
    "clf.fit(x_train, y_train)\n",
    "y_pred = clf.predict(x_test)\n",
    "print('accuracy= %.2f'%accuracy_score(y_pred, y_test))"
   ]
  },
  {
   "cell_type": "code",
   "execution_count": 37,
   "metadata": {},
   "outputs": [
    {
     "name": "stdout",
     "output_type": "stream",
     "text": [
      "[[93  0  0  1  0  2  1  0  0  0]\n",
      " [ 0 80  0  2  0  1  2  1 10  0]\n",
      " [ 0  2 84  0  0  1  0  0  5  0]\n",
      " [ 0  1  5 74  0  0  0  1  5  3]\n",
      " [ 1  0  0  0 95  1  0  1  0  0]\n",
      " [ 0  0  0  1  0 84  1  0  1  2]\n",
      " [ 0  1  0  0  0  0 89  0  1  0]\n",
      " [ 0  0  2  0  5  0  0 85  4  0]\n",
      " [ 0  0  2  1  1  0  0  1 48  1]\n",
      " [ 0  4  0  1  0  8  0  1  4 79]]\n"
     ]
    }
   ],
   "source": [
    "from sklearn.metrics import confusion_matrix\n",
    "cm = confusion_matrix(y_pred, y_test)\n",
    "print(cm)"
   ]
  },
  {
   "cell_type": "code",
   "execution_count": 38,
   "metadata": {},
   "outputs": [
    {
     "data": {
      "image/png": "[encoded data removed]",
      "text/plain": [
       "<Figure size 288x288 with 2 Axes>"
      ]
     },
     "metadata": {
      "needs_background": "light"
     },
     "output_type": "display_data"
    }
   ],
   "source": [
    "%matplotlib inline\n",
    "import matplotlib.pyplot as plt\n",
    "\n",
    "plt.figure(figsize=(4,4))\n",
    "plt.imshow(cm, interpolation= 'nearest')\n",
    "plt.colorbar()\n",
    "plt.show()"
   ]
  },
  {
   "cell_type": "markdown",
   "metadata": {},
   "source": [
    "## Training and Testing Data in `sklearn`"
   ]
  },
  {
   "cell_type": "code",
   "execution_count": 39,
   "metadata": {},
   "outputs": [],
   "source": [
    "from sklearn.datasets import load_iris\n",
    "from sklearn.neighbors import KNeighborsClassifier\n",
    "\n",
    "iris = load_iris()\n",
    "x, y = iris.data, iris.target\n",
    "\n",
    "clf = KNeighborsClassifier()\n"
   ]
  },
  {
   "cell_type": "code",
   "execution_count": 40,
   "metadata": {},
   "outputs": [],
   "source": [
    "from sklearn.model_selection import train_test_split\n",
    "from sklearn.metrics import accuracy_score\n",
    "\n",
    "x_train, x_test, y_train, y_test= train_test_split(x, y, test_size= .3,\n",
    "                                                   random_state=42, stratify=y)\n"
   ]
  },
  {
   "cell_type": "code",
   "execution_count": 41,
   "metadata": {},
   "outputs": [
    {
     "name": "stdout",
     "output_type": "stream",
     "text": [
      "accuracy= 0.93\n"
     ]
    }
   ],
   "source": [
    "clf.fit(x_test, y_test)\n",
    "y_pred = clf.predict(x_test)\n",
    "acc= accuracy_score(y_pred, y_test)\n",
    "print('accuracy= %.2f'%acc)\n"
   ]
  },
  {
   "cell_type": "code",
   "execution_count": 42,
   "metadata": {},
   "outputs": [
    {
     "name": "stdout",
     "output_type": "stream",
     "text": [
      "[0 1 2]\n",
      "[50 50 50]\n",
      "[0.33333333 0.33333333 0.33333333]\n"
     ]
    }
   ],
   "source": [
    "labeles, counts = np.unique(y, return_counts=True)\n",
    "print(labeles)\n",
    "print(counts)\n",
    "print(counts/len(y))"
   ]
  },
  {
   "cell_type": "code",
   "execution_count": 43,
   "metadata": {},
   "outputs": [
    {
     "name": "stdout",
     "output_type": "stream",
     "text": [
      "[0 1 2]\n",
      "[35 35 35]\n",
      "[0.23333333 0.23333333 0.23333333]\n"
     ]
    }
   ],
   "source": [
    "labeles, counts = np.unique(y_train, return_counts=True)\n",
    "print(labeles)\n",
    "print(counts)\n",
    "print(counts/len(y))"
   ]
  },
  {
   "cell_type": "markdown",
   "metadata": {},
   "source": [
    "### Train and Test"
   ]
  },
  {
   "cell_type": "code",
   "execution_count": 44,
   "metadata": {},
   "outputs": [
    {
     "name": "stdout",
     "output_type": "stream",
     "text": [
      "Accuracy on test data = 97.78 %\n"
     ]
    }
   ],
   "source": [
    "clf.fit(x_train, y_train)      # train\n",
    "y_pred = clf.predict(x_test)   # test\n",
    "test_accuracy = accuracy_score(y_test, y_pred)\n",
    "print(\"Accuracy on test data = %.2f\" % (test_accuracy * 100) + \" %\")"
   ]
  },
  {
   "cell_type": "markdown",
   "metadata": {},
   "source": [
    "### Visualize results\n",
    "We can also visualize the correct and failed predictions"
   ]
  },
  {
   "cell_type": "code",
   "execution_count": 45,
   "metadata": {},
   "outputs": [
    {
     "name": "stdout",
     "output_type": "stream",
     "text": [
      "incorrect_classifed_samples=  \n",
      " [42]\n"
     ]
    }
   ],
   "source": [
    "correct_classifed_samples = np.where(y_pred == y_test)\n",
    "incorrect_classifed_samples = np.where(y_pred != y_test)[0]\n",
    "print('incorrect_classifed_samples= ','\\n',incorrect_classifed_samples)"
   ]
  },
  {
   "cell_type": "markdown",
   "metadata": {},
   "source": [
    "# Supervised Learning -- Classification"
   ]
  },
  {
   "cell_type": "code",
   "execution_count": 46,
   "metadata": {},
   "outputs": [
    {
     "name": "stdout",
     "output_type": "stream",
     "text": [
      "(100, 2)\n",
      "(100,)\n"
     ]
    }
   ],
   "source": [
    "from sklearn.datasets import make_blobs\n",
    "x, y = make_blobs(centers=2, random_state=34, cluster_std= 1.0)\n",
    "print(x.shape)\n",
    "print(y.shape)"
   ]
  },
  {
   "cell_type": "code",
   "execution_count": 47,
   "metadata": {},
   "outputs": [
    {
     "data": {
      "image/png": "[encoded data removed]",
      "text/plain": [
       "<Figure size 288x216 with 1 Axes>"
      ]
     },
     "metadata": {
      "needs_background": "light"
     },
     "output_type": "display_data"
    }
   ],
   "source": [
    "plt.figure(figsize=(4,3)) #??????????????????\n",
    "plt.scatter(x[y == 0, 0], x[y == 0, 1], c='blue', s=40, label='0')\n",
    "plt.scatter(x[y == 1, 0], x[y == 1, 1], c='red', s=40, label='1', marker='s');"
   ]
  },
  {
   "cell_type": "code",
   "execution_count": 48,
   "metadata": {},
   "outputs": [],
   "source": [
    "from sklearn.model_selection import train_test_split\n",
    "x_train, x_test, y_train, y_test = train_test_split(x, y, test_size=.5, random_state=43,\n",
    "                                                   stratify= y)"
   ]
  },
  {
   "cell_type": "code",
   "execution_count": 49,
   "metadata": {},
   "outputs": [],
   "source": [
    "from sklearn.linear_model import LogisticRegression\n",
    "from sklearn.metrics import accuracy_score\n",
    "clf = LogisticRegression(verbose= True, max_iter= 300)"
   ]
  },
  {
   "cell_type": "code",
   "execution_count": 50,
   "metadata": {},
   "outputs": [
    {
     "name": "stdout",
     "output_type": "stream",
     "text": [
      "[LibLinear][0 0 0 1 0 0 1 0 1 1 0 0 0 1 0 1 0 1 0 0 0 0 0 0 1 1 1 1 0 0 1 1 1 1 1 1 0\n",
      " 0 1 0 1 1 0 0 1 1 0 0 0 0]\n",
      "[0 1 0 1 0 0 1 0 1 1 0 0 0 1 0 1 1 1 0 1 0 0 0 0 1 1 1 1 0 0 0 1 1 1 1 1 0\n",
      " 0 1 0 1 1 0 0 1 1 1 0 0 0]\n",
      "\n",
      "accuracy=  0.9\n"
     ]
    },
    {
     "name": "stderr",
     "output_type": "stream",
     "text": [
      "/Users/mahrokh/opt/anaconda3/lib/python3.7/site-packages/sklearn/linear_model/logistic.py:432: FutureWarning: Default solver will be changed to 'lbfgs' in 0.22. Specify a solver to silence this warning.\n",
      "  FutureWarning)\n"
     ]
    }
   ],
   "source": [
    "clf.fit(x_train, y_train)\n",
    "y_pred = clf.predict(x_test)\n",
    "accuracy = accuracy_score(y_pred, y_test)\n",
    "print(y_pred)  # predicted labels\n",
    "print(y_test) \n",
    "print()\n",
    "print('accuracy= ',accuracy)"
   ]
  },
  {
   "cell_type": "markdown",
   "metadata": {},
   "source": [
    "### to compute predition and accuracy together:"
   ]
  },
  {
   "cell_type": "code",
   "execution_count": 51,
   "metadata": {},
   "outputs": [
    {
     "name": "stdout",
     "output_type": "stream",
     "text": [
      "0.9\n"
     ]
    }
   ],
   "source": [
    "prediction_accuracy = clf.score(x_test, y_test)\n",
    "print(prediction_accuracy)"
   ]
  },
  {
   "cell_type": "code",
   "execution_count": 52,
   "metadata": {},
   "outputs": [
    {
     "name": "stdout",
     "output_type": "stream",
     "text": [
      "0.86\n"
     ]
    }
   ],
   "source": [
    "print(clf.score(x_train, y_train))"
   ]
  },
  {
   "cell_type": "code",
   "execution_count": 53,
   "metadata": {},
   "outputs": [
    {
     "name": "stdout",
     "output_type": "stream",
     "text": [
      "[[-0.68295435 -1.665891  ]]\n",
      "[1.08049024]\n"
     ]
    }
   ],
   "source": [
    "print(clf.coef_)\n",
    "print(clf.intercept_)"
   ]
  },
  {
   "cell_type": "markdown",
   "metadata": {},
   "source": [
    "Another classifier: K Nearest Neighbors\n",
    "------------------------------------------------"
   ]
  },
  {
   "cell_type": "code",
   "execution_count": 54,
   "metadata": {},
   "outputs": [],
   "source": [
    "from sklearn.neighbors import KNeighborsClassifier\n",
    "knn = KNeighborsClassifier(n_neighbors=2)"
   ]
  },
  {
   "cell_type": "code",
   "execution_count": 55,
   "metadata": {},
   "outputs": [
    {
     "data": {
      "text/plain": [
       "KNeighborsClassifier(algorithm='auto', leaf_size=30, metric='minkowski',\n",
       "                     metric_params=None, n_jobs=None, n_neighbors=2, p=2,\n",
       "                     weights='uniform')"
      ]
     },
     "execution_count": 55,
     "metadata": {},
     "output_type": "execute_result"
    }
   ],
   "source": [
    "knn.fit(x_train, y_train)"
   ]
  },
  {
   "cell_type": "code",
   "execution_count": 56,
   "metadata": {},
   "outputs": [
    {
     "name": "stdout",
     "output_type": "stream",
     "text": [
      "0.96\n"
     ]
    }
   ],
   "source": [
    "print(knn.score(x_test, y_test))"
   ]
  },
  {
   "cell_type": "code",
   "execution_count": 57,
   "metadata": {},
   "outputs": [
    {
     "name": "stdout",
     "output_type": "stream",
     "text": [
      "0.94\n"
     ]
    }
   ],
   "source": [
    "print(knn.score(x_train, y_train))"
   ]
  },
  {
   "cell_type": "markdown",
   "metadata": {},
   "source": [
    "## Tunning Hyper-parameters"
   ]
  },
  {
   "cell_type": "markdown",
   "metadata": {},
   "source": [
    "<div class=\"alert alert-success\">\n",
    "    <b>EXERCISE</b>:\n",
    "     <ul>\n",
    "      <li>\n",
    "      Apply the KNeighborsClassifier to the ``iris`` dataset. Play with different values of the ``n_neighbors`` and observe how training and test score change.\n",
    "      </li>\n",
    "    </ul>\n",
    "</div>"
   ]
  },
  {
   "cell_type": "code",
   "execution_count": 58,
   "metadata": {},
   "outputs": [],
   "source": [
    "from sklearn.datasets import load_iris\n",
    "iris = load_iris()\n",
    "from sklearn.model_selection import train_test_split\n",
    "x, y = iris.data, iris.target\n",
    "x_train, x_test, y_train, y_test = train_test_split(x, y, test_size=.5, random_state=43,\n",
    "                                                    stratify=y)\n",
    "from sklearn.neighbors import KNeighborsClassifier\n",
    "knn = KNeighborsClassifier(n_neighbors=9)"
   ]
  },
  {
   "cell_type": "code",
   "execution_count": 59,
   "metadata": {},
   "outputs": [
    {
     "name": "stdout",
     "output_type": "stream",
     "text": [
      "(75, 4)\n",
      "(75,)\n"
     ]
    }
   ],
   "source": [
    "print(x_test.shape)\n",
    "print(y_test.shape)"
   ]
  },
  {
   "cell_type": "code",
   "execution_count": 60,
   "metadata": {},
   "outputs": [
    {
     "data": {
      "text/plain": [
       "KNeighborsClassifier(algorithm='auto', leaf_size=30, metric='minkowski',\n",
       "                     metric_params=None, n_jobs=None, n_neighbors=9, p=2,\n",
       "                     weights='uniform')"
      ]
     },
     "execution_count": 60,
     "metadata": {},
     "output_type": "execute_result"
    }
   ],
   "source": [
    "knn.fit(x_train, y_train)"
   ]
  },
  {
   "cell_type": "code",
   "execution_count": 61,
   "metadata": {},
   "outputs": [
    {
     "name": "stdout",
     "output_type": "stream",
     "text": [
      "0.9866666666666667\n"
     ]
    }
   ],
   "source": [
    "print(knn.score(x_test, y_test))"
   ]
  },
  {
   "cell_type": "markdown",
   "metadata": {},
   "source": [
    "# Supervised Learning -- Regression"
   ]
  },
  {
   "cell_type": "code",
   "execution_count": 62,
   "metadata": {},
   "outputs": [
    {
     "name": "stdout",
     "output_type": "stream",
     "text": [
      "[-3.         -2.93939394 -2.87878788 -2.81818182 -2.75757576 -2.6969697\n",
      " -2.63636364 -2.57575758 -2.51515152 -2.45454545]\n",
      "(100,)\n",
      "(100, 1)\n"
     ]
    }
   ],
   "source": [
    "xb= np.linspace(-3, 3, 100)\n",
    "print(xb[:10])\n",
    "print(xb.shape)\n",
    "x= xb[:, np.newaxis]\n",
    "print(x.shape)"
   ]
  },
  {
   "cell_type": "code",
   "execution_count": 63,
   "metadata": {},
   "outputs": [
    {
     "name": "stdout",
     "output_type": "stream",
     "text": [
      "[ 0.23342011  0.74989057  0.4722039   0.28085607 -0.21862918 -0.27412301\n",
      " -0.42592425  0.33005522  0.01484964  0.0738155 ]\n"
     ]
    }
   ],
   "source": [
    "rng = np.random.RandomState(42)\n",
    "y = np.sin(xb) + rng.uniform(size=len(xb))\n",
    "print(y[:10])"
   ]
  },
  {
   "cell_type": "code",
   "execution_count": 64,
   "metadata": {},
   "outputs": [
    {
     "data": {
      "image/png": "[encoded data removed]",
      "text/plain": [
       "<Figure size 432x288 with 1 Axes>"
      ]
     },
     "metadata": {
      "needs_background": "light"
     },
     "output_type": "display_data"
    }
   ],
   "source": [
    "plt.plot(xb,y, 'o');"
   ]
  },
  {
   "cell_type": "markdown",
   "metadata": {},
   "source": [
    "Linear Regression:\n",
    "================"
   ]
  },
  {
   "cell_type": "code",
   "execution_count": 65,
   "metadata": {},
   "outputs": [],
   "source": [
    "from sklearn.model_selection import train_test_split\n",
    "\n",
    "x_train, x_test, y_train, y_test = train_test_split(x, y, test_size= 0.5, random_state= 43)"
   ]
  },
  {
   "cell_type": "code",
   "execution_count": 66,
   "metadata": {},
   "outputs": [
    {
     "name": "stdout",
     "output_type": "stream",
     "text": [
      "score = 0.58\n"
     ]
    }
   ],
   "source": [
    "from sklearn.linear_model import LinearRegression\n",
    "regressor = LinearRegression()\n",
    "regressor.fit(x_train, y_train)\n",
    "s = regressor.score(x_test, y_test)\n",
    "print('score = %.2f'%s)"
   ]
  },
  {
   "cell_type": "code",
   "execution_count": 67,
   "metadata": {},
   "outputs": [
    {
     "name": "stdout",
     "output_type": "stream",
     "text": [
      "coeficient=  [0.35592588]\n",
      "intercept  0.462816341351432\n"
     ]
    }
   ],
   "source": [
    "print('coeficient= ', regressor.coef_) #w\n",
    "print('intercept ', regressor.intercept_) #b"
   ]
  },
  {
   "cell_type": "markdown",
   "metadata": {},
   "source": [
    "#### plot for function includig 'w' and 'b'\n",
    " y = wx + b"
   ]
  },
  {
   "cell_type": "code",
   "execution_count": 68,
   "metadata": {},
   "outputs": [
    {
     "data": {
      "image/png": "[encoded data removed]",
      "text/plain": [
       "<Figure size 432x288 with 1 Axes>"
      ]
     },
     "metadata": {
      "needs_background": "light"
     },
     "output_type": "display_data"
    }
   ],
   "source": [
    "y1 =  x.min()*regressor.coef_ + regressor.intercept_\n",
    "y2 =  x.max()*regressor.coef_ + regressor.intercept_\n",
    "plt.plot([x.min(), x.max()], [y1, y2])\n",
    "plt.plot(x_train, y_train, 'o');"
   ]
  },
  {
   "cell_type": "code",
   "execution_count": 69,
   "metadata": {},
   "outputs": [],
   "source": [
    "y_pred_train = regressor.predict(x_train)"
   ]
  },
  {
   "cell_type": "code",
   "execution_count": 70,
   "metadata": {},
   "outputs": [
    {
     "data": {
      "image/png": "[encoded data removed]",
      "text/plain": [
       "<Figure size 432x288 with 1 Axes>"
      ]
     },
     "metadata": {
      "needs_background": "light"
     },
     "output_type": "display_data"
    }
   ],
   "source": [
    "plt.plot(x_train, y_train, 'o', label= \"data\")\n",
    "plt.plot(x_test, y_pred_train, 'o', label= \"prediction\")\n",
    "plt.plot([x.min(), x.max()], [y1, y2], label = 'fit')\n",
    "plt.legend(loc = 'best');"
   ]
  },
  {
   "cell_type": "code",
   "execution_count": 71,
   "metadata": {},
   "outputs": [],
   "source": [
    "y_pred_train = regressor.predict(x_test)"
   ]
  },
  {
   "cell_type": "code",
   "execution_count": 72,
   "metadata": {},
   "outputs": [
    {
     "data": {
      "image/png": "[encoded data removed]",
      "text/plain": [
       "<Figure size 432x288 with 1 Axes>"
      ]
     },
     "metadata": {
      "needs_background": "light"
     },
     "output_type": "display_data"
    }
   ],
   "source": [
    "plt.plot(x_train, y_train, 'o', label= \"data\")\n",
    "plt.plot(x_test, y_pred_train, 'o', label= \"prediction\")\n",
    "plt.plot([x.min(), x.max()], [y1, y2], label = 'fit')\n",
    "plt.legend(loc = 'best');"
   ]
  },
  {
   "cell_type": "code",
   "execution_count": 73,
   "metadata": {},
   "outputs": [
    {
     "data": {
      "text/plain": [
       "0.5832804646060259"
      ]
     },
     "execution_count": 73,
     "metadata": {},
     "output_type": "execute_result"
    }
   ],
   "source": [
    "regressor.score(x_test, y_test)"
   ]
  },
  {
   "cell_type": "markdown",
   "metadata": {},
   "source": [
    "<div class=\"alert alert-success\">\n",
    "    <b>EXERCISE</b>:\n",
    "     <ul>\n",
    "      <li>\n",
    "      Add a feature containing  `sin(4x)` to `X` and redo the fit. Visualize the predictions with this new richer, yet linear, model.\n",
    "      </li>\n",
    "    </ul>\n",
    "</div>"
   ]
  },
  {
   "cell_type": "code",
   "execution_count": 74,
   "metadata": {},
   "outputs": [],
   "source": [
    "xx_train = np.concatenate((x_train, np.sin(x_train)), axis=1)\n",
    "xx_test = np.concatenate((x_test, np.sin(x_test)), axis=1)"
   ]
  },
  {
   "cell_type": "code",
   "execution_count": 75,
   "metadata": {},
   "outputs": [
    {
     "data": {
      "text/plain": [
       "LinearRegression(copy_X=True, fit_intercept=True, n_jobs=None, normalize=False)"
      ]
     },
     "execution_count": 75,
     "metadata": {},
     "output_type": "execute_result"
    }
   ],
   "source": [
    "regressor.fit(x_train, y_train)\n",
    "#score = regressor.score(xx_test, y_test)\n",
    "#print('score= %.2f'%score)"
   ]
  },
  {
   "cell_type": "code",
   "execution_count": 76,
   "metadata": {},
   "outputs": [
    {
     "data": {
      "image/png": "[encoded data removed]",
      "text/plain": [
       "<Figure size 432x288 with 1 Axes>"
      ]
     },
     "metadata": {
      "needs_background": "light"
     },
     "output_type": "display_data"
    }
   ],
   "source": [
    "plt.plot(xx_train, y_train, 'o', label='data')\n",
    "plt.plot(xx_test, y_test, 'x', label='prediction')\n",
    "plt.legend(loc='best')\n",
    "plt.show()"
   ]
  },
  {
   "cell_type": "markdown",
   "metadata": {},
   "source": [
    "KNeighborsRegression\n",
    "======================="
   ]
  },
  {
   "cell_type": "code",
   "execution_count": 77,
   "metadata": {},
   "outputs": [],
   "source": [
    "from sklearn.neighbors import KNeighborsRegressor\n",
    "kneighbour = KNeighborsRegressor(n_neighbors=1)"
   ]
  },
  {
   "cell_type": "code",
   "execution_count": 78,
   "metadata": {},
   "outputs": [],
   "source": [
    "kneighbour.fit(x_train, y_train)\n",
    "y_pred_train = kneighbour.predict(x_train)"
   ]
  },
  {
   "cell_type": "code",
   "execution_count": 79,
   "metadata": {},
   "outputs": [
    {
     "data": {
      "image/png": "[encoded data removed]",
      "text/plain": [
       "<Figure size 432x288 with 1 Axes>"
      ]
     },
     "metadata": {
      "needs_background": "light"
     },
     "output_type": "display_data"
    }
   ],
   "source": [
    "plt.plot(x_train, y_train, 'o', markersize= '10')\n",
    "plt.plot(x_train, y_pred_train, 'o');"
   ]
  },
  {
   "cell_type": "code",
   "execution_count": 80,
   "metadata": {},
   "outputs": [],
   "source": [
    "y_pred_test = kneighbour.predict(x_test)"
   ]
  },
  {
   "cell_type": "code",
   "execution_count": 81,
   "metadata": {},
   "outputs": [
    {
     "data": {
      "image/png": "[encoded data removed]",
      "text/plain": [
       "<Figure size 432x288 with 1 Axes>"
      ]
     },
     "metadata": {
      "needs_background": "light"
     },
     "output_type": "display_data"
    }
   ],
   "source": [
    "plt.plot(x_test, y_test, 'o', markersize= '10')\n",
    "plt.plot(x_test, y_pred_test, 'o');"
   ]
  },
  {
   "cell_type": "code",
   "execution_count": 82,
   "metadata": {},
   "outputs": [
    {
     "data": {
      "text/plain": [
       "0.7586268230648983"
      ]
     },
     "execution_count": 82,
     "metadata": {},
     "output_type": "execute_result"
    }
   ],
   "source": [
    "\n",
    "kneighbour.score(x_test, y_test)"
   ]
  },
  {
   "cell_type": "markdown",
   "metadata": {},
   "source": [
    "<div class=\"alert alert-success\">\n",
    "    <b>EXERCISE</b>:\n",
    "     <ul>\n",
    "      <li>\n",
    "      Compare the KNeighborsRegressor and LinearRegression on the boston housing dataset. You can load the dataset using ``sklearn.datasets.load_boston``. You can learn about the dataset by reading the ``DESCR`` attribute.\n",
    "      </li>\n",
    "    </ul>\n",
    "</div>"
   ]
  },
  {
   "cell_type": "code",
   "execution_count": 118,
   "metadata": {},
   "outputs": [],
   "source": [
    "from sklearn.datasets import load_boston\n",
    "from sklearn.linear_model import LinearRegression\n",
    "from sklearn.model_selection import train_test_split\n",
    "#from sklearn.neighbors import KNeighborsClassifier\n",
    "\n",
    "\n",
    "boston = load_boston()\n",
    "x, y  = boston.data, boston.target\n",
    "\n",
    "\n",
    "x_train, x_test, y_train, y_test = train_test_split(x, y, random_state=34, test_size=.5)"
   ]
  },
  {
   "cell_type": "code",
   "execution_count": 119,
   "metadata": {},
   "outputs": [],
   "source": [
    "linearRegression = LinearRegression()\n",
    "#kneighbours = KNeighborsClassifier(n_neighbors=1)"
   ]
  },
  {
   "cell_type": "code",
   "execution_count": 121,
   "metadata": {},
   "outputs": [
    {
     "name": "stdout",
     "output_type": "stream",
     "text": [
      "linearRegression_score=0.70 \n"
     ]
    }
   ],
   "source": [
    "linearRegression_fit = linearRegression.fit(x_train, y_train)\n",
    "linearRegression_score = linearRegression.score(x_test, y_test)\n",
    "print('linearRegression_score=%.2f ' %linearRegression_score)\n"
   ]
  },
  {
   "cell_type": "code",
   "execution_count": 128,
   "metadata": {},
   "outputs": [
    {
     "name": "stdout",
     "output_type": "stream",
     "text": [
      "kneigbours_score= 0.34\n"
     ]
    }
   ],
   "source": [
    "kneigbours_fit = kneighbour.fit(x_train, y_train)\n",
    "score = kneighbour.score(x_test, y_test)\n",
    "print('kneigbours_score= %.2f'%score)"
   ]
  }
 ],
 "metadata": {
  "kernelspec": {
   "display_name": "Python 3",
   "language": "python",
   "name": "python3"
  },
  "language_info": {
   "codemirror_mode": {
    "name": "ipython",
    "version": 3
   },
   "file_extension": ".py",
   "mimetype": "text/x-python",
   "name": "python",
   "nbconvert_exporter": "python",
   "pygments_lexer": "ipython3",
   "version": "3.7.4"
  }
 },
 "nbformat": 4,
 "nbformat_minor": 2
}
