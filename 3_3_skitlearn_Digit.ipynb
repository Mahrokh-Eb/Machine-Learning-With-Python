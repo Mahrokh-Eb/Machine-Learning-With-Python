{
  "nbformat": 4,
  "nbformat_minor": 0,
  "metadata": {
    "colab": {
      "name": "3-3- skitlearn-Digit.ipynb",
      "provenance": [],
      "authorship_tag": "ABX9TyOoSi9rTAX8dN/aVz55Suje",
      "include_colab_link": true
    },
    "kernelspec": {
      "name": "python3",
      "display_name": "Python 3"
    },
    "language_info": {
      "name": "python"
    }
  },
  "cells": [
    {
      "cell_type": "markdown",
      "metadata": {
        "id": "view-in-github",
        "colab_type": "text"
      },
      "source": [
        "<a href=\"https://colab.research.google.com/github/Mahrokh-Eb/Machine-Learning-With-Python/blob/master/3_3_skitlearn_Digit.ipynb\" target=\"_parent\"><img src=\"https://colab.research.google.com/assets/colab-badge.svg\" alt=\"Open In Colab\"/></a>"
      ]
    },
    {
      "cell_type": "code",
      "execution_count": 1,
      "metadata": {
        "id": "x-85VBEgDwTe"
      },
      "outputs": [],
      "source": [
        "#!pip3 install bcolz "
      ]
    },
    {
      "cell_type": "code",
      "source": [
        "#from google.colab import drive\n",
        "#drive.mount('/content/drive')"
      ],
      "metadata": {
        "id": "KC3mO1VSEOeB"
      },
      "execution_count": 2,
      "outputs": []
    },
    {
      "cell_type": "code",
      "source": [
        "#%cd /content/drive/MyDrive/numpy/cifar-10-batches-py"
      ],
      "metadata": {
        "id": "LPJgT1FNEg73"
      },
      "execution_count": 3,
      "outputs": []
    },
    {
      "cell_type": "code",
      "source": [
        "import sklearn\n",
        "import numpy as np\n",
        "import matplotlib.pyplot as plt\n",
        "from sklearn.datasets import load_digits"
      ],
      "metadata": {
        "id": "vm-iLhVNEkxB"
      },
      "execution_count": 4,
      "outputs": []
    },
    {
      "cell_type": "code",
      "source": [
        "digits = load_digits()"
      ],
      "metadata": {
        "id": "EQ4qtGlC6H4l"
      },
      "execution_count": 5,
      "outputs": []
    },
    {
      "cell_type": "code",
      "source": [
        "print(digits.keys())"
      ],
      "metadata": {
        "colab": {
          "base_uri": "https://localhost:8080/"
        },
        "id": "Wu1ooZj-zLLP",
        "outputId": "bea7b677-5ef6-4548-daae-80b3ce468a23"
      },
      "execution_count": 6,
      "outputs": [
        {
          "output_type": "stream",
          "name": "stdout",
          "text": [
            "dict_keys(['data', 'target', 'frame', 'feature_names', 'target_names', 'images', 'DESCR'])\n"
          ]
        }
      ]
    },
    {
      "cell_type": "code",
      "source": [
        "print(digits.data[0])"
      ],
      "metadata": {
        "colab": {
          "base_uri": "https://localhost:8080/"
        },
        "id": "aj2i3P2TzSBQ",
        "outputId": "b5807901-910b-4753-882a-e3282be98665"
      },
      "execution_count": 7,
      "outputs": [
        {
          "output_type": "stream",
          "name": "stdout",
          "text": [
            "[ 0.  0.  5. 13.  9.  1.  0.  0.  0.  0. 13. 15. 10. 15.  5.  0.  0.  3.\n",
            " 15.  2.  0. 11.  8.  0.  0.  4. 12.  0.  0.  8.  8.  0.  0.  5.  8.  0.\n",
            "  0.  9.  8.  0.  0.  4. 11.  0.  1. 12.  7.  0.  0.  2. 14.  5. 10. 12.\n",
            "  0.  0.  0.  0.  6. 13. 10.  0.  0.  0.]\n"
          ]
        }
      ]
    },
    {
      "cell_type": "code",
      "source": [
        "print(digits.target)"
      ],
      "metadata": {
        "colab": {
          "base_uri": "https://localhost:8080/"
        },
        "id": "We7jDJOyzWlw",
        "outputId": "aee19837-4b48-404d-e00d-a8f37829b99b"
      },
      "execution_count": 8,
      "outputs": [
        {
          "output_type": "stream",
          "name": "stdout",
          "text": [
            "[0 1 2 ... 8 9 8]\n"
          ]
        }
      ]
    },
    {
      "cell_type": "code",
      "source": [
        "X, y = digits.data, digits.target"
      ],
      "metadata": {
        "id": "hzCywLjIzxXV"
      },
      "execution_count": 9,
      "outputs": []
    },
    {
      "cell_type": "code",
      "source": [
        "# Step 1\n",
        "from sklearn.neural_network import MLPClassifier\n",
        "clf = MLPClassifier()"
      ],
      "metadata": {
        "id": "mmrZL2l7z-Bk"
      },
      "execution_count": 10,
      "outputs": []
    },
    {
      "cell_type": "code",
      "source": [
        "from sklearn.model_selection import train_test_split\n",
        "X_train, X_test, y_train, y_test = train_test_split(X, y, test_size=.3)"
      ],
      "metadata": {
        "id": "rX2M7NWD0Onn"
      },
      "execution_count": 11,
      "outputs": []
    },
    {
      "cell_type": "code",
      "source": [
        "clf.fit(X_train, y_train)\n",
        "y_pred = clf.predict(X_test)"
      ],
      "metadata": {
        "id": "MdyHAB4P090S"
      },
      "execution_count": 12,
      "outputs": []
    },
    {
      "cell_type": "code",
      "source": [
        "from sklearn.metrics import accuracy_score\n",
        "print('accuracy = %.2f' %accuracy_score(y_test, y_pred))"
      ],
      "metadata": {
        "colab": {
          "base_uri": "https://localhost:8080/"
        },
        "id": "KOEWtfQF1EU7",
        "outputId": "b7362be3-1334-4684-eb28-abbd55aa5e60"
      },
      "execution_count": 13,
      "outputs": [
        {
          "output_type": "stream",
          "name": "stdout",
          "text": [
            "accuracy = 0.97\n"
          ]
        }
      ]
    },
    {
      "cell_type": "code",
      "source": [
        "y4 = np.mean(y_test == y_pred)\n",
        "print(y4)\n",
        "print('accuracy = %.2f' %np.mean(y_test==y_pred))"
      ],
      "metadata": {
        "colab": {
          "base_uri": "https://localhost:8080/"
        },
        "id": "CD-RaY4l1yPJ",
        "outputId": "702b02b6-2709-4248-e71f-69c2ea24cfdf"
      },
      "execution_count": 14,
      "outputs": [
        {
          "output_type": "stream",
          "name": "stdout",
          "text": [
            "0.9722222222222222\n",
            "accuracy = 0.97\n"
          ]
        }
      ]
    },
    {
      "cell_type": "code",
      "source": [
        "from IPython.core.display import Image\n",
        "from sklearn.metrics import confusion_matrix\n",
        "cm = confusion_matrix(y_test, y_pred)\n",
        "print(cm)\n",
        "plt.imshow(cm, cmap=plt.cm.Greens)\n",
        "plt.colorbar()\n",
        "plt.show()"
      ],
      "metadata": {
        "colab": {
          "base_uri": "https://localhost:8080/",
          "height": 438
        },
        "id": "V9lBotmQ2Ets",
        "outputId": "8894fb3b-7fd8-4cdd-d176-5a99589f1113"
      },
      "execution_count": 15,
      "outputs": [
        {
          "output_type": "stream",
          "name": "stdout",
          "text": [
            "[[67  0  0  0  0  0  0  0  0  0]\n",
            " [ 0 40  0  0  0  0  0  0  0  0]\n",
            " [ 0  0 50  0  0  0  0  0  0  0]\n",
            " [ 0  0  0 56  0  1  0  0  0  0]\n",
            " [ 0  0  0  0 54  0  0  1  0  1]\n",
            " [ 0  0  0  1  0 47  0  0  0  2]\n",
            " [ 0  0  0  0  0  1 57  0  1  0]\n",
            " [ 0  0  0  0  0  0  0 54  0  0]\n",
            " [ 0  0  1  0  0  0  0  0 49  0]\n",
            " [ 0  0  0  0  0  3  0  0  3 51]]\n"
          ]
        },
        {
          "output_type": "display_data",
          "data": {
            "image/png": "[encoded data removed]",
            "text/plain": [
              "<Figure size 432x288 with 2 Axes>"
            ]
          },
          "metadata": {
            "needs_background": "light"
          }
        }
      ]
    },
    {
      "cell_type": "markdown",
      "source": [
        "# Iris , K_Nearest Neighbor Classifier"
      ],
      "metadata": {
        "id": "kT1uDw__-QW2"
      }
    },
    {
      "cell_type": "code",
      "source": [
        "from sklearn.datasets import load_iris\n",
        "\n",
        "from sklearn.neighbors import KNeighborsClassifier\n",
        "clf = KNeighborsClassifier(n_neighbors=3)\n",
        "\n",
        "iris = load_iris()"
      ],
      "metadata": {
        "id": "2rzoYNrS23xr"
      },
      "execution_count": 16,
      "outputs": []
    },
    {
      "cell_type": "code",
      "source": [
        "X, y = iris.data, iris.target\n",
        "\n",
        "from sklearn.model_selection import train_test_split\n",
        "X_train, X_test, y_train, y_test = train_test_split(X, y, test_size=.5, random_state=123)\n",
        "print(\"y_train\")\n",
        "print(y_train)\n",
        "print('y_test')\n",
        "print(y_test)"
      ],
      "metadata": {
        "colab": {
          "base_uri": "https://localhost:8080/"
        },
        "id": "zo_G6z1Y_ETq",
        "outputId": "107f8916-8e40-4110-df8f-8d523a27862f"
      },
      "execution_count": 17,
      "outputs": [
        {
          "output_type": "stream",
          "name": "stdout",
          "text": [
            "y_train\n",
            "[1 1 0 2 2 0 0 1 1 2 0 0 1 0 1 2 0 2 0 0 1 0 0 1 2 1 1 1 0 0 1 2 0 0 1 1 1\n",
            " 2 1 1 1 2 0 0 1 2 2 2 2 0 1 0 1 1 0 1 2 1 2 2 0 1 0 2 2 1 1 2 2 1 0 1 1 2\n",
            " 2]\n",
            "y_test\n",
            "[1 2 2 1 0 2 1 0 0 1 2 0 1 2 2 2 0 0 1 0 0 2 0 2 0 0 0 2 2 0 2 2 0 0 1 1 2\n",
            " 0 0 1 1 0 2 2 2 2 2 1 0 0 2 0 0 1 1 1 1 2 1 2 0 2 1 0 0 2 1 2 2 0 1 1 2 0\n",
            " 2]\n"
          ]
        }
      ]
    },
    {
      "cell_type": "code",
      "source": [
        "labels = np.unique(y)\n",
        "print(labels)\n",
        "\n",
        "labels, counts= np.unique(y, return_counts=True)\n",
        "print(counts/len(y))"
      ],
      "metadata": {
        "colab": {
          "base_uri": "https://localhost:8080/"
        },
        "id": "9Dww93SUBQtr",
        "outputId": "18ef0acc-bddf-4c99-c836-0737f42bfe9c"
      },
      "execution_count": 18,
      "outputs": [
        {
          "output_type": "stream",
          "name": "stdout",
          "text": [
            "[0 1 2]\n",
            "[0.33333333 0.33333333 0.33333333]\n"
          ]
        }
      ]
    },
    {
      "cell_type": "code",
      "source": [
        "labels, counts = np.unique(y_train, return_counts=True)\n",
        "print(counts/len(y_train))"
      ],
      "metadata": {
        "colab": {
          "base_uri": "https://localhost:8080/"
        },
        "id": "GYqem1MbCfqd",
        "outputId": "27ec2396-61ca-45b7-c0fe-208de6fc3d7d"
      },
      "execution_count": 19,
      "outputs": [
        {
          "output_type": "stream",
          "name": "stdout",
          "text": [
            "[0.30666667 0.4        0.29333333]\n"
          ]
        }
      ]
    },
    {
      "cell_type": "code",
      "source": [
        "X_train, X_test, y_train, y_test = train_test_split(X, y, test_size=.5, random_state=123, stratify=y)"
      ],
      "metadata": {
        "id": "2NyX-pt1DaHT"
      },
      "execution_count": 20,
      "outputs": []
    },
    {
      "cell_type": "code",
      "source": [
        "labels, counts = np.unique(y_train, return_counts=True)\n",
        "print(counts/len(y_train))"
      ],
      "metadata": {
        "colab": {
          "base_uri": "https://localhost:8080/"
        },
        "id": "1YtFyva5De4N",
        "outputId": "3bb60d13-ec75-4fff-cdf7-f18f11b21293"
      },
      "execution_count": 21,
      "outputs": [
        {
          "output_type": "stream",
          "name": "stdout",
          "text": [
            "[0.33333333 0.33333333 0.33333333]\n"
          ]
        }
      ]
    },
    {
      "cell_type": "code",
      "source": [
        "labels, counts = np.unique(y_test, return_counts=True)\n",
        "print(counts/len(y_train))"
      ],
      "metadata": {
        "colab": {
          "base_uri": "https://localhost:8080/"
        },
        "id": "f9K1S_HUDuAX",
        "outputId": "bf3c5402-caef-43ea-8494-0a2860a7e496"
      },
      "execution_count": 22,
      "outputs": [
        {
          "output_type": "stream",
          "name": "stdout",
          "text": [
            "[0.33333333 0.33333333 0.33333333]\n"
          ]
        }
      ]
    },
    {
      "cell_type": "code",
      "source": [
        "clf.fit(X_train, y_train)\n",
        "y_pred = clf.predict(X_test)\n",
        "\n",
        "print('accuracy = %.2f' %accuracy_score(y_test, y_pred)+ '%')"
      ],
      "metadata": {
        "colab": {
          "base_uri": "https://localhost:8080/"
        },
        "id": "ij4XpiYB_iSv",
        "outputId": "78d82e06-3c85-4ce9-bd9e-a16858c9fde1"
      },
      "execution_count": 23,
      "outputs": [
        {
          "output_type": "stream",
          "name": "stdout",
          "text": [
            "accuracy = 0.95%\n"
          ]
        }
      ]
    },
    {
      "cell_type": "code",
      "source": [
        "print('sample correctly classified')\n",
        "print(np.where(y_pred == y_train)[0])\n",
        "\n",
        "print('sample incorrectly classified')\n",
        "incorrect_idx = np.where(y_pred != y_train)[0]\n",
        "print(np.where(y_pred != y_train)[0])"
      ],
      "metadata": {
        "colab": {
          "base_uri": "https://localhost:8080/"
        },
        "id": "FpzID3dgAG_h",
        "outputId": "e1265576-c5c3-45a5-ad5a-903eb900ca2d"
      },
      "execution_count": 24,
      "outputs": [
        {
          "output_type": "stream",
          "name": "stdout",
          "text": [
            "sample correctly classified\n",
            "[ 2  3  6  9 12 13 15 17 23 24 26 28 34 35 45 46 48 50 51 52 54 57 60 62\n",
            " 68 71 72 73 74]\n",
            "sample incorrectly classified\n",
            "[ 0  1  4  5  7  8 10 11 14 16 18 19 20 21 22 25 27 29 30 31 32 33 36 37\n",
            " 38 39 40 41 42 43 44 47 49 53 55 56 58 59 61 63 64 65 66 67 69 70]\n"
          ]
        }
      ]
    },
    {
      "cell_type": "markdown",
      "source": [
        "### enumrate definition in python"
      ],
      "metadata": {
        "id": "ot63p5mqIXqa"
      }
    },
    {
      "cell_type": "code",
      "source": [
        "l1 = [\"eat\",\"sleep\",\"repeat\"]\n",
        " \n",
        "# printing the tuples in object directly\n",
        "for ele in enumerate(l1):\n",
        "    print (ele)\n",
        "print"
      ],
      "metadata": {
        "colab": {
          "base_uri": "https://localhost:8080/"
        },
        "id": "uwhBjF4oEYum",
        "outputId": "8b3fa22b-577f-48d0-8046-58963a3b8424"
      },
      "execution_count": 25,
      "outputs": [
        {
          "output_type": "stream",
          "name": "stdout",
          "text": [
            "(0, 'eat')\n",
            "(1, 'sleep')\n",
            "(2, 'repeat')\n"
          ]
        },
        {
          "output_type": "execute_result",
          "data": {
            "text/plain": [
              "<function print>"
            ]
          },
          "metadata": {},
          "execution_count": 25
        }
      ]
    },
    {
      "cell_type": "code",
      "source": [
        "# changing index and printing separately\n",
        "for count,ele in enumerate(l1,100):\n",
        "    print (count,ele)"
      ],
      "metadata": {
        "colab": {
          "base_uri": "https://localhost:8080/"
        },
        "id": "pq0RJc6PF5Op",
        "outputId": "97b65bfa-a151-4fc8-c143-b9c430efed11"
      },
      "execution_count": 26,
      "outputs": [
        {
          "output_type": "stream",
          "name": "stdout",
          "text": [
            "100 eat\n",
            "101 sleep\n",
            "102 repeat\n"
          ]
        }
      ]
    },
    {
      "cell_type": "code",
      "source": [
        "#getting desired output from tuple\n",
        "for count,ele in enumerate(l1):\n",
        "  print(count)\n",
        "  print(ele)"
      ],
      "metadata": {
        "colab": {
          "base_uri": "https://localhost:8080/"
        },
        "id": "kFcDTgjQILoM",
        "outputId": "71db3855-5362-48be-e7c3-21e6bfb91098"
      },
      "execution_count": 27,
      "outputs": [
        {
          "output_type": "stream",
          "name": "stdout",
          "text": [
            "0\n",
            "eat\n",
            "1\n",
            "sleep\n",
            "2\n",
            "repeat\n"
          ]
        }
      ]
    },
    {
      "cell_type": "code",
      "source": [
        "# Plot two dimensions\n",
        "plt.figure(figsize=(10, 6))\n",
        "colors = [\"darkblue\", \"darkgreen\", \"gray\"]\n",
        "\n",
        "for n, color in enumerate(colors):\n",
        "    idx = np.where(y_test == n)[0]\n",
        "    plt.scatter(X_test[idx, 1], X_test[idx, 2], color=color, label=\"Class %s\" % str(n))\n",
        "\n",
        "plt.scatter(X_test[incorrect_idx, 1], X_test[incorrect_idx, 2], color=\"darkred\")\n",
        "\n",
        "plt.xlabel('sepal width [cm]')\n",
        "plt.ylabel('petal length [cm]')\n",
        "plt.legend(loc=3)\n",
        "plt.title(\"Iris Classification results\")\n",
        "plt.show()"
      ],
      "metadata": {
        "colab": {
          "base_uri": "https://localhost:8080/",
          "height": 404
        },
        "id": "uMxfD2JOIOGv",
        "outputId": "13e34064-5aab-40ae-912a-7e7d5e3dfcf9"
      },
      "execution_count": 28,
      "outputs": [
        {
          "output_type": "display_data",
          "data": {
            "image/png": "[encoded data removed]",
            "text/plain": [
              "<Figure size 720x432 with 1 Axes>"
            ]
          },
          "metadata": {
            "needs_background": "light"
          }
        }
      ]
    },
    {
      "cell_type": "markdown",
      "source": [
        "# Supervised Learning -- Classification"
      ],
      "metadata": {
        "id": "ufxoRR8BL02n"
      }
    },
    {
      "cell_type": "code",
      "source": [
        "from sklearn.datasets import make_blobs\n",
        "\n",
        "X, y = make_blobs(centers=2, random_state=0)\n",
        "print('n_feature:', X.shape)\n",
        "print('n_target:', y.shape)"
      ],
      "metadata": {
        "colab": {
          "base_uri": "https://localhost:8080/"
        },
        "id": "9vbS6kNdJnA0",
        "outputId": "b469ded4-e2df-4731-f6a2-9584ae731176"
      },
      "execution_count": 29,
      "outputs": [
        {
          "output_type": "stream",
          "name": "stdout",
          "text": [
            "n_feature: (100, 2)\n",
            "n_target: (100,)\n"
          ]
        }
      ]
    },
    {
      "cell_type": "code",
      "source": [
        "plt.figure(figsize=(10, 6))\n",
        "plt.scatter(X[y == 0, 0], X[y == 0, 1], c='blue', s=40, label='0')\n",
        "plt.scatter(X[y == 1, 0], X[y == 1, 1], c='red', s=40, label='1', marker='s')\n",
        "\n",
        "plt.xlabel('first feature')\n",
        "plt.ylabel('second feature')\n",
        "plt.legend(loc='upper right');"
      ],
      "metadata": {
        "colab": {
          "base_uri": "https://localhost:8080/",
          "height": 388
        },
        "id": "MV3ZRG6VM7Eu",
        "outputId": "9289bd69-2613-44e0-8d30-084bf8cfaf57"
      },
      "execution_count": 30,
      "outputs": [
        {
          "output_type": "display_data",
          "data": {
            "image/png": "[encoded data removed]",
            "text/plain": [
              "<Figure size 720x432 with 1 Axes>"
            ]
          },
          "metadata": {
            "needs_background": "light"
          }
        }
      ]
    },
    {
      "cell_type": "code",
      "source": [
        "from sklearn.model_selection import train_test_split\n",
        "X_train, X_test, y_train, y_test = train_test_split(X, y, test_size=.3, stratify=y, random_state=123)"
      ],
      "metadata": {
        "id": "ZKM9WA-XNyRT"
      },
      "execution_count": 31,
      "outputs": []
    },
    {
      "cell_type": "code",
      "source": [
        "from sklearn.linear_model import LogisticRegression\n",
        "clf = LogisticRegression(verbose=True)"
      ],
      "metadata": {
        "id": "-TOwMULXOdMY"
      },
      "execution_count": 32,
      "outputs": []
    },
    {
      "cell_type": "code",
      "source": [
        "print(X_train.shape)\n",
        "print(y_train.shape)"
      ],
      "metadata": {
        "colab": {
          "base_uri": "https://localhost:8080/"
        },
        "id": "ajEqYE0EOv1v",
        "outputId": "0a3e267e-05bd-4907-9cfd-51352dadb082"
      },
      "execution_count": 33,
      "outputs": [
        {
          "output_type": "stream",
          "name": "stdout",
          "text": [
            "(70, 2)\n",
            "(70,)\n"
          ]
        }
      ]
    },
    {
      "cell_type": "code",
      "source": [
        "clf.fit(X_train, y_train)\n",
        "y_pred = clf.predict(X_test)\n",
        "print(np.mean(y_pred == y_test))"
      ],
      "metadata": {
        "colab": {
          "base_uri": "https://localhost:8080/"
        },
        "id": "mPgxMDmWO08G",
        "outputId": "14b464cd-7f76-4654-e1ed-9523b6d74cad"
      },
      "execution_count": 34,
      "outputs": [
        {
          "output_type": "stream",
          "name": "stdout",
          "text": [
            "0.9333333333333333\n"
          ]
        },
        {
          "output_type": "stream",
          "name": "stderr",
          "text": [
            "[Parallel(n_jobs=1)]: Using backend SequentialBackend with 1 concurrent workers.\n",
            "[Parallel(n_jobs=1)]: Done   1 out of   1 | elapsed:    0.0s finished\n"
          ]
        }
      ]
    },
    {
      "cell_type": "code",
      "source": [
        "print(clf.score(X_test, y_test))"
      ],
      "metadata": {
        "colab": {
          "base_uri": "https://localhost:8080/"
        },
        "id": "USL15vHJPvHw",
        "outputId": "cd81ac03-8c79-4c03-c819-d2c0fc3341b1"
      },
      "execution_count": 35,
      "outputs": [
        {
          "output_type": "stream",
          "name": "stdout",
          "text": [
            "0.9333333333333333\n"
          ]
        }
      ]
    },
    {
      "cell_type": "code",
      "source": [
        "print(clf.score(X_train, y_train))"
      ],
      "metadata": {
        "colab": {
          "base_uri": "https://localhost:8080/"
        },
        "id": "8rgLxIltQVeL",
        "outputId": "8ed24a70-4a92-421c-fd9f-e0b4432c874a"
      },
      "execution_count": 36,
      "outputs": [
        {
          "output_type": "stream",
          "name": "stdout",
          "text": [
            "0.9428571428571428\n"
          ]
        }
      ]
    },
    {
      "cell_type": "code",
      "source": [
        "\timport numpy as np\n",
        "import matplotlib.pyplot as plt\n",
        "\n",
        "\n",
        "def plot_2d_separator(classifier, X, fill=False, ax=None, eps=None):\n",
        "    if eps is None:\n",
        "        eps = X.std() / 2.\n",
        "    x_min, x_max = X[:, 0].min() - eps, X[:, 0].max() + eps\n",
        "    y_min, y_max = X[:, 1].min() - eps, X[:, 1].max() + eps\n",
        "    xx = np.linspace(x_min, x_max, 100)\n",
        "    yy = np.linspace(y_min, y_max, 100)\n",
        "\n",
        "    X1, X2 = np.meshgrid(xx, yy)\n",
        "    X_grid = np.c_[X1.ravel(), X2.ravel()]\n",
        "    try:\n",
        "        decision_values = classifier.decision_function(X_grid)\n",
        "        levels = [0]\n",
        "        fill_levels = [decision_values.min(), 0, decision_values.max()]\n",
        "    except AttributeError:\n",
        "        # no decision_function\n",
        "        decision_values = classifier.predict_proba(X_grid)[:, 1]\n",
        "        levels = [.5]\n",
        "        fill_levels = [0, .5, 1]\n",
        "\n",
        "    if ax is None:\n",
        "        ax = plt.gca()\n",
        "    if fill:\n",
        "        ax.contourf(X1, X2, decision_values.reshape(X1.shape),\n",
        "                    levels=fill_levels, colors=['blue', 'red'])\n",
        "    else:\n",
        "        ax.contour(X1, X2, decision_values.reshape(X1.shape), levels=levels,\n",
        "                   colors=\"black\")\n",
        "    ax.set_xlim(x_min, x_max)\n",
        "    ax.set_ylim(y_min, y_max)\n",
        "    ax.set_xticks(())\n",
        "    ax.set_yticks(())\n",
        "\n",
        "\n",
        "if __name__ == '__main__':\n",
        "    from sklearn.datasets import make_blobs\n",
        "    from sklearn.linear_model import LogisticRegression\n",
        "    X, y = make_blobs(centers=2, random_state=42)\n",
        "    clf = LogisticRegression().fit(X, y)\n",
        "    plot_2d_separator(clf, X, fill=True)\n",
        "    plt.scatter(X[:, 0], X[:, 1], c=y)\n",
        "    plt.show()"
      ],
      "metadata": {
        "colab": {
          "base_uri": "https://localhost:8080/",
          "height": 252
        },
        "id": "8N88l33dQgxi",
        "outputId": "bfa9b50c-16c4-44ff-b50e-cd61d728f5ce"
      },
      "execution_count": 37,
      "outputs": [
        {
          "output_type": "display_data",
          "data": {
            "image/png": "[encoded data removed]",
            "text/plain": [
              "<Figure size 432x288 with 1 Axes>"
            ]
          },
          "metadata": {}
        }
      ]
    },
    {
      "cell_type": "code",
      "source": [
        "plt.figure(figsize=(10, 6))\n",
        "# plot data\n",
        "plt.scatter(X[y == 0, 0], X[y == 0, 1], c='blue', s=40, label='0')\n",
        "plt.scatter(X[y == 1, 0], X[y == 1, 1], c='red', s=40, label='1', marker='s')\n",
        "\n",
        "# plot decision bounary\n",
        "plot_2d_separator(clf, X)\n",
        "\n",
        "plt.xlabel(\"first feature\")\n",
        "plt.ylabel(\"second feature\")\n",
        "plt.legend(loc='upper right');"
      ],
      "metadata": {
        "colab": {
          "base_uri": "https://localhost:8080/",
          "height": 370
        },
        "id": "IFEYk8QGRTEU",
        "outputId": "647ee46f-ad3b-4c52-cea7-3524026dbe73"
      },
      "execution_count": 38,
      "outputs": [
        {
          "output_type": "display_data",
          "data": {
            "image/png": "[encoded data removed]",
            "text/plain": [
              "<Figure size 720x432 with 1 Axes>"
            ]
          },
          "metadata": {}
        }
      ]
    },
    {
      "cell_type": "code",
      "source": [
        "print(clf.coef_)\n",
        "print(clf.intercept_)"
      ],
      "metadata": {
        "colab": {
          "base_uri": "https://localhost:8080/"
        },
        "id": "sjxZR3jiRZ-L",
        "outputId": "39882320-bb4d-49fc-fe4e-22858e086e08"
      },
      "execution_count": 39,
      "outputs": [
        {
          "output_type": "stream",
          "name": "stdout",
          "text": [
            "[[ 0.97796003 -0.82847741]]\n",
            "[3.65752464]\n"
          ]
        }
      ]
    },
    {
      "cell_type": "code",
      "source": [
        ""
      ],
      "metadata": {
        "id": "FMQwsBj48LNL"
      },
      "execution_count": null,
      "outputs": []
    }
  ]
}