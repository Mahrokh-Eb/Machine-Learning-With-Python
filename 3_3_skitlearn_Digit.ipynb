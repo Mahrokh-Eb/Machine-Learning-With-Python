{
  "nbformat": 4,
  "nbformat_minor": 0,
  "metadata": {
    "colab": {
      "name": "3-3- skitlearn-Digit.ipynb",
      "provenance": [],
      "authorship_tag": "ABX9TyPLhqRVtmE9p1v0LPaXDQLk",
      "include_colab_link": true
    },
    "kernelspec": {
      "name": "python3",
      "display_name": "Python 3"
    },
    "language_info": {
      "name": "python"
    }
  },
  "cells": [
    {
      "cell_type": "markdown",
      "metadata": {
        "id": "view-in-github",
        "colab_type": "text"
      },
      "source": [
        "<a href=\"https://colab.research.google.com/github/Mahrokh-Eb/Machine-Learning-With-Python/blob/master/3_3_skitlearn_Digit.ipynb\" target=\"_parent\"><img src=\"https://colab.research.google.com/assets/colab-badge.svg\" alt=\"Open In Colab\"/></a>"
      ]
    },
    {
      "cell_type": "code",
      "execution_count": 2,
      "metadata": {
        "id": "x-85VBEgDwTe"
      },
      "outputs": [],
      "source": [
        "#!pip3 install bcolz "
      ]
    },
    {
      "cell_type": "code",
      "source": [
        "#from google.colab import drive\n",
        "#drive.mount('/content/drive')"
      ],
      "metadata": {
        "id": "KC3mO1VSEOeB"
      },
      "execution_count": 3,
      "outputs": []
    },
    {
      "cell_type": "code",
      "source": [
        "#%cd /content/drive/MyDrive/numpy/cifar-10-batches-py"
      ],
      "metadata": {
        "id": "LPJgT1FNEg73"
      },
      "execution_count": 4,
      "outputs": []
    },
    {
      "cell_type": "code",
      "source": [
        "import sklearn\n",
        "import numpy as np\n",
        "import matplotlib.pyplot as plt\n",
        "from sklearn.datasets import load_digits"
      ],
      "metadata": {
        "id": "vm-iLhVNEkxB"
      },
      "execution_count": 37,
      "outputs": []
    },
    {
      "cell_type": "code",
      "source": [
        "digits = load_digits()"
      ],
      "metadata": {
        "id": "EQ4qtGlC6H4l"
      },
      "execution_count": 24,
      "outputs": []
    },
    {
      "cell_type": "code",
      "source": [
        "print(digits.keys())"
      ],
      "metadata": {
        "colab": {
          "base_uri": "https://localhost:8080/"
        },
        "id": "Wu1ooZj-zLLP",
        "outputId": "c048dd52-1aff-42d5-aa9d-8a0e9c1f949f"
      },
      "execution_count": 25,
      "outputs": [
        {
          "output_type": "stream",
          "name": "stdout",
          "text": [
            "dict_keys(['data', 'target', 'frame', 'feature_names', 'target_names', 'images', 'DESCR'])\n"
          ]
        }
      ]
    },
    {
      "cell_type": "code",
      "source": [
        "print(digits.data[0])"
      ],
      "metadata": {
        "colab": {
          "base_uri": "https://localhost:8080/"
        },
        "id": "aj2i3P2TzSBQ",
        "outputId": "bf4fc5ef-0560-44d3-8014-5a6ef5e629cb"
      },
      "execution_count": 26,
      "outputs": [
        {
          "output_type": "stream",
          "name": "stdout",
          "text": [
            "[ 0.  0.  5. 13.  9.  1.  0.  0.  0.  0. 13. 15. 10. 15.  5.  0.  0.  3.\n",
            " 15.  2.  0. 11.  8.  0.  0.  4. 12.  0.  0.  8.  8.  0.  0.  5.  8.  0.\n",
            "  0.  9.  8.  0.  0.  4. 11.  0.  1. 12.  7.  0.  0.  2. 14.  5. 10. 12.\n",
            "  0.  0.  0.  0.  6. 13. 10.  0.  0.  0.]\n"
          ]
        }
      ]
    },
    {
      "cell_type": "code",
      "source": [
        "print(digits.target)"
      ],
      "metadata": {
        "colab": {
          "base_uri": "https://localhost:8080/"
        },
        "id": "We7jDJOyzWlw",
        "outputId": "39240068-4462-49f5-b101-49bad728c0f5"
      },
      "execution_count": 27,
      "outputs": [
        {
          "output_type": "stream",
          "name": "stdout",
          "text": [
            "[0 1 2 ... 8 9 8]\n"
          ]
        }
      ]
    },
    {
      "cell_type": "code",
      "source": [
        "X, y = digits.data, digits.target"
      ],
      "metadata": {
        "id": "hzCywLjIzxXV"
      },
      "execution_count": 28,
      "outputs": []
    },
    {
      "cell_type": "code",
      "source": [
        "# Step 1\n",
        "from sklearn.neural_network import MLPClassifier\n",
        "clf = MLPClassifier()"
      ],
      "metadata": {
        "id": "mmrZL2l7z-Bk"
      },
      "execution_count": 29,
      "outputs": []
    },
    {
      "cell_type": "code",
      "source": [
        "from sklearn.model_selection import train_test_split\n",
        "X_train, X_test, y_train, y_test = train_test_split(X, y, test_size=.3)"
      ],
      "metadata": {
        "id": "rX2M7NWD0Onn"
      },
      "execution_count": 30,
      "outputs": []
    },
    {
      "cell_type": "code",
      "source": [
        "clf.fit(X_train, y_train)\n",
        "y_pred = clf.predict(X_test)"
      ],
      "metadata": {
        "id": "MdyHAB4P090S"
      },
      "execution_count": 31,
      "outputs": []
    },
    {
      "cell_type": "code",
      "source": [
        "from sklearn.metrics import accuracy_score\n",
        "print('accuracy = %.2f' %accuracy_score(y_test, y_pred))"
      ],
      "metadata": {
        "colab": {
          "base_uri": "https://localhost:8080/"
        },
        "id": "KOEWtfQF1EU7",
        "outputId": "a9ed3754-fc3f-451a-a1c8-6343fadf8784"
      },
      "execution_count": 32,
      "outputs": [
        {
          "output_type": "stream",
          "name": "stdout",
          "text": [
            "accuracy = 0.98\n"
          ]
        }
      ]
    },
    {
      "cell_type": "code",
      "source": [
        "y4 = np.mean(y_test == y_pred)\n",
        "print(y4)\n",
        "print('accuracy = %.2f' %np.mean(y_test==y_pred))"
      ],
      "metadata": {
        "colab": {
          "base_uri": "https://localhost:8080/"
        },
        "id": "CD-RaY4l1yPJ",
        "outputId": "4792adf8-d8a9-4f4d-c14a-cf622ef4e8fd"
      },
      "execution_count": 34,
      "outputs": [
        {
          "output_type": "stream",
          "name": "stdout",
          "text": [
            "0.9777777777777777\n",
            "accuracy = 0.98\n"
          ]
        }
      ]
    },
    {
      "cell_type": "code",
      "source": [
        "from IPython.core.display import Image\n",
        "from sklearn.metrics import confusion_matrix\n",
        "cm = confusion_matrix(y_test, y_pred)\n",
        "print(cm)\n",
        "plt.imshow(cm, cmap=plt.cm.Greens)\n",
        "plt.colorbar()\n",
        "plt.show()"
      ],
      "metadata": {
        "colab": {
          "base_uri": "https://localhost:8080/",
          "height": 438
        },
        "id": "V9lBotmQ2Ets",
        "outputId": "584a1125-afe5-433c-a301-63fb7b744250"
      },
      "execution_count": 47,
      "outputs": [
        {
          "output_type": "stream",
          "name": "stdout",
          "text": [
            "[[59  0  0  0  0  0  0  0  0  0]\n",
            " [ 0 53  0  0  0  0  0  0  0  0]\n",
            " [ 0  0 50  1  0  0  0  0  0  0]\n",
            " [ 0  0  0 55  0  1  0  0  1  0]\n",
            " [ 0  0  0  0 50  0  0  0  0  0]\n",
            " [ 0  0  0  0  0 42  1  0  1  1]\n",
            " [ 0  0  0  0  2  0 53  0  1  0]\n",
            " [ 0  0  0  0  0  0  0 57  0  0]\n",
            " [ 0  1  1  0  0  0  0  1 57  0]\n",
            " [ 0  0  0  0  0  0  0  0  0 52]]\n"
          ]
        },
        {
          "output_type": "display_data",
          "data": {
            "image/png": "[encoded data removed]",
            "text/plain": [
              "<Figure size 432x288 with 2 Axes>"
            ]
          },
          "metadata": {
            "needs_background": "light"
          }
        }
      ]
    },
    {
      "cell_type": "code",
      "source": [
        ""
      ],
      "metadata": {
        "id": "2rzoYNrS23xr"
      },
      "execution_count": null,
      "outputs": []
    }
  ]
}