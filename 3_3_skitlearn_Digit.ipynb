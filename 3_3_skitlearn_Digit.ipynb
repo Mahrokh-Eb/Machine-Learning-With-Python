{
  "nbformat": 4,
  "nbformat_minor": 0,
  "metadata": {
    "colab": {
      "name": "3-3- skitlearn-Digit.ipynb",
      "provenance": [],
      "authorship_tag": "ABX9TyOyMzy8Rsv/+dgxzd8COrJq",
      "include_colab_link": true
    },
    "kernelspec": {
      "name": "python3",
      "display_name": "Python 3"
    },
    "language_info": {
      "name": "python"
    }
  },
  "cells": [
    {
      "cell_type": "markdown",
      "metadata": {
        "id": "view-in-github",
        "colab_type": "text"
      },
      "source": [
        "<a href=\"https://colab.research.google.com/github/Mahrokh-Eb/Machine-Learning-With-Python/blob/master/3_3_skitlearn_Digit.ipynb\" target=\"_parent\"><img src=\"https://colab.research.google.com/assets/colab-badge.svg\" alt=\"Open In Colab\"/></a>"
      ]
    },
    {
      "cell_type": "code",
      "execution_count": 1,
      "metadata": {
        "id": "x-85VBEgDwTe"
      },
      "outputs": [],
      "source": [
        "#!pip3 install bcolz "
      ]
    },
    {
      "cell_type": "code",
      "source": [
        "#from google.colab import drive\n",
        "#drive.mount('/content/drive')"
      ],
      "metadata": {
        "id": "KC3mO1VSEOeB"
      },
      "execution_count": 2,
      "outputs": []
    },
    {
      "cell_type": "code",
      "source": [
        "#%cd /content/drive/MyDrive/numpy/cifar-10-batches-py"
      ],
      "metadata": {
        "id": "LPJgT1FNEg73"
      },
      "execution_count": 3,
      "outputs": []
    },
    {
      "cell_type": "code",
      "source": [
        "import sklearn\n",
        "import numpy as np\n",
        "import matplotlib.pyplot as plt\n",
        "from sklearn.datasets import load_digits"
      ],
      "metadata": {
        "id": "vm-iLhVNEkxB"
      },
      "execution_count": 4,
      "outputs": []
    },
    {
      "cell_type": "code",
      "source": [
        "digits = load_digits()"
      ],
      "metadata": {
        "id": "EQ4qtGlC6H4l"
      },
      "execution_count": 5,
      "outputs": []
    },
    {
      "cell_type": "code",
      "source": [
        "print(digits.keys())"
      ],
      "metadata": {
        "colab": {
          "base_uri": "https://localhost:8080/"
        },
        "id": "Wu1ooZj-zLLP",
        "outputId": "f0910126-f1b7-4f6a-eacc-41e78b4188b4"
      },
      "execution_count": 6,
      "outputs": [
        {
          "output_type": "stream",
          "name": "stdout",
          "text": [
            "dict_keys(['data', 'target', 'frame', 'feature_names', 'target_names', 'images', 'DESCR'])\n"
          ]
        }
      ]
    },
    {
      "cell_type": "code",
      "source": [
        "print(digits.data[0])"
      ],
      "metadata": {
        "colab": {
          "base_uri": "https://localhost:8080/"
        },
        "id": "aj2i3P2TzSBQ",
        "outputId": "e26ea957-0595-4301-9c1d-12394c314e1e"
      },
      "execution_count": 7,
      "outputs": [
        {
          "output_type": "stream",
          "name": "stdout",
          "text": [
            "[ 0.  0.  5. 13.  9.  1.  0.  0.  0.  0. 13. 15. 10. 15.  5.  0.  0.  3.\n",
            " 15.  2.  0. 11.  8.  0.  0.  4. 12.  0.  0.  8.  8.  0.  0.  5.  8.  0.\n",
            "  0.  9.  8.  0.  0.  4. 11.  0.  1. 12.  7.  0.  0.  2. 14.  5. 10. 12.\n",
            "  0.  0.  0.  0.  6. 13. 10.  0.  0.  0.]\n"
          ]
        }
      ]
    },
    {
      "cell_type": "code",
      "source": [
        "print(digits.target)"
      ],
      "metadata": {
        "colab": {
          "base_uri": "https://localhost:8080/"
        },
        "id": "We7jDJOyzWlw",
        "outputId": "ca3cd4ef-3e07-47fa-f2f9-fae0e2cb6a07"
      },
      "execution_count": 8,
      "outputs": [
        {
          "output_type": "stream",
          "name": "stdout",
          "text": [
            "[0 1 2 ... 8 9 8]\n"
          ]
        }
      ]
    },
    {
      "cell_type": "code",
      "source": [
        "X, y = digits.data, digits.target"
      ],
      "metadata": {
        "id": "hzCywLjIzxXV"
      },
      "execution_count": 9,
      "outputs": []
    },
    {
      "cell_type": "code",
      "source": [
        "# Step 1\n",
        "from sklearn.neural_network import MLPClassifier\n",
        "clf = MLPClassifier()"
      ],
      "metadata": {
        "id": "mmrZL2l7z-Bk"
      },
      "execution_count": 10,
      "outputs": []
    },
    {
      "cell_type": "code",
      "source": [
        "from sklearn.model_selection import train_test_split\n",
        "X_train, X_test, y_train, y_test = train_test_split(X, y, test_size=.3)"
      ],
      "metadata": {
        "id": "rX2M7NWD0Onn"
      },
      "execution_count": 11,
      "outputs": []
    },
    {
      "cell_type": "code",
      "source": [
        "clf.fit(X_train, y_train)\n",
        "y_pred = clf.predict(X_test)"
      ],
      "metadata": {
        "id": "MdyHAB4P090S"
      },
      "execution_count": 12,
      "outputs": []
    },
    {
      "cell_type": "code",
      "source": [
        "from sklearn.metrics import accuracy_score\n",
        "print('accuracy = %.2f' %accuracy_score(y_test, y_pred))"
      ],
      "metadata": {
        "colab": {
          "base_uri": "https://localhost:8080/"
        },
        "id": "KOEWtfQF1EU7",
        "outputId": "1e5491b5-b9ef-43b4-dc0a-da032be3d792"
      },
      "execution_count": 13,
      "outputs": [
        {
          "output_type": "stream",
          "name": "stdout",
          "text": [
            "accuracy = 0.97\n"
          ]
        }
      ]
    },
    {
      "cell_type": "code",
      "source": [
        "y4 = np.mean(y_test == y_pred)\n",
        "print(y4)\n",
        "print('accuracy = %.2f' %np.mean(y_test==y_pred))"
      ],
      "metadata": {
        "colab": {
          "base_uri": "https://localhost:8080/"
        },
        "id": "CD-RaY4l1yPJ",
        "outputId": "f9b807da-6a41-4263-dbb8-1bcb41d938aa"
      },
      "execution_count": 14,
      "outputs": [
        {
          "output_type": "stream",
          "name": "stdout",
          "text": [
            "0.9703703703703703\n",
            "accuracy = 0.97\n"
          ]
        }
      ]
    },
    {
      "cell_type": "code",
      "source": [
        "from IPython.core.display import Image\n",
        "from sklearn.metrics import confusion_matrix\n",
        "cm = confusion_matrix(y_test, y_pred)\n",
        "print(cm)\n",
        "plt.imshow(cm, cmap=plt.cm.Greens)\n",
        "plt.colorbar()\n",
        "plt.show()"
      ],
      "metadata": {
        "colab": {
          "base_uri": "https://localhost:8080/",
          "height": 440
        },
        "id": "V9lBotmQ2Ets",
        "outputId": "1dc9b6e3-02f7-4ab2-9d6c-e0929ea916f6"
      },
      "execution_count": 15,
      "outputs": [
        {
          "output_type": "stream",
          "name": "stdout",
          "text": [
            "[[61  0  0  0  1  0  0  0  0  0]\n",
            " [ 0 45  0  0  0  0  0  0  0  0]\n",
            " [ 1  0 56  0  0  0  0  0  0  0]\n",
            " [ 0  0  0 52  0  0  0  0  1  0]\n",
            " [ 1  0  0  0 60  0  0  0  1  0]\n",
            " [ 1  0  0  0  0 47  0  0  0  1]\n",
            " [ 0  0  0  0  0  1 55  0  1  0]\n",
            " [ 0  0  0  0  0  0  0 45  0  2]\n",
            " [ 0  2  1  0  0  0  0  0 47  0]\n",
            " [ 0  1  0  0  0  1  0  0  0 56]]\n"
          ]
        },
        {
          "output_type": "display_data",
          "data": {
            "image/png": "[encoded data removed]",
            "text/plain": [
              "<Figure size 432x288 with 2 Axes>"
            ]
          },
          "metadata": {
            "needs_background": "light"
          }
        }
      ]
    },
    {
      "cell_type": "markdown",
      "source": [
        "# Iris , K_Nearest Neighbor Classifier"
      ],
      "metadata": {
        "id": "kT1uDw__-QW2"
      }
    },
    {
      "cell_type": "code",
      "source": [
        "from sklearn.datasets import load_iris\n",
        "\n",
        "from sklearn.neighbors import KNeighborsClassifier\n",
        "clf = KNeighborsClassifier(n_neighbors=3)\n",
        "\n",
        "iris = load_iris()"
      ],
      "metadata": {
        "id": "2rzoYNrS23xr"
      },
      "execution_count": 16,
      "outputs": []
    },
    {
      "cell_type": "code",
      "source": [
        "X, y = iris.data, iris.target\n",
        "\n",
        "from sklearn.model_selection import train_test_split\n",
        "X_train, X_test, y_train, y_test = train_test_split(X, y, test_size=.5, random_state=123)\n",
        "print(\"y_train\")\n",
        "print(y_train)\n",
        "print('y_test')\n",
        "print(y_test)"
      ],
      "metadata": {
        "colab": {
          "base_uri": "https://localhost:8080/"
        },
        "id": "zo_G6z1Y_ETq",
        "outputId": "39432446-aeb5-4c14-e705-320569362a5a"
      },
      "execution_count": 17,
      "outputs": [
        {
          "output_type": "stream",
          "name": "stdout",
          "text": [
            "y_train\n",
            "[1 1 0 2 2 0 0 1 1 2 0 0 1 0 1 2 0 2 0 0 1 0 0 1 2 1 1 1 0 0 1 2 0 0 1 1 1\n",
            " 2 1 1 1 2 0 0 1 2 2 2 2 0 1 0 1 1 0 1 2 1 2 2 0 1 0 2 2 1 1 2 2 1 0 1 1 2\n",
            " 2]\n",
            "y_test\n",
            "[1 2 2 1 0 2 1 0 0 1 2 0 1 2 2 2 0 0 1 0 0 2 0 2 0 0 0 2 2 0 2 2 0 0 1 1 2\n",
            " 0 0 1 1 0 2 2 2 2 2 1 0 0 2 0 0 1 1 1 1 2 1 2 0 2 1 0 0 2 1 2 2 0 1 1 2 0\n",
            " 2]\n"
          ]
        }
      ]
    },
    {
      "cell_type": "code",
      "source": [
        "labels = np.unique(y)\n",
        "print(labels)\n",
        "\n",
        "labels, counts= np.unique(y, return_counts=True)\n",
        "print(counts/len(y))"
      ],
      "metadata": {
        "colab": {
          "base_uri": "https://localhost:8080/"
        },
        "id": "9Dww93SUBQtr",
        "outputId": "f7ced20c-94b3-401c-c835-f7501d404b04"
      },
      "execution_count": 18,
      "outputs": [
        {
          "output_type": "stream",
          "name": "stdout",
          "text": [
            "[0 1 2]\n",
            "[0.33333333 0.33333333 0.33333333]\n"
          ]
        }
      ]
    },
    {
      "cell_type": "code",
      "source": [
        "labels, counts = np.unique(y_train, return_counts=True)\n",
        "print(counts/len(y_train))"
      ],
      "metadata": {
        "colab": {
          "base_uri": "https://localhost:8080/"
        },
        "id": "GYqem1MbCfqd",
        "outputId": "18b0506a-87ee-4715-9060-0dbc9f823a9b"
      },
      "execution_count": 19,
      "outputs": [
        {
          "output_type": "stream",
          "name": "stdout",
          "text": [
            "[0.30666667 0.4        0.29333333]\n"
          ]
        }
      ]
    },
    {
      "cell_type": "code",
      "source": [
        "X_train, X_test, y_train, y_test = train_test_split(X, y, test_size=.5, random_state=123, stratify=y)"
      ],
      "metadata": {
        "id": "2NyX-pt1DaHT"
      },
      "execution_count": 20,
      "outputs": []
    },
    {
      "cell_type": "code",
      "source": [
        "labels, counts = np.unique(y_train, return_counts=True)\n",
        "print(counts/len(y_train))"
      ],
      "metadata": {
        "colab": {
          "base_uri": "https://localhost:8080/"
        },
        "id": "1YtFyva5De4N",
        "outputId": "3247edf1-dd40-42c2-f24f-8ca85802739e"
      },
      "execution_count": 21,
      "outputs": [
        {
          "output_type": "stream",
          "name": "stdout",
          "text": [
            "[0.33333333 0.33333333 0.33333333]\n"
          ]
        }
      ]
    },
    {
      "cell_type": "code",
      "source": [
        "labels, counts = np.unique(y_test, return_counts=True)\n",
        "print(counts/len(y_train))"
      ],
      "metadata": {
        "colab": {
          "base_uri": "https://localhost:8080/"
        },
        "id": "f9K1S_HUDuAX",
        "outputId": "01bb7c0d-2e99-4876-eb0a-51c83349eff6"
      },
      "execution_count": 22,
      "outputs": [
        {
          "output_type": "stream",
          "name": "stdout",
          "text": [
            "[0.33333333 0.33333333 0.33333333]\n"
          ]
        }
      ]
    },
    {
      "cell_type": "code",
      "source": [
        "clf.fit(X_train, y_train)\n",
        "y_pred = clf.predict(X_test)\n",
        "\n",
        "print('accuracy = %.2f' %accuracy_score(y_test, y_pred)+ '%')"
      ],
      "metadata": {
        "colab": {
          "base_uri": "https://localhost:8080/"
        },
        "id": "ij4XpiYB_iSv",
        "outputId": "f4134e5a-d8b1-46cc-cd55-44c1db094735"
      },
      "execution_count": 23,
      "outputs": [
        {
          "output_type": "stream",
          "name": "stdout",
          "text": [
            "accuracy = 0.95%\n"
          ]
        }
      ]
    },
    {
      "cell_type": "code",
      "source": [
        "print('sample correctly classified')\n",
        "print(np.where(y_pred == y_train)[0])\n",
        "\n",
        "print('sample incorrectly classified')\n",
        "incorrect_idx = np.where(y_pred != y_train)[0]\n",
        "print(np.where(y_pred != y_train)[0])"
      ],
      "metadata": {
        "colab": {
          "base_uri": "https://localhost:8080/"
        },
        "id": "FpzID3dgAG_h",
        "outputId": "8b9bfae7-56d0-4bec-b1a7-142970cc6126"
      },
      "execution_count": 24,
      "outputs": [
        {
          "output_type": "stream",
          "name": "stdout",
          "text": [
            "sample correctly classified\n",
            "[ 2  3  6  9 12 13 15 17 23 24 26 28 34 35 45 46 48 50 51 52 54 57 60 62\n",
            " 68 71 72 73 74]\n",
            "sample incorrectly classified\n",
            "[ 0  1  4  5  7  8 10 11 14 16 18 19 20 21 22 25 27 29 30 31 32 33 36 37\n",
            " 38 39 40 41 42 43 44 47 49 53 55 56 58 59 61 63 64 65 66 67 69 70]\n"
          ]
        }
      ]
    },
    {
      "cell_type": "markdown",
      "source": [
        "### enumrate definition in python"
      ],
      "metadata": {
        "id": "ot63p5mqIXqa"
      }
    },
    {
      "cell_type": "code",
      "source": [
        "l1 = [\"eat\",\"sleep\",\"repeat\"]\n",
        " \n",
        "# printing the tuples in object directly\n",
        "for ele in enumerate(l1):\n",
        "    print (ele)\n",
        "print"
      ],
      "metadata": {
        "colab": {
          "base_uri": "https://localhost:8080/"
        },
        "id": "uwhBjF4oEYum",
        "outputId": "e75d2410-7045-4c69-d9cc-ac4e0fc1545a"
      },
      "execution_count": 25,
      "outputs": [
        {
          "output_type": "stream",
          "name": "stdout",
          "text": [
            "(0, 'eat')\n",
            "(1, 'sleep')\n",
            "(2, 'repeat')\n"
          ]
        },
        {
          "output_type": "execute_result",
          "data": {
            "text/plain": [
              "<function print>"
            ]
          },
          "metadata": {},
          "execution_count": 25
        }
      ]
    },
    {
      "cell_type": "code",
      "source": [
        "# changing index and printing separately\n",
        "for count,ele in enumerate(l1,100):\n",
        "    print (count,ele)"
      ],
      "metadata": {
        "colab": {
          "base_uri": "https://localhost:8080/"
        },
        "id": "pq0RJc6PF5Op",
        "outputId": "1433a8ea-227f-4e24-8f0e-5ccf026f6502"
      },
      "execution_count": 26,
      "outputs": [
        {
          "output_type": "stream",
          "name": "stdout",
          "text": [
            "100 eat\n",
            "101 sleep\n",
            "102 repeat\n"
          ]
        }
      ]
    },
    {
      "cell_type": "code",
      "source": [
        "#getting desired output from tuple\n",
        "for count,ele in enumerate(l1):\n",
        "  print(count)\n",
        "  print(ele)"
      ],
      "metadata": {
        "colab": {
          "base_uri": "https://localhost:8080/"
        },
        "id": "kFcDTgjQILoM",
        "outputId": "a2683a15-2ae5-4f4d-de58-5e25c6e6c9de"
      },
      "execution_count": 27,
      "outputs": [
        {
          "output_type": "stream",
          "name": "stdout",
          "text": [
            "0\n",
            "eat\n",
            "1\n",
            "sleep\n",
            "2\n",
            "repeat\n"
          ]
        }
      ]
    },
    {
      "cell_type": "code",
      "source": [
        "# Plot two dimensions\n",
        "plt.figure(figsize=(10, 6))\n",
        "colors = [\"darkblue\", \"darkgreen\", \"gray\"]\n",
        "\n",
        "for n, color in enumerate(colors):\n",
        "    idx = np.where(y_test == n)[0]\n",
        "    plt.scatter(X_test[idx, 1], X_test[idx, 2], color=color, label=\"Class %s\" % str(n))\n",
        "\n",
        "plt.scatter(X_test[incorrect_idx, 1], X_test[incorrect_idx, 2], color=\"darkred\")\n",
        "\n",
        "plt.xlabel('sepal width [cm]')\n",
        "plt.ylabel('petal length [cm]')\n",
        "plt.legend(loc=3)\n",
        "plt.title(\"Iris Classification results\")\n",
        "plt.show()"
      ],
      "metadata": {
        "colab": {
          "base_uri": "https://localhost:8080/",
          "height": 404
        },
        "id": "uMxfD2JOIOGv",
        "outputId": "e33b6cdf-2ad0-4270-908c-3e37d761084d"
      },
      "execution_count": 28,
      "outputs": [
        {
          "output_type": "display_data",
          "data": {
            "image/png": "[encoded data removed]",
            "text/plain": [
              "<Figure size 720x432 with 1 Axes>"
            ]
          },
          "metadata": {
            "needs_background": "light"
          }
        }
      ]
    },
    {
      "cell_type": "markdown",
      "source": [
        "# Supervised Learning -- Classification"
      ],
      "metadata": {
        "id": "ufxoRR8BL02n"
      }
    },
    {
      "cell_type": "code",
      "source": [
        "from sklearn.datasets import make_blobs\n",
        "\n",
        "X, y = make_blobs(centers=2, random_state=0)\n",
        "print('n_feature:', X.shape)\n",
        "print('n_target:', y.shape)"
      ],
      "metadata": {
        "colab": {
          "base_uri": "https://localhost:8080/"
        },
        "id": "9vbS6kNdJnA0",
        "outputId": "5e373b48-45d7-4650-ea7d-daaba64f4659"
      },
      "execution_count": 29,
      "outputs": [
        {
          "output_type": "stream",
          "name": "stdout",
          "text": [
            "n_feature: (100, 2)\n",
            "n_target: (100,)\n"
          ]
        }
      ]
    },
    {
      "cell_type": "code",
      "source": [
        "plt.figure(figsize=(10, 6))\n",
        "plt.scatter(X[y == 0, 0], X[y == 0, 1], c='blue', s=40, label='0')\n",
        "plt.scatter(X[y == 1, 0], X[y == 1, 1], c='red', s=40, label='1', marker='s')\n",
        "\n",
        "plt.xlabel('first feature')\n",
        "plt.ylabel('second feature')\n",
        "plt.legend(loc='upper right');"
      ],
      "metadata": {
        "colab": {
          "base_uri": "https://localhost:8080/",
          "height": 388
        },
        "id": "MV3ZRG6VM7Eu",
        "outputId": "de42baa6-6648-4cfa-8c54-fcb04cbce3b7"
      },
      "execution_count": 30,
      "outputs": [
        {
          "output_type": "display_data",
          "data": {
            "image/png": "[encoded data removed]",
            "text/plain": [
              "<Figure size 720x432 with 1 Axes>"
            ]
          },
          "metadata": {
            "needs_background": "light"
          }
        }
      ]
    },
    {
      "cell_type": "code",
      "source": [
        "from sklearn.model_selection import train_test_split\n",
        "X_train, X_test, y_train, y_test = train_test_split(X, y, test_size=.3, stratify=y, random_state=123)"
      ],
      "metadata": {
        "id": "ZKM9WA-XNyRT"
      },
      "execution_count": 31,
      "outputs": []
    },
    {
      "cell_type": "code",
      "source": [
        "from sklearn.linear_model import LogisticRegression\n",
        "clf = LogisticRegression(verbose=True)"
      ],
      "metadata": {
        "id": "-TOwMULXOdMY"
      },
      "execution_count": 32,
      "outputs": []
    },
    {
      "cell_type": "code",
      "source": [
        "print(X_train.shape)\n",
        "print(y_train.shape)"
      ],
      "metadata": {
        "colab": {
          "base_uri": "https://localhost:8080/"
        },
        "id": "ajEqYE0EOv1v",
        "outputId": "fdda7fc8-8fc8-4cea-f2d5-61e697b02549"
      },
      "execution_count": 33,
      "outputs": [
        {
          "output_type": "stream",
          "name": "stdout",
          "text": [
            "(70, 2)\n",
            "(70,)\n"
          ]
        }
      ]
    },
    {
      "cell_type": "code",
      "source": [
        "clf.fit(X_train, y_train)\n",
        "y_pred = clf.predict(X_test)\n",
        "print(np.mean(y_pred == y_test))"
      ],
      "metadata": {
        "colab": {
          "base_uri": "https://localhost:8080/"
        },
        "id": "mPgxMDmWO08G",
        "outputId": "4fc632fd-3327-4376-87de-703104928fa1"
      },
      "execution_count": 34,
      "outputs": [
        {
          "output_type": "stream",
          "name": "stdout",
          "text": [
            "0.9333333333333333\n"
          ]
        },
        {
          "output_type": "stream",
          "name": "stderr",
          "text": [
            "[Parallel(n_jobs=1)]: Using backend SequentialBackend with 1 concurrent workers.\n",
            "[Parallel(n_jobs=1)]: Done   1 out of   1 | elapsed:    0.0s finished\n"
          ]
        }
      ]
    },
    {
      "cell_type": "code",
      "source": [
        "print(clf.score(X_test, y_test))"
      ],
      "metadata": {
        "colab": {
          "base_uri": "https://localhost:8080/"
        },
        "id": "USL15vHJPvHw",
        "outputId": "0d500597-ae7a-4ef5-a023-563dccc44d2b"
      },
      "execution_count": 35,
      "outputs": [
        {
          "output_type": "stream",
          "name": "stdout",
          "text": [
            "0.9333333333333333\n"
          ]
        }
      ]
    },
    {
      "cell_type": "code",
      "source": [
        "print(clf.score(X_train, y_train))"
      ],
      "metadata": {
        "colab": {
          "base_uri": "https://localhost:8080/"
        },
        "id": "8rgLxIltQVeL",
        "outputId": "df3b3154-256f-48c4-d1c4-01e71ff54adc"
      },
      "execution_count": 36,
      "outputs": [
        {
          "output_type": "stream",
          "name": "stdout",
          "text": [
            "0.9428571428571428\n"
          ]
        }
      ]
    },
    {
      "cell_type": "code",
      "source": [
        "\timport numpy as np\n",
        "import matplotlib.pyplot as plt\n",
        "\n",
        "\n",
        "def plot_2d_separator(classifier, X, fill=False, ax=None, eps=None):\n",
        "    if eps is None:\n",
        "        eps = X.std() / 2.\n",
        "    x_min, x_max = X[:, 0].min() - eps, X[:, 0].max() + eps\n",
        "    y_min, y_max = X[:, 1].min() - eps, X[:, 1].max() + eps\n",
        "    xx = np.linspace(x_min, x_max, 100)\n",
        "    yy = np.linspace(y_min, y_max, 100)\n",
        "\n",
        "    X1, X2 = np.meshgrid(xx, yy)\n",
        "    X_grid = np.c_[X1.ravel(), X2.ravel()]\n",
        "    try:\n",
        "        decision_values = classifier.decision_function(X_grid)\n",
        "        levels = [0]\n",
        "        fill_levels = [decision_values.min(), 0, decision_values.max()]\n",
        "    except AttributeError:\n",
        "        # no decision_function\n",
        "        decision_values = classifier.predict_proba(X_grid)[:, 1]\n",
        "        levels = [.5]\n",
        "        fill_levels = [0, .5, 1]\n",
        "\n",
        "    if ax is None:\n",
        "        ax = plt.gca()\n",
        "    if fill:\n",
        "        ax.contourf(X1, X2, decision_values.reshape(X1.shape),\n",
        "                    levels=fill_levels, colors=['blue', 'red'])\n",
        "    else:\n",
        "        ax.contour(X1, X2, decision_values.reshape(X1.shape), levels=levels,\n",
        "                   colors=\"black\")\n",
        "    ax.set_xlim(x_min, x_max)\n",
        "    ax.set_ylim(y_min, y_max)\n",
        "    ax.set_xticks(())\n",
        "    ax.set_yticks(())\n",
        "\n",
        "\n",
        "if __name__ == '__main__':\n",
        "    from sklearn.datasets import make_blobs\n",
        "    from sklearn.linear_model import LogisticRegression\n",
        "    X, y = make_blobs(centers=2, random_state=42)\n",
        "    clf = LogisticRegression().fit(X, y)\n",
        "    plot_2d_separator(clf, X, fill=True)\n",
        "    plt.scatter(X[:, 0], X[:, 1], c=y)\n",
        "    plt.show()"
      ],
      "metadata": {
        "colab": {
          "base_uri": "https://localhost:8080/",
          "height": 252
        },
        "id": "8N88l33dQgxi",
        "outputId": "829dfdff-0d04-4e63-a09f-085228faeee1"
      },
      "execution_count": 37,
      "outputs": [
        {
          "output_type": "display_data",
          "data": {
            "image/png": "[encoded data removed]",
            "text/plain": [
              "<Figure size 432x288 with 1 Axes>"
            ]
          },
          "metadata": {}
        }
      ]
    },
    {
      "cell_type": "code",
      "source": [
        "plt.figure(figsize=(10, 6))\n",
        "# plot data\n",
        "plt.scatter(X[y == 0, 0], X[y == 0, 1], c='blue', s=40, label='0')\n",
        "plt.scatter(X[y == 1, 0], X[y == 1, 1], c='red', s=40, label='1', marker='s')\n",
        "\n",
        "# plot decision bounary\n",
        "plot_2d_separator(clf, X)\n",
        "\n",
        "plt.xlabel(\"first feature\")\n",
        "plt.ylabel(\"second feature\")\n",
        "plt.legend(loc='upper right');"
      ],
      "metadata": {
        "colab": {
          "base_uri": "https://localhost:8080/",
          "height": 370
        },
        "id": "IFEYk8QGRTEU",
        "outputId": "6d735080-1f82-4926-92c0-fc863f725a45"
      },
      "execution_count": 38,
      "outputs": [
        {
          "output_type": "display_data",
          "data": {
            "image/png": "[encoded data removed]",
            "text/plain": [
              "<Figure size 720x432 with 1 Axes>"
            ]
          },
          "metadata": {}
        }
      ]
    },
    {
      "cell_type": "code",
      "source": [
        "print(clf.coef_)\n",
        "print(clf.intercept_)"
      ],
      "metadata": {
        "colab": {
          "base_uri": "https://localhost:8080/"
        },
        "id": "sjxZR3jiRZ-L",
        "outputId": "10c9aaec-7d2e-4c4b-b829-7b8ed45b80de"
      },
      "execution_count": 39,
      "outputs": [
        {
          "output_type": "stream",
          "name": "stdout",
          "text": [
            "[[ 0.97796003 -0.82847741]]\n",
            "[3.65752464]\n"
          ]
        }
      ]
    },
    {
      "cell_type": "code",
      "source": [
        "x = np.linspace(-3, 3, 100)\n",
        "print(x[:5])"
      ],
      "metadata": {
        "colab": {
          "base_uri": "https://localhost:8080/"
        },
        "id": "FMQwsBj48LNL",
        "outputId": "fe5e51c9-db88-4688-ab49-328293c44752"
      },
      "execution_count": 40,
      "outputs": [
        {
          "output_type": "stream",
          "name": "stdout",
          "text": [
            "[-3.         -2.93939394 -2.87878788 -2.81818182 -2.75757576]\n"
          ]
        }
      ]
    },
    {
      "cell_type": "code",
      "source": [
        "rng = np.random.RandomState(42)\n",
        "print(rng.uniform(size=8))"
      ],
      "metadata": {
        "colab": {
          "base_uri": "https://localhost:8080/"
        },
        "id": "xGATzjizoYLY",
        "outputId": "0928ddf1-e817-48c0-c83a-c7f6226da422"
      },
      "execution_count": 41,
      "outputs": [
        {
          "output_type": "stream",
          "name": "stdout",
          "text": [
            "[0.37454012 0.95071431 0.73199394 0.59865848 0.15601864 0.15599452\n",
            " 0.05808361 0.86617615]\n"
          ]
        }
      ]
    },
    {
      "cell_type": "code",
      "source": [
        "y = np.sin(4*x)+x+rng.uniform(size=len(x))"
      ],
      "metadata": {
        "id": "UOfhERsKMPFG"
      },
      "execution_count": 42,
      "outputs": []
    },
    {
      "cell_type": "code",
      "source": [
        "plt.plot(x, y, 'o');"
      ],
      "metadata": {
        "colab": {
          "base_uri": "https://localhost:8080/",
          "height": 268
        },
        "id": "iH81MhFwMaIo",
        "outputId": "8dc211ba-8309-4566-81a2-8e2dcbe09b7d"
      },
      "execution_count": 43,
      "outputs": [
        {
          "output_type": "display_data",
          "data": {
            "image/png": "[encoded data removed]",
            "text/plain": [
              "<Figure size 432x288 with 1 Axes>"
            ]
          },
          "metadata": {
            "needs_background": "light"
          }
        }
      ]
    },
    {
      "cell_type": "code",
      "source": [
        "print('shape of x: %.d' %x.shape)\n",
        "X = x[:, np.newaxis]"
      ],
      "metadata": {
        "colab": {
          "base_uri": "https://localhost:8080/"
        },
        "id": "N36yPKTxOFRz",
        "outputId": "81054344-161b-4f41-e6a1-f6fae7b373ac"
      },
      "execution_count": 44,
      "outputs": [
        {
          "output_type": "stream",
          "name": "stdout",
          "text": [
            "shape of x: 100\n"
          ]
        }
      ]
    },
    {
      "cell_type": "code",
      "source": [
        "b = X.shape\n",
        "print('shape of X:', b)"
      ],
      "metadata": {
        "colab": {
          "base_uri": "https://localhost:8080/"
        },
        "id": "1qMQiW2LPWKD",
        "outputId": "f1a70793-2aa6-4e46-deef-9b4fc913590b"
      },
      "execution_count": 45,
      "outputs": [
        {
          "output_type": "stream",
          "name": "stdout",
          "text": [
            "shape of X: (100, 1)\n"
          ]
        }
      ]
    },
    {
      "cell_type": "code",
      "source": [
        "from sklearn.model_selection import train_test_split\n",
        "\n",
        "X_train, X_test, y_train, y_test = train_test_split(X, y, test_size=0.25, random_state=42)"
      ],
      "metadata": {
        "id": "QokD_9G7Oo-j"
      },
      "execution_count": 46,
      "outputs": []
    },
    {
      "cell_type": "code",
      "source": [
        "from re import VERBOSE\n",
        "from sklearn.linear_model import LinearRegression\n",
        "clf = LinearRegression()\n",
        "clf.fit(X_train, y_train)"
      ],
      "metadata": {
        "colab": {
          "base_uri": "https://localhost:8080/"
        },
        "id": "_ByMCcWfPOIo",
        "outputId": "55285bcc-ee7a-462a-9177-3824e684cc36"
      },
      "execution_count": 47,
      "outputs": [
        {
          "output_type": "execute_result",
          "data": {
            "text/plain": [
              "LinearRegression()"
            ]
          },
          "metadata": {},
          "execution_count": 47
        }
      ]
    },
    {
      "cell_type": "code",
      "source": [
        "print(clf.coef_) #w\n",
        "print(clf.intercept_) #b"
      ],
      "metadata": {
        "colab": {
          "base_uri": "https://localhost:8080/"
        },
        "id": "HkAVslEkQfbt",
        "outputId": "dc930cce-efdc-41e6-a425-91b3bb9a1ac9"
      },
      "execution_count": 48,
      "outputs": [
        {
          "output_type": "stream",
          "name": "stdout",
          "text": [
            "[0.93598333]\n",
            "0.43135145227452004\n"
          ]
        }
      ]
    },
    {
      "cell_type": "code",
      "source": [
        "min_plt = X.min() * clf.coef_[0] + clf.intercept_\n",
        "max_plt = X.max() * clf.coef_ [0]+ clf.intercept_\n",
        "\n",
        "plt.plot((X.min(), X.max()),(min_plt, max_plt))\n",
        "plt.plot(X_train, y_train, 'o');"
      ],
      "metadata": {
        "colab": {
          "base_uri": "https://localhost:8080/",
          "height": 268
        },
        "id": "15Q3gPZDQv6q",
        "outputId": "fa619b58-93dd-40d8-a8a7-86f808493785"
      },
      "execution_count": 49,
      "outputs": [
        {
          "output_type": "display_data",
          "data": {
            "image/png": "[encoded data removed]",
            "text/plain": [
              "<Figure size 432x288 with 1 Axes>"
            ]
          },
          "metadata": {
            "needs_background": "light"
          }
        }
      ]
    },
    {
      "cell_type": "code",
      "source": [
        "y_pred_train = clf.predict(X_train)\n",
        "plt.plot(X_train, y_train, 'o', label=\"data\")\n",
        "plt.plot(X_train, y_pred_train, 'o', label=\"prediction\")\n",
        "plt.plot([X.min(), X.max()], [min_plt, max_plt], label='fit')\n",
        "plt.legend(loc='best');"
      ],
      "metadata": {
        "colab": {
          "base_uri": "https://localhost:8080/",
          "height": 268
        },
        "id": "bI6mVBC7Rs_R",
        "outputId": "1482e602-1790-4fb8-b12e-bf86572e84d9"
      },
      "execution_count": 50,
      "outputs": [
        {
          "output_type": "display_data",
          "data": {
            "image/png": "[encoded data removed]",
            "text/plain": [
              "<Figure size 432x288 with 1 Axes>"
            ]
          },
          "metadata": {
            "needs_background": "light"
          }
        }
      ]
    },
    {
      "cell_type": "code",
      "source": [
        "y_pred_test = clf.predict(X_test)\n",
        "\n",
        "plt.plot(X_test, y_test, 'o', label=\"data\")\n",
        "plt.plot(X_test, y_pred_test, 'o', label=\"prediction\")\n",
        "plt.plot([X.min(), X.max()], [min_plt, max_plt], label='fit')\n",
        "plt.legend(loc='best');"
      ],
      "metadata": {
        "colab": {
          "base_uri": "https://localhost:8080/",
          "height": 268
        },
        "id": "I1LYSpDVSi_x",
        "outputId": "70c48306-fc4c-4e3b-ee25-81661791d800"
      },
      "execution_count": 51,
      "outputs": [
        {
          "output_type": "display_data",
          "data": {
            "image/png": "[encoded data removed]",
            "text/plain": [
              "<Figure size 432x288 with 1 Axes>"
            ]
          },
          "metadata": {
            "needs_background": "light"
          }
        }
      ]
    },
    {
      "cell_type": "code",
      "source": [
        "clf.score(X_test, y_test)"
      ],
      "metadata": {
        "colab": {
          "base_uri": "https://localhost:8080/"
        },
        "id": "giXuCYc_S8Mu",
        "outputId": "2d868475-4760-4944-9e0b-5df06e13a873"
      },
      "execution_count": 52,
      "outputs": [
        {
          "output_type": "execute_result",
          "data": {
            "text/plain": [
              "0.7717247742149297"
            ]
          },
          "metadata": {},
          "execution_count": 52
        }
      ]
    },
    {
      "cell_type": "code",
      "source": [
        "XX_train = np.concatenate((X_train, np.sin(4 * X_train)), axis=1)\n",
        "XX_test = np.concatenate((X_test, np.sin(4 * X_test)), axis=1)\n",
        "clf.fit(XX_train, y_train)\n",
        "y_pred_test_sine = clf.predict(XX_test)\n",
        "\n",
        "plt.plot(X_test, y_test, 'o', label=\"data\")\n",
        "plt.plot(X_test, y_pred_test_sine, 'o', label=\"prediction with sine\")\n",
        "plt.plot(X_test, y_pred_test, label='prediction without sine')\n",
        "plt.legend(loc='best');"
      ],
      "metadata": {
        "colab": {
          "base_uri": "https://localhost:8080/",
          "height": 268
        },
        "id": "we4-ZNc3Tu9Q",
        "outputId": "1d2f7058-ad13-4212-bc80-dc22e3877024"
      },
      "execution_count": 53,
      "outputs": [
        {
          "output_type": "display_data",
          "data": {
            "image/png": "[encoded data removed]",
            "text/plain": [
              "<Figure size 432x288 with 1 Axes>"
            ]
          },
          "metadata": {
            "needs_background": "light"
          }
        }
      ]
    },
    {
      "cell_type": "markdown",
      "source": [
        "## KNeigbour_regression"
      ],
      "metadata": {
        "id": "_afqPK7wUxgD"
      }
    },
    {
      "cell_type": "code",
      "source": [
        "from sklearn.neighbors import KNeighborsRegressor\n",
        "kneighbour = KNeighborsRegressor(n_neighbors=3)\n",
        "kneighbour.fit(X_train, y_train)"
      ],
      "metadata": {
        "colab": {
          "base_uri": "https://localhost:8080/"
        },
        "id": "eSw-wbgVUbI8",
        "outputId": "98ad6cd9-604e-40b9-fe46-fef227ee7cb1"
      },
      "execution_count": 54,
      "outputs": [
        {
          "output_type": "execute_result",
          "data": {
            "text/plain": [
              "KNeighborsRegressor(n_neighbors=3)"
            ]
          },
          "metadata": {},
          "execution_count": 54
        }
      ]
    },
    {
      "cell_type": "code",
      "source": [
        "y_pred_train  = kneighbour.predict(X_train)\n",
        "plt.plot(X_train, y_train, 'o', markersize=10)\n",
        "plt.plot(X_train, y_pred_train, 's', markersize=4);"
      ],
      "metadata": {
        "id": "VSnjHnDFVN_G"
      },
      "execution_count": null,
      "outputs": []
    },
    {
      "cell_type": "code",
      "source": [
        "y_pred_test = kneighbour.predict(X_test)\n",
        "plt.plot(X_test, y_test, 'o', markersize=10)\n",
        "plt.plot(X_test, y_pred_test, 's', markersize=4);"
      ],
      "metadata": {
        "id": "yfBjfeLrXYOR"
      },
      "execution_count": null,
      "outputs": []
    },
    {
      "cell_type": "code",
      "source": [
        "print(kneighbour.score(X_test, y_test))"
      ],
      "metadata": {
        "id": "0nczu1YNYd85"
      },
      "execution_count": null,
      "outputs": []
    },
    {
      "cell_type": "markdown",
      "source": [
        "# Iris- scaling"
      ],
      "metadata": {
        "id": "R0ny4gLdkZ_G"
      }
    },
    {
      "cell_type": "code",
      "source": [
        "from sklearn.datasets import load_iris\n",
        "from sklearn.model_selection import train_test_split\n",
        "\n",
        "iris = load_iris()\n",
        "X, y = iris.data, iris.target\n",
        "\n",
        "\n",
        "from sklearn.preprocessing import StandardScaler\n",
        "scaler = StandardScaler()\n"
      ],
      "metadata": {
        "id": "6Q5OdjxjYpjL"
      },
      "execution_count": null,
      "outputs": []
    }
  ]
}