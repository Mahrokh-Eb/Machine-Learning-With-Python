{
 "cells": [
  {
   "cell_type": "markdown",
   "metadata": {},
   "source": [
    "<div class=\"alert alert-info\">\n",
    "    <h1 align=\"center\">Machine Learning in Python</h1>\n",
    "    <h3 align=\"center\">Week 06-07: Implementing a Linear Classifier in Python</h3>\n",
    "</div>"
   ]
  },
  {
   "cell_type": "code",
   "execution_count": 1,
   "metadata": {},
   "outputs": [
    {
     "ename": "ImportError",
     "evalue": "cannot import name 'imread' from 'scipy.misc' (/Users/mahrokh/opt/anaconda3/lib/python3.7/site-packages/scipy/misc/__init__.py)",
     "output_type": "error",
     "traceback": [
      "\u001b[0;31m---------------------------------------------------------------------------\u001b[0m",
      "\u001b[0;31mImportError\u001b[0m                               Traceback (most recent call last)",
      "\u001b[0;32m<ipython-input-1-627ed68b37c0>\u001b[0m in \u001b[0;36m<module>\u001b[0;34m\u001b[0m\n\u001b[1;32m      3\u001b[0m \u001b[0;34m\u001b[0m\u001b[0m\n\u001b[1;32m      4\u001b[0m \u001b[0;32mimport\u001b[0m \u001b[0mlayers\u001b[0m\u001b[0;34m\u001b[0m\u001b[0;34m\u001b[0m\u001b[0m\n\u001b[0;32m----> 5\u001b[0;31m \u001b[0;32mfrom\u001b[0m \u001b[0mdata_utils\u001b[0m \u001b[0;32mimport\u001b[0m \u001b[0mload_CIFAR10\u001b[0m\u001b[0;34m\u001b[0m\u001b[0;34m\u001b[0m\u001b[0m\n\u001b[0m\u001b[1;32m      6\u001b[0m \u001b[0;34m\u001b[0m\u001b[0m\n\u001b[1;32m      7\u001b[0m \u001b[0;31m# This is a bit of magic to make matplotlib figures appear inline in the\u001b[0m\u001b[0;34m\u001b[0m\u001b[0;34m\u001b[0m\u001b[0;34m\u001b[0m\u001b[0m\n",
      "\u001b[0;32m~/machineLearning with Python- razavi/completed-razavi/MLiP-week06-07/data_utils.py\u001b[0m in \u001b[0;36m<module>\u001b[0;34m\u001b[0m\n\u001b[1;32m      2\u001b[0m \u001b[0;32mimport\u001b[0m \u001b[0mnumpy\u001b[0m \u001b[0;32mas\u001b[0m \u001b[0mnp\u001b[0m\u001b[0;34m\u001b[0m\u001b[0;34m\u001b[0m\u001b[0m\n\u001b[1;32m      3\u001b[0m \u001b[0;32mimport\u001b[0m \u001b[0mos\u001b[0m\u001b[0;34m\u001b[0m\u001b[0;34m\u001b[0m\u001b[0m\n\u001b[0;32m----> 4\u001b[0;31m \u001b[0;32mfrom\u001b[0m \u001b[0mscipy\u001b[0m\u001b[0;34m.\u001b[0m\u001b[0mmisc\u001b[0m \u001b[0;32mimport\u001b[0m \u001b[0mimread\u001b[0m\u001b[0;34m\u001b[0m\u001b[0;34m\u001b[0m\u001b[0m\n\u001b[0m\u001b[1;32m      5\u001b[0m \u001b[0;32mimport\u001b[0m \u001b[0mplatform\u001b[0m\u001b[0;34m\u001b[0m\u001b[0;34m\u001b[0m\u001b[0m\n\u001b[1;32m      6\u001b[0m \u001b[0;34m\u001b[0m\u001b[0m\n",
      "\u001b[0;31mImportError\u001b[0m: cannot import name 'imread' from 'scipy.misc' (/Users/mahrokh/opt/anaconda3/lib/python3.7/site-packages/scipy/misc/__init__.py)"
     ]
    }
   ],
   "source": [
    "import numpy as np\n",
    "import matplotlib.pyplot as plt\n",
    "\n",
    "import layers\n",
    "from data_utils import load_CIFAR10\n",
    "\n",
    "# This is a bit of magic to make matplotlib figures appear inline in the\n",
    "# notebook rather than in a new window.\n",
    "%matplotlib inline\n",
    "plt.rcParams['figure.figsize'] = (12.0, 6.0) # set default size of plots\n",
    "plt.rcParams['image.interpolation'] = 'spline16'\n",
    "plt.rcParams['image.cmap'] = 'gray'\n",
    "\n",
    "# Some more magic so that the notebook will reload external python modules;\n",
    "# see http://stackoverflow.com/questions/1907993/autoreload-of-modules-in-ipython\n",
    "%load_ext autoreload\n",
    "%autoreload 2"
   ]
  },
  {
   "cell_type": "code",
   "execution_count": 30,
   "metadata": {},
   "outputs": [],
   "source": [
    "np.set_printoptions(formatter={'all': lambda x: \"%.2f\" % x})"
   ]
  },
  {
   "cell_type": "markdown",
   "metadata": {},
   "source": [
    "# Linear Classification"
   ]
  },
  {
   "cell_type": "markdown",
   "metadata": {},
   "source": [
    "## Machine Learning Key Ingredients\n",
    "Any machine learning algorithm is composed of **four key ingredients**: \n",
    "- **Data** (Trainig, Test, Validation)\n",
    "- **Model** or algorithm (Linear, Logistic Regression, Neural Network, Support Vector Machine, etc.)\n",
    "- **Loss function** (Cross-Enropy, multi-class SVM, SSE, etc.)\n",
    "- **Optimization method** (Gradient Descent, Mini-batch Gradient Decsent, Adam, RMSprops, etc.)"
   ]
  },
  {
   "cell_type": "markdown",
   "metadata": {},
   "source": [
    "## Objectives\n",
    "Today, we will take a look at:\n",
    "- Linear Classification\n",
    "- Loss Functions\n",
    " - Multi-class SVM Loss function (hinge loss)\n",
    " - Multi-class Logistic Regression loss function (cross-entopy or softmax)\n",
    "- Optimization\n",
    "- Gradient Descent Algorithm"
   ]
  },
  {
   "cell_type": "markdown",
   "metadata": {},
   "source": [
    "## CIFAR-10 Data Loading and Preprocessing"
   ]
  },
  {
   "cell_type": "code",
   "execution_count": 2,
   "metadata": {},
   "outputs": [
    {
     "ename": "ImportError",
     "evalue": "cannot import name 'imread' from 'scipy.misc' (/Users/mahrokh/opt/anaconda3/lib/python3.7/site-packages/scipy/misc/__init__.py)",
     "output_type": "error",
     "traceback": [
      "\u001b[0;31m---------------------------------------------------------------------------\u001b[0m",
      "\u001b[0;31mImportError\u001b[0m                               Traceback (most recent call last)",
      "\u001b[0;32m<ipython-input-2-679de592076f>\u001b[0m in \u001b[0;36m<module>\u001b[0;34m\u001b[0m\n\u001b[0;32m----> 1\u001b[0;31m \u001b[0;32mfrom\u001b[0m \u001b[0mdata_utils\u001b[0m \u001b[0;32mimport\u001b[0m \u001b[0mload_CIFAR10\u001b[0m\u001b[0;34m\u001b[0m\u001b[0;34m\u001b[0m\u001b[0m\n\u001b[0m\u001b[1;32m      2\u001b[0m \u001b[0;34m\u001b[0m\u001b[0m\n\u001b[1;32m      3\u001b[0m \u001b[0;31m# Load the raw CIFAR-10 data.\u001b[0m\u001b[0;34m\u001b[0m\u001b[0;34m\u001b[0m\u001b[0;34m\u001b[0m\u001b[0m\n\u001b[1;32m      4\u001b[0m \u001b[0mcifar10_dir\u001b[0m \u001b[0;34m=\u001b[0m \u001b[0;34m'../datasets/cifar-10-batches-py'\u001b[0m\u001b[0;34m\u001b[0m\u001b[0;34m\u001b[0m\u001b[0m\n\u001b[1;32m      5\u001b[0m \u001b[0mX_train\u001b[0m\u001b[0;34m,\u001b[0m \u001b[0my_train\u001b[0m\u001b[0;34m,\u001b[0m \u001b[0mX_test\u001b[0m\u001b[0;34m,\u001b[0m \u001b[0my_test\u001b[0m \u001b[0;34m=\u001b[0m \u001b[0mload_CIFAR10\u001b[0m\u001b[0;34m(\u001b[0m\u001b[0mcifar10_dir\u001b[0m\u001b[0;34m)\u001b[0m\u001b[0;34m\u001b[0m\u001b[0;34m\u001b[0m\u001b[0m\n",
      "\u001b[0;32m~/machineLearning with Python- razavi/completed-razavi/MLiP-week06-07/data_utils.py\u001b[0m in \u001b[0;36m<module>\u001b[0;34m\u001b[0m\n\u001b[1;32m      2\u001b[0m \u001b[0;32mimport\u001b[0m \u001b[0mnumpy\u001b[0m \u001b[0;32mas\u001b[0m \u001b[0mnp\u001b[0m\u001b[0;34m\u001b[0m\u001b[0;34m\u001b[0m\u001b[0m\n\u001b[1;32m      3\u001b[0m \u001b[0;32mimport\u001b[0m \u001b[0mos\u001b[0m\u001b[0;34m\u001b[0m\u001b[0;34m\u001b[0m\u001b[0m\n\u001b[0;32m----> 4\u001b[0;31m \u001b[0;32mfrom\u001b[0m \u001b[0mscipy\u001b[0m\u001b[0;34m.\u001b[0m\u001b[0mmisc\u001b[0m \u001b[0;32mimport\u001b[0m \u001b[0mimread\u001b[0m\u001b[0;34m\u001b[0m\u001b[0;34m\u001b[0m\u001b[0m\n\u001b[0m\u001b[1;32m      5\u001b[0m \u001b[0;32mimport\u001b[0m \u001b[0mplatform\u001b[0m\u001b[0;34m\u001b[0m\u001b[0;34m\u001b[0m\u001b[0m\n\u001b[1;32m      6\u001b[0m \u001b[0;34m\u001b[0m\u001b[0m\n",
      "\u001b[0;31mImportError\u001b[0m: cannot import name 'imread' from 'scipy.misc' (/Users/mahrokh/opt/anaconda3/lib/python3.7/site-packages/scipy/misc/__init__.py)"
     ]
    }
   ],
   "source": [
    "from data_utils import load_CIFAR10\n",
    "\n",
    "# Load the raw CIFAR-10 data.\n",
    "cifar10_dir = '../datasets/cifar-10-batches-py'\n",
    "X_train, y_train, X_test, y_test = load_CIFAR10(cifar10_dir)\n",
    "\n",
    "# As a sanity check, we print out the size of the training and test data.\n",
    "print('Training data shape:   ', X_train.shape)\n",
    "print('Training labels shape: ', y_train.shape)\n",
    "print('Test data shape:       ', X_test.shape)\n",
    "print('Test labels shape:     ', y_test.shape)"
   ]
  },
  {
   "cell_type": "code",
   "execution_count": 3,
   "metadata": {
    "scrolled": false
   },
   "outputs": [
    {
     "ename": "NameError",
     "evalue": "name 'y_train' is not defined",
     "output_type": "error",
     "traceback": [
      "\u001b[0;31m---------------------------------------------------------------------------\u001b[0m",
      "\u001b[0;31mNameError\u001b[0m                                 Traceback (most recent call last)",
      "\u001b[0;32m<ipython-input-3-05adfc13abbc>\u001b[0m in \u001b[0;36m<module>\u001b[0;34m\u001b[0m\n\u001b[1;32m      5\u001b[0m \u001b[0msamples_per_class\u001b[0m \u001b[0;34m=\u001b[0m \u001b[0;36m7\u001b[0m\u001b[0;34m\u001b[0m\u001b[0;34m\u001b[0m\u001b[0m\n\u001b[1;32m      6\u001b[0m \u001b[0;32mfor\u001b[0m \u001b[0my\u001b[0m\u001b[0;34m,\u001b[0m \u001b[0mcls\u001b[0m \u001b[0;32min\u001b[0m \u001b[0menumerate\u001b[0m\u001b[0;34m(\u001b[0m\u001b[0mclasses\u001b[0m\u001b[0;34m)\u001b[0m\u001b[0;34m:\u001b[0m\u001b[0;34m\u001b[0m\u001b[0;34m\u001b[0m\u001b[0m\n\u001b[0;32m----> 7\u001b[0;31m     \u001b[0midxs\u001b[0m \u001b[0;34m=\u001b[0m \u001b[0mnp\u001b[0m\u001b[0;34m.\u001b[0m\u001b[0mflatnonzero\u001b[0m\u001b[0;34m(\u001b[0m\u001b[0my_train\u001b[0m \u001b[0;34m==\u001b[0m \u001b[0my\u001b[0m\u001b[0;34m)\u001b[0m\u001b[0;34m\u001b[0m\u001b[0;34m\u001b[0m\u001b[0m\n\u001b[0m\u001b[1;32m      8\u001b[0m     \u001b[0midxs\u001b[0m \u001b[0;34m=\u001b[0m \u001b[0mnp\u001b[0m\u001b[0;34m.\u001b[0m\u001b[0mrandom\u001b[0m\u001b[0;34m.\u001b[0m\u001b[0mchoice\u001b[0m\u001b[0;34m(\u001b[0m\u001b[0midxs\u001b[0m\u001b[0;34m,\u001b[0m \u001b[0msamples_per_class\u001b[0m\u001b[0;34m,\u001b[0m \u001b[0mreplace\u001b[0m\u001b[0;34m=\u001b[0m\u001b[0;32mFalse\u001b[0m\u001b[0;34m)\u001b[0m\u001b[0;34m\u001b[0m\u001b[0;34m\u001b[0m\u001b[0m\n\u001b[1;32m      9\u001b[0m     \u001b[0;32mfor\u001b[0m \u001b[0mi\u001b[0m\u001b[0;34m,\u001b[0m \u001b[0midx\u001b[0m \u001b[0;32min\u001b[0m \u001b[0menumerate\u001b[0m\u001b[0;34m(\u001b[0m\u001b[0midxs\u001b[0m\u001b[0;34m)\u001b[0m\u001b[0;34m:\u001b[0m\u001b[0;34m\u001b[0m\u001b[0;34m\u001b[0m\u001b[0m\n",
      "\u001b[0;31mNameError\u001b[0m: name 'y_train' is not defined"
     ]
    }
   ],
   "source": [
    "# Visualize some examples from the dataset.\n",
    "# We show a few examples of training images from each class.\n",
    "classes = ['plane', 'car', 'bird', 'cat', 'deer', 'dog', 'frog', 'horse', 'ship', 'truck']\n",
    "num_classes = len(classes)\n",
    "samples_per_class = 7 \n",
    "for y, cls in enumerate(classes):\n",
    "    idxs = np.flatnonzero(y_train == y)\n",
    "    idxs = np.random.choice(idxs, samples_per_class, replace=False)\n",
    "    for i, idx in enumerate(idxs):\n",
    "        plt_idx = i * num_classes + y + 1\n",
    "        plt.subplot(samples_per_class, num_classes, plt_idx)\n",
    "        plt.imshow(X_train[idx].astype('uint8'))\n",
    "        plt.axis('off')\n",
    "        if i == 0:\n",
    "            plt.title(cls)\n",
    "plt.show()"
   ]
  },
  {
   "cell_type": "code",
   "execution_count": 13,
   "metadata": {
    "scrolled": true
   },
   "outputs": [
    {
     "ename": "NameError",
     "evalue": "name 'X_train' is not defined",
     "output_type": "error",
     "traceback": [
      "\u001b[0;31m---------------------------------------------------------------------------\u001b[0m",
      "\u001b[0;31mNameError\u001b[0m                                 Traceback (most recent call last)",
      "\u001b[0;32m<ipython-input-13-99cdbd971c44>\u001b[0m in \u001b[0;36m<module>\u001b[0;34m\u001b[0m\n\u001b[1;32m     10\u001b[0m \u001b[0;31m# training set.\u001b[0m\u001b[0;34m\u001b[0m\u001b[0;34m\u001b[0m\u001b[0;34m\u001b[0m\u001b[0m\n\u001b[1;32m     11\u001b[0m \u001b[0mmask\u001b[0m \u001b[0;34m=\u001b[0m \u001b[0mrange\u001b[0m\u001b[0;34m(\u001b[0m\u001b[0mnum_training\u001b[0m\u001b[0;34m,\u001b[0m \u001b[0mnum_training\u001b[0m \u001b[0;34m+\u001b[0m \u001b[0mnum_validation\u001b[0m\u001b[0;34m)\u001b[0m\u001b[0;34m\u001b[0m\u001b[0;34m\u001b[0m\u001b[0m\n\u001b[0;32m---> 12\u001b[0;31m \u001b[0mX_val\u001b[0m \u001b[0;34m=\u001b[0m \u001b[0mX_train\u001b[0m\u001b[0;34m[\u001b[0m\u001b[0mmask\u001b[0m\u001b[0;34m]\u001b[0m\u001b[0;34m\u001b[0m\u001b[0;34m\u001b[0m\u001b[0m\n\u001b[0m\u001b[1;32m     13\u001b[0m \u001b[0my_val\u001b[0m \u001b[0;34m=\u001b[0m \u001b[0my_train\u001b[0m\u001b[0;34m[\u001b[0m\u001b[0mmask\u001b[0m\u001b[0;34m]\u001b[0m\u001b[0;34m\u001b[0m\u001b[0;34m\u001b[0m\u001b[0m\n\u001b[1;32m     14\u001b[0m \u001b[0;34m\u001b[0m\u001b[0m\n",
      "\u001b[0;31mNameError\u001b[0m: name 'X_train' is not defined"
     ]
    }
   ],
   "source": [
    "# Split the data into train, val, and test sets. In addition we will\n",
    "# create a small development set as a subset of the training data;\n",
    "# we can use this for development so our code runs faster.\n",
    "num_training = 49000\n",
    "num_validation = 1000\n",
    "num_test = 1000\n",
    "num_dev = 500\n",
    "\n",
    "# Our validation set will be num_validation points from the original\n",
    "# training set.\n",
    "mask = range(num_training, num_training + num_validation)\n",
    "X_val = X_train[mask]\n",
    "y_val = y_train[mask]\n",
    "\n",
    "# Our training set will be the first num_train points from the original\n",
    "# training set.\n",
    "mask = range(num_training)\n",
    "X_train = X_train[mask]\n",
    "y_train = y_train[mask]\n",
    "\n",
    "# We will also make a development set, which is a small subset of\n",
    "# the training set.\n",
    "mask = np.random.choice(num_training, num_dev, replace=False)\n",
    "X_dev = X_train[mask]\n",
    "y_dev = y_train[mask]\n",
    "\n",
    "# We use the first num_test points of the original test set as our\n",
    "# test set.\n",
    "mask = range(num_test)\n",
    "X_test = X_test[mask]\n",
    "y_test = y_test[mask]\n",
    "\n",
    "print('Train data shape:        ', X_train.shape)\n",
    "print('Train labels shape:      ', y_train.shape)\n",
    "print('Validation data shape:   ', X_val.shape)\n",
    "print('Validation labels shape: ', y_val.shape)\n",
    "print('Test data shape:         ', X_test.shape)\n",
    "print('Test labels shape:       ', y_test.shape)"
   ]
  },
  {
   "cell_type": "code",
   "execution_count": 14,
   "metadata": {},
   "outputs": [
    {
     "ename": "NameError",
     "evalue": "name 'X_train' is not defined",
     "output_type": "error",
     "traceback": [
      "\u001b[0;31m---------------------------------------------------------------------------\u001b[0m",
      "\u001b[0;31mNameError\u001b[0m                                 Traceback (most recent call last)",
      "\u001b[0;32m<ipython-input-14-362e8efa33ff>\u001b[0m in \u001b[0;36m<module>\u001b[0;34m\u001b[0m\n\u001b[1;32m      1\u001b[0m \u001b[0;31m# Preprocessing: reshape the image data into rows\u001b[0m\u001b[0;34m\u001b[0m\u001b[0;34m\u001b[0m\u001b[0;34m\u001b[0m\u001b[0m\n\u001b[0;32m----> 2\u001b[0;31m \u001b[0mX_train\u001b[0m \u001b[0;34m=\u001b[0m \u001b[0mnp\u001b[0m\u001b[0;34m.\u001b[0m\u001b[0mreshape\u001b[0m\u001b[0;34m(\u001b[0m\u001b[0mX_train\u001b[0m\u001b[0;34m,\u001b[0m \u001b[0;34m(\u001b[0m\u001b[0mX_train\u001b[0m\u001b[0;34m.\u001b[0m\u001b[0mshape\u001b[0m\u001b[0;34m[\u001b[0m\u001b[0;36m0\u001b[0m\u001b[0;34m]\u001b[0m\u001b[0;34m,\u001b[0m \u001b[0;34m-\u001b[0m\u001b[0;36m1\u001b[0m\u001b[0;34m)\u001b[0m\u001b[0;34m)\u001b[0m\u001b[0;34m\u001b[0m\u001b[0;34m\u001b[0m\u001b[0m\n\u001b[0m\u001b[1;32m      3\u001b[0m \u001b[0mX_val\u001b[0m \u001b[0;34m=\u001b[0m \u001b[0mnp\u001b[0m\u001b[0;34m.\u001b[0m\u001b[0mreshape\u001b[0m\u001b[0;34m(\u001b[0m\u001b[0mX_val\u001b[0m\u001b[0;34m,\u001b[0m \u001b[0;34m(\u001b[0m\u001b[0mX_val\u001b[0m\u001b[0;34m.\u001b[0m\u001b[0mshape\u001b[0m\u001b[0;34m[\u001b[0m\u001b[0;36m0\u001b[0m\u001b[0;34m]\u001b[0m\u001b[0;34m,\u001b[0m \u001b[0;34m-\u001b[0m\u001b[0;36m1\u001b[0m\u001b[0;34m)\u001b[0m\u001b[0;34m)\u001b[0m\u001b[0;34m\u001b[0m\u001b[0;34m\u001b[0m\u001b[0m\n\u001b[1;32m      4\u001b[0m \u001b[0mX_test\u001b[0m \u001b[0;34m=\u001b[0m \u001b[0mnp\u001b[0m\u001b[0;34m.\u001b[0m\u001b[0mreshape\u001b[0m\u001b[0;34m(\u001b[0m\u001b[0mX_test\u001b[0m\u001b[0;34m,\u001b[0m \u001b[0;34m(\u001b[0m\u001b[0mX_test\u001b[0m\u001b[0;34m.\u001b[0m\u001b[0mshape\u001b[0m\u001b[0;34m[\u001b[0m\u001b[0;36m0\u001b[0m\u001b[0;34m]\u001b[0m\u001b[0;34m,\u001b[0m \u001b[0;34m-\u001b[0m\u001b[0;36m1\u001b[0m\u001b[0;34m)\u001b[0m\u001b[0;34m)\u001b[0m\u001b[0;34m\u001b[0m\u001b[0;34m\u001b[0m\u001b[0m\n\u001b[1;32m      5\u001b[0m \u001b[0mX_dev\u001b[0m \u001b[0;34m=\u001b[0m \u001b[0mnp\u001b[0m\u001b[0;34m.\u001b[0m\u001b[0mreshape\u001b[0m\u001b[0;34m(\u001b[0m\u001b[0mX_dev\u001b[0m\u001b[0;34m,\u001b[0m \u001b[0;34m(\u001b[0m\u001b[0mX_dev\u001b[0m\u001b[0;34m.\u001b[0m\u001b[0mshape\u001b[0m\u001b[0;34m[\u001b[0m\u001b[0;36m0\u001b[0m\u001b[0;34m]\u001b[0m\u001b[0;34m,\u001b[0m \u001b[0;34m-\u001b[0m\u001b[0;36m1\u001b[0m\u001b[0;34m)\u001b[0m\u001b[0;34m)\u001b[0m\u001b[0;34m\u001b[0m\u001b[0;34m\u001b[0m\u001b[0m\n",
      "\u001b[0;31mNameError\u001b[0m: name 'X_train' is not defined"
     ]
    }
   ],
   "source": [
    "# Preprocessing: reshape the image data into rows\n",
    "X_train = np.reshape(X_train, (X_train.shape[0], -1))\n",
    "X_val = np.reshape(X_val, (X_val.shape[0], -1))\n",
    "X_test = np.reshape(X_test, (X_test.shape[0], -1))\n",
    "X_dev = np.reshape(X_dev, (X_dev.shape[0], -1))\n",
    "\n",
    "# As a sanity check, print out the shapes of the data\n",
    "print('Training data shape:   ', X_train.shape)\n",
    "print('Validation data shape: ', X_val.shape)\n",
    "print('Test data shape:       ', X_test.shape)\n",
    "print('dev data shape:        ', X_dev.shape)"
   ]
  },
  {
   "cell_type": "code",
   "execution_count": 7,
   "metadata": {
    "scrolled": true
   },
   "outputs": [
    {
     "name": "stdout",
     "output_type": "stream",
     "text": [
      "[130.64 135.98 132.47 130.06 135.35 131.75 130.96 136.14 132.48 131.48]\n"
     ]
    },
    {
     "data": {
      "image/png": "[encoded data removed]",
      "text/plain": [
       "<matplotlib.figure.Figure at 0x1adacea7550>"
      ]
     },
     "metadata": {},
     "output_type": "display_data"
    }
   ],
   "source": [
    "# Preprocessing: subtract the mean image\n",
    "# first: compute the image mean based on the training data\n",
    "mean_image = np.mean(X_train, axis=0)\n",
    "print(mean_image[:10]) # print a few of the elements\n",
    "plt.figure(figsize=(4,4))\n",
    "plt.imshow(mean_image.reshape((32,32,3)).astype('uint8')) # visualize the mean image\n",
    "plt.show()"
   ]
  },
  {
   "cell_type": "code",
   "execution_count": 8,
   "metadata": {
    "collapsed": true
   },
   "outputs": [],
   "source": [
    "# second: subtract the mean image from train and test data\n",
    "X_train -= mean_image\n",
    "X_val   -= mean_image\n",
    "X_test  -= mean_image\n",
    "X_dev   -= mean_image"
   ]
  },
  {
   "cell_type": "markdown",
   "metadata": {},
   "source": [
    "## Parametric Classification\n",
    "- In any parametric method, there are a **fixed set of parameters**.\n",
    "- The goal of learning is to **determine the best possible values** for these parameters.\n",
    "- After learning parameters from data, we can predict for new data **using only these parameters**."
   ]
  },
  {
   "cell_type": "markdown",
   "metadata": {},
   "source": [
    "## Score function\n",
    "Earlier, we said that in supervised learning, we have a training dataset such as:\n",
    "\n",
    "$$\\{(x^{(1)}, y^{(1)}),(x^{(2)}, y^{(2)}),\\dots,(x^{(N)}, y^{(N)})\\}$$\n",
    "\n",
    "and, we are looking for a function (hypothesis) from input features to the target values, as following:\n",
    "\n",
    "$$h: X \\to Y $$\n",
    "\n",
    "Here, our approach will have two major components: \n",
    "- a **score function** that maps the raw data to class scores, and\n",
    "- a **loss function** that quantifies the agreement between the predicted scores and the ground truth labels. \n",
    "\n",
    "We will then cast this as an optimization problem in which we will minimize the loss function with respect to the parameters of the score function."
   ]
  },
  {
   "cell_type": "markdown",
   "metadata": {},
   "source": [
    "<img src=\"http://www.snrazavi.ir/imgs/linear1.png\" width=\"100%\"/>"
   ]
  },
  {
   "cell_type": "markdown",
   "metadata": {
    "collapsed": true
   },
   "source": [
    "### Linear score function"
   ]
  },
  {
   "cell_type": "markdown",
   "metadata": {},
   "source": [
    "<img src=\"http://www.snrazavi.ir/imgs/Linear2.png\" width=\"100%\"/>"
   ]
  },
  {
   "cell_type": "markdown",
   "metadata": {},
   "source": [
    "**Linear classifier.** \n",
    "- We will start out with the simplest possible function, a linear mapping:\n",
    "\n",
    "$$f(x_i,W,b)=Wx_i+b$$\n",
    "\n",
    "**Assumptions.**\n",
    "- The image $x_i$ has all of its pixels flattened out to a single column vector of shape [D x 1]. \n",
    "- The matrix W (of size [K x D]), and the vector b (of size [K x 1]) are the parameters of the function. \n",
    "\n",
    "**Example.**\n",
    "- In CIFAR-10, $x_i$ contains all pixels in the i-th image flattened into a single [3072 x 1] column, \n",
    "- W is [10 x 3072] and b is [10 x 1], \n",
    "- So, 3072 numbers come into the function (the raw pixel values) and 10 numbers come out (the class scores). \n",
    "\n",
    "The parameters in W are often called the **weights**, and b is called the **bias** vector because it influences the output scores, but without interacting with the actual data $x_i$. "
   ]
  },
  {
   "cell_type": "markdown",
   "metadata": {},
   "source": [
    "<img src=\"http://www.snrazavi.ir/imgs/Linear3.png\" width=\"100%\"/>"
   ]
  },
  {
   "cell_type": "markdown",
   "metadata": {},
   "source": [
    "<div class=\"alert alert-warning\">\n",
    "    <b>Quetion?</b>\n",
    "    <ul>\n",
    "        <li> Considering the above figure, are the given values for the parameters are good values?\n",
    "        </li>\n",
    "    </ul>\n",
    "</div>"
   ]
  },
  {
   "cell_type": "markdown",
   "metadata": {},
   "source": [
    "#### Bias trick"
   ]
  },
  {
   "cell_type": "markdown",
   "metadata": {},
   "source": [
    "<img src=\"http://www.snrazavi.ir/imgs/wb.jpeg\" width=\"80%\"/>"
   ]
  },
  {
   "cell_type": "markdown",
   "metadata": {
    "collapsed": true
   },
   "source": [
    "## Geometric Interpretation"
   ]
  },
  {
   "cell_type": "markdown",
   "metadata": {},
   "source": [
    "**Analogy of images as high-dimensional points.** \n",
    "- Since the images are stretched into high-dimensional column vectors, we can interpret each image as a single point in this space.\n",
    "- For example, each image in CIFAR-10 is a point in 3072-dimensional space of 32x32x3 pixels."
   ]
  },
  {
   "cell_type": "markdown",
   "metadata": {},
   "source": [
    "<img src=\"http://www.snrazavi.ir/imgs/Linear_4.png\" width=\"100%\"/>"
   ]
  },
  {
   "cell_type": "markdown",
   "metadata": {},
   "source": [
    "**Geometric interpretation.**\n",
    "- Every row of $W$ is a classifier for one of the classes (a *hyper-plane*).\n",
    "- As we change one of the rows of $W$, the corresponding line in the pixel space will rotate in different directions. \n",
    "- The biases $b$, allow our classifiers to translate the lines. "
   ]
  },
  {
   "cell_type": "markdown",
   "metadata": {},
   "source": [
    "## Linear Classification: Another Interpretation"
   ]
  },
  {
   "cell_type": "markdown",
   "metadata": {},
   "source": [
    "<img src=\"http://www.snrazavi.ir/imgs/LinearClassification_prototypes.png\" width=\"100%\"/>"
   ]
  },
  {
   "cell_type": "markdown",
   "metadata": {},
   "source": [
    "**Interpretation of linear classifiers as template matching.**\n",
    "- Another interpretation: each row of $W$ corresponds to a **template** (or *prototype*) for one of the classes. \n",
    "- Inner product: the score of each class for an image is then obtained by comparing each template with the image using an **inner product** (or *dot product*) one by one to find the one that “fits” best. \n",
    "- With this terminology, the linear classifier is doing **template matching**, where the templates are learned. "
   ]
  },
  {
   "cell_type": "markdown",
   "metadata": {
    "collapsed": true
   },
   "source": [
    "## Defining a Linear Layer: Forward Step"
   ]
  },
  {
   "cell_type": "code",
   "execution_count": 20,
   "metadata": {},
   "outputs": [],
   "source": [
    "def affine_forward(x, W, b):\n",
    "    \"\"\"\n",
    "    A linear mapping from inputs to scores.\n",
    "    \n",
    "    Inputs:\n",
    "        - x: input matrix (N, d1, d2, ...dn)\n",
    "        - W: weigh matrix (D, C)\n",
    "        - b: bias vector  (C, )\n",
    "    \n",
    "    Outputs:\n",
    "        - out: output of linear layer (N, C)\n",
    "    \"\"\"\n",
    "    x2d = np.reshape(x, (x.shape[0], -1))  # convert 4D input matrix to 2D    \n",
    "    out = np.dot(x2d, W) + b               # linear transformation\n",
    "    cache = (x, W, b)                      # keep for backward step (stay with us)\n",
    "    return out, cache\n"
   ]
  },
  {
   "cell_type": "markdown",
   "metadata": {},
   "source": [
    "## Linear Classification Demo"
   ]
  },
  {
   "cell_type": "markdown",
   "metadata": {
    "collapsed": true
   },
   "source": [
    "For a better understanding of what exactly a linear classification does, we suggest you to take a look at a very useful demo from Stanford at [this address](http://vision.stanford.edu/teaching/cs231n-demos/linear-classify/)."
   ]
  },
  {
   "cell_type": "markdown",
   "metadata": {},
   "source": [
    "<a href=\"http://vision.stanford.edu/teaching/cs231n-demos/linear-classify/\">\n",
    "<img src=\"http://www.snrazavi.ir/imgs/classifydemo.jpeg\" width=\"90%\"/>\n",
    "</a>"
   ]
  },
  {
   "cell_type": "markdown",
   "metadata": {
    "collapsed": true
   },
   "source": [
    "# Loss Function"
   ]
  },
  {
   "cell_type": "markdown",
   "metadata": {
    "collapsed": true
   },
   "source": [
    "**Loss Function.** (sometimes called *cost* function or *objective*)\n",
    "- A measure which tells the machine how much the current parameters are bad.\n",
    "- Intuitively, the loss will be high if the parameters are doing a poor job of classifying the training data, and it will be low if they are doing well."
   ]
  },
  {
   "cell_type": "markdown",
   "metadata": {},
   "source": [
    "<img src=\"http://www.snrazavi.ir/imgs/loss.png\" width=\"60%\"/>"
   ]
  },
  {
   "cell_type": "markdown",
   "metadata": {},
   "source": [
    "## Multi-class SVM Loss Function"
   ]
  },
  {
   "cell_type": "markdown",
   "metadata": {},
   "source": [
    "Computing loss for a single training data $(x_i, y_i)$.\n",
    "\n",
    "We want ($\\forall j \\ne y_i$):\n",
    "\n",
    "### $$s_{y_i} \\ge s_j+1$$\n",
    "\n",
    "or, equivlently:\n",
    "\n",
    "### $$s_j - s_{y_i} + 1 \\le 0$$\n"
   ]
  },
  {
   "cell_type": "markdown",
   "metadata": {},
   "source": [
    "<img src=\"http://www.snrazavi.ir/imgs/svm-loss.jpg\" width=\"100%\"/>"
   ]
  },
  {
   "cell_type": "markdown",
   "metadata": {},
   "source": [
    "#### Margins"
   ]
  },
  {
   "cell_type": "markdown",
   "metadata": {},
   "source": [
    "<img src=\"http://www.snrazavi.ir/imgs/margin.jpg\" width=\"60%\"/>"
   ]
  },
  {
   "cell_type": "markdown",
   "metadata": {},
   "source": [
    "### Unvectorized implementation"
   ]
  },
  {
   "cell_type": "code",
   "execution_count": 21,
   "metadata": {},
   "outputs": [],
   "source": [
    "def L_i(x, y, W):\n",
    "    \"\"\"\n",
    "    unvectorized version. Compute the multiclass svm loss for a single example (x,y)\n",
    "    - x is a column vector representing an image (e.g. 3073 x 1 in CIFAR-10)\n",
    "      with an appended bias dimension in the 3073-rd position (i.e. bias trick)\n",
    "    - y is an integer giving index of correct class (e.g. between 0 and 9 in CIFAR-10)\n",
    "    - W is the weight matrix (e.g. 10 x 3073 in CIFAR-10), number of features\n",
    "    \"\"\"\n",
    "    scores = W.dot(x) # scores becomes of size 10 x 1, the scores for each class\n",
    "    correct_class_score = scores[y]\n",
    "    C = W.shape[0] # number of classes, e.g. 10\n",
    "    \n",
    "    loss_i = 0.0\n",
    "    for j in range(C): # iterate over all wrong classes\n",
    "        if j == y:\n",
    "            # skip for the true class to only loop over incorrect classes\n",
    "            continue\n",
    "        # accumulate loss for the i-th example\n",
    "        loss_i += max(0, scores[j] - correct_class_score + 1.0)\n",
    "    return loss_i"
   ]
  },
  {
   "cell_type": "markdown",
   "metadata": {},
   "source": [
    "### Half-vectorized implementation"
   ]
  },
  {
   "cell_type": "code",
   "execution_count": 22,
   "metadata": {},
   "outputs": [],
   "source": [
    "def L_i_vectorized(x, y, W):\n",
    "    \"\"\"\n",
    "    A faster half-vectorized implementation. \n",
    "    Half-vectorized refers to the fact that for a single example the implementation contains\n",
    "    no for loops, but there is still one loop over the examples (outside this function)\n",
    "    \"\"\"\n",
    "    scores = W.dot(x)\n",
    "    margins = np.maximum(0, scores - scores[y] + 1.0)\n",
    "    margins[y] = 0  # cancel the correct class loss\n",
    "    loss_i = np.sum(margins)\n",
    "    return loss_i\n"
   ]
  },
  {
   "cell_type": "markdown",
   "metadata": {},
   "source": [
    "<img src=\"http://www.snrazavi.ir/imgs/svm_half_vectorized.jpg\" width=\"100%\"/>"
   ]
  },
  {
   "cell_type": "markdown",
   "metadata": {},
   "source": [
    "### Fully vectorized implementation"
   ]
  },
  {
   "cell_type": "markdown",
   "metadata": {},
   "source": [
    "<div class=\"alert alert-success\">\n",
    "    <b>Excersize:</b> multi-class SVM loss function\n",
    "    <ul>\n",
    "        <li> Implement the fully vectorized multi-class SVM loss function for the training dataset.\n",
    "        </li>\n",
    "    </ul>\n",
    "</div>"
   ]
  },
  {
   "cell_type": "code",
   "execution_count": 23,
   "metadata": {},
   "outputs": [],
   "source": [
    "def L(X, y, W):\n",
    "    \"\"\"\n",
    "    fully-vectorized implementation :\n",
    "    - X holds all the training examples as rows (e.g. 50,000 x 3073 in CIFAR-10)\n",
    "    - y is array of integers specifying correct class (e.g. 50,000-D array)\n",
    "    - W are weights (e.g. 3073 x 10)\n",
    "    \"\"\"\n",
    "    # evaluate loss over all examples in X without using any for loops    \n",
    "    # left as exercise to reader in the assignment\n",
    "    # ..."
   ]
  },
  {
   "cell_type": "markdown",
   "metadata": {},
   "source": [
    "<div class=\"alert alert-warning\">\n",
    "    <b>Quetion?</b> Sanity check!\n",
    "    <ul>\n",
    "        <li> Is there any way to be sure that your loss function implementation is correct?</li>\n",
    "        <li> Think what happens to scores when we initialize parameters with very tiny numbers?</li>\n",
    "\n",
    "    </ul>\n",
    "</div>"
   ]
  },
  {
   "cell_type": "code",
   "execution_count": 13,
   "metadata": {
    "collapsed": true
   },
   "outputs": [],
   "source": [
    "# create W and b randomly with small numbers\n",
    "N = X_train.shape[0]           # number of training data\n",
    "D = np.prod(X_train.shape[1:]) # number of features\n",
    "C = 10                         # number of classes\n",
    "\n",
    "# init parameters\n",
    "W = 0.0001 * np.random.randn(D, C)\n",
    "b = np.zeros((C,))"
   ]
  },
  {
   "cell_type": "markdown",
   "metadata": {},
   "source": [
    "### Sanity check for loss function"
   ]
  },
  {
   "cell_type": "code",
   "execution_count": 4,
   "metadata": {},
   "outputs": [],
   "source": [
    "from layers import affine_forward, svm_loss_naive\n"
   ]
  },
  {
   "cell_type": "code",
   "execution_count": 15,
   "metadata": {},
   "outputs": [
    {
     "name": "stdout",
     "output_type": "stream",
     "text": [
      "Data loss = 9.61\n"
     ]
    }
   ],
   "source": [
    "scores, _ = affine_forward(X_train, W, b)\n",
    "loss, _ = svm_loss_naive(scores, y_train, W, reg=0.0)\n",
    "\n",
    "print(\"Data loss = %.2f\" % loss)"
   ]
  },
  {
   "cell_type": "markdown",
   "metadata": {},
   "source": [
    "**Note:** When using SVM loss, the value of loss function with randomly initialized weights, must be approximately equal to the number of classes minus one. (Why?)\n",
    "- For example, in CIFAR-10, there are 10 classes, and hence, the above value must be near to 9."
   ]
  },
  {
   "cell_type": "markdown",
   "metadata": {},
   "source": [
    "#### Example: Computing loss for first training data"
   ]
  },
  {
   "cell_type": "code",
   "execution_count": 16,
   "metadata": {},
   "outputs": [
    {
     "name": "stdout",
     "output_type": "stream",
     "text": [
      "scores =  [0.29 0.05 0.27 -0.04 -0.32 -0.94 0.17 -0.12 0.36 -0.09]\n",
      "correct class score = 0.17\n"
     ]
    }
   ],
   "source": [
    "print(\"scores = \", scores[0])\n",
    "print(\"correct class score = %.2f\" % scores[0][y_train[0]])"
   ]
  },
  {
   "cell_type": "code",
   "execution_count": 27,
   "metadata": {},
   "outputs": [
    {
     "ename": "NameError",
     "evalue": "name 'scores' is not defined",
     "output_type": "error",
     "traceback": [
      "\u001b[0;31m---------------------------------------------------------------------------\u001b[0m",
      "\u001b[0;31mNameError\u001b[0m                                 Traceback (most recent call last)",
      "\u001b[0;32m<ipython-input-27-7d8e23ea324e>\u001b[0m in \u001b[0;36m<module>\u001b[0;34m\u001b[0m\n\u001b[1;32m      1\u001b[0m \u001b[0mi\u001b[0m \u001b[0;34m=\u001b[0m \u001b[0;36m0\u001b[0m  \u001b[0;31m# first training data\u001b[0m\u001b[0;34m\u001b[0m\u001b[0;34m\u001b[0m\u001b[0m\n\u001b[0;32m----> 2\u001b[0;31m \u001b[0mmargins\u001b[0m \u001b[0;34m=\u001b[0m \u001b[0mscores\u001b[0m\u001b[0;34m[\u001b[0m\u001b[0mi\u001b[0m\u001b[0;34m]\u001b[0m \u001b[0;34m-\u001b[0m \u001b[0mscores\u001b[0m\u001b[0;34m[\u001b[0m\u001b[0mi\u001b[0m\u001b[0;34m]\u001b[0m\u001b[0;34m[\u001b[0m\u001b[0my_train\u001b[0m\u001b[0;34m[\u001b[0m\u001b[0mi\u001b[0m\u001b[0;34m]\u001b[0m\u001b[0;34m]\u001b[0m \u001b[0;34m+\u001b[0m \u001b[0;36m1.0\u001b[0m\u001b[0;34m\u001b[0m\u001b[0;34m\u001b[0m\u001b[0m\n\u001b[0m\u001b[1;32m      3\u001b[0m \u001b[0mmargins\u001b[0m\u001b[0;34m[\u001b[0m\u001b[0my_train\u001b[0m\u001b[0;34m[\u001b[0m\u001b[0mi\u001b[0m\u001b[0;34m]\u001b[0m\u001b[0;34m]\u001b[0m \u001b[0;34m=\u001b[0m \u001b[0;36m0.0\u001b[0m\u001b[0;34m\u001b[0m\u001b[0;34m\u001b[0m\u001b[0m\n\u001b[1;32m      4\u001b[0m \u001b[0;34m\u001b[0m\u001b[0m\n\u001b[1;32m      5\u001b[0m \u001b[0mprint\u001b[0m\u001b[0;34m(\u001b[0m\u001b[0mmargins\u001b[0m\u001b[0;34m)\u001b[0m\u001b[0;34m\u001b[0m\u001b[0;34m\u001b[0m\u001b[0m\n",
      "\u001b[0;31mNameError\u001b[0m: name 'scores' is not defined"
     ]
    }
   ],
   "source": [
    "i = 0  # first training data\n",
    "margins = scores[i] - scores[i][y_train[i]] + 1.0\n",
    "margins[y_train[i]] = 0.0\n",
    "\n",
    "print(margins)\n",
    "print(np.sum(np.maximum(0.0, margins)))"
   ]
  },
  {
   "cell_type": "markdown",
   "metadata": {},
   "source": [
    "## Regularization (Weight Decay)\n",
    "- Don't let the weights to become **too large**.\n",
    "- This will result in a more smooth hypothesis, with **better performance on new data**.\n",
    "\n",
    "For more information about regularization, please see [Regularization](https://youtu.be/dIP2Y0F5tjY)."
   ]
  },
  {
   "cell_type": "markdown",
   "metadata": {},
   "source": [
    "<img src=\"http://www.snrazavi.ir/imgs/regularization_loss.jpg\" width=\"80%\"/>"
   ]
  },
  {
   "cell_type": "code",
   "execution_count": 28,
   "metadata": {},
   "outputs": [
    {
     "ename": "NameError",
     "evalue": "name 'svm_loss_naive' is not defined",
     "output_type": "error",
     "traceback": [
      "\u001b[0;31m---------------------------------------------------------------------------\u001b[0m",
      "\u001b[0;31mNameError\u001b[0m                                 Traceback (most recent call last)",
      "\u001b[0;32m<ipython-input-28-790a7df385de>\u001b[0m in \u001b[0;36m<module>\u001b[0;34m\u001b[0m\n\u001b[0;32m----> 1\u001b[0;31m \u001b[0mloss\u001b[0m\u001b[0;34m,\u001b[0m \u001b[0m_\u001b[0m \u001b[0;34m=\u001b[0m \u001b[0msvm_loss_naive\u001b[0m\u001b[0;34m(\u001b[0m\u001b[0mscores\u001b[0m\u001b[0;34m,\u001b[0m \u001b[0my_train\u001b[0m\u001b[0;34m,\u001b[0m \u001b[0mW\u001b[0m\u001b[0;34m,\u001b[0m \u001b[0mreg\u001b[0m\u001b[0;34m=\u001b[0m\u001b[0;36m1e3\u001b[0m\u001b[0;34m)\u001b[0m\u001b[0;34m\u001b[0m\u001b[0;34m\u001b[0m\u001b[0m\n\u001b[0m\u001b[1;32m      2\u001b[0m \u001b[0;34m\u001b[0m\u001b[0m\n\u001b[1;32m      3\u001b[0m \u001b[0mprint\u001b[0m\u001b[0;34m(\u001b[0m\u001b[0;34m\"Loss (data loss + regularization loss) = %.2f\"\u001b[0m \u001b[0;34m%\u001b[0m \u001b[0mloss\u001b[0m\u001b[0;34m)\u001b[0m\u001b[0;34m\u001b[0m\u001b[0;34m\u001b[0m\u001b[0m\n",
      "\u001b[0;31mNameError\u001b[0m: name 'svm_loss_naive' is not defined"
     ]
    }
   ],
   "source": [
    "loss, _ = svm_loss_naive(scores, y_train, W, reg=1e3)\n",
    "\n",
    "print(\"Loss (data loss + regularization loss) = %.2f\" % loss)"
   ]
  },
  {
   "cell_type": "markdown",
   "metadata": {},
   "source": [
    "Note that the loss value has increased because of adding regularization."
   ]
  },
  {
   "cell_type": "markdown",
   "metadata": {},
   "source": [
    "### Fully-vectorized loss function"
   ]
  },
  {
   "cell_type": "code",
   "execution_count": 19,
   "metadata": {
    "scrolled": true
   },
   "outputs": [
    {
     "name": "stdout",
     "output_type": "stream",
     "text": [
      "Loss = 9.77\n"
     ]
    }
   ],
   "source": [
    "from layers import svm_loss\n",
    "\n",
    "loss, _ = svm_loss(scores, y_train, W, reg=1e3)\n",
    "print(\"Loss = %.2f\" % loss)"
   ]
  },
  {
   "cell_type": "markdown",
   "metadata": {},
   "source": [
    "### Vetorized vs. Unvectorized implemetation: comparing efficiencies"
   ]
  },
  {
   "cell_type": "code",
   "execution_count": 5,
   "metadata": {
    "scrolled": false
   },
   "outputs": [
    {
     "ename": "NameError",
     "evalue": "name 'scores' is not defined",
     "output_type": "error",
     "traceback": [
      "\u001b[0;31m---------------------------------------------------------------------------\u001b[0m",
      "\u001b[0;31mNameError\u001b[0m                                 Traceback (most recent call last)",
      "\u001b[0;32m<ipython-input-5-c4fce106c29a>\u001b[0m in \u001b[0;36m<module>\u001b[0;34m\u001b[0m\n\u001b[1;32m      3\u001b[0m \u001b[0;31m# time of naive implementation (two-loop version)\u001b[0m\u001b[0;34m\u001b[0m\u001b[0;34m\u001b[0m\u001b[0;34m\u001b[0m\u001b[0m\n\u001b[1;32m      4\u001b[0m \u001b[0mtic\u001b[0m \u001b[0;34m=\u001b[0m \u001b[0mtime\u001b[0m\u001b[0;34m.\u001b[0m\u001b[0mtime\u001b[0m\u001b[0;34m(\u001b[0m\u001b[0;34m)\u001b[0m\u001b[0;34m\u001b[0m\u001b[0;34m\u001b[0m\u001b[0m\n\u001b[0;32m----> 5\u001b[0;31m \u001b[0mloss_naive\u001b[0m\u001b[0;34m,\u001b[0m \u001b[0m_\u001b[0m \u001b[0;34m=\u001b[0m \u001b[0msvm_loss_naive\u001b[0m\u001b[0;34m(\u001b[0m\u001b[0mscores\u001b[0m\u001b[0;34m,\u001b[0m \u001b[0my_train\u001b[0m\u001b[0;34m,\u001b[0m \u001b[0mW\u001b[0m\u001b[0;34m)\u001b[0m\u001b[0;34m\u001b[0m\u001b[0;34m\u001b[0m\u001b[0m\n\u001b[0m\u001b[1;32m      6\u001b[0m \u001b[0mtoc\u001b[0m \u001b[0;34m=\u001b[0m \u001b[0mtime\u001b[0m\u001b[0;34m.\u001b[0m\u001b[0mtime\u001b[0m\u001b[0;34m(\u001b[0m\u001b[0;34m)\u001b[0m\u001b[0;34m\u001b[0m\u001b[0;34m\u001b[0m\u001b[0m\n\u001b[1;32m      7\u001b[0m \u001b[0mnaive_time\u001b[0m \u001b[0;34m=\u001b[0m \u001b[0mtoc\u001b[0m \u001b[0;34m-\u001b[0m \u001b[0mtic\u001b[0m\u001b[0;34m\u001b[0m\u001b[0;34m\u001b[0m\u001b[0m\n",
      "\u001b[0;31mNameError\u001b[0m: name 'scores' is not defined"
     ]
    }
   ],
   "source": [
    "import time\n",
    "\n",
    "# time of naive implementation (two-loop version)\n",
    "tic = time.time()\n",
    "loss_naive, _ = svm_loss_naive(scores, y_train, W)\n",
    "toc = time.time()\n",
    "naive_time = toc - tic\n",
    "print('Naive loss: \\t %.5f computed in %fs' % (loss_naive, naive_time))\n",
    "\n",
    "# time of fully vectorized implementation (no-loop version)\n",
    "tic = time.time()\n",
    "loss_vectorized, _ = svm_loss(scores, y_train, W)\n",
    "toc = time.time()\n",
    "vec_time = toc - tic\n",
    "print('Vectorized loss: %.5f computed in %fs' % (loss_vectorized, vec_time))\n",
    "\n",
    "# The losses should match but your vectorized implementation should be much faster.\n",
    "print('difference: \\t %f' % (loss_naive - loss_vectorized))\n",
    "print('ratio: \\t\\t %f' % (naive_time / vec_time))"
   ]
  },
  {
   "cell_type": "markdown",
   "metadata": {},
   "source": [
    "---"
   ]
  },
  {
   "cell_type": "markdown",
   "metadata": {},
   "source": [
    "## Multi-class Logistic Regression Loss Function"
   ]
  },
  {
   "cell_type": "markdown",
   "metadata": {},
   "source": [
    "<img src=\"http://www.snrazavi.ir/imgs/cross_entropy_loss.jpg\" width=\"80%\"/>"
   ]
  },
  {
   "cell_type": "code",
   "execution_count": 21,
   "metadata": {},
   "outputs": [
    {
     "name": "stdout",
     "output_type": "stream",
     "text": [
      "scores:        [3.20 5.10 -1.70]\n",
      "exp scores:    [24.53 164.02 0.18]\n",
      "probabilities: [0.13 0.87 0.00]\n"
     ]
    }
   ],
   "source": [
    "scores = np.array([3.2, 5.1, -1.7])\n",
    "\n",
    "# Exponentiation\n",
    "exp_scores = np.exp(scores)\n",
    "\n",
    "# Normalization\n",
    "probs = exp_scores / np.sum(exp_scores)\n",
    "\n",
    "print(\"scores:       \", scores)\n",
    "print(\"exp scores:   \", exp_scores)\n",
    "print(\"probabilities:\", probs)"
   ]
  },
  {
   "cell_type": "markdown",
   "metadata": {},
   "source": [
    "### Cross Entropy\n",
    "- Measuring distance between two distributions."
   ]
  },
  {
   "cell_type": "markdown",
   "metadata": {},
   "source": [
    "<img src=\"http://www.snrazavi.ir/imgs/cross_entropy_formula.jpg\" width=\"80%\"/>"
   ]
  },
  {
   "cell_type": "markdown",
   "metadata": {},
   "source": [
    "#### A useful trick: preventing overflow and underflow\n",
    "- If the values of the scores are large, then the exponetiation may result in **overflow/underflow**.\n",
    "- So, we can always **subtract the maximum score** from all the scores\n",
    "\n",
    "``` python\n",
    "# subtract maximum score from scores\n",
    "scores -= np.max(scores)  # note: here, scores are 1D array\n",
    "```"
   ]
  },
  {
   "cell_type": "markdown",
   "metadata": {},
   "source": [
    "$$p_i = \\frac{\\exp(s_{y_i}+C)}{\\sum_j{\\exp(s_j+C)}} = \\frac{\\exp(C) \\times \\exp(s_{y_i})}{\\sum_j{exp(C) \\times \\exp(s_j)}} = \\frac{\\exp(s_{y_i})}{\\sum_j{\\exp(s_j)}}$$\n",
    "\n",
    "$p_i$ represents the probabilities (logits) for ith data $x_i$, and $C$ is any given constant. It is obvious that we can replace the constant $C$ with maximum score. "
   ]
  },
  {
   "cell_type": "code",
   "execution_count": 22,
   "metadata": {},
   "outputs": [
    {
     "name": "stdout",
     "output_type": "stream",
     "text": [
      "scores:        [-1.90 0.00 -6.80]\n",
      "exp scores:    [0.15 1.00 0.00]\n",
      "probabilities: [0.13 0.87 0.00]\n"
     ]
    }
   ],
   "source": [
    "# subtract maximum\n",
    "scores -= np.max(scores)\n",
    "\n",
    "# Exponentiation\n",
    "exp_scores = np.exp(scores)\n",
    "\n",
    "# Normalization\n",
    "probs = exp_scores / np.sum(exp_scores)\n",
    "\n",
    "print(\"scores:       \", scores)\n",
    "print(\"exp scores:   \", exp_scores)\n",
    "print(\"probabilities:\", probs)"
   ]
  },
  {
   "cell_type": "markdown",
   "metadata": {},
   "source": [
    "#### Example: Overflow"
   ]
  },
  {
   "cell_type": "code",
   "execution_count": 23,
   "metadata": {},
   "outputs": [
    {
     "name": "stdout",
     "output_type": "stream",
     "text": [
      "scores:        [-2.00 -1.00 0.00]\n",
      "exp scores:    [0.14 0.37 1.00]\n",
      "probabilities: [0.09 0.24 0.67]\n"
     ]
    }
   ],
   "source": [
    "scores = np.array([1000, 1001, 1002])\n",
    "\n",
    "# subtract maximum\n",
    "scores -= np.max(scores)  # comment this line to see overflow\n",
    "\n",
    "# Exponentiation\n",
    "exp_scores = np.exp(scores)\n",
    "\n",
    "# Normalization\n",
    "probs = exp_scores / np.sum(exp_scores)\n",
    "\n",
    "print(\"scores:       \", scores)\n",
    "print(\"exp scores:   \", exp_scores)\n",
    "print(\"probabilities:\", probs)"
   ]
  },
  {
   "cell_type": "markdown",
   "metadata": {},
   "source": [
    "### Softmax loss function: Naive implementation"
   ]
  },
  {
   "cell_type": "code",
   "execution_count": 24,
   "metadata": {
    "collapsed": true
   },
   "outputs": [],
   "source": [
    "from layers import softmax_loss_naive"
   ]
  },
  {
   "cell_type": "code",
   "execution_count": 25,
   "metadata": {
    "collapsed": true
   },
   "outputs": [],
   "source": [
    "# Initialize parameters randomly\n",
    "W = 0.0001 * np.random.randn(3072, 10)  # for cifar10\n",
    "b = np.zeros((10,))"
   ]
  },
  {
   "cell_type": "code",
   "execution_count": 26,
   "metadata": {
    "collapsed": true
   },
   "outputs": [],
   "source": [
    "# compute linear scores\n",
    "scores, _ = affine_forward(X_train, W, b)"
   ]
  },
  {
   "cell_type": "code",
   "execution_count": 27,
   "metadata": {
    "scrolled": true
   },
   "outputs": [
    {
     "name": "stdout",
     "output_type": "stream",
     "text": [
      "loss = 2.37\n"
     ]
    }
   ],
   "source": [
    "# compute data loss\n",
    "loss, _ = softmax_loss_naive(scores, y_train, W)\n",
    "print(\"loss = %.2f\" % loss)"
   ]
  },
  {
   "cell_type": "markdown",
   "metadata": {},
   "source": [
    "<div class=\"alert alert-warning\">\n",
    "    <b>Quetion?</b> Sanity check!\n",
    "    <ul>\n",
    "        <li> Is there any way to be sure that your loss function implementation is correct?</li>\n",
    "        <li> Think what happens to scores when we initialize parameters with very tiny numbers?</li>\n",
    "    </ul>\n",
    "</div>"
   ]
  },
  {
   "cell_type": "code",
   "execution_count": 28,
   "metadata": {},
   "outputs": [
    {
     "name": "stdout",
     "output_type": "stream",
     "text": [
      "scores:        [0.00 0.00 0.00]\n",
      "exp scores:    [1.00 1.00 1.00]\n",
      "probabilities: [0.33 0.33 0.33]\n"
     ]
    }
   ],
   "source": [
    "s = np.array([0.0, 0.0, 0.0])\n",
    "\n",
    "# subtract maximum\n",
    "s -= np.max(s)\n",
    "\n",
    "# Exponentiation\n",
    "exp_s = np.exp(s)\n",
    "\n",
    "# Normalization\n",
    "probs = exp_s / np.sum(exp_s)\n",
    "\n",
    "print(\"scores:       \", s)\n",
    "print(\"exp scores:   \", exp_s)\n",
    "print(\"probabilities:\", probs)"
   ]
  },
  {
   "cell_type": "code",
   "execution_count": 29,
   "metadata": {},
   "outputs": [
    {
     "name": "stdout",
     "output_type": "stream",
     "text": [
      "log(10) = 2.30\n"
     ]
    }
   ],
   "source": [
    "# Sanity Check\n",
    "print(\"log(10) = %.2f\" % np.log(10))  # NATURAL LOGRAITHM"
   ]
  },
  {
   "cell_type": "markdown",
   "metadata": {},
   "source": [
    "### Softmax loss function: Vectorized implementation"
   ]
  },
  {
   "cell_type": "code",
   "execution_count": 30,
   "metadata": {
    "scrolled": false
   },
   "outputs": [
    {
     "name": "stdout",
     "output_type": "stream",
     "text": [
      "loss = 2.37\n"
     ]
    }
   ],
   "source": [
    "from layers import softmax_loss\n",
    "\n",
    "loss, _ = softmax_loss(scores, y_train, W)\n",
    "print(\"loss = %.2f\" % loss)"
   ]
  },
  {
   "cell_type": "markdown",
   "metadata": {},
   "source": [
    "### Vectorized vs. Unvectorized implementation: comparing efficiencies"
   ]
  },
  {
   "cell_type": "code",
   "execution_count": 31,
   "metadata": {},
   "outputs": [
    {
     "name": "stdout",
     "output_type": "stream",
     "text": [
      "Naive loss: \t 2.36649 computed in 9.619757s\n",
      "Vectorized loss: 2.36649 computed in 0.017512s\n",
      "difference: \t -0.000000\n",
      "ratio: \t\t 549.31\n"
     ]
    }
   ],
   "source": [
    "import time\n",
    "\n",
    "# time of naive implementation (two-loop version)\n",
    "tic = time.time()\n",
    "loss_naive, _ = softmax_loss_naive(scores, y_train, W)\n",
    "toc = time.time()\n",
    "time_naive = toc - tic\n",
    "print('Naive loss: \\t %.5f computed in %fs' % (loss_naive, time_naive))\n",
    "\n",
    "# time of fully vectorized implementation (no-loop version)\n",
    "tic = time.time()\n",
    "loss_vectorized, _ = softmax_loss(scores, y_train, W)\n",
    "toc = time.time()\n",
    "time_vec = toc - tic\n",
    "print('Vectorized loss: %.5f computed in %fs' % (loss_vectorized, time_vec))\n",
    "\n",
    "# The losses should match but your vectorized implementation should be much faster.\n",
    "print('difference: \\t %f' % (loss_naive - loss_vectorized))\n",
    "print('ratio: \\t\\t %.2f' % (time_naive / time_vec))"
   ]
  },
  {
   "cell_type": "markdown",
   "metadata": {
    "collapsed": true
   },
   "source": [
    "# Optimization: Minimizing Loss Function"
   ]
  },
  {
   "cell_type": "markdown",
   "metadata": {
    "collapsed": true
   },
   "source": [
    "- Now, he have a loss function which measures how **bad** the parameters are.\n",
    "- Therefore, we can find **best parameters** by minimizing the loss function."
   ]
  },
  {
   "cell_type": "markdown",
   "metadata": {
    "collapsed": true
   },
   "source": [
    "## Gradient Descent Algorithm"
   ]
  },
  {
   "cell_type": "markdown",
   "metadata": {},
   "source": [
    "<img src=\"http://www.snrazavi.ir/imgs/gradient_descent_line_graph.gif\" width=\"100%\"/>"
   ]
  },
  {
   "cell_type": "markdown",
   "metadata": {},
   "source": [
    "### Gradient Descent algorithm: math"
   ]
  },
  {
   "cell_type": "markdown",
   "metadata": {},
   "source": [
    "<img src=\"http://www.snrazavi.ir/imgs/gradient_descent_fig.jpg\" width=\"70%\"/>"
   ]
  },
  {
   "cell_type": "markdown",
   "metadata": {},
   "source": [
    "<div class=\"alert alert-success\">\n",
    "    <h3>Gradient Descent Algorithm</h3>\n",
    "    <ol>\n",
    "        <li>Start with random initial parameters</li>\n",
    "        <li>At each iteration:</li>\n",
    "        <ol>\n",
    "            <li>Compute the gradient of loss function w.r.t. parameters</li>\n",
    "            <li>Update parameters: $W^{(new)} \\leftarrow W^{(old)} - \\alpha * \\nabla_w L(W)$</li>\n",
    "        </ol>\n",
    "    </ol>\n",
    "</div>"
   ]
  },
  {
   "cell_type": "markdown",
   "metadata": {},
   "source": [
    "``` python\n",
    "# Step1: initialize weights using small random numbers\n",
    "W = 0.0001 * np.random.randn(D, C)\n",
    "    \n",
    "# Step 2: loop until convergence\n",
    "while True:\n",
    "    dW = evaluate_gradients(loss_function, X_train, y_train, W)  # dW is dL/dW\n",
    "    W = W - learning_rate * dW\n",
    "```"
   ]
  },
  {
   "cell_type": "markdown",
   "metadata": {},
   "source": [
    "### Mini-batch gradient descent\n",
    "- The gradient descent algorithm is **very inefficient** when the training data is very big.\n",
    "- So, at each iteration, we use only a **small random fraction of training data (batch)**. "
   ]
  },
  {
   "cell_type": "markdown",
   "metadata": {},
   "source": [
    "<div class=\"alert alert-success\">\n",
    "    <h3>Mini-batch Gradient Descent Algorithm</h3>\n",
    "    <ol>\n",
    "        <li>Start with random initial parameters</li>\n",
    "        <li>At each iteration:</li>\n",
    "        <ol>\n",
    "            <li><b>Select a batch of data randomly</b></li>\n",
    "            <li>Compute the gradient of loss function w.r.t. parameters</li>\n",
    "            <li>Update parameters: $W^{(new)} \\leftarrow W^{(old)} - \\alpha * \\nabla_w L(W)$</li>\n",
    "        </ol>\n",
    "    </ol>\n",
    "</div>"
   ]
  },
  {
   "cell_type": "markdown",
   "metadata": {},
   "source": [
    "``` python\n",
    "# Step1: initialize weights using small random numbers\n",
    "W = 0.0001 * np.random.randn(D, C)\n",
    "    \n",
    "# Step 2: loop until convergence\n",
    "while True:\n",
    "    X_batch, y_batch = sample_training_data(X_train, y_train, batch_size=256)\n",
    "    dW = evaluate_gradients(loss_function, X_batch, y_batch, W)  # dW is dL/dW\n",
    "    W = W - learning_rate * dW\n",
    "```"
   ]
  },
  {
   "cell_type": "markdown",
   "metadata": {},
   "source": [
    "## Backpropagation\n",
    "- BP is an efficient way of computing gradients automatically w.r.t. parameter, inputs and any intermediate results.\n",
    "- The only requirement to use BP is that we should provide a **backward** function for each layer we define, so that this function takes the gradients with respects to its outputs and computes the gradients with respect to its inputs using **Chain Rule**.\n",
    "\n",
    "**Chain Rule.** Let assume that $y=g(f(x))$. Then, we have:\n",
    "\n",
    "$$\\frac{dg}{dx} = \\frac{dg}{df} \\times \\frac{df}{dx}$$"
   ]
  },
  {
   "cell_type": "markdown",
   "metadata": {},
   "source": [
    "<img src=\"http://www.snrazavi.ir/imgs/backward_gradient.jpg\" width=\"60%\"/>"
   ]
  },
  {
   "cell_type": "markdown",
   "metadata": {},
   "source": [
    "#### Forward step"
   ]
  },
  {
   "cell_type": "markdown",
   "metadata": {},
   "source": [
    "```python\n",
    "def affine_forward(x, w, b):\n",
    "    x2d = np.reshape(x, (x.shape[0], -1))  # convert x to a 2D array\n",
    "    out = np.dot(w, x2d) + b\n",
    "    cache = (x, w, b)\n",
    "    return out, cache\n",
    "```"
   ]
  },
  {
   "cell_type": "markdown",
   "metadata": {},
   "source": [
    "#### Backward Step"
   ]
  },
  {
   "cell_type": "markdown",
   "metadata": {},
   "source": [
    "```python\n",
    "def affine_backward(dout, cache):\n",
    "    \"\"\"Backward step for a linear layer.\n",
    "       \n",
    "       Inputs:\n",
    "           - dout: the upstream dervatives; i.e., partial dervative of loss w.r.t. out.\n",
    "           - cache: a tuple containing the inputs of a linear layer (x, w, b)\n",
    "           \n",
    "       Outputs:\n",
    "           - dx: derevative of loss function w.r.t. x\n",
    "           - dw: derevative of loss function w.r.t. w\n",
    "           - db: derevative of loss function w.r.t. b\n",
    "    \"\"\"\n",
    "    x, w, b = cache \n",
    "    # compute dx (dL/dx = dL/dout * dout/dx)\n",
    "    # compute dW (dL/dw = dL/dout * dout/dw)\n",
    "    # compute db (dL/db = dL/dout * dout/db)\n",
    "    return dx, dw, db\n",
    "```"
   ]
  },
  {
   "cell_type": "markdown",
   "metadata": {},
   "source": [
    "### Computing gradients of loss function"
   ]
  },
  {
   "cell_type": "markdown",
   "metadata": {},
   "source": [
    "$$L_i=-\\log(p_{y_i}) = -\\log(\\frac{\\exp(s_{y_i})}{\\sum_j{\\exp(s_j)}}) = \\log(\\sum_j{\\exp(s_j)}) - s_{y_i}$$"
   ]
  },
  {
   "cell_type": "markdown",
   "metadata": {},
   "source": [
    "#### Computing partial derevative w.r.t. $s_j$ for $j \\ne y_i$"
   ]
  },
  {
   "cell_type": "markdown",
   "metadata": {},
   "source": [
    "$$\\frac{\\partial L_i}{\\partial s_j} = \\frac{\\exp(s_j)}{\\sum_j{\\exp(s_j)}} = p_j $$"
   ]
  },
  {
   "cell_type": "markdown",
   "metadata": {},
   "source": [
    "#### Computing partial derevative w.r.t. $s_{y_i}$"
   ]
  },
  {
   "cell_type": "markdown",
   "metadata": {},
   "source": [
    "$$\\frac{\\partial L_i}{\\partial s_{y_i}} = \\frac{\\exp(s_{y_i})}{\\sum_j{\\exp(s_j)}} - 1 = p_{y_i} - 1$$"
   ]
  },
  {
   "cell_type": "code",
   "execution_count": 32,
   "metadata": {
    "collapsed": true
   },
   "outputs": [],
   "source": [
    "def softmax_loss(s, y):\n",
    "    \"\"\"\n",
    "    Computes the loss and gradient for softmax classification.\n",
    "\n",
    "    Inputs:\n",
    "    - s: Input data, of shape (N, C) where s[i, j] is the score for the jth\n",
    "      class for the ith input.\n",
    "    - y: Vector of labels, of shape (N,) where y[i] is the label for x[i] and\n",
    "      0 <= y[i] < C\n",
    "\n",
    "    Returns a tuple of:\n",
    "    - loss: Scalar giving the loss\n",
    "    - dx: Gradient of the loss with respect to x\n",
    "    \"\"\"\n",
    "    \n",
    "    # forward step: computing data loss\n",
    "    shifted_logits = s - np.max(s, axis=1, keepdims=True)\n",
    "    Z = np.sum(np.exp(shifted_logits), axis=1, keepdims=True)\n",
    "    log_probs = shifted_logits - np.log(Z)\n",
    "    probs = np.exp(log_probs)\n",
    "    N = s.shape[0]\n",
    "    loss = -np.sum(log_probs[np.arange(N), y]) / N\n",
    "    \n",
    "    # backward step: computing gradient of loss w.r.t. s (scores).\n",
    "    ds = probs.copy()\n",
    "    ds[np.arange(N), y] -= 1\n",
    "    ds /= N\n",
    "    return loss, ds"
   ]
  },
  {
   "cell_type": "code",
   "execution_count": 33,
   "metadata": {
    "collapsed": true
   },
   "outputs": [],
   "source": [
    "def svm_loss(s, y):\n",
    "    \"\"\"\n",
    "    Computes the loss and gradient using for multiclass SVM classification.\n",
    "\n",
    "    Inputs:\n",
    "    - s: Input data, of shape (N, C) where s[i, j] is the score for the jth\n",
    "      class for the ith input.\n",
    "    - y: Vector of labels, of shape (N,) where y[i] is the label for x[i] and\n",
    "      0 <= y[i] < C\n",
    "\n",
    "    Returns a tuple of:\n",
    "    - loss: Scalar giving the loss\n",
    "    - dx: Gradient of the loss with respect to x\n",
    "    \"\"\"\n",
    "    \n",
    "    # forward step: computing data loss\n",
    "    N = s.shape[0]\n",
    "    correct_class_scores = s[np.arange(N), y]\n",
    "    margins = np.maximum(0, s - correct_class_scores[:, np.newaxis] + 1.0)\n",
    "    margins[np.arange(N), y] = 0\n",
    "    loss = np.sum(margins) / N\n",
    "    \n",
    "    # backward step: computing gradient of loss w.r.t. s (scores).\n",
    "    num_pos = np.sum(margins > 0, axis=1)\n",
    "    ds = np.zeros_like(s)\n",
    "    ds[margins > 0] = 1\n",
    "    ds[np.arange(N), y] -= num_pos\n",
    "    ds /= N\n",
    "    return loss, ds"
   ]
  },
  {
   "cell_type": "markdown",
   "metadata": {},
   "source": [
    "# Putting All Together: Data + Model + Loss + Optimization"
   ]
  },
  {
   "cell_type": "markdown",
   "metadata": {},
   "source": [
    "## Data: `CIFAR-10`\n",
    "- Our data is ready, as we have done all necessary pre-processing steps."
   ]
  },
  {
   "cell_type": "code",
   "execution_count": 34,
   "metadata": {},
   "outputs": [
    {
     "name": "stdout",
     "output_type": "stream",
     "text": [
      "Training data shape:    (49000, 3072)\n",
      "Validation data shape:  (1000, 3072)\n",
      "Test data shape:        (1000, 3072)\n",
      "dev data shape:         (500, 3072)\n"
     ]
    }
   ],
   "source": [
    "print('Training data shape:   ', X_train.shape)\n",
    "print('Validation data shape: ', X_val.shape)\n",
    "print('Test data shape:       ', X_test.shape)\n",
    "print('dev data shape:        ', X_dev.shape)"
   ]
  },
  {
   "cell_type": "markdown",
   "metadata": {},
   "source": [
    "## Model: `linear model`\n",
    "- for data $(x_i, y_i)$, compute the score using: \n",
    "$$f(x_i, W, b)=Wx_i + b$$"
   ]
  },
  {
   "cell_type": "markdown",
   "metadata": {},
   "source": [
    "## Loss function: `Cross-Enropy`\n",
    "- From score, compute probabilities using `softmax` function.\n",
    "- Compute loss for each data using the computed probilities and its true label.\n",
    "\n",
    "$$L_i=-\\log(p_{y_i})$$\n",
    "\n",
    "- Compute the total loss as the average over all the data losses plus regularization loss.\n",
    "\n",
    "$$L = \\frac{1}{N} \\sum_{i=1}^N{L_i} + \\lambda \\sum_{jk}W_{jk}^2$$\n",
    "\n",
    "**Note**: Remember to use *vectorized implementation*, which is computationally much more efficient."
   ]
  },
  {
   "cell_type": "markdown",
   "metadata": {},
   "source": [
    "## Minimize Loss Function: `Gradient Descent`"
   ]
  },
  {
   "cell_type": "code",
   "execution_count": 35,
   "metadata": {
    "collapsed": true
   },
   "outputs": [],
   "source": [
    "from layers import affine_backward"
   ]
  },
  {
   "cell_type": "code",
   "execution_count": 36,
   "metadata": {},
   "outputs": [
    {
     "name": "stdout",
     "output_type": "stream",
     "text": [
      "Iteration    0: loss = 40.38 | train accuracy =  9.77 | validation accuracy =  7.50\n",
      "Iteration  100: loss =  2.44 | train accuracy = 29.30 | validation accuracy = 28.80\n",
      "Iteration  200: loss =  2.20 | train accuracy = 30.47 | validation accuracy = 29.30\n",
      "Iteration  300: loss =  2.20 | train accuracy = 33.20 | validation accuracy = 30.80\n",
      "Iteration  400: loss =  2.21 | train accuracy = 26.95 | validation accuracy = 28.90\n",
      "Iteration  500: loss =  2.19 | train accuracy = 32.03 | validation accuracy = 28.80\n",
      "Iteration  600: loss =  2.19 | train accuracy = 32.42 | validation accuracy = 29.00\n",
      "Iteration  700: loss =  2.21 | train accuracy = 26.56 | validation accuracy = 29.20\n",
      "Iteration  800: loss =  2.20 | train accuracy = 25.78 | validation accuracy = 29.00\n",
      "Iteration  900: loss =  2.24 | train accuracy = 21.09 | validation accuracy = 28.30\n",
      "Iteration 1000: loss =  2.21 | train accuracy = 27.73 | validation accuracy = 29.00\n",
      "Iteration 1100: loss =  2.20 | train accuracy = 28.52 | validation accuracy = 29.20\n",
      "Iteration 1200: loss =  2.21 | train accuracy = 28.91 | validation accuracy = 29.70\n",
      "Iteration 1300: loss =  2.18 | train accuracy = 27.34 | validation accuracy = 29.00\n",
      "Iteration 1400: loss =  2.19 | train accuracy = 31.64 | validation accuracy = 29.60\n",
      "Iteration 1500: loss =  2.19 | train accuracy = 35.94 | validation accuracy = 28.70\n"
     ]
    }
   ],
   "source": [
    "N = X_train.shape[0]\n",
    "\n",
    "# define parameters for mini-batch GD\n",
    "num_iterations = 1500\n",
    "batch_size = 256\n",
    "learning_rate = 1e-7\n",
    "reg = 2.5e5\n",
    "\n",
    "# initialize weights\n",
    "W = 0.0001 * np.random.randn(3072, 10)\n",
    "b = np.zeros(10)\n",
    "\n",
    "loss_history = []\n",
    "\n",
    "for i in range(num_iterations + 1):\n",
    "    # create a batch of data\n",
    "    batch_idxs = np.random.choice(N, batch_size, replace=False)\n",
    "    X_batch = X_train[batch_idxs]\n",
    "    y_batch = y_train[batch_idxs]\n",
    "    \n",
    "    # forward step\n",
    "    scores, cache = affine_forward(X_batch, W, b)\n",
    "    \n",
    "    # compute loss\n",
    "    loss, dscores = softmax_loss(scores, y_batch)  # data loss\n",
    "    loss += 0.5 * reg * np.sum(W * W)          # regularization loss\n",
    "    loss_history.append(loss)\n",
    "    \n",
    "    # backward step\n",
    "    _, dW, db = affine_backward(dscores, cache)\n",
    "    dW += reg * W\n",
    "      \n",
    "    # report every 100 iteration\n",
    "    if i % 100 == 0:\n",
    "        y_preds = np.argmax(scores, axis=1)\n",
    "        train_accuracy = 100.0 * np.mean(y_preds == y_batch)\n",
    "        \n",
    "        val_scores, _ = affine_forward(X_val, W, b)\n",
    "        val_preds = np.argmax(val_scores, axis=1)\n",
    "        val_accuracy = 100.0 * np.mean(val_preds == y_val)\n",
    "        print(\"Iteration %4d: loss = %5.2f | train accuracy = %5.2f | validation accuracy = %5.2f\" % \n",
    "             (i, loss, train_accuracy, val_accuracy))\n",
    "    \n",
    "    # update rule\n",
    "    W = W - learning_rate * dW\n",
    "    b = b - learning_rate * db"
   ]
  },
  {
   "cell_type": "code",
   "execution_count": 37,
   "metadata": {},
   "outputs": [
    {
     "data": {
      "image/png": "[encoded data removed]",
      "text/plain": [
       "<matplotlib.figure.Figure at 0x1adaf967b38>"
      ]
     },
     "metadata": {},
     "output_type": "display_data"
    }
   ],
   "source": [
    "plt.style.use('ggplot')\n",
    "\n",
    "plt.plot(loss_history)\n",
    "plt.xlabel('Iteration')\n",
    "plt.ylabel('Loss')\n",
    "plt.title('Training Loss');"
   ]
  },
  {
   "cell_type": "markdown",
   "metadata": {},
   "source": [
    "### Visulalize weights"
   ]
  },
  {
   "cell_type": "code",
   "execution_count": 38,
   "metadata": {},
   "outputs": [
    {
     "name": "stdout",
     "output_type": "stream",
     "text": [
      "(3072, 10)\n"
     ]
    }
   ],
   "source": [
    "print(W.shape)"
   ]
  },
  {
   "cell_type": "code",
   "execution_count": 39,
   "metadata": {},
   "outputs": [
    {
     "data": {
      "image/png": "[encoded data removed]",
      "text/plain": [
       "<matplotlib.figure.Figure at 0x1adae747358>"
      ]
     },
     "metadata": {},
     "output_type": "display_data"
    }
   ],
   "source": [
    "w_min, w_max = np.min(W), np.max(W)\n",
    "\n",
    "for i, label in enumerate(classes):\n",
    "    w = W[:, i]\n",
    "    w = np.reshape(w, (32, 32, 3))\n",
    "    w = 255.0 * (w - w_min) / (w_max - w_min)\n",
    "    plt.subplot(1, 10, i + 1)\n",
    "    plt.imshow(w.astype('uint8'), interpolation='spline16')\n",
    "    plt.axis('off')\n",
    "    plt.title(label)"
   ]
  },
  {
   "cell_type": "markdown",
   "metadata": {
    "collapsed": true
   },
   "source": [
    "### Prediction on test data"
   ]
  },
  {
   "cell_type": "code",
   "execution_count": 40,
   "metadata": {
    "collapsed": true
   },
   "outputs": [],
   "source": [
    "def predict(x, W, b):\n",
    "    scores, _ = affine_forward(x, W, b)\n",
    "    return np.argmax(scores, axis=1)"
   ]
  },
  {
   "cell_type": "code",
   "execution_count": 41,
   "metadata": {},
   "outputs": [
    {
     "name": "stdout",
     "output_type": "stream",
     "text": [
      "Test accuracy = 29.50\n"
     ]
    }
   ],
   "source": [
    "test_pred = predict(X_test, W, b)\n",
    "test_accuracy = 100.0 * np.mean(test_pred == y_test)\n",
    "print(\"Test accuracy = %.2f\" % test_accuracy)"
   ]
  },
  {
   "cell_type": "markdown",
   "metadata": {},
   "source": [
    "#### Predict labels for 10 randomly chosen test data"
   ]
  },
  {
   "cell_type": "code",
   "execution_count": 42,
   "metadata": {
    "scrolled": true
   },
   "outputs": [
    {
     "data": {
      "image/png": "[encoded data removed]",
      "text/plain": [
       "<matplotlib.figure.Figure at 0x1adb6629940>"
      ]
     },
     "metadata": {},
     "output_type": "display_data"
    }
   ],
   "source": [
    "# choose 10 random test data\n",
    "num_samples = 10\n",
    "idxs = np.random.choice(X_test.shape[0], num_samples, replace=False)\n",
    "X_sample, y_sample = X_test[idxs], y_test[idxs]\n",
    "\n",
    "# predict labels\n",
    "y_pred = predict(X_sample, W, b)\n",
    "\n",
    "# To draw the picture, we should add back the mean\n",
    "X_sample += mean_image\n",
    "\n",
    "for i in range(num_samples):\n",
    "    x, y = X_sample[i, :], y_sample[i]\n",
    "    x = x.reshape((32, 32, 3))\n",
    "    plt.subplot(1, num_samples, i + 1)\n",
    "    plt.imshow(x.astype('uint8'))\n",
    "    plt.axis('off')\n",
    "    plt.title(classes[y_pred[i]]);"
   ]
  }
 ],
 "metadata": {
  "kernelspec": {
   "display_name": "Python 3",
   "language": "python",
   "name": "python3"
  },
  "language_info": {
   "codemirror_mode": {
    "name": "ipython",
    "version": 3
   },
   "file_extension": ".py",
   "mimetype": "text/x-python",
   "name": "python",
   "nbconvert_exporter": "python",
   "pygments_lexer": "ipython3",
   "version": "3.7.4"
  }
 },
 "nbformat": 4,
 "nbformat_minor": 2
}
