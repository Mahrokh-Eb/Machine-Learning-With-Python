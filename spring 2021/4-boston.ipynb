{
 "cells": [
  {
   "cell_type": "code",
   "execution_count": 3,
   "id": "equipped-relations",
   "metadata": {},
   "outputs": [],
   "source": [
    "import numpy as np\n",
    "import matplotlib.pyplot as plt\n",
    "%matplotlib inline\n",
    "\n",
    "from sklearn.datasets import load_boston\n",
    "boston = load_boston()\n",
    "\n",
    "from sklearn.neural_network import MLPClassifier\n",
    "clf = MLPClassifier"
   ]
  },
  {
   "cell_type": "code",
   "execution_count": 4,
   "id": "excessive-productivity",
   "metadata": {},
   "outputs": [
    {
     "name": "stdout",
     "output_type": "stream",
     "text": [
      "dict_keys(['data', 'target', 'feature_names', 'DESCR', 'filename'])\n"
     ]
    }
   ],
   "source": [
    "print(boston.keys())"
   ]
  },
  {
   "cell_type": "code",
   "execution_count": 8,
   "id": "otherwise-cooperative",
   "metadata": {},
   "outputs": [
    {
     "name": "stdout",
     "output_type": "stream",
     "text": [
      "(506, 13)\n",
      "(506,)\n"
     ]
    }
   ],
   "source": [
    "print(boston.data.shape)\n",
    "print(boston.target.shape)"
   ]
  },
  {
   "cell_type": "code",
   "execution_count": 7,
   "id": "experimental-costume",
   "metadata": {},
   "outputs": [
    {
     "name": "stdout",
     "output_type": "stream",
     "text": [
      "506 13\n"
     ]
    }
   ],
   "source": [
    "n_samples, n_features = boston.data.shape\n",
    "print(n_samples, n_features)"
   ]
  },
  {
   "cell_type": "code",
   "execution_count": 15,
   "id": "infrared-indicator",
   "metadata": {},
   "outputs": [],
   "source": [
    "# print(np.unique(boston.target, return_counts=True))"
   ]
  },
  {
   "cell_type": "code",
   "execution_count": 11,
   "id": "distinguished-arlington",
   "metadata": {},
   "outputs": [
    {
     "name": "stdout",
     "output_type": "stream",
     "text": [
      "['CRIM' 'ZN' 'INDUS' 'CHAS' 'NOX' 'RM' 'AGE' 'DIS' 'RAD' 'TAX' 'PTRATIO'\n",
      " 'B' 'LSTAT']\n"
     ]
    }
   ],
   "source": [
    "print(boston.feature_names)"
   ]
  },
  {
   "cell_type": "code",
   "execution_count": 12,
   "id": "statutory-failure",
   "metadata": {},
   "outputs": [
    {
     "name": "stdout",
     "output_type": "stream",
     "text": [
      "/Users/mahrokh/opt/anaconda3/lib/python3.7/site-packages/sklearn/datasets/data/boston_house_prices.csv\n"
     ]
    }
   ],
   "source": [
    "print(boston.filename)"
   ]
  },
  {
   "cell_type": "code",
   "execution_count": 22,
   "id": "competent-broadcasting",
   "metadata": {},
   "outputs": [
    {
     "data": {
      "image/png": "[encoded data removed]",
      "text/plain": [
       "<Figure size 432x288 with 1 Axes>"
      ]
     },
     "metadata": {
      "needs_background": "light"
     },
     "output_type": "display_data"
    }
   ],
   "source": [
    "plt.hist(boston.data);"
   ]
  },
  {
   "cell_type": "code",
   "execution_count": 23,
   "id": "vanilla-coffee",
   "metadata": {},
   "outputs": [],
   "source": [
    "x, y = boston.data, boston.target"
   ]
  },
  {
   "cell_type": "code",
   "execution_count": 35,
   "id": "fitting-thermal",
   "metadata": {},
   "outputs": [
    {
     "name": "stdout",
     "output_type": "stream",
     "text": [
      "354\n",
      "152\n",
      "2\n",
      "2\n"
     ]
    }
   ],
   "source": [
    "from sklearn.model_selection import train_test_split\n",
    "x_train, x_test, y_train, y_test = train_test_split(x, y, test_size=0.3)\n",
    "print(x_train.shape[0])\n",
    "print(x_test.shape[0])\n",
    "print(x_train.ndim)\n",
    "print(x_test.ndim)"
   ]
  },
  {
   "cell_type": "code",
   "execution_count": 50,
   "id": "underlying-quarterly",
   "metadata": {},
   "outputs": [],
   "source": [
    "mu = np.mean(x_train, axis=0)\n",
    "sigma = np.std(x_train, axis=0)\n",
    "\n",
    "x_train -= mu\n",
    "x_train /= sigma\n",
    "x_test -= mu\n",
    "x_test /= sigma\n",
    "\n",
    "# print(np.mean(X_train, axis=0))\n",
    "# print(np.std(X_train, axis=1))"
   ]
  },
  {
   "cell_type": "code",
   "execution_count": 70,
   "id": "explicit-greenhouse",
   "metadata": {},
   "outputs": [],
   "source": [
    "from sklearn.neural_network import MLPClassifier\n",
    "clf = MLPClassifier(activation='relu',solver='adam',hidden_layer_sizes=(100, 100, 100), verbose= True, early_stopping=True)"
   ]
  },
  {
   "cell_type": "code",
   "execution_count": 71,
   "id": "collected-thousand",
   "metadata": {},
   "outputs": [
    {
     "name": "stdout",
     "output_type": "stream",
     "text": [
      "Iteration 1, loss = 3.77051843\n",
      "Validation score: 0.027778\n",
      "Iteration 2, loss = 3.69621443\n",
      "Validation score: 0.027778\n",
      "Iteration 3, loss = 3.63493965\n",
      "Validation score: 0.027778\n",
      "Iteration 4, loss = 3.57761629\n",
      "Validation score: 0.027778\n",
      "Iteration 5, loss = 3.52335384\n",
      "Validation score: 0.027778\n",
      "Iteration 6, loss = 3.46866483\n",
      "Validation score: 0.027778\n",
      "Iteration 7, loss = 3.41511993\n",
      "Validation score: 0.027778\n",
      "Iteration 8, loss = 3.36140237\n",
      "Validation score: 0.055556\n",
      "Iteration 9, loss = 3.30813339\n",
      "Validation score: 0.055556\n",
      "Iteration 10, loss = 3.25510239\n",
      "Validation score: 0.027778\n",
      "Iteration 11, loss = 3.20044757\n",
      "Validation score: 0.055556\n",
      "Iteration 12, loss = 3.14864560\n",
      "Validation score: 0.027778\n",
      "Iteration 13, loss = 3.09665295\n",
      "Validation score: 0.027778\n",
      "Iteration 14, loss = 3.04435220\n",
      "Validation score: 0.027778\n",
      "Iteration 15, loss = 2.99105039\n",
      "Validation score: 0.027778\n",
      "Iteration 16, loss = 2.93893189\n",
      "Validation score: 0.027778\n",
      "Iteration 17, loss = 2.88475380\n",
      "Validation score: 0.027778\n",
      "Iteration 18, loss = 2.83502850\n",
      "Validation score: 0.027778\n",
      "Iteration 19, loss = 2.78524412\n",
      "Validation score: 0.027778\n",
      "Validation score did not improve more than tol=0.000100 for 10 consecutive epochs. Stopping.\n"
     ]
    },
    {
     "data": {
      "text/plain": [
       "MLPClassifier(early_stopping=True, hidden_layer_sizes=(100, 100, 100),\n",
       "              verbose=True)"
      ]
     },
     "execution_count": 71,
     "metadata": {},
     "output_type": "execute_result"
    }
   ],
   "source": [
    "y_train = y_train.astype('int')\n",
    "\n",
    "clf.fit(x_train, y_train)"
   ]
  },
  {
   "cell_type": "code",
   "execution_count": 72,
   "id": "sorted-breathing",
   "metadata": {},
   "outputs": [],
   "source": [
    "y_pred = clf.predict(x_test)"
   ]
  },
  {
   "cell_type": "code",
   "execution_count": 73,
   "id": "irish-excitement",
   "metadata": {},
   "outputs": [
    {
     "name": "stdout",
     "output_type": "stream",
     "text": [
      "0.11842105263157894\n"
     ]
    }
   ],
   "source": [
    "from sklearn.metrics import accuracy_score\n",
    "accuracy = accuracy_score(y_test.round(), y_pred)\n",
    "print(accuracy)"
   ]
  },
  {
   "cell_type": "code",
   "execution_count": 77,
   "id": "improved-litigation",
   "metadata": {},
   "outputs": [
    {
     "name": "stdout",
     "output_type": "stream",
     "text": [
      "[[1 0 0 ... 0 0 0]\n",
      " [0 1 0 ... 0 0 0]\n",
      " [0 0 1 ... 0 0 0]\n",
      " ...\n",
      " [0 0 0 ... 2 0 0]\n",
      " [0 0 0 ... 0 1 0]\n",
      " [0 0 0 ... 0 0 4]]\n"
     ]
    }
   ],
   "source": [
    "from sklearn.metrics import confusion_matrix\n",
    "cm = confusion_matrix(y_test.round(), y_test.round())\n",
    "print(cm)"
   ]
  },
  {
   "cell_type": "code",
   "execution_count": 80,
   "id": "worth-commonwealth",
   "metadata": {},
   "outputs": [
    {
     "data": {
      "image/png": "[encoded data removed]",
      "text/plain": [
       "<Figure size 432x288 with 2 Axes>"
      ]
     },
     "metadata": {
      "needs_background": "light"
     },
     "output_type": "display_data"
    }
   ],
   "source": [
    "plt.imshow(cm, interpolation='nearest', cmap=plt.cm.Blues)\n",
    "plt.colorbar();"
   ]
  },
  {
   "cell_type": "code",
   "execution_count": null,
   "id": "deluxe-willow",
   "metadata": {},
   "outputs": [],
   "source": []
  }
 ],
 "metadata": {
  "kernelspec": {
   "display_name": "Python 3",
   "language": "python",
   "name": "python3"
  },
  "language_info": {
   "codemirror_mode": {
    "name": "ipython",
    "version": 3
   },
   "file_extension": ".py",
   "mimetype": "text/x-python",
   "name": "python",
   "nbconvert_exporter": "python",
   "pygments_lexer": "ipython3",
   "version": "3.7.10"
  }
 },
 "nbformat": 4,
 "nbformat_minor": 5
}
