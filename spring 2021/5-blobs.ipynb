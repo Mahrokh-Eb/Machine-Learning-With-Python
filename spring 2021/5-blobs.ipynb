{
 "cells": [
  {
   "cell_type": "code",
   "execution_count": 28,
   "id": "collectible-maryland",
   "metadata": {},
   "outputs": [],
   "source": [
    "import numpy as np\n",
    "import matplotlib.pyplot as plt\n",
    "%matplotlib inline\n",
    "\n",
    "from sklearn.datasets import load_iris\n",
    "iris = load_iris()\n",
    "\n",
    "from sklearn.neighbors import KNeighborsClassifier\n",
    "clf = KNeighborsClassifier()\n",
    "\n",
    "from sklearn.model_selection import train_test_split\n",
    "\n",
    "from sklearn.metrics import accuracy_score"
   ]
  },
  {
   "cell_type": "code",
   "execution_count": 29,
   "id": "featured-philosophy",
   "metadata": {},
   "outputs": [
    {
     "name": "stdout",
     "output_type": "stream",
     "text": [
      "dict_keys(['data', 'target', 'frame', 'target_names', 'DESCR', 'feature_names', 'filename'])\n"
     ]
    }
   ],
   "source": [
    "print(iris.keys())"
   ]
  },
  {
   "cell_type": "code",
   "execution_count": 30,
   "id": "immune-seller",
   "metadata": {},
   "outputs": [
    {
     "name": "stdout",
     "output_type": "stream",
     "text": [
      "(150, 4)\n",
      "(150,)\n"
     ]
    }
   ],
   "source": [
    "x, y = iris.data, iris.target\n",
    "print(x.shape)\n",
    "print(y.shape)"
   ]
  },
  {
   "cell_type": "markdown",
   "id": "silver-reply",
   "metadata": {},
   "source": [
    "### stratify"
   ]
  },
  {
   "cell_type": "code",
   "execution_count": 31,
   "id": "induced-hartford",
   "metadata": {},
   "outputs": [
    {
     "name": "stdout",
     "output_type": "stream",
     "text": [
      "105\n",
      "45\n"
     ]
    }
   ],
   "source": [
    "x_train, x_test, y_train, y_test = train_test_split(x,y, test_size=0.3, random_state=123, stratify=y)\n",
    "print(x_train.shape[0])\n",
    "print(x_test.shape[0])"
   ]
  },
  {
   "cell_type": "code",
   "execution_count": 32,
   "id": "junior-journalism",
   "metadata": {},
   "outputs": [
    {
     "name": "stdout",
     "output_type": "stream",
     "text": [
      "label is= [0 1 2]\n",
      "the count from each label is= [50 50 50]\n",
      "persentage= [0.33333333 0.33333333 0.33333333]\n"
     ]
    }
   ],
   "source": [
    "label, count = np.unique(y, return_counts=True)\n",
    "print('label is=', label)\n",
    "print('the count from each label is=', count)\n",
    "print('persentage=', count/len(y))"
   ]
  },
  {
   "cell_type": "code",
   "execution_count": 33,
   "id": "comparative-buffalo",
   "metadata": {},
   "outputs": [
    {
     "name": "stdout",
     "output_type": "stream",
     "text": [
      "label is= [0 1 2]\n",
      "the count from each label is= [35 35 35]\n",
      "persentage= [0.33333333 0.33333333 0.33333333]\n"
     ]
    }
   ],
   "source": [
    "label, count = np.unique(y_train, return_counts=True)\n",
    "print('label is=', label)\n",
    "print('the count from each label is=', count)\n",
    "print('persentage=', count/len(y_train))"
   ]
  },
  {
   "cell_type": "code",
   "execution_count": 34,
   "id": "earned-august",
   "metadata": {},
   "outputs": [
    {
     "name": "stdout",
     "output_type": "stream",
     "text": [
      "label is= [0 1 2]\n",
      "the count from each label is= [15 15 15]\n",
      "persentage= [0.33333333 0.33333333 0.33333333]\n"
     ]
    }
   ],
   "source": [
    "label, count = np.unique(y_test, return_counts=True)\n",
    "print('label is=', label)\n",
    "print('the count from each label is=', count)\n",
    "print('persentage=', count/len(y_test))"
   ]
  },
  {
   "cell_type": "markdown",
   "id": "rubber-kuwait",
   "metadata": {},
   "source": [
    "### train and test"
   ]
  },
  {
   "cell_type": "code",
   "execution_count": 35,
   "id": "surgical-lucas",
   "metadata": {},
   "outputs": [
    {
     "name": "stdout",
     "output_type": "stream",
     "text": [
      "accuracy score on test data= 95.56%\n"
     ]
    }
   ],
   "source": [
    "clf.fit(x_train, y_train)\n",
    "y_pred = clf.predict(x_test)\n",
    "accuracy = accuracy_score(y_test, y_pred)\n",
    "print('accuracy score on test data= %.2f'%(accuracy*100)+ '%')"
   ]
  },
  {
   "cell_type": "code",
   "execution_count": 36,
   "id": "spiritual-significance",
   "metadata": {},
   "outputs": [
    {
     "data": {
      "text/plain": [
       "\"y_pred = clf.predict(x_train)\\naccuracy = accuracy_score(y_train, y_pred)\\nprint('accuracy score on train data= %.2f'%(accuracy*100)+ '%')\""
      ]
     },
     "execution_count": 36,
     "metadata": {},
     "output_type": "execute_result"
    }
   ],
   "source": [
    "'''y_pred = clf.predict(x_train)\n",
    "accuracy = accuracy_score(y_train, y_pred)\n",
    "print('accuracy score on train data= %.2f'%(accuracy*100)+ '%')'''"
   ]
  },
  {
   "cell_type": "markdown",
   "id": "accepting-alberta",
   "metadata": {},
   "source": [
    "### Visualize results"
   ]
  },
  {
   "cell_type": "code",
   "execution_count": 37,
   "id": "chubby-microwave",
   "metadata": {},
   "outputs": [
    {
     "name": "stdout",
     "output_type": "stream",
     "text": [
      "samples correctly classified:\n",
      "[ 1  2  3  4  5  6  7  8  9 10 11 12 13 14 15 16 17 18 19 20 21 22 23 24\n",
      " 25 26 27 28 29 30 31 32 33 34 35 36 38 39 40 41 42 43 44]\n",
      "samples incorrectly classified:\n",
      "[ 0 37]\n"
     ]
    }
   ],
   "source": [
    "print('samples correctly classified:')\n",
    "correct_idx = np.where(y_pred == y_test)[0]\n",
    "print(correct_idx)\n",
    "\n",
    "\n",
    "print('samples incorrectly classified:')\n",
    "incorrect_idx = np.where(y_pred != y_test)[0]\n",
    "print(incorrect_idx)"
   ]
  },
  {
   "cell_type": "markdown",
   "id": "distributed-livestock",
   "metadata": {},
   "source": [
    "#### example for enumrate:"
   ]
  },
  {
   "cell_type": "code",
   "execution_count": 38,
   "id": "lined-narrative",
   "metadata": {},
   "outputs": [
    {
     "data": {
      "text/plain": [
       "[(10, 'Spring'), (11, 'Summer'), (12, 'Fall'), (13, 'Winter')]"
      ]
     },
     "execution_count": 38,
     "metadata": {},
     "output_type": "execute_result"
    }
   ],
   "source": [
    "seasons = ['Spring', 'Summer', 'Fall', 'Winter']\n",
    "list(enumerate(seasons, start= 10))"
   ]
  },
  {
   "cell_type": "markdown",
   "id": "baking-shoulder",
   "metadata": {},
   "source": [
    "### plot to see correct and incorrect classified items"
   ]
  },
  {
   "cell_type": "code",
   "execution_count": 39,
   "id": "boring-observer",
   "metadata": {},
   "outputs": [
    {
     "data": {
      "image/png": "[encoded data removed]",
      "text/plain": [
       "<Figure size 432x288 with 1 Axes>"
      ]
     },
     "metadata": {
      "needs_background": "light"
     },
     "output_type": "display_data"
    }
   ],
   "source": [
    "plt.figure(figsize=(6, 4))\n",
    "colors = ['blue', 'green', 'purple']\n",
    "\n",
    "for n, color in enumerate(colors):\n",
    "    idx = np.where(y_test==n)[0]\n",
    "    plt.scatter(x_test[idx, 1], x_test[idx, 2], color= color, label= 'Class%d'%n)\n",
    "\n",
    "plt.scatter(x_test[incorrect_idx,1], x_test[incorrect_idx,2])\n",
    "plt.xlabel('sepal width [cm]')\n",
    "plt.ylabel('petal length [cm]')\n",
    "plt.legend(loc=3)\n",
    "plt.title('Iris classification result');"
   ]
  },
  {
   "cell_type": "markdown",
   "id": "executive-liquid",
   "metadata": {},
   "source": [
    "# Superised Learning -- Classification "
   ]
  },
  {
   "cell_type": "code",
   "execution_count": 40,
   "id": "descending-universe",
   "metadata": {},
   "outputs": [
    {
     "name": "stdout",
     "output_type": "stream",
     "text": [
      "x.shape = (100, 2)\n",
      "y.shape = (100,)\n"
     ]
    }
   ],
   "source": [
    "from sklearn.datasets import make_blobs\n",
    "\n",
    "x, y = make_blobs(centers=2, random_state=0)\n",
    "\n",
    "print('x.shape =',x.shape)\n",
    "print('y.shape =',y.shape)"
   ]
  },
  {
   "cell_type": "code",
   "execution_count": 41,
   "id": "narrow-delicious",
   "metadata": {},
   "outputs": [
    {
     "data": {
      "image/png": "[encoded data removed]",
      "text/plain": [
       "<Figure size 432x288 with 1 Axes>"
      ]
     },
     "metadata": {
      "needs_background": "light"
     },
     "output_type": "display_data"
    }
   ],
   "source": [
    "plt.scatter(x[y==0, 0], x[y==0,1], label='0')\n",
    "plt.scatter(x[y==1, 0], x[y==1,1], label='1')\n",
    "plt.legend();"
   ]
  },
  {
   "cell_type": "code",
   "execution_count": 42,
   "id": "acceptable-jackson",
   "metadata": {},
   "outputs": [],
   "source": [
    "from sklearn.model_selection import train_test_split\n",
    "x_train, x_test, y_train, y_test = train_test_split(x, y, test_size=0.25)"
   ]
  },
  {
   "cell_type": "code",
   "execution_count": 43,
   "id": "advanced-charles",
   "metadata": {},
   "outputs": [
    {
     "data": {
      "text/plain": [
       "LogisticRegression()"
      ]
     },
     "execution_count": 43,
     "metadata": {},
     "output_type": "execute_result"
    }
   ],
   "source": [
    "from sklearn.linear_model import LogisticRegression\n",
    "clf = LogisticRegression()\n",
    "clf.fit(x_train, y_train)"
   ]
  },
  {
   "cell_type": "code",
   "execution_count": 44,
   "id": "verified-greene",
   "metadata": {},
   "outputs": [],
   "source": [
    "y_pred = clf.predict(x_test)"
   ]
  },
  {
   "cell_type": "code",
   "execution_count": 46,
   "id": "legislative-details",
   "metadata": {},
   "outputs": [
    {
     "name": "stdout",
     "output_type": "stream",
     "text": [
      "0.96\n"
     ]
    }
   ],
   "source": [
    "print(np.mean(y_pred==y_test))"
   ]
  },
  {
   "cell_type": "code",
   "execution_count": 47,
   "id": "assigned-ocean",
   "metadata": {},
   "outputs": [
    {
     "name": "stdout",
     "output_type": "stream",
     "text": [
      "0.96\n"
     ]
    }
   ],
   "source": [
    "print(clf.score(x_test, y_test))"
   ]
  },
  {
   "cell_type": "code",
   "execution_count": 48,
   "id": "inclusive-oxford",
   "metadata": {},
   "outputs": [],
   "source": [
    "from plot_2d_separator import plot_2d_separator"
   ]
  },
  {
   "cell_type": "code",
   "execution_count": 49,
   "id": "peaceful-controversy",
   "metadata": {},
   "outputs": [
    {
     "data": {
      "image/png": "[encoded data removed]",
      "text/plain": [
       "<Figure size 432x288 with 1 Axes>"
      ]
     },
     "metadata": {},
     "output_type": "display_data"
    }
   ],
   "source": [
    "plt.scatter(x[y==0, 0], x[y==0,1], label='0')\n",
    "plt.scatter(x[y==1, 0], x[y==1,1], label='1')\n",
    "plt.legend()\n",
    "plot_2d_separator(clf, x);"
   ]
  },
  {
   "cell_type": "code",
   "execution_count": 50,
   "id": "compound-vector",
   "metadata": {},
   "outputs": [
    {
     "data": {
      "text/plain": [
       "KNeighborsClassifier(n_neighbors=3)"
      ]
     },
     "execution_count": 50,
     "metadata": {},
     "output_type": "execute_result"
    }
   ],
   "source": [
    "from sklearn.neighbors import KNeighborsClassifier\n",
    "knn = KNeighborsClassifier(n_neighbors=3)\n",
    "knn.fit(x_train, y_train)"
   ]
  },
  {
   "cell_type": "code",
   "execution_count": 51,
   "id": "prime-bonus",
   "metadata": {},
   "outputs": [
    {
     "data": {
      "image/png": "[encoded data removed]",
      "text/plain": [
       "<Figure size 432x288 with 1 Axes>"
      ]
     },
     "metadata": {},
     "output_type": "display_data"
    }
   ],
   "source": [
    "plt.scatter(x[y==0, 0], x[y==0,1], label='0')\n",
    "plt.scatter(x[y==1, 0], x[y==1,1], label='1')\n",
    "plt.legend()\n",
    "plot_2d_separator(knn, x);"
   ]
  },
  {
   "cell_type": "code",
   "execution_count": 52,
   "id": "signal-petite",
   "metadata": {},
   "outputs": [
    {
     "name": "stdout",
     "output_type": "stream",
     "text": [
      "0.96\n"
     ]
    }
   ],
   "source": [
    "print(knn.score(x_test, y_test))"
   ]
  },
  {
   "cell_type": "code",
   "execution_count": null,
   "id": "hearing-party",
   "metadata": {},
   "outputs": [],
   "source": []
  }
 ],
 "metadata": {
  "kernelspec": {
   "display_name": "Python 3",
   "language": "python",
   "name": "python3"
  },
  "language_info": {
   "codemirror_mode": {
    "name": "ipython",
    "version": 3
   },
   "file_extension": ".py",
   "mimetype": "text/x-python",
   "name": "python",
   "nbconvert_exporter": "python",
   "pygments_lexer": "ipython3",
   "version": "3.7.10"
  }
 },
 "nbformat": 4,
 "nbformat_minor": 5
}
