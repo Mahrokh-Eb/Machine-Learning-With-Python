{
 "cells": [
  {
   "cell_type": "code",
   "execution_count": 1,
   "id": "delayed-gnome",
   "metadata": {},
   "outputs": [],
   "source": [
    "import numpy as np\n",
    "import matplotlib.pyplot as plt\n",
    "%matplotlib inline\n",
    "\n",
    "from sklearn.datasets import load_iris\n",
    "iris = load_iris()\n",
    "\n",
    "from sklearn.neighbors import KNeighborsClassifier\n",
    "clf = KNeighborsClassifier()\n",
    "\n",
    "from sklearn.model_selection import train_test_split\n",
    "\n",
    "from sklearn.metrics import accuracy_score"
   ]
  },
  {
   "cell_type": "code",
   "execution_count": 2,
   "id": "spread-height",
   "metadata": {},
   "outputs": [
    {
     "name": "stdout",
     "output_type": "stream",
     "text": [
      "dict_keys(['data', 'target', 'frame', 'target_names', 'DESCR', 'feature_names', 'filename'])\n"
     ]
    }
   ],
   "source": [
    "print(iris.keys())"
   ]
  },
  {
   "cell_type": "code",
   "execution_count": 3,
   "id": "promotional-vacation",
   "metadata": {},
   "outputs": [
    {
     "name": "stdout",
     "output_type": "stream",
     "text": [
      "(150, 4)\n",
      "(150,)\n"
     ]
    }
   ],
   "source": [
    "x, y = iris.data, iris.target\n",
    "print(x.shape)\n",
    "print(y.shape)"
   ]
  },
  {
   "cell_type": "markdown",
   "id": "hawaiian-technical",
   "metadata": {},
   "source": [
    "### stratify"
   ]
  },
  {
   "cell_type": "code",
   "execution_count": 4,
   "id": "attempted-fetish",
   "metadata": {},
   "outputs": [
    {
     "name": "stdout",
     "output_type": "stream",
     "text": [
      "105\n",
      "45\n"
     ]
    }
   ],
   "source": [
    "x_train, x_test, y_train, y_test = train_test_split(x,y, test_size=0.3, random_state=123, stratify=y)\n",
    "print(x_train.shape[0])\n",
    "print(x_test.shape[0])"
   ]
  },
  {
   "cell_type": "code",
   "execution_count": 5,
   "id": "occupational-forum",
   "metadata": {},
   "outputs": [
    {
     "name": "stdout",
     "output_type": "stream",
     "text": [
      "label is= [0 1 2]\n",
      "the count from each label is= [50 50 50]\n",
      "persentage= [0.33333333 0.33333333 0.33333333]\n"
     ]
    }
   ],
   "source": [
    "label, count = np.unique(y, return_counts=True)\n",
    "print('label is=', label)\n",
    "print('the count from each label is=', count)\n",
    "print('persentage=', count/len(y))"
   ]
  },
  {
   "cell_type": "code",
   "execution_count": 6,
   "id": "empty-spirituality",
   "metadata": {},
   "outputs": [
    {
     "name": "stdout",
     "output_type": "stream",
     "text": [
      "label is= [0 1 2]\n",
      "the count from each label is= [35 35 35]\n",
      "persentage= [0.33333333 0.33333333 0.33333333]\n"
     ]
    }
   ],
   "source": [
    "label, count = np.unique(y_train, return_counts=True)\n",
    "print('label is=', label)\n",
    "print('the count from each label is=', count)\n",
    "print('persentage=', count/len(y_train))"
   ]
  },
  {
   "cell_type": "code",
   "execution_count": 7,
   "id": "closed-migration",
   "metadata": {},
   "outputs": [
    {
     "name": "stdout",
     "output_type": "stream",
     "text": [
      "label is= [0 1 2]\n",
      "the count from each label is= [15 15 15]\n",
      "persentage= [0.33333333 0.33333333 0.33333333]\n"
     ]
    }
   ],
   "source": [
    "label, count = np.unique(y_test, return_counts=True)\n",
    "print('label is=', label)\n",
    "print('the count from each label is=', count)\n",
    "print('persentage=', count/len(y_test))"
   ]
  },
  {
   "cell_type": "markdown",
   "id": "activated-milan",
   "metadata": {},
   "source": [
    "### train and test"
   ]
  },
  {
   "cell_type": "code",
   "execution_count": 8,
   "id": "normal-tucson",
   "metadata": {},
   "outputs": [
    {
     "name": "stdout",
     "output_type": "stream",
     "text": [
      "accuracy score on test data= 95.56%\n"
     ]
    }
   ],
   "source": [
    "clf.fit(x_train, y_train)\n",
    "y_pred = clf.predict(x_test)\n",
    "accuracy = accuracy_score(y_test, y_pred)\n",
    "print('accuracy score on test data= %.2f'%(accuracy*100)+ '%')"
   ]
  },
  {
   "cell_type": "code",
   "execution_count": 9,
   "id": "outstanding-specification",
   "metadata": {},
   "outputs": [
    {
     "data": {
      "text/plain": [
       "\"y_pred = clf.predict(x_train)\\naccuracy = accuracy_score(y_train, y_pred)\\nprint('accuracy score on train data= %.2f'%(accuracy*100)+ '%')\""
      ]
     },
     "execution_count": 9,
     "metadata": {},
     "output_type": "execute_result"
    }
   ],
   "source": [
    "'''y_pred = clf.predict(x_train)\n",
    "accuracy = accuracy_score(y_train, y_pred)\n",
    "print('accuracy score on train data= %.2f'%(accuracy*100)+ '%')'''"
   ]
  },
  {
   "cell_type": "markdown",
   "id": "administrative-penetration",
   "metadata": {},
   "source": [
    "### Visualize results"
   ]
  },
  {
   "cell_type": "code",
   "execution_count": 10,
   "id": "intimate-liberal",
   "metadata": {},
   "outputs": [
    {
     "name": "stdout",
     "output_type": "stream",
     "text": [
      "samples correctly classified:\n",
      "[ 1  2  3  4  5  6  7  8  9 10 11 12 13 14 15 16 17 18 19 20 21 22 23 24\n",
      " 25 26 27 28 29 30 31 32 33 34 35 36 38 39 40 41 42 43 44]\n",
      "samples incorrectly classified:\n",
      "[ 0 37]\n"
     ]
    }
   ],
   "source": [
    "print('samples correctly classified:')\n",
    "correct_idx = np.where(y_pred == y_test)[0]\n",
    "print(correct_idx)\n",
    "\n",
    "\n",
    "print('samples incorrectly classified:')\n",
    "incorrect_idx = np.where(y_pred != y_test)[0]\n",
    "print(incorrect_idx)"
   ]
  },
  {
   "cell_type": "markdown",
   "id": "studied-dimension",
   "metadata": {},
   "source": [
    "#### example for enumrate:"
   ]
  },
  {
   "cell_type": "code",
   "execution_count": 11,
   "id": "smart-birth",
   "metadata": {},
   "outputs": [
    {
     "data": {
      "text/plain": [
       "[(10, 'Spring'), (11, 'Summer'), (12, 'Fall'), (13, 'Winter')]"
      ]
     },
     "execution_count": 11,
     "metadata": {},
     "output_type": "execute_result"
    }
   ],
   "source": [
    "seasons = ['Spring', 'Summer', 'Fall', 'Winter']\n",
    "list(enumerate(seasons, start= 10))"
   ]
  },
  {
   "cell_type": "markdown",
   "id": "extensive-shadow",
   "metadata": {},
   "source": [
    "### plot to see correct and incorrect classified items"
   ]
  },
  {
   "cell_type": "code",
   "execution_count": 12,
   "id": "liquid-wichita",
   "metadata": {},
   "outputs": [
    {
     "data": {
      "image/png": "[encoded data removed]",
      "text/plain": [
       "<Figure size 432x288 with 1 Axes>"
      ]
     },
     "metadata": {
      "needs_background": "light"
     },
     "output_type": "display_data"
    }
   ],
   "source": [
    "plt.figure(figsize=(6, 4))\n",
    "colors = ['blue', 'green', 'purple']\n",
    "\n",
    "for n, color in enumerate(colors):\n",
    "    idx = np.where(y_test==n)[0]\n",
    "    plt.scatter(x_test[idx, 1], x_test[idx, 2], color= color, label= 'Class%d'%n)\n",
    "\n",
    "plt.scatter(x_test[incorrect_idx,1], x_test[incorrect_idx,2])\n",
    "plt.xlabel('sepal width [cm]')\n",
    "plt.ylabel('petal length [cm]')\n",
    "plt.legend(loc=3)\n",
    "plt.title('Iris classification result');"
   ]
  },
  {
   "cell_type": "markdown",
   "id": "decreased-neighbor",
   "metadata": {},
   "source": [
    "# Superised Learning -- Classification "
   ]
  },
  {
   "cell_type": "code",
   "execution_count": 15,
   "id": "impossible-petroleum",
   "metadata": {},
   "outputs": [
    {
     "name": "stdout",
     "output_type": "stream",
     "text": [
      "(100, 2)\n",
      "(100,)\n"
     ]
    }
   ],
   "source": [
    "from sklearn.datasets import make_blobs\n",
    "\n",
    "x, y = make_blobs(centers=2, random_state=0)\n",
    "\n",
    "print(x.shape)\n",
    "print(y.shape)"
   ]
  },
  {
   "cell_type": "code",
   "execution_count": 19,
   "id": "limiting-departure",
   "metadata": {},
   "outputs": [
    {
     "data": {
      "text/plain": [
       "<matplotlib.collections.PathCollection at 0x7fe498bb6750>"
      ]
     },
     "execution_count": 19,
     "metadata": {},
     "output_type": "execute_result"
    },
    {
     "data": {
      "image/png": "[encoded data removed]",
      "text/plain": [
       "<Figure size 432x288 with 1 Axes>"
      ]
     },
     "metadata": {
      "needs_background": "light"
     },
     "output_type": "display_data"
    }
   ],
   "source": [
    "plt.scatter(y, np.empty_like(y))"
   ]
  },
  {
   "cell_type": "code",
   "execution_count": null,
   "id": "copyrighted-russia",
   "metadata": {},
   "outputs": [],
   "source": []
  }
 ],
 "metadata": {
  "kernelspec": {
   "display_name": "Python 3",
   "language": "python",
   "name": "python3"
  },
  "language_info": {
   "codemirror_mode": {
    "name": "ipython",
    "version": 3
   },
   "file_extension": ".py",
   "mimetype": "text/x-python",
   "name": "python",
   "nbconvert_exporter": "python",
   "pygments_lexer": "ipython3",
   "version": "3.7.10"
  }
 },
 "nbformat": 4,
 "nbformat_minor": 5
}
