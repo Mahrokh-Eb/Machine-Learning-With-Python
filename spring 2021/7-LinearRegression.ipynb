{
 "cells": [
  {
   "cell_type": "markdown",
   "id": "confident-dressing",
   "metadata": {},
   "source": [
    "# Linear Regression"
   ]
  },
  {
   "cell_type": "code",
   "execution_count": 1,
   "id": "smart-chocolate",
   "metadata": {},
   "outputs": [],
   "source": [
    "import numpy as np\n",
    "import matplotlib.pyplot as plt\n",
    "%matplotlib inline"
   ]
  },
  {
   "cell_type": "code",
   "execution_count": 9,
   "id": "occasional-china",
   "metadata": {},
   "outputs": [
    {
     "name": "stdout",
     "output_type": "stream",
     "text": [
      "first 10 element of x is = [-3.         -2.93939394 -2.87878788 -2.81818182 -2.75757576 -2.6969697\n",
      " -2.63636364 -2.57575758 -2.51515152 -2.45454545]\n",
      "\n",
      "Dimension of x is = 1\n"
     ]
    }
   ],
   "source": [
    "x = np.linspace(-3, 3, 100)\n",
    "print('first 10 element of x is =',x[:10])\n",
    "print()\n",
    "print('Dimension of x is =', np.ndim(x))"
   ]
  },
  {
   "cell_type": "code",
   "execution_count": 17,
   "id": "yellow-thesis",
   "metadata": {},
   "outputs": [],
   "source": [
    "rng = np.random.RandomState(42)\n",
    "y = np.sin(4*x)+ x +rng.uniform(size= len(x))"
   ]
  },
  {
   "cell_type": "code",
   "execution_count": 18,
   "id": "upper-graph",
   "metadata": {},
   "outputs": [
    {
     "data": {
      "image/png": "[encoded data removed]",
      "text/plain": [
       "<Figure size 432x288 with 1 Axes>"
      ]
     },
     "metadata": {
      "needs_background": "light"
     },
     "output_type": "display_data"
    }
   ],
   "source": [
    "plt.plot(x, y, 'o');"
   ]
  },
  {
   "cell_type": "code",
   "execution_count": 20,
   "id": "convertible-stanley",
   "metadata": {},
   "outputs": [
    {
     "name": "stdout",
     "output_type": "stream",
     "text": [
      "x before adding new axis (100,)\n",
      "x after adding new axis (100, 1)\n"
     ]
    }
   ],
   "source": [
    "# changing the shape of the x from 1D to 2D\n",
    "print('x before adding new axis', x.shape)\n",
    "x = x[:, np.newaxis]\n",
    "print('x after adding new axis', x.shape)"
   ]
  },
  {
   "cell_type": "code",
   "execution_count": 21,
   "id": "broadband-variable",
   "metadata": {},
   "outputs": [],
   "source": [
    "from sklearn.model_selection import train_test_split\n",
    "x_train, x_test, y_train, y_test = train_test_split(x, y, test_size=0.2)"
   ]
  },
  {
   "cell_type": "code",
   "execution_count": 22,
   "id": "decimal-lancaster",
   "metadata": {},
   "outputs": [
    {
     "data": {
      "text/plain": [
       "LinearRegression()"
      ]
     },
     "execution_count": 22,
     "metadata": {},
     "output_type": "execute_result"
    }
   ],
   "source": [
    "from sklearn.linear_model import LinearRegression\n",
    "regressor = LinearRegression()\n",
    "regressor.fit(x_train, y_train)"
   ]
  },
  {
   "cell_type": "code",
   "execution_count": 23,
   "id": "noted-century",
   "metadata": {},
   "outputs": [
    {
     "name": "stdout",
     "output_type": "stream",
     "text": [
      "Weight= [0.9514833]\n",
      "biyas= 0.5358553154993508\n"
     ]
    }
   ],
   "source": [
    "print('Weight=', regressor.coef_)\n",
    "print('biyas=', regressor.intercept_)"
   ]
  },
  {
   "cell_type": "code",
   "execution_count": 27,
   "id": "blond-hollow",
   "metadata": {},
   "outputs": [
    {
     "data": {
      "image/png": "[encoded data removed]",
      "text/plain": [
       "<Figure size 432x288 with 1 Axes>"
      ]
     },
     "metadata": {
      "needs_background": "light"
     },
     "output_type": "display_data"
    }
   ],
   "source": [
    "min_pt = x.min() * regressor.coef_[0]+ regressor.intercept_\n",
    "max_pt = x.max() * regressor.coef_[0] + regressor.intercept_\n",
    "\n",
    "plt.plot([x.min(), x.max()], [min_pt, max_pt])\n",
    "plt.plot(x_train, y_train, 'o');"
   ]
  },
  {
   "cell_type": "code",
   "execution_count": null,
   "id": "suspected-annual",
   "metadata": {},
   "outputs": [],
   "source": []
  }
 ],
 "metadata": {
  "kernelspec": {
   "display_name": "Python 3",
   "language": "python",
   "name": "python3"
  },
  "language_info": {
   "codemirror_mode": {
    "name": "ipython",
    "version": 3
   },
   "file_extension": ".py",
   "mimetype": "text/x-python",
   "name": "python",
   "nbconvert_exporter": "python",
   "pygments_lexer": "ipython3",
   "version": "3.7.10"
  }
 },
 "nbformat": 4,
 "nbformat_minor": 5
}
