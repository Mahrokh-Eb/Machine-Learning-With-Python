{
 "cells": [
  {
   "cell_type": "markdown",
   "id": "cognitive-dietary",
   "metadata": {},
   "source": [
    "### Compare the KNeighborsRegression and LinearRegression on boston housing dataset:"
   ]
  },
  {
   "cell_type": "code",
   "execution_count": 13,
   "id": "human-powder",
   "metadata": {},
   "outputs": [
    {
     "name": "stdout",
     "output_type": "stream",
     "text": [
      "x.shape: (506, 13)\n",
      "Linear Regression train/test: 0.743/0.711\n",
      "KNeighborsRegressor train/test: 0.660/0.585\n"
     ]
    }
   ],
   "source": [
    "import matplotlib.pyplot as plt\n",
    "%matplotlib inline\n",
    "from sklearn.datasets import load_boston\n",
    "from sklearn.model_selection import train_test_split\n",
    "from sklearn.linear_model import LinearRegression\n",
    "from sklearn.neighbors import KNeighborsRegressor\n",
    "\n",
    "boston = load_boston()\n",
    "x = boston.data\n",
    "y = boston.target\n",
    "print('x.shape:', x.shape)\n",
    "\n",
    "x_train, x_test, y_train, y_test = train_test_split(x, y, test_size=0.3, random_state=42)\n",
    "\n",
    "linreg = LinearRegression()\n",
    "knnreg = KNeighborsRegressor()\n",
    "\n",
    "linreg.fit(x_train, y_train)\n",
    "print('Linear Regression train/test: %.3f/%.3f'\n",
    "      %(linreg.score(x_train, y_train)\n",
    "      ,linreg.score(x_test, y_test)))\n",
    "\n",
    "knnreg.fit(x_train, y_train)\n",
    "print('KNeighborsRegressor train/test: %.3f/%.3f'\n",
    "     %(knnreg.score(x_train, y_train)\n",
    "      ,knnreg.score(x_test, y_test)))"
   ]
  }
 ],
 "metadata": {
  "kernelspec": {
   "display_name": "Python 3",
   "language": "python",
   "name": "python3"
  },
  "language_info": {
   "codemirror_mode": {
    "name": "ipython",
    "version": 3
   },
   "file_extension": ".py",
   "mimetype": "text/x-python",
   "name": "python",
   "nbconvert_exporter": "python",
   "pygments_lexer": "ipython3",
   "version": "3.7.10"
  }
 },
 "nbformat": 4,
 "nbformat_minor": 5
}
