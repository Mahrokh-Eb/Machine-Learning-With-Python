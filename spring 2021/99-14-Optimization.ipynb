{
 "cells": [
  {
   "cell_type": "markdown",
   "id": "piano-associate",
   "metadata": {},
   "source": [
    "# Optimization - gradient descent"
   ]
  },
  {
   "cell_type": "code",
   "execution_count": 1,
   "id": "simplified-corporation",
   "metadata": {},
   "outputs": [],
   "source": [
    "import numpy as np\n",
    "import matplotlib.pyplot as plt\n",
    "%matplotlib inline\n",
    "\n",
    "import layers"
   ]
  },
  {
   "cell_type": "markdown",
   "id": "together-porcelain",
   "metadata": {},
   "source": [
    "## load cifar-10"
   ]
  },
  {
   "cell_type": "code",
   "execution_count": 2,
   "id": "falling-secretary",
   "metadata": {},
   "outputs": [
    {
     "name": "stdout",
     "output_type": "stream",
     "text": [
      "Training data shape:       (50000, 32, 32, 3)\n",
      "Training labels shape:     (50000,)\n",
      "Test data shape:           (10000, 32, 32, 3)\n",
      "Test labels shape:         (10000,)\n"
     ]
    }
   ],
   "source": [
    "from data_utils import load_CIFAR10\n",
    "cifar10_dir = '/Users/mahrokh/Desktop/cifar-10-batches-py'\n",
    "x_train, y_train, x_test, y_test = load_CIFAR10(cifar10_dir)\n",
    "print('Training data shape:      ',x_train.shape )\n",
    "print('Training labels shape:    ',y_train.shape )\n",
    "print('Test data shape:          ',x_test.shape )\n",
    "print('Test labels shape:        ',y_test.shape )"
   ]
  },
  {
   "cell_type": "markdown",
   "id": "intellectual-alpha",
   "metadata": {},
   "source": [
    "## spiliting data"
   ]
  },
  {
   "cell_type": "code",
   "execution_count": 3,
   "id": "above-dealing",
   "metadata": {},
   "outputs": [
    {
     "name": "stdout",
     "output_type": "stream",
     "text": [
      "train data:         (49000, 32, 32, 3)\n",
      "train labels:       (49000,)\n",
      "Validation data:    (1000, 32, 32, 3)\n",
      "Validation labels:  (1000,)\n",
      "test data:          (10000, 32, 32, 3)\n",
      "test labels:        (10000,)\n"
     ]
    }
   ],
   "source": [
    "num_training = 49000\n",
    "num_validation = 1000\n",
    "num_test = 10000\n",
    "num_dev = 500\n",
    "\n",
    "# our validation set\n",
    "mask = range(num_training, num_training + num_validation)\n",
    "x_val = x_train[mask]\n",
    "y_val = y_train[mask]\n",
    "\n",
    "# our training set\n",
    "mask = range(num_training)\n",
    "x_train = x_train[mask]\n",
    "y_train = y_train[mask]\n",
    "\n",
    "# our test set\n",
    "mask = range(num_test)\n",
    "x_test = x_test[mask]\n",
    "y_test = y_test[mask]\n",
    "\n",
    "# our development data\n",
    "mask = np.random.choice(num_training, num_dev)\n",
    "x_dev = x_train[mask]\n",
    "y_dev = y_train[mask]\n",
    "\n",
    "print('train data:        ',x_train.shape)\n",
    "print('train labels:      ',y_train.shape)\n",
    "print('Validation data:   ',x_val.shape)\n",
    "print('Validation labels: ',y_val.shape)\n",
    "print('test data:         ',x_test.shape)\n",
    "print('test labels:       ',y_test.shape)"
   ]
  },
  {
   "cell_type": "markdown",
   "id": "serious-hypothesis",
   "metadata": {},
   "source": [
    "## Reshape data to 2D array"
   ]
  },
  {
   "cell_type": "code",
   "execution_count": 7,
   "id": "rubber-catalog",
   "metadata": {},
   "outputs": [
    {
     "name": "stdout",
     "output_type": "stream",
     "text": [
      "training shape 2d:     (49000, 3072)\n",
      "Validation data 2d:    (1000, 3072)\n",
      "test data 2d:          (10000, 3072)\n"
     ]
    }
   ],
   "source": [
    "x_train = np.reshape(x_train, (x_train.shape[0], -1))\n",
    "x_val = np.reshape(x_val, (x_val.shape[0], -1))\n",
    "x_test = np.reshape(x_test, (x_test.shape[0], -1))\n",
    "print('training shape 2d:    ', x_train.shape)\n",
    "print('Validation data 2d:   ', x_val.shape)\n",
    "print('test data 2d:         ', x_test.shape)"
   ]
  },
  {
   "cell_type": "markdown",
   "id": "blank-negative",
   "metadata": {},
   "source": [
    "## Subtract the mean"
   ]
  },
  {
   "cell_type": "code",
   "execution_count": 8,
   "id": "entire-happiness",
   "metadata": {},
   "outputs": [
    {
     "data": {
      "image/png": "[encoded data removed]",
      "text/plain": [
       "<Figure size 216x216 with 1 Axes>"
      ]
     },
     "metadata": {
      "needs_background": "light"
     },
     "output_type": "display_data"
    }
   ],
   "source": [
    "mean_image = np.mean(x_train, axis=0)\n",
    "plt.figure(figsize=(3,3))\n",
    "plt.imshow(mean_image.reshape(32,32,3).astype('uint8'));"
   ]
  },
  {
   "cell_type": "code",
   "execution_count": 40,
   "id": "characteristic-notion",
   "metadata": {},
   "outputs": [],
   "source": [
    "N = x_train.shape[0]           #number of training data\n",
    "D = np.prod(x_train.shape[1:]) #number of features\n",
    "c = 10                         #number of classes\n",
    "\n",
    "# inite parameters\n",
    "w = 0.0001 * np.random.randn(D, c)\n",
    "b = np.zeros(c,)"
   ]
  },
  {
   "cell_type": "code",
   "execution_count": null,
   "id": "curious-mumbai",
   "metadata": {},
   "outputs": [],
   "source": []
  }
 ],
 "metadata": {
  "kernelspec": {
   "display_name": "Python 3",
   "language": "python",
   "name": "python3"
  },
  "language_info": {
   "codemirror_mode": {
    "name": "ipython",
    "version": 3
   },
   "file_extension": ".py",
   "mimetype": "text/x-python",
   "name": "python",
   "nbconvert_exporter": "python",
   "pygments_lexer": "ipython3",
   "version": "3.7.10"
  }
 },
 "nbformat": 4,
 "nbformat_minor": 5
}
