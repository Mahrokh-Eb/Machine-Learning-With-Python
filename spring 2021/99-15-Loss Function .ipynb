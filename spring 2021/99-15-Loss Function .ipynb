{
 "cells": [
  {
   "cell_type": "markdown",
   "id": "still-syntax",
   "metadata": {},
   "source": [
    "# SVM Loss Function"
   ]
  },
  {
   "cell_type": "markdown",
   "id": "relative-excuse",
   "metadata": {},
   "source": [
    "### unvectorized implementation - näive"
   ]
  },
  {
   "cell_type": "markdown",
   "id": "vulnerable-potato",
   "metadata": {},
   "source": [
    "def l_i(x, y, w):\n",
    "    scores = w.dot(x)\n",
    "    correct_class_score = scores[y]\n",
    "    c =w.shape[0]\n",
    "    \n",
    "    loss_i = 0.0\n",
    "    for j in range(c):\n",
    "        if j==c:\n",
    "            continue\n",
    "        loss_i += max(0, scores[j] - correct_class_score +1.0)\n",
    "    return loss_i"
   ]
  },
  {
   "cell_type": "markdown",
   "id": "alpine-dominant",
   "metadata": {},
   "source": [
    "### Half_vectorized implementation"
   ]
  },
  {
   "cell_type": "code",
   "execution_count": 6,
   "id": "athletic-flash",
   "metadata": {},
   "outputs": [],
   "source": [
    "import numpy as np\n",
    "def l_i_half_vectorized(x, y, w):\n",
    "    scores = w.dot(x)\n",
    "    margins = np.maximum(0, scores - scores[y] + 1.0)\n",
    "    margins[y] = 0\n",
    "    loss_i = np.sum(margins)\n",
    "    return loss_i"
   ]
  },
  {
   "cell_type": "markdown",
   "id": "related-heritage",
   "metadata": {},
   "source": [
    "### Fully_vectorized implementation"
   ]
  },
  {
   "cell_type": "code",
   "execution_count": 11,
   "id": "spoken-statistics",
   "metadata": {},
   "outputs": [],
   "source": [
    "def l_i_fully_vectorised(x, y, w):\n",
    "    N = scores.shape[0]\n",
    "    scores = w.dot(x)\n",
    "    correct_class_score = scores[range(N), y]\n",
    "    margins = np.maximum(0.0, scores - correct_class_score[:,None] + 1.0)\n",
    "    margins[range(N), y] = 0.0\n",
    "    loss = np.sum(margins) / N\n",
    "    return loss"
   ]
  },
  {
   "cell_type": "markdown",
   "id": "operational-trader",
   "metadata": {},
   "source": [
    "# Softmax Loss Function "
   ]
  },
  {
   "cell_type": "markdown",
   "id": "hazardous-madison",
   "metadata": {},
   "source": [
    "### unvectorized implementation - näive"
   ]
  },
  {
   "cell_type": "code",
   "execution_count": 14,
   "id": "congressional-vietnamese",
   "metadata": {},
   "outputs": [],
   "source": [
    "def softmax_loss_naive(scores, y, W, reg=1e-3):\n",
    "    \n",
    "    N, C = scores.shape\n",
    "\n",
    "    # compute data loss\n",
    "    loss = 0.0\n",
    "    for i in range(N):\n",
    "        correct_class = y[i]\n",
    "        score = scores[i]\n",
    "        score -= np.max(scores)\n",
    "        exp_score = np.exp(score)\n",
    "        probs = exp_score / np.sum(exp_score)\n",
    "        loss += -np.log(probs[correct_class])\n",
    "\n",
    "    loss /= N\n",
    "\n",
    "    # compute regularization loss\n",
    "    loss += 0.5 * reg * np.sum(W * W)\n",
    "\n",
    "    # Compute gradient off loss function w.r.t. scores\n",
    "    # We will write this part later\n",
    "    grads = {}  \n",
    "\n",
    "    return loss, grads"
   ]
  },
  {
   "cell_type": "markdown",
   "id": "eligible-gregory",
   "metadata": {},
   "source": [
    "### Half_vectorized implementation"
   ]
  },
  {
   "cell_type": "code",
   "execution_count": 13,
   "id": "cultural-plate",
   "metadata": {},
   "outputs": [],
   "source": [
    "def softmax_loss(scores, y, W, reg=1e-3):\n",
    "    N = scores.shape[0]  # number of input data\n",
    "\n",
    "    # compute data loss\n",
    "    scores -= np.max(scores, axis=1, keepdims=True)\n",
    "    exp_scores = np.exp(scores)\n",
    "    probs = exp_scores / np.sum(exp_scores, axis=1, keepdims=True)\n",
    "    loss = -np.sum(np.log(probs[range(N), y])) / N\n",
    "\n",
    "    # compute regularization loss\n",
    "    loss += 0.5 * reg * np.sum(W * W)\n",
    "\n",
    "    # Compute gradient off loss function w.r.t. scores\n",
    "    # We will write this part later\n",
    "    grads = {}  \n",
    "\n",
    "    return loss, grads   "
   ]
  },
  {
   "cell_type": "code",
   "execution_count": null,
   "id": "built-homeless",
   "metadata": {},
   "outputs": [],
   "source": []
  }
 ],
 "metadata": {
  "kernelspec": {
   "display_name": "Python 3",
   "language": "python",
   "name": "python3"
  },
  "language_info": {
   "codemirror_mode": {
    "name": "ipython",
    "version": 3
   },
   "file_extension": ".py",
   "mimetype": "text/x-python",
   "name": "python",
   "nbconvert_exporter": "python",
   "pygments_lexer": "ipython3",
   "version": "3.7.10"
  }
 },
 "nbformat": 4,
 "nbformat_minor": 5
}
