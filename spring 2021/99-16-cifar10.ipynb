{
 "cells": [
  {
   "cell_type": "markdown",
   "id": "invisible-search",
   "metadata": {},
   "source": [
    "# Putting All Together: Data + Model + Loss + Optimization"
   ]
  },
  {
   "cell_type": "code",
   "execution_count": 1,
   "id": "amateur-musical",
   "metadata": {},
   "outputs": [
    {
     "name": "stdout",
     "output_type": "stream",
     "text": [
      "Train data (x_train):  (50000, 32, 32, 3)\n",
      "Train labels (y_train):  (50000, 1)\n",
      "Test data (x_test):  (10000, 32, 32, 3)\n",
      "Test labels (y_test):  (10000, 1)\n"
     ]
    }
   ],
   "source": [
    "#loading cifar10 data\n",
    "import numpy as np\n",
    "import matplotlib.pyplot as plt\n",
    "import pickle\n",
    "import sys\n",
    "import os\n",
    "\n",
    "\"\"\"\n",
    "The CIFAR-10 dataset consists of 60000 32x32 colour images in 10 classes, with 6000 images per class. There are 50000 \n",
    "training images and 10000 test images.\n",
    "The dataset is divided into five training batches and one test batch, each with 10000 images. The test batch contains \n",
    "exactly 1000 randomly-selected images from each class. The training batches contain the remaining images in random \n",
    "order, but some training batches may contain more images from one class than another. Between them, the training \n",
    "batches contain exactly 5000 images from each class.\n",
    "\"\"\"\n",
    "\n",
    "\n",
    "def load_batch(f_path, label_key='labels'):\n",
    "    \"\"\"Internal utility for parsing CIFAR data.\n",
    "    # Arguments\n",
    "        fpath: path the file to parse.\n",
    "        label_key: key for label data in the retrieve\n",
    "            dictionary.\n",
    "    # Returns\n",
    "        A tuple `(data, labels)`.\n",
    "    \"\"\"\n",
    "    with open(f_path, 'rb') as f:\n",
    "        if sys.version_info < (3,):\n",
    "            d = pickle.load(f)\n",
    "        else:\n",
    "            d = pickle.load(f, encoding='bytes')\n",
    "            # decode utf8\n",
    "            d_decoded = {}\n",
    "            for k, v in d.items():\n",
    "                d_decoded[k.decode('utf8')] = v\n",
    "            d = d_decoded\n",
    "    data = d['data']\n",
    "    labels = d[label_key]\n",
    "\n",
    "    data = data.reshape(data.shape[0], 3, 32, 32)\n",
    "    return data, labels\n",
    "\n",
    "\n",
    "def load_data(path, negatives=False):\n",
    "    \"\"\"Loads CIFAR10 dataset.\n",
    "    # Returns\n",
    "        Tuple of Numpy arrays: `(x_train, y_train), (x_test, y_test)`.\n",
    "    \"\"\"\n",
    "\n",
    "    num_train_samples = 50000\n",
    "\n",
    "    x_train_local = np.empty((num_train_samples, 3, 32, 32), dtype='uint8')\n",
    "    y_train_local = np.empty((num_train_samples,), dtype='uint8')\n",
    "\n",
    "    for i in range(1, 6):\n",
    "        fpath = os.path.join(path, 'data_batch_' + str(i))\n",
    "        (x_train_local[(i - 1) * 10000: i * 10000, :, :, :],\n",
    "         y_train_local[(i - 1) * 10000: i * 10000]) = load_batch(fpath)\n",
    "\n",
    "    fpath = os.path.join(path, 'test_batch')\n",
    "    x_test_local, y_test_local = load_batch(fpath)\n",
    "\n",
    "    y_train_local = np.reshape(y_train_local, (len(y_train_local), 1))\n",
    "    y_test_local = np.reshape(y_test_local, (len(y_test_local), 1))\n",
    "\n",
    "    if negatives:\n",
    "        x_train_local = x_train_local.transpose(0, 2, 3, 1).astype(np.float32)\n",
    "        x_test_local = x_test_local.transpose(0, 2, 3, 1).astype(np.float32)\n",
    "    else:\n",
    "        x_train_local = np.rollaxis(x_train_local, 1, 4)\n",
    "        x_test_local = np.rollaxis(x_test_local, 1, 4)\n",
    "\n",
    "    return (x_train_local, y_train_local), (x_test_local, y_test_local)\n",
    "\n",
    "\n",
    "if __name__ == \"__main__\":\n",
    "    \"\"\"show it works\"\"\"\n",
    "\n",
    "    cifar_10_dir = 'cifar-10-batches-py'\n",
    "\n",
    "    (x_train, y_train), (x_test, y_test) = load_data(cifar_10_dir)\n",
    "\n",
    "    print(\"Train data (x_train): \", x_train.shape)\n",
    "    print(\"Train labels (y_train): \", y_train.shape)\n",
    "    print(\"Test data (x_test): \", x_test.shape)\n",
    "    print(\"Test labels (y_test): \", y_test.shape)"
   ]
  },
  {
   "cell_type": "code",
   "execution_count": 2,
   "id": "amended-evaluation",
   "metadata": {},
   "outputs": [
    {
     "name": "stdout",
     "output_type": "stream",
     "text": [
      "train data:  (49000, 32, 32, 3)\n",
      "train labels:  (49000, 1)\n",
      "Validation data:  (1000, 32, 32, 3)\n",
      "Validation labels:  (1000, 1)\n",
      "test data:  (1000, 32, 32, 3)\n",
      "test labels:  (1000, 1)\n"
     ]
    }
   ],
   "source": [
    "#Spilit data into train, val and test sets, development set(to make faster)\n",
    "num_training = 49000\n",
    "num_validation = 1000\n",
    "num_test = 1000\n",
    "num_dev = 500\n",
    "\n",
    "# our validation data\n",
    "mask = range(num_training, num_training + num_validation)\n",
    "x_val = x_train[mask]\n",
    "y_val = y_train[mask]\n",
    "\n",
    "# our training data\n",
    "mask = range(num_training)\n",
    "x_train = x_train[mask]\n",
    "y_train = y_train[mask]\n",
    "\n",
    "# our development data\n",
    "mask = np.random.choice(num_training, num_dev)\n",
    "x_dev = x_train[mask]\n",
    "y_dev = y_train[mask]\n",
    "\n",
    "# our test data\n",
    "mask = range(num_test)\n",
    "x_test = x_test[mask]\n",
    "y_test = y_test[mask]\n",
    "\n",
    "print('train data: ',x_train.shape)\n",
    "print('train labels: ',y_train.shape)\n",
    "print('Validation data: ',x_val.shape)\n",
    "print('Validation labels: ',y_val.shape)\n",
    "print('test data: ',x_test.shape)\n",
    "print('test labels: ',y_test.shape)"
   ]
  },
  {
   "cell_type": "code",
   "execution_count": 3,
   "id": "intense-methodology",
   "metadata": {},
   "outputs": [
    {
     "name": "stdout",
     "output_type": "stream",
     "text": [
      "training shape 2d: (49000, 3072)\n",
      "Validation data 2d: (1000, 3072)\n",
      "test data 2d: (1000, 3072)\n",
      "dev data 2d: (500, 3072)\n"
     ]
    }
   ],
   "source": [
    "#reshape image to 2D\n",
    "x_train = np.reshape(x_train,(x_train.shape[0], -1))\n",
    "x_val = np.reshape(x_val, (x_val.shape[0], -1))\n",
    "x_test = np.reshape(x_test, (x_test.shape[0], -1))\n",
    "x_dev = np.reshape(x_dev, (x_dev.shape[0],-1))\n",
    "print('training shape 2d:', x_train.shape)\n",
    "print('Validation data 2d:', x_val.shape)\n",
    "print('test data 2d:', x_test.shape)\n",
    "print('dev data 2d:', x_dev.shape)"
   ]
  },
  {
   "cell_type": "code",
   "execution_count": 12,
   "id": "equal-eleven",
   "metadata": {},
   "outputs": [
    {
     "data": {
      "image/png": "[encoded data removed]",
      "text/plain": [
       "<Figure size 216x216 with 1 Axes>"
      ]
     },
     "metadata": {
      "needs_background": "light"
     },
     "output_type": "display_data"
    }
   ],
   "source": [
    "#subtract mean\n",
    "mean_image = np.mean(x_train, axis=0)\n",
    "plt.figure(figsize=(3,3))\n",
    "plt.imshow(mean_image.reshape(32,32,3).astype('uint8'));"
   ]
  },
  {
   "cell_type": "code",
   "execution_count": 13,
   "id": "moving-sentence",
   "metadata": {},
   "outputs": [],
   "source": [
    "x_train = x_train.astype('float32')\n",
    "x_val = x_val.astype('float32')\n",
    "x_test = x_test.astype('float32')\n",
    "x_dev = x_dev.astype('float32')\n",
    "\n",
    "x_train -= mean_image\n",
    "x_val -= mean_image\n",
    "x_test -= mean_image\n",
    "x_dev -= mean_image"
   ]
  },
  {
   "cell_type": "code",
   "execution_count": 14,
   "id": "above-halifax",
   "metadata": {},
   "outputs": [],
   "source": [
    "def affine_forward(x, W, b):\n",
    "    \"\"\"\n",
    "    A linear mapping from inputs to scores.\n",
    "    \n",
    "    Inputs:\n",
    "        - x: input matrix (N, d_1, ..., d_k)\n",
    "        - W: weigh matrix (D, C)\n",
    "        - b: bias vector  (C, )\n",
    "    \n",
    "    Outputs:\n",
    "        - out: output of linear layer (N, C)\n",
    "    \"\"\"\n",
    "    x2d = np.reshape(x, (x.shape[0], -1))  # convert 4D input matrix to 2D    \n",
    "    out = np.dot(x2d, W) + b               # linear transformation\n",
    "    cache = (x, W, b)                      # keep for backward step (stay with us)\n",
    "    return out, cache\n",
    "\n",
    "###################################################################\n",
    "\n",
    "def softmax_loss(scores, y):\n",
    "    \"\"\"\n",
    "    Softmax loss function, fully vectorized implementation.\n",
    "\n",
    "    Inputs have dimension D, there are C classes, and we operate on minibatches\n",
    "    of N examples.\n",
    "\n",
    "    Inputs:\n",
    "        - scores: A numpy array of shape (N, C).\n",
    "        - y: A numpy array of shape (N,) containing training labels;\n",
    "\n",
    "    Outputs:\n",
    "        - loss as single float\n",
    "        - gradient with respect to scores\n",
    "    \"\"\"\n",
    "    N = scores.shape[0]  # number of input data\n",
    "\n",
    "    # compute data loss\n",
    "    shifted_logits = scores - np.max(scores, axis=1, keepdims=True)\n",
    "    Z = np.sum(np.exp(shifted_logits), axis=1, keepdims=True)\n",
    "    log_probs = shifted_logits - np.log(Z)\n",
    "    probs = np.exp(log_probs)\n",
    "    loss = -np.sum(log_probs[range(N), y]) / N\n",
    "\n",
    "    # Compute gradient of loss function w.r.t. scores\n",
    "    dscores = probs.copy()\n",
    "    dscores[range(N), y] -= 1\n",
    "    dscores /= N\n",
    "    \n",
    "    return loss, dscores  \n",
    "\n",
    "###################################################################\n",
    "\n",
    "def affine_backward(dout, cache):\n",
    "    \"\"\"\n",
    "    Computes the backward pass for an affine layer.\n",
    "\n",
    "    Inputs:\n",
    "        - dout: Upstream derivative, of shape (N, C)\n",
    "        - cache: Tuple of:\n",
    "            - x: Input data, of shape (N, d_1, ... d_k)\n",
    "            - w: Weights, of shape (D, C)\n",
    "            - b: biases, of shape (C,)\n",
    "\n",
    "    Outputs:\n",
    "        - dx: Gradient with respect to x, of shape (N, d1, ..., d_k)\n",
    "        - dw: Gradient with respect to w, of shape (D, C)\n",
    "        - db: Gradient with respect to b, of shape (C,)\n",
    "    \"\"\"\n",
    "    x, w, b = cache\n",
    "    x2d = np.reshape(x, (x.shape[0], -1))\n",
    "\n",
    "    # compute gradients\n",
    "    db = np.sum(dout, axis=0)\n",
    "    dw = np.dot(x2d.T, dout)\n",
    "    dx = np.dot(dout, w.T)\n",
    "\n",
    "    # reshape dx to match the size of x\n",
    "    dx = dx.reshape(x.shape)\n",
    "    \n",
    "    return dx, dw, db\n"
   ]
  },
  {
   "cell_type": "markdown",
   "id": "congressional-election",
   "metadata": {},
   "source": [
    "## Gradient Descent"
   ]
  },
  {
   "cell_type": "code",
   "execution_count": 15,
   "id": "warming-climb",
   "metadata": {},
   "outputs": [
    {
     "name": "stdout",
     "output_type": "stream",
     "text": [
      "iteration    0: loss = 645.30 | train accuracy = 10.42 | validation accuracy = 10.04\n",
      "iteration  100: loss = 589.75 | train accuracy = 10.06 | validation accuracy =  9.87\n",
      "iteration  200: loss = 589.47 | train accuracy = 10.06 | validation accuracy =  9.95\n",
      "iteration  300: loss = 589.47 | train accuracy =  9.99 | validation accuracy =  9.99\n",
      "iteration  400: loss = 589.47 | train accuracy = 10.25 | validation accuracy = 10.00\n",
      "iteration  500: loss = 589.47 | train accuracy = 10.15 | validation accuracy = 10.00\n",
      "iteration  600: loss = 589.47 | train accuracy = 10.05 | validation accuracy = 10.01\n",
      "iteration  700: loss = 589.48 | train accuracy = 11.94 | validation accuracy = 10.58\n",
      "iteration  800: loss = 589.47 | train accuracy =  9.38 | validation accuracy = 11.20\n",
      "iteration  900: loss = 589.48 | train accuracy = 12.11 | validation accuracy = 11.20\n",
      "iteration 1000: loss = 589.47 | train accuracy = 10.55 | validation accuracy = 11.20\n",
      "iteration 1100: loss = 589.48 | train accuracy = 14.06 | validation accuracy = 11.20\n",
      "iteration 1200: loss = 589.47 | train accuracy =  8.20 | validation accuracy = 11.20\n",
      "iteration 1300: loss = 589.47 | train accuracy = 14.84 | validation accuracy = 11.20\n",
      "iteration 1400: loss = 589.47 | train accuracy =  9.38 | validation accuracy = 11.20\n",
      "iteration 1500: loss = 589.47 | train accuracy = 11.33 | validation accuracy = 11.20\n"
     ]
    }
   ],
   "source": [
    "N = x_train.shape[0] #Amount of data\n",
    "\n",
    "#define parameters for mini-batch GD\n",
    "num_iteration = 1500\n",
    "batch_size = 256\n",
    "learning_rate = 1e-7\n",
    "reg = 2.5e5\n",
    "\n",
    "#initializing weights\n",
    "w = 0.0001 * np.random.randn(3072,10)\n",
    "b = np.zeros(10)\n",
    "\n",
    "loss_history = []\n",
    "\n",
    "for i in range(num_iteration + 1):\n",
    "    \n",
    "    #create batch of data\n",
    "    batch_idxs = np.random.choice(N, batch_size, replace=False)\n",
    "    x_batch = x_train[batch_idxs]\n",
    "    y_batch = y_train[batch_idxs]\n",
    "    \n",
    "    #forwarding step\n",
    "    scores, cache = affine_forward(x_batch, w, b)\n",
    "    \n",
    "    #compute loss\n",
    "    loss, dscores = softmax_loss(scores, y_batch)\n",
    "    loss += 0.5 * reg * np.sum (w * w)\n",
    "    loss_history.append(loss)\n",
    "    \n",
    "    #backward step\n",
    "    _, dw, db = affine_backward(dscores, cache)\n",
    "    dw += reg * w\n",
    "    \n",
    "    #report every 100 iterations\n",
    "    if i%100 == 0:\n",
    "        y_preds = np.argmax(scores, axis=1)\n",
    "        train_accuracy = 100.0 * np.mean(y_preds == y_batch)\n",
    "        \n",
    "        val_scores, _ = affine_forward(x_val, w, b)\n",
    "        val_pred = np.argmax(val_scores, axis=1)\n",
    "        val_accuracy = 100.0 * np.mean(val_pred == y_val)\n",
    "        \n",
    "        print(\"iteration %4d: loss = %5.2f | train accuracy = %5.2f | validation accuracy = %5.2f\" \n",
    "              %(i, loss, train_accuracy, val_accuracy))\n",
    "    \n",
    "    #update rule \n",
    "    w = w - learning_rate * dw\n",
    "    b = b - learning_rate * db"
   ]
  },
  {
   "cell_type": "code",
   "execution_count": 20,
   "id": "absolute-valentine",
   "metadata": {},
   "outputs": [
    {
     "data": {
      "image/png": "[encoded data removed]",
      "text/plain": [
       "<Figure size 432x288 with 1 Axes>"
      ]
     },
     "metadata": {},
     "output_type": "display_data"
    }
   ],
   "source": [
    "plt.style.use('ggplot')\n",
    "plt.xlabel('Iteration')\n",
    "plt.ylabel('loss')\n",
    "plt.title('Training loss')\n",
    "plt.plot(loss_history);"
   ]
  },
  {
   "cell_type": "code",
   "execution_count": 21,
   "id": "exotic-withdrawal",
   "metadata": {},
   "outputs": [
    {
     "name": "stdout",
     "output_type": "stream",
     "text": [
      "(3072, 10)\n"
     ]
    }
   ],
   "source": [
    "print(w.shape)"
   ]
  },
  {
   "cell_type": "code",
   "execution_count": 34,
   "id": "quarterly-format",
   "metadata": {},
   "outputs": [
    {
     "data": {
      "text/plain": [
       "\"w_min, w_max = np.min(w), np.max(w)\\nclasses = ['plane', 'car', 'bird', 'cat', 'deer', 'dog', 'frog', 'horse', 'ship', 'truck']\\nfor i, label in enumerate(classes):\\n    w = w[:,i]\\n    w = np.reshape(w, (32,32,3))\\n    w = 225.0 * (w-w_min)/ (w_max-w_min)\\n    plt.subplot(1, 10, i+1)\\n    plt.imshow(w)\""
      ]
     },
     "execution_count": 34,
     "metadata": {},
     "output_type": "execute_result"
    }
   ],
   "source": [
    "'''w_min, w_max = np.min(w), np.max(w)\n",
    "classes = ['plane', 'car', 'bird', 'cat', 'deer', 'dog', 'frog', 'horse', 'ship', 'truck']\n",
    "for i, label in enumerate(classes):\n",
    "    w = w[:,i]\n",
    "    w = np.reshape(w, (32,32,3))\n",
    "    w = 225.0 * (w-w_min)/ (w_max-w_min)\n",
    "    plt.subplot(1, 10, i+1)\n",
    "    plt.imshow(w)'''"
   ]
  },
  {
   "cell_type": "markdown",
   "id": "statistical-shipping",
   "metadata": {},
   "source": [
    "### Prediction"
   ]
  },
  {
   "cell_type": "code",
   "execution_count": 49,
   "id": "inside-terry",
   "metadata": {},
   "outputs": [
    {
     "name": "stdout",
     "output_type": "stream",
     "text": [
      "(1000, 3072)\n",
      "(10,)\n"
     ]
    }
   ],
   "source": [
    "def predict(x,w,b):\n",
    "    scores, _ = affine_forward(x, w, b)\n",
    "    return np.argmax(scores, axis=1)\n",
    "\n",
    "print(x_test.shape)\n",
    "print(b.shape)"
   ]
  },
  {
   "cell_type": "code",
   "execution_count": 51,
   "id": "political-strategy",
   "metadata": {},
   "outputs": [
    {
     "data": {
      "text/plain": [
       "\"test_predict = predict( x_test ,w , b)\\ntest_accuracy = 100.0 * np.mean(test_predict==y_test)\\nprint('test accuracy =%.2f'%test_accuracy)\""
      ]
     },
     "execution_count": 51,
     "metadata": {},
     "output_type": "execute_result"
    }
   ],
   "source": [
    "'''test_predict = predict( x_test ,w , b)\n",
    "test_accuracy = 100.0 * np.mean(test_predict==y_test)\n",
    "print('test accuracy =%.2f'%test_accuracy)'''"
   ]
  },
  {
   "cell_type": "code",
   "execution_count": null,
   "id": "retained-services",
   "metadata": {},
   "outputs": [],
   "source": []
  }
 ],
 "metadata": {
  "kernelspec": {
   "display_name": "Python 3",
   "language": "python",
   "name": "python3"
  },
  "language_info": {
   "codemirror_mode": {
    "name": "ipython",
    "version": 3
   },
   "file_extension": ".py",
   "mimetype": "text/x-python",
   "name": "python",
   "nbconvert_exporter": "python",
   "pygments_lexer": "ipython3",
   "version": "3.7.10"
  }
 },
 "nbformat": 4,
 "nbformat_minor": 5
}
