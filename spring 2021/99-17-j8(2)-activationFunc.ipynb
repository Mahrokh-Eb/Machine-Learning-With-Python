{
 "cells": [
  {
   "cell_type": "markdown",
   "id": "surface-basin",
   "metadata": {},
   "source": [
    "# Activation function, NN"
   ]
  },
  {
   "cell_type": "code",
   "execution_count": 1,
   "id": "peripheral-appearance",
   "metadata": {},
   "outputs": [],
   "source": [
    "import numpy as np\n",
    "import matplotlib.pyplot as plt\n",
    "%matplotlib inline"
   ]
  },
  {
   "cell_type": "markdown",
   "id": "reasonable-internship",
   "metadata": {},
   "source": [
    "### load cifra_10"
   ]
  },
  {
   "cell_type": "code",
   "execution_count": 2,
   "id": "peaceful-turkey",
   "metadata": {},
   "outputs": [
    {
     "name": "stdout",
     "output_type": "stream",
     "text": [
      "Train data (x_train):  (50000, 32, 32, 3)\n",
      "Train labels (y_train):  (50000, 1)\n",
      "Test data (x_test):  (10000, 32, 32, 3)\n",
      "Test labels (y_test):  (10000, 1)\n"
     ]
    }
   ],
   "source": [
    "#loading cifar10 data\n",
    "import numpy as np\n",
    "import matplotlib.pyplot as plt\n",
    "import pickle\n",
    "import sys\n",
    "import os\n",
    "\n",
    "\"\"\"\n",
    "The CIFAR-10 dataset consists of 60000 32x32 colour images in 10 classes, with 6000 images per class. There are 50000 \n",
    "training images and 10000 test images.\n",
    "The dataset is divided into five training batches and one test batch, each with 10000 images. The test batch contains \n",
    "exactly 1000 randomly-selected images from each class. The training batches contain the remaining images in random \n",
    "order, but some training batches may contain more images from one class than another. Between them, the training \n",
    "batches contain exactly 5000 images from each class.\n",
    "\"\"\"\n",
    "\n",
    "\n",
    "def load_batch(f_path, label_key='labels'):\n",
    "    \"\"\"Internal utility for parsing CIFAR data.\n",
    "    # Arguments\n",
    "        fpath: path the file to parse.\n",
    "        label_key: key for label data in the retrieve\n",
    "            dictionary.\n",
    "    # Returns\n",
    "        A tuple `(data, labels)`.\n",
    "    \"\"\"\n",
    "    with open(f_path, 'rb') as f:\n",
    "        if sys.version_info < (3,):\n",
    "            d = pickle.load(f)\n",
    "        else:\n",
    "            d = pickle.load(f, encoding='bytes')\n",
    "            # decode utf8\n",
    "            d_decoded = {}\n",
    "            for k, v in d.items():\n",
    "                d_decoded[k.decode('utf8')] = v\n",
    "            d = d_decoded\n",
    "    data = d['data']\n",
    "    labels = d[label_key]\n",
    "\n",
    "    data = data.reshape(data.shape[0], 3, 32, 32)\n",
    "    return data, labels\n",
    "\n",
    "\n",
    "def load_data(path, negatives=False):\n",
    "    \"\"\"Loads CIFAR10 dataset.\n",
    "    # Returns\n",
    "        Tuple of Numpy arrays: `(x_train, y_train), (x_test, y_test)`.\n",
    "    \"\"\"\n",
    "\n",
    "    num_train_samples = 50000\n",
    "\n",
    "    x_train_local = np.empty((num_train_samples, 3, 32, 32), dtype='uint8')\n",
    "    y_train_local = np.empty((num_train_samples,), dtype='uint8')\n",
    "\n",
    "    for i in range(1, 6):\n",
    "        fpath = os.path.join(path, 'data_batch_' + str(i))\n",
    "        (x_train_local[(i - 1) * 10000: i * 10000, :, :, :],\n",
    "         y_train_local[(i - 1) * 10000: i * 10000]) = load_batch(fpath)\n",
    "\n",
    "    fpath = os.path.join(path, 'test_batch')\n",
    "    x_test_local, y_test_local = load_batch(fpath)\n",
    "\n",
    "    y_train_local = np.reshape(y_train_local, (len(y_train_local), 1))\n",
    "    y_test_local = np.reshape(y_test_local, (len(y_test_local), 1))\n",
    "\n",
    "    if negatives:\n",
    "        x_train_local = x_train_local.transpose(0, 2, 3, 1).astype(np.float32)\n",
    "        x_test_local = x_test_local.transpose(0, 2, 3, 1).astype(np.float32)\n",
    "    else:\n",
    "        x_train_local = np.rollaxis(x_train_local, 1, 4)\n",
    "        x_test_local = np.rollaxis(x_test_local, 1, 4)\n",
    "\n",
    "    return (x_train_local, y_train_local), (x_test_local, y_test_local)\n",
    "\n",
    "\n",
    "if __name__ == \"__main__\":\n",
    "    \"\"\"show it works\"\"\"\n",
    "\n",
    "    cifar_10_dir = 'cifar-10-batches-py'\n",
    "\n",
    "    (x_train, y_train), (x_test, y_test) = load_data(cifar_10_dir)\n",
    "\n",
    "    print(\"Train data (x_train): \", x_train.shape)\n",
    "    print(\"Train labels (y_train): \", y_train.shape)\n",
    "    print(\"Test data (x_test): \", x_test.shape)\n",
    "    print(\"Test labels (y_test): \", y_test.shape)"
   ]
  },
  {
   "cell_type": "markdown",
   "id": "impaired-ireland",
   "metadata": {},
   "source": [
    "### Splitting data"
   ]
  },
  {
   "cell_type": "code",
   "execution_count": 3,
   "id": "strong-signal",
   "metadata": {},
   "outputs": [
    {
     "name": "stdout",
     "output_type": "stream",
     "text": [
      "train data:  (49000, 32, 32, 3)\n",
      "train labels:  (49000, 1)\n",
      "Validation data:  (1000, 32, 32, 3)\n",
      "Validation labels:  (1000, 1)\n",
      "test data:  (10000, 32, 32, 3)\n",
      "test labels:  (10000, 1)\n"
     ]
    }
   ],
   "source": [
    "#Spilit data into train, val and test sets, development set(to make faster)\n",
    "num_training = 49000\n",
    "num_validation = 1000\n",
    "num_test = 10000\n",
    "num_dev = 500\n",
    "\n",
    "# our validation data\n",
    "mask = range(num_training, num_training + num_validation)\n",
    "x_val = x_train[mask]\n",
    "y_val = y_train[mask]\n",
    "\n",
    "# our training data\n",
    "mask = range(num_training)\n",
    "x_train = x_train[mask]\n",
    "y_train = y_train[mask]\n",
    "\n",
    "# our development data\n",
    "mask = np.random.choice(num_training, num_dev)\n",
    "x_dev = x_train[mask]\n",
    "y_dev = y_train[mask]\n",
    "\n",
    "# our test data\n",
    "mask = range(num_test)\n",
    "x_test = x_test[mask]\n",
    "y_test = y_test[mask]\n",
    "\n",
    "print('train data: ',x_train.shape)\n",
    "print('train labels: ',y_train.shape)\n",
    "print('Validation data: ',x_val.shape)\n",
    "print('Validation labels: ',y_val.shape)\n",
    "print('test data: ',x_test.shape)\n",
    "print('test labels: ',y_test.shape)"
   ]
  },
  {
   "cell_type": "markdown",
   "id": "divine-november",
   "metadata": {},
   "source": [
    "### reshape images to 2D"
   ]
  },
  {
   "cell_type": "code",
   "execution_count": 18,
   "id": "stretch-homework",
   "metadata": {},
   "outputs": [],
   "source": [
    "#reshape image to 2D\n",
    "x_train = np.reshape(x_train,(x_train.shape[0], -1))\n",
    "x_val = np.reshape(x_val, (x_val.shape[0], -1))\n",
    "x_test = np.reshape(x_test, (x_test.shape[0], -1))\n",
    "x_dev = np.reshape(x_dev, (x_dev.shape[0],-1))\n"
   ]
  },
  {
   "cell_type": "markdown",
   "id": "swiss-globe",
   "metadata": {},
   "source": [
    "### Noramalization"
   ]
  },
  {
   "cell_type": "code",
   "execution_count": 5,
   "id": "contemporary-bishop",
   "metadata": {},
   "outputs": [],
   "source": [
    "#subtract mean\n",
    "mean_image = np.mean(x_train, axis=0)\n",
    "x_train = x_train.astype('float32')\n",
    "x_val = x_val.astype('float32')\n",
    "x_test = x_test.astype('float32')\n",
    "x_dev = x_dev.astype('float32')\n",
    "\n",
    "x_train -= mean_image\n",
    "x_val -= mean_image\n",
    "x_test -= mean_image\n",
    "x_dev -= mean_image"
   ]
  },
  {
   "cell_type": "markdown",
   "id": "pleasant-termination",
   "metadata": {},
   "source": [
    "## Different Types of Activation Function"
   ]
  },
  {
   "cell_type": "code",
   "execution_count": 6,
   "id": "mysterious-celtic",
   "metadata": {},
   "outputs": [],
   "source": [
    "x = np.linspace(-10, 10, 100)\n",
    "\n",
    "# sigmoid function\n",
    "y1 = 1/(1+np.exp(-x))\n",
    "\n",
    "# Tngent hyperbolic\n",
    "y2 = np.tanh(x)\n",
    "\n",
    "# Relu\n",
    "y3 = np.maximum(0, x)"
   ]
  },
  {
   "cell_type": "code",
   "execution_count": 7,
   "id": "local-orientation",
   "metadata": {},
   "outputs": [
    {
     "data": {
      "image/png": "[encoded data removed]",
      "text/plain": [
       "<Figure size 1080x216 with 3 Axes>"
      ]
     },
     "metadata": {},
     "output_type": "display_data"
    }
   ],
   "source": [
    "plt.style.use('ggplot')\n",
    "plt.figure(figsize=(15,3))\n",
    "\n",
    "plt.subplot(1,3,1)\n",
    "plt.plot(x,y1, label= 'sigmoid')\n",
    "plt.title('sigmoid')\n",
    "\n",
    "plt.subplot(1,3,2)\n",
    "plt.plot(x,y2, label= 'Tngent hyperbolic')\n",
    "plt.title('Tngent hyperbolic')\n",
    "\n",
    "plt.subplot(1,3,3)\n",
    "plt.plot(x,y3, label= 'Relu')\n",
    "plt.title('Relu')\n",
    "\n",
    "plt.show()"
   ]
  },
  {
   "cell_type": "markdown",
   "id": "defined-sudan",
   "metadata": {},
   "source": [
    "## Relu forward"
   ]
  },
  {
   "cell_type": "code",
   "execution_count": 8,
   "id": "patent-baker",
   "metadata": {},
   "outputs": [],
   "source": [
    "def Relu_forward(x):\n",
    "    cache = x\n",
    "    out = np.maximum(0,x)\n",
    "    return out, cache"
   ]
  },
  {
   "cell_type": "markdown",
   "id": "compound-delaware",
   "metadata": {},
   "source": [
    "## Relu backward"
   ]
  },
  {
   "cell_type": "code",
   "execution_count": 9,
   "id": "welsh-temperature",
   "metadata": {},
   "outputs": [],
   "source": [
    "def Relu_backward(dout, cache):\n",
    "    x = cache\n",
    "    dx = dout * (x > 0)\n",
    "    return dx"
   ]
  },
  {
   "cell_type": "markdown",
   "id": "typical-demographic",
   "metadata": {},
   "source": [
    "## Sandwich layers"
   ]
  },
  {
   "cell_type": "code",
   "execution_count": 10,
   "id": "vital-halifax",
   "metadata": {},
   "outputs": [],
   "source": [
    "from layers import affine_forward, affine_backward, relu_forward, relu_backward"
   ]
  },
  {
   "cell_type": "code",
   "execution_count": 11,
   "id": "governing-approval",
   "metadata": {},
   "outputs": [],
   "source": [
    "def affine_Relu_forward(x, w, b):\n",
    "    out, cache_a = affine_forward(x, w, b)\n",
    "    out, cache_r = relu_forward(out)\n",
    "    return out, (cache_a, cache_r)"
   ]
  },
  {
   "cell_type": "code",
   "execution_count": 12,
   "id": "valued-corrections",
   "metadata": {},
   "outputs": [],
   "source": [
    "def affine_Relu_backward(dout, cache):\n",
    "    cache_a, cache_r = cache\n",
    "    dout = relu_backward(dout, cache_r)\n",
    "    dx, dw, db = affine_backward(dout, cache_a)\n",
    "    return dx, dw, db"
   ]
  },
  {
   "cell_type": "markdown",
   "id": "atlantic-journal",
   "metadata": {},
   "source": [
    "# Implementing a 2_layer Neural "
   ]
  },
  {
   "cell_type": "code",
   "execution_count": 13,
   "id": "lesser-luxury",
   "metadata": {},
   "outputs": [],
   "source": [
    "from layers import softmax_loss\n",
    "\n",
    "def two_layer_network_loss(x, y, params):\n",
    "    w1, b1 = params['w1'], params['b1'] \n",
    "    w2, b2 = params['w2'], params['b2']\n",
    "    \n",
    "    # forward step\n",
    "    h, cache_h = affine_Relu_forward(x, w1, b)\n",
    "    scores, cache_o = affine_forward(h, w2, b2)\n",
    "    \n",
    "    # compute data loss\n",
    "    loss, dscors = softmax_loss(scores, y)\n",
    "    \n",
    "    # backward step\n",
    "    dh, dw2, db2 = affine_backward(dscors, cache_o)\n",
    "    _, dw, db1 = affine_backward(dh, cache_h)\n",
    "    \n",
    "    grads = {'w1': dw1, 'b1':db1, 'w2': dw2, 'b2':db2}\n",
    "    \n",
    "    return loss, grads"
   ]
  },
  {
   "cell_type": "code",
   "execution_count": 14,
   "id": "needed-effectiveness",
   "metadata": {},
   "outputs": [],
   "source": [
    "def predict(x, params):\n",
    "    w1, b1 = params['w1'], params['b1']\n",
    "    w2, b2 = params['w2'], params['b2']\n",
    "    \n",
    "    h, _ = affine_Relu_forward(x, w1, b1)\n",
    "    scores, _ = affine_forward(h, w2, b2)\n",
    "    \n",
    "    return np.argmax(scores, axis=1)"
   ]
  },
  {
   "cell_type": "code",
   "execution_count": 15,
   "id": "round-politics",
   "metadata": {},
   "outputs": [],
   "source": [
    "def accuracy(y_pred, y_true):\n",
    "    return 100.0 * np.mean(y_pred == y_true)"
   ]
  },
  {
   "cell_type": "markdown",
   "id": "abandoned-carpet",
   "metadata": {},
   "source": [
    "# Putting All Together: data, model, loss, optimization"
   ]
  },
  {
   "cell_type": "markdown",
   "id": "honest-arena",
   "metadata": {},
   "source": [
    "#### Data"
   ]
  },
  {
   "cell_type": "code",
   "execution_count": 16,
   "id": "vocational-conclusion",
   "metadata": {},
   "outputs": [
    {
     "name": "stdout",
     "output_type": "stream",
     "text": [
      "training shape 2d: (49000, 3072)\n",
      "Validation data 2d: (1000, 3072)\n",
      "test data 2d: (10000, 3072)\n",
      "dev data 2d: (500, 3072)\n"
     ]
    }
   ],
   "source": [
    "print('training shape 2d:', x_train.shape)\n",
    "print('Validation data 2d:', x_val.shape)\n",
    "print('test data 2d:', x_test.shape)\n",
    "print('dev data 2d:', x_dev.shape)"
   ]
  },
  {
   "cell_type": "markdown",
   "id": "educated-london",
   "metadata": {},
   "source": [
    "### initialize weights"
   ]
  },
  {
   "cell_type": "code",
   "execution_count": 17,
   "id": "modular-macintosh",
   "metadata": {},
   "outputs": [],
   "source": [
    "n_input = 3072\n",
    "n_hiddens = 100\n",
    "n_classes = 10\n",
    "\n",
    "# initialize parameters\n",
    "params = {}\n",
    "params['w1'] = 0.0001 * np.random.randn(n_input, n_hiddens)\n",
    "params['b1'] = np.zeros((n_hiddens))\n",
    "params['w2'] = 0.0001 * np.random.randn(n_hiddens, n_classes)\n",
    "params['b2'] = np.zeros((n_classes))"
   ]
  },
  {
   "cell_type": "code",
   "execution_count": null,
   "id": "prescribed-kinase",
   "metadata": {},
   "outputs": [],
   "source": []
  }
 ],
 "metadata": {
  "kernelspec": {
   "display_name": "Python 3",
   "language": "python",
   "name": "python3"
  },
  "language_info": {
   "codemirror_mode": {
    "name": "ipython",
    "version": 3
   },
   "file_extension": ".py",
   "mimetype": "text/x-python",
   "name": "python",
   "nbconvert_exporter": "python",
   "pygments_lexer": "ipython3",
   "version": "3.7.10"
  }
 },
 "nbformat": 4,
 "nbformat_minor": 5
}
