{
 "cells": [
  {
   "cell_type": "code",
   "execution_count": 1,
   "id": "smart-design",
   "metadata": {},
   "outputs": [],
   "source": [
    "import numpy as np\n",
    "import matplotlib.pyplot as plt\n",
    "\n",
    "import layers\n",
    "from layers import affine_relu_forward, affine_backward\n",
    "from data_utils import get_CIFAR10_data\n",
    "from fc_net import FullyConnectedNet\n",
    "from solver import Solver\n",
    "%matplotlib inline"
   ]
  },
  {
   "cell_type": "code",
   "execution_count": 2,
   "id": "removed-holiday",
   "metadata": {},
   "outputs": [],
   "source": [
    "np.set_printoptions(formatter={'all': lambda x:\"%.2f\" %x})"
   ]
  },
  {
   "cell_type": "code",
   "execution_count": 3,
   "id": "liked-radar",
   "metadata": {},
   "outputs": [
    {
     "name": "stdout",
     "output_type": "stream",
     "text": [
      "X_train: (49000, 3, 32, 32)\n",
      "y_train: (49000,)\n",
      "X_val  : (1000, 3, 32, 32)\n",
      "y_val  : (1000,)\n",
      "X_test : (1000, 3, 32, 32)\n",
      "y_test : (1000,)\n"
     ]
    }
   ],
   "source": [
    "cifar10_dir = \"/Users/mahrokh/Desktop/cifar-10-batches-py\"\n",
    "data = get_CIFAR10_data(cifar10_dir)\n",
    "for k, v in data.items():\n",
    "    print('%-7s:' %k, v.shape)"
   ]
  },
  {
   "cell_type": "code",
   "execution_count": 4,
   "id": "enabling-actor",
   "metadata": {},
   "outputs": [],
   "source": [
    "x_train, y_train = data['X_train'], data['y_train']\n",
    "x_val,   y_val   = data['X_val']  , data['y_val']\n",
    "x_test,  y_test  = data['X_test'] , data['y_test']"
   ]
  },
  {
   "cell_type": "markdown",
   "id": "institutional-portugal",
   "metadata": {},
   "source": [
    "# implementing two layer NN"
   ]
  },
  {
   "cell_type": "code",
   "execution_count": 5,
   "id": "emotional-procedure",
   "metadata": {},
   "outputs": [],
   "source": [
    "from layers import *\n",
    "\n",
    "def two_layer_network_loss(x, y, params):\n",
    "    w1, b1 = params['w1'], params['b1']\n",
    "    w2, b2 = params['w2'], params['b2']\n",
    "    \n",
    "    ################\n",
    "    # forward step #\n",
    "    ################\n",
    "    h, cache_h = affine_relu_forward(x, w1, b1)\n",
    "    scores, cache_o = affine_forward(h, w2, b2)\n",
    "    \n",
    "    #######################\n",
    "    # compute data a loss #\n",
    "    #######################\n",
    "    loss, dscore = softmax_loss(scores, y)\n",
    "    \n",
    "    ################\n",
    "    # backward step #\n",
    "    ################\n",
    "    dh, dw2, db2 = affine_backward(dscore, cache_o)\n",
    "    _, dw1, db1 = affine_relu_backward(dh, cache_h)\n",
    "    \n",
    "    grads = {'w1': dw1, 'b1': db1, 'w2': dw2, 'b2': db2}\n",
    "    return loss, grads"
   ]
  },
  {
   "cell_type": "code",
   "execution_count": 6,
   "id": "dried-procurement",
   "metadata": {},
   "outputs": [],
   "source": [
    "def predict(x, params):\n",
    "    w1, b1 = params['w1'], params['b1']\n",
    "    w2, b2 = params['w2'], params['b2']\n",
    "    \n",
    "    ################\n",
    "    # forward step #\n",
    "    ################\n",
    "    h, _ = affine_relu_forward(x, w1, b1)\n",
    "    scores, _ = affine_forward(h, w2, b2)\n",
    "    \n",
    "    return np.argmax(scores, axis=1)"
   ]
  },
  {
   "cell_type": "code",
   "execution_count": 7,
   "id": "divided-carbon",
   "metadata": {},
   "outputs": [],
   "source": [
    "def accuracy(y_pred, y_true):\n",
    "    return 100.0* np.mean(y_pred == y_true)"
   ]
  },
  {
   "cell_type": "markdown",
   "id": "hired-community",
   "metadata": {},
   "source": [
    "# Multi Layers NN"
   ]
  },
  {
   "cell_type": "code",
   "execution_count": 38,
   "id": "veterinary-organizer",
   "metadata": {},
   "outputs": [],
   "source": [
    "def multi_layer_network_loss(X, y, params):\n",
    "    num_layers = len(params) // 2\n",
    "    \n",
    "    ################\n",
    "    # forward step #\n",
    "    ################\n",
    "    loss = 0.0\n",
    "    cache, h = {}, X\n",
    "    \n",
    "    for i in range(1, num_layers + 1):\n",
    "        W, b = params['W%d' % i], params['b%d' % i]\n",
    "        \n",
    "        if i < num_layers:  # hidden layer\n",
    "            h, cache[i] = affine_relu_forward(h, W, b)\n",
    "        else:\n",
    "            scores, cache[i] = affine_forward(h, W, b)\n",
    "        \n",
    "        loss += 0.5 * reg * np.sum(W * W)  # regularization loss\n",
    "        \n",
    "    #####################\n",
    "    # Compute data loss #\n",
    "    #####################\n",
    "    data_loss, dscores = softmax_loss(scores, y)\n",
    "    loss += data_loss\n",
    "           \n",
    "    #################\n",
    "    # Backward step #\n",
    "    #################\n",
    "    grads = {}\n",
    "    for i in reversed(range(1, num_layers + 1)):\n",
    "        \n",
    "        if i == num_layers:  # output layer\n",
    "            dout, dW, db = affine_backward(dscores, cache[i])\n",
    "        else:  # hidden layer\n",
    "            dout, dW, db = affine_relu_backward(dout, cache[i])\n",
    "        \n",
    "        W = params['W%d' % i]\n",
    "        grads['W%d' % i] = dW + reg * W\n",
    "        grads['b%d' % i] = db\n",
    "                       \n",
    "    return loss, grads"
   ]
  },
  {
   "cell_type": "markdown",
   "id": "bulgarian-count",
   "metadata": {},
   "source": [
    "### predict"
   ]
  },
  {
   "cell_type": "code",
   "execution_count": 39,
   "id": "handled-feedback",
   "metadata": {},
   "outputs": [],
   "source": [
    "def predict(x, params):\n",
    "    h = x\n",
    "    for i in range (1, num_layers+1):\n",
    "        w, b = params['w%d'%i], params['b%d'%i]\n",
    "        \n",
    "        if i < num_layers: #hidden layers\n",
    "            h, _ = affine_relu_forward(h, w, b)\n",
    "        else:\n",
    "            scores, _ = affine_forward(h, w, b)\n",
    "        \n",
    "    return np.argmax(scores, axis=1)"
   ]
  },
  {
   "cell_type": "markdown",
   "id": "educated-charm",
   "metadata": {},
   "source": [
    "# Minimize Loss Function"
   ]
  },
  {
   "cell_type": "code",
   "execution_count": 40,
   "id": "unlimited-birth",
   "metadata": {},
   "outputs": [],
   "source": [
    "num_input = 3072\n",
    "num_output = 10\n",
    "hidden_dims = [200, 200, 200, 200]"
   ]
  },
  {
   "cell_type": "markdown",
   "id": "eligible-management",
   "metadata": {},
   "source": [
    "#### gradient descent"
   ]
  },
  {
   "cell_type": "code",
   "execution_count": 41,
   "id": "genuine-michigan",
   "metadata": {},
   "outputs": [],
   "source": [
    "def affine_relu_forward(x, w, b):\n",
    "    out, cache_a = affine_forward(x, w, b)\n",
    "    out, cache_r = relu_forward(out)\n",
    "    return out, (cache_a, cache_r)\n",
    "\n",
    "def affine_relu_backward(dout, cache):\n",
    "    cache_a, cache_r = cache\n",
    "    dout = relu_backward(dout, cache_r)\n",
    "    dx, dw, db = affine_backward(dout, cache_a)\n",
    "    return dx, dw, db"
   ]
  },
  {
   "cell_type": "code",
   "execution_count": 42,
   "id": "catholic-smart",
   "metadata": {},
   "outputs": [
    {
     "name": "stdout",
     "output_type": "stream",
     "text": [
      "(49000, 1)\n"
     ]
    }
   ],
   "source": [
    "x_train = np.reshape(x_train, (x_train.shape[0], -1))\n",
    "y_train = np.reshape(y_train, (y_train.shape[0], -1))\n",
    "x_val = np.reshape(x_val, (x_val.shape[0], -1))\n",
    "y_val = np.reshape(y_val, (y_val.shape[0], -1))\n",
    "x_test = np.reshape(x_test, (x_val.shape[0], -1))\n",
    "\n",
    "print(y_train.shape)\n"
   ]
  },
  {
   "cell_type": "code",
   "execution_count": 43,
   "id": "local-antarctica",
   "metadata": {},
   "outputs": [],
   "source": [
    "def params():\n",
    "    w = 0.001 * np.random.randn(3072, 10)\n",
    "    b = np.zeros((10,0))\n",
    "    return w,b"
   ]
  },
  {
   "cell_type": "code",
   "execution_count": 44,
   "id": "modular-syria",
   "metadata": {},
   "outputs": [
    {
     "name": "stdout",
     "output_type": "stream",
     "text": [
      "   0: loss = 27129811.97 |train accuracy = 10.39 |validation accuracy = 10.43\n"
     ]
    },
    {
     "name": "stderr",
     "output_type": "stream",
     "text": [
      "/Users/mahrokh/machineLearning with Python- razavi/practice-me/layers.py:273: RuntimeWarning: invalid value encountered in subtract\n",
      "  shifted_logits = scores - np.max(scores, axis=1, keepdims=True)\n"
     ]
    },
    {
     "name": "stdout",
     "output_type": "stream",
     "text": [
      " 100: loss = nan |train accuracy = 12.50 |validation accuracy =  8.70\n",
      " 200: loss = nan |train accuracy =  8.59 |validation accuracy =  8.70\n",
      " 300: loss = nan |train accuracy =  8.59 |validation accuracy =  8.70\n",
      " 400: loss = nan |train accuracy =  8.98 |validation accuracy =  8.70\n",
      " 500: loss = nan |train accuracy = 10.94 |validation accuracy =  8.70\n",
      " 600: loss = nan |train accuracy = 12.50 |validation accuracy =  8.70\n",
      " 700: loss = nan |train accuracy =  9.77 |validation accuracy =  8.70\n",
      " 800: loss = nan |train accuracy =  8.59 |validation accuracy =  8.70\n",
      " 900: loss = nan |train accuracy = 10.16 |validation accuracy =  8.70\n",
      "1000: loss = nan |train accuracy =  9.38 |validation accuracy =  8.70\n",
      "1100: loss = nan |train accuracy = 10.94 |validation accuracy =  8.70\n",
      "1200: loss = nan |train accuracy = 12.89 |validation accuracy =  8.70\n",
      "1300: loss = nan |train accuracy =  8.20 |validation accuracy =  8.70\n",
      "1400: loss = nan |train accuracy =  8.98 |validation accuracy =  8.70\n",
      "1500: loss = nan |train accuracy = 11.33 |validation accuracy =  8.70\n",
      "1600: loss = nan |train accuracy =  6.25 |validation accuracy =  8.70\n",
      "1700: loss = nan |train accuracy =  9.77 |validation accuracy =  8.70\n",
      "1800: loss = nan |train accuracy =  7.81 |validation accuracy =  8.70\n",
      "1900: loss = nan |train accuracy = 12.11 |validation accuracy =  8.70\n",
      "2000: loss = nan |train accuracy =  7.81 |validation accuracy =  8.70\n"
     ]
    }
   ],
   "source": [
    "# initialize parameters\n",
    "params = {}\n",
    "dims = [num_input] + hidden_dims + [num_output]\n",
    "num_layers = len(dims) - 1\n",
    "\n",
    "for i in range(1, num_layers+1):\n",
    "    params['w%d'%i] = 0.3 * np.random.randn(dims[i-1], dims[i])\n",
    "    params['b%d'%i] = np.zeros(dims[i])\n",
    "    \n",
    "N = x_train.shape[0] \n",
    "\n",
    "# hyper parameters\n",
    "n_iterations = 2000\n",
    "batch_size = 256\n",
    "\n",
    "lr = 0.05\n",
    "reg = 1e-5\n",
    "\n",
    "loss_history = []\n",
    "best_params = params.copy()\n",
    "best_val = 0\n",
    "\n",
    "# gradient descent\n",
    "for i in range(n_iterations+1):\n",
    "    \n",
    "    # create a batch of training data\n",
    "    idx = np.random.choice(N, batch_size)\n",
    "    x_batch, y_batch = x_train[idx], y_train[idx]\n",
    "    \n",
    "    loss, grads = multi_layers_network_loss(x_batch, y_batch, params)\n",
    "    loss_history.append(loss)\n",
    "    \n",
    "    # report every 100 iterations\n",
    "    if i %100 == 0:\n",
    "        \n",
    "        y_train_pred = predict(x_batch, params)\n",
    "        train_acc = accuracy(y_train_pred, y_batch)\n",
    "        \n",
    "        y_val_pred = predict(x_val, params)\n",
    "        val_acc = accuracy(y_val_pred, y_val)\n",
    "        \n",
    "        if val_acc > best_val:\n",
    "            best_val = val_acc\n",
    "            best_params = params.copy()\n",
    "            \n",
    "        print('%4d: loss = %.2f |train accuracy = %5.2f |validation accuracy = %5.2f'\n",
    "              %(i, loss, train_acc, val_acc))\n",
    "        \n",
    "    # update parameters\n",
    "    for p in params:\n",
    "        params[p] -= lr * grads[p]"
   ]
  },
  {
   "cell_type": "code",
   "execution_count": 45,
   "id": "chemical-ranking",
   "metadata": {},
   "outputs": [
    {
     "data": {
      "image/png": "[encoded data removed]",
      "text/plain": [
       "<Figure size 432x288 with 1 Axes>"
      ]
     },
     "metadata": {
      "needs_background": "light"
     },
     "output_type": "display_data"
    }
   ],
   "source": [
    "plt.plot(loss_history)\n",
    "plt.xlabel('iteration')\n",
    "plt.ylabel('loss');"
   ]
  },
  {
   "cell_type": "markdown",
   "id": "worldwide-racing",
   "metadata": {},
   "source": [
    "### Prediction on test data"
   ]
  },
  {
   "cell_type": "code",
   "execution_count": 46,
   "id": "quick-yesterday",
   "metadata": {},
   "outputs": [
    {
     "name": "stdout",
     "output_type": "stream",
     "text": [
      "test accuracy = 10.30\n"
     ]
    }
   ],
   "source": [
    "test_pred = predict(x_test, best_params)\n",
    "test_accuracy = accuracy(test_pred, y_test)\n",
    "print('test accuracy = %.2f' %test_accuracy)"
   ]
  },
  {
   "cell_type": "markdown",
   "id": "facial-throw",
   "metadata": {},
   "source": [
    "# Dropout"
   ]
  },
  {
   "cell_type": "code",
   "execution_count": 47,
   "id": "excited-wright",
   "metadata": {},
   "outputs": [],
   "source": [
    "def dropout_forward(x, p):\n",
    "    mask = (np.random.rand(*x.shape) < (1-p))/(1-p)\n",
    "    out = x * mask\n",
    "    cache = (mask, p)\n",
    "    out = out.astype(x.dtype, copy= False)\n",
    "    return out, cache\n",
    "\n",
    "def dropout_backward(dout, cache):\n",
    "    mask, p = cache\n",
    "    dx = dout * mask\n",
    "    return dx"
   ]
  },
  {
   "cell_type": "code",
   "execution_count": 51,
   "id": "modern-belle",
   "metadata": {},
   "outputs": [
    {
     "name": "stdout",
     "output_type": "stream",
     "text": [
      "[0.58 0.44 0.33 0.12 0.57 0.22 0.32 0.90 0.48 0.86]\n",
      "[0.00 0.74 0.55 0.20 0.96 0.00 0.00 1.50 0.80 1.44]\n"
     ]
    }
   ],
   "source": [
    "x = np.random.rand(10)\n",
    "print(x)\n",
    "\n",
    "x_dropout, _ = dropout_forward(x, 0.4)\n",
    "print(x_dropout)"
   ]
  }
 ],
 "metadata": {
  "kernelspec": {
   "display_name": "Python 3",
   "language": "python",
   "name": "python3"
  },
  "language_info": {
   "codemirror_mode": {
    "name": "ipython",
    "version": 3
   },
   "file_extension": ".py",
   "mimetype": "text/x-python",
   "name": "python",
   "nbconvert_exporter": "python",
   "pygments_lexer": "ipython3",
   "version": "3.7.10"
  }
 },
 "nbformat": 4,
 "nbformat_minor": 5
}
